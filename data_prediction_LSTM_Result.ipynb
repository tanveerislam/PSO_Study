{
 "cells": [
  {
   "cell_type": "code",
   "execution_count": 1,
   "id": "d02bb1eb",
   "metadata": {},
   "outputs": [],
   "source": [
    "import pandas as pd\n",
    "import numpy as np\n",
    "import random\n",
    "\n",
    "from sklearn.model_selection import KFold,StratifiedKFold\n",
    "\n",
    "from sklearn.model_selection import train_test_split\n",
    "from sklearn.preprocessing import StandardScaler, MinMaxScaler, Normalizer, PowerTransformer, RobustScaler\n",
    "from sklearn.decomposition import PCA\n",
    "\n",
    "from sklearn.ensemble import GradientBoostingRegressor,RandomForestRegressor,AdaBoostRegressor\n",
    "from sklearn.neighbors import KNeighborsRegressor\n",
    "import xgboost\n",
    "from sklearn.tree import DecisionTreeRegressor\n",
    "from sklearn.linear_model import LinearRegression\n",
    "\n",
    "from keras import Input\n",
    "from tensorflow.keras.models import Sequential\n",
    "from tensorflow.keras.layers import Dense, Dropout\n",
    "from tensorflow.keras.optimizers import Adam\n",
    "from sklearn.metrics import (mean_squared_error,\n",
    "                             r2_score,\n",
    "                             mean_absolute_percentage_error,\n",
    "                             mean_absolute_error\n",
    "                            )\n",
    "\n",
    "from sklearn.pipeline import Pipeline\n",
    "from statsmodels.tsa.api import VAR\n",
    "\n",
    "from sklearn.feature_selection import SelectKBest,f_regression"
   ]
  },
  {
   "cell_type": "code",
   "execution_count": 2,
   "id": "739fb82c",
   "metadata": {},
   "outputs": [],
   "source": [
    "df = pd.read_csv('../../data/dataset/Full_data_File.csv')"
   ]
  },
  {
   "cell_type": "code",
   "execution_count": 3,
   "id": "8beb90ed",
   "metadata": {},
   "outputs": [
    {
     "data": {
      "text/html": [
       "<div>\n",
       "<style scoped>\n",
       "    .dataframe tbody tr th:only-of-type {\n",
       "        vertical-align: middle;\n",
       "    }\n",
       "\n",
       "    .dataframe tbody tr th {\n",
       "        vertical-align: top;\n",
       "    }\n",
       "\n",
       "    .dataframe thead th {\n",
       "        text-align: right;\n",
       "    }\n",
       "</style>\n",
       "<table border=\"1\" class=\"dataframe\">\n",
       "  <thead>\n",
       "    <tr style=\"text-align: right;\">\n",
       "      <th></th>\n",
       "      <th>location</th>\n",
       "      <th>country</th>\n",
       "      <th>latitude</th>\n",
       "      <th>longitude</th>\n",
       "      <th>generationtime_ms</th>\n",
       "      <th>elevation</th>\n",
       "      <th>Date</th>\n",
       "      <th>year</th>\n",
       "      <th>month</th>\n",
       "      <th>day</th>\n",
       "      <th>...</th>\n",
       "      <th>RH</th>\n",
       "      <th>Dew_Point</th>\n",
       "      <th>snowfall</th>\n",
       "      <th>Pressure</th>\n",
       "      <th>wind_speed</th>\n",
       "      <th>wind_direction</th>\n",
       "      <th>wind_gusts</th>\n",
       "      <th>sunshine_duration</th>\n",
       "      <th>direct_radiation</th>\n",
       "      <th>AQI</th>\n",
       "    </tr>\n",
       "  </thead>\n",
       "  <tbody>\n",
       "    <tr>\n",
       "      <th>0</th>\n",
       "      <td>Amsterdam</td>\n",
       "      <td>Netherlands</td>\n",
       "      <td>52.4</td>\n",
       "      <td>4.9</td>\n",
       "      <td>104.943037</td>\n",
       "      <td>14</td>\n",
       "      <td>2021-01-01</td>\n",
       "      <td>2021</td>\n",
       "      <td>1</td>\n",
       "      <td>1</td>\n",
       "      <td>...</td>\n",
       "      <td>92.208333</td>\n",
       "      <td>1.266667</td>\n",
       "      <td>0.0</td>\n",
       "      <td>1006.029167</td>\n",
       "      <td>7.208333</td>\n",
       "      <td>243.250000</td>\n",
       "      <td>11.187500</td>\n",
       "      <td>890.836250</td>\n",
       "      <td>16.208333</td>\n",
       "      <td>65.125000</td>\n",
       "    </tr>\n",
       "    <tr>\n",
       "      <th>1</th>\n",
       "      <td>Amsterdam</td>\n",
       "      <td>Netherlands</td>\n",
       "      <td>52.4</td>\n",
       "      <td>4.9</td>\n",
       "      <td>104.943037</td>\n",
       "      <td>14</td>\n",
       "      <td>2021-01-02</td>\n",
       "      <td>2021</td>\n",
       "      <td>1</td>\n",
       "      <td>2</td>\n",
       "      <td>...</td>\n",
       "      <td>96.708333</td>\n",
       "      <td>1.312500</td>\n",
       "      <td>0.0</td>\n",
       "      <td>1011.245833</td>\n",
       "      <td>6.445833</td>\n",
       "      <td>216.916667</td>\n",
       "      <td>10.283333</td>\n",
       "      <td>937.792917</td>\n",
       "      <td>22.625000</td>\n",
       "      <td>33.291667</td>\n",
       "    </tr>\n",
       "    <tr>\n",
       "      <th>2</th>\n",
       "      <td>Amsterdam</td>\n",
       "      <td>Netherlands</td>\n",
       "      <td>52.4</td>\n",
       "      <td>4.9</td>\n",
       "      <td>104.943037</td>\n",
       "      <td>14</td>\n",
       "      <td>2021-01-03</td>\n",
       "      <td>2021</td>\n",
       "      <td>1</td>\n",
       "      <td>3</td>\n",
       "      <td>...</td>\n",
       "      <td>91.458333</td>\n",
       "      <td>1.229167</td>\n",
       "      <td>0.0</td>\n",
       "      <td>1015.504167</td>\n",
       "      <td>14.333333</td>\n",
       "      <td>52.208333</td>\n",
       "      <td>25.516667</td>\n",
       "      <td>739.805000</td>\n",
       "      <td>17.791667</td>\n",
       "      <td>34.041667</td>\n",
       "    </tr>\n",
       "    <tr>\n",
       "      <th>3</th>\n",
       "      <td>Amsterdam</td>\n",
       "      <td>Netherlands</td>\n",
       "      <td>52.4</td>\n",
       "      <td>4.9</td>\n",
       "      <td>104.943037</td>\n",
       "      <td>14</td>\n",
       "      <td>2021-01-04</td>\n",
       "      <td>2021</td>\n",
       "      <td>1</td>\n",
       "      <td>4</td>\n",
       "      <td>...</td>\n",
       "      <td>86.291667</td>\n",
       "      <td>0.879167</td>\n",
       "      <td>0.0</td>\n",
       "      <td>1017.016667</td>\n",
       "      <td>25.041667</td>\n",
       "      <td>49.375000</td>\n",
       "      <td>45.595833</td>\n",
       "      <td>0.000000</td>\n",
       "      <td>1.041667</td>\n",
       "      <td>19.750000</td>\n",
       "    </tr>\n",
       "    <tr>\n",
       "      <th>4</th>\n",
       "      <td>Amsterdam</td>\n",
       "      <td>Netherlands</td>\n",
       "      <td>52.4</td>\n",
       "      <td>4.9</td>\n",
       "      <td>104.943037</td>\n",
       "      <td>14</td>\n",
       "      <td>2021-01-05</td>\n",
       "      <td>2021</td>\n",
       "      <td>1</td>\n",
       "      <td>5</td>\n",
       "      <td>...</td>\n",
       "      <td>91.125000</td>\n",
       "      <td>1.475000</td>\n",
       "      <td>0.0</td>\n",
       "      <td>1016.929167</td>\n",
       "      <td>18.708333</td>\n",
       "      <td>54.541667</td>\n",
       "      <td>34.145833</td>\n",
       "      <td>46.027083</td>\n",
       "      <td>1.833333</td>\n",
       "      <td>10.166667</td>\n",
       "    </tr>\n",
       "  </tbody>\n",
       "</table>\n",
       "<p>5 rows × 27 columns</p>\n",
       "</div>"
      ],
      "text/plain": [
       "    location      country  latitude  longitude  generationtime_ms  elevation  \\\n",
       "0  Amsterdam  Netherlands      52.4        4.9         104.943037         14   \n",
       "1  Amsterdam  Netherlands      52.4        4.9         104.943037         14   \n",
       "2  Amsterdam  Netherlands      52.4        4.9         104.943037         14   \n",
       "3  Amsterdam  Netherlands      52.4        4.9         104.943037         14   \n",
       "4  Amsterdam  Netherlands      52.4        4.9         104.943037         14   \n",
       "\n",
       "         Date  year  month  day  ...         RH  Dew_Point  snowfall  \\\n",
       "0  2021-01-01  2021      1    1  ...  92.208333   1.266667       0.0   \n",
       "1  2021-01-02  2021      1    2  ...  96.708333   1.312500       0.0   \n",
       "2  2021-01-03  2021      1    3  ...  91.458333   1.229167       0.0   \n",
       "3  2021-01-04  2021      1    4  ...  86.291667   0.879167       0.0   \n",
       "4  2021-01-05  2021      1    5  ...  91.125000   1.475000       0.0   \n",
       "\n",
       "      Pressure  wind_speed  wind_direction  wind_gusts  sunshine_duration  \\\n",
       "0  1006.029167    7.208333      243.250000   11.187500         890.836250   \n",
       "1  1011.245833    6.445833      216.916667   10.283333         937.792917   \n",
       "2  1015.504167   14.333333       52.208333   25.516667         739.805000   \n",
       "3  1017.016667   25.041667       49.375000   45.595833           0.000000   \n",
       "4  1016.929167   18.708333       54.541667   34.145833          46.027083   \n",
       "\n",
       "   direct_radiation        AQI  \n",
       "0         16.208333  65.125000  \n",
       "1         22.625000  33.291667  \n",
       "2         17.791667  34.041667  \n",
       "3          1.041667  19.750000  \n",
       "4          1.833333  10.166667  \n",
       "\n",
       "[5 rows x 27 columns]"
      ]
     },
     "execution_count": 3,
     "metadata": {},
     "output_type": "execute_result"
    }
   ],
   "source": [
    "df.head()"
   ]
  },
  {
   "cell_type": "code",
   "execution_count": null,
   "id": "4bab3839",
   "metadata": {},
   "outputs": [],
   "source": []
  },
  {
   "cell_type": "code",
   "execution_count": 4,
   "id": "eeeabc10",
   "metadata": {},
   "outputs": [
    {
     "data": {
      "text/plain": [
       "(49674, 27)"
      ]
     },
     "execution_count": 4,
     "metadata": {},
     "output_type": "execute_result"
    }
   ],
   "source": [
    "df.shape"
   ]
  },
  {
   "cell_type": "code",
   "execution_count": null,
   "id": "c3b45ac9",
   "metadata": {},
   "outputs": [],
   "source": []
  },
  {
   "cell_type": "code",
   "execution_count": null,
   "id": "90df38d2",
   "metadata": {},
   "outputs": [],
   "source": []
  },
  {
   "cell_type": "code",
   "execution_count": 5,
   "id": "07cf0e34",
   "metadata": {},
   "outputs": [],
   "source": [
    "def get_important_Feature(df):\n",
    "    \n",
    "    def get_train_test(df):\n",
    "        X = df.iloc[:,0:-1]\n",
    "        y = df.iloc[:,-1]\n",
    "\n",
    "        X = MinMaxScaler().fit_transform(X)\n",
    "        X_train, X_test, y_train, y_test = train_test_split(X, y, test_size=0.2, random_state=42)\n",
    "\n",
    "        return X_train, X_test, y_train, y_test\n",
    "    \n",
    "    def fitness_function(selected_features, X_train, X_test, y_train, y_test):\n",
    "        # Select features based on the particle's position\n",
    "        selected_features = np.array(selected_features, dtype=bool)\n",
    "        if not any(selected_features):  # Avoid empty feature selection\n",
    "            return float('inf')  # Assign a very high MSE\n",
    "\n",
    "        X_train_selected = X_train[:, selected_features]\n",
    "        X_test_selected = X_test[:, selected_features]\n",
    "\n",
    "        # Train a regression model\n",
    "        model = DecisionTreeRegressor(random_state=42)\n",
    "        model.fit(X_train_selected, y_train)\n",
    "        predictions = model.predict(X_test_selected)\n",
    "\n",
    "        # Calculate and return MSE\n",
    "        mse = mean_squared_error(y_test, predictions)\n",
    "        return mse\n",
    "    \n",
    "    def pso_feature_selection(n_particles, n_iterations, n_features, df):\n",
    "        # Initialize particles\n",
    "        particles = [np.random.choice([0, 1], size=n_features) for _ in range(n_particles)]\n",
    "        velocities = [np.random.uniform(-1, 1, size=n_features) for _ in range(n_particles)]\n",
    "        personal_best_positions = particles.copy()\n",
    "        personal_best_scores = [float('inf')] * n_particles\n",
    "        global_best_position = None\n",
    "        global_best_score = float('inf')\n",
    "\n",
    "        X_train, X_test, y_train, y_test = get_train_test(df)\n",
    "\n",
    "        # PSO loop\n",
    "        for iteration in range(n_iterations):\n",
    "            for i, particle in enumerate(particles):\n",
    "                # Evaluate fitness\n",
    "                mse = fitness_function(particle, X_train, X_test, y_train, y_test)\n",
    "\n",
    "                # Update personal best\n",
    "                if mse < personal_best_scores[i]:\n",
    "                    personal_best_scores[i] = mse\n",
    "                    personal_best_positions[i] = particle.copy()\n",
    "\n",
    "                # Update global best\n",
    "                if mse < global_best_score:\n",
    "                    global_best_score = mse\n",
    "                    global_best_position = particle.copy()\n",
    "\n",
    "            # Update particle velocities and positions\n",
    "            for i, particle in enumerate(particles):\n",
    "                r1, r2 = np.random.rand(n_features), np.random.rand(n_features)\n",
    "                cognitive = r1 * (personal_best_positions[i] - particle)\n",
    "                social = r2 * (global_best_position - particle)\n",
    "                velocities[i] = 0.5 * velocities[i] + 1.5 * cognitive + 1.5 * social\n",
    "                particles[i] = np.where(np.random.rand(n_features) < 1 / (1 + np.exp(-velocities[i])), 1, 0)  # Sigmoid activation\n",
    "\n",
    "            # Print progress\n",
    "#             print(f\"Iteration {iteration+1}/{n_iterations}, Best MSE: {global_best_score}\")\n",
    "\n",
    "        return global_best_position, global_best_score\n",
    "\n",
    "\n",
    "\n",
    "    n_particles = 20\n",
    "    n_iterations = 50\n",
    "    n_features = len(list(df)) - 1\n",
    "\n",
    "    # Run PSO\n",
    "    best_features, best_score = pso_feature_selection(n_particles, n_iterations, n_features, df)\n",
    "\n",
    "    best_feature_list = []\n",
    "    for name_, flag in zip(list(df)[:-1],best_features):\n",
    "        if flag == 1:\n",
    "            best_feature_list.append(name_)\n",
    "    best_feature_list.append(list(df)[-1])\n",
    "    return df[best_feature_list], best_feature_list"
   ]
  },
  {
   "cell_type": "code",
   "execution_count": null,
   "id": "74ab9a64",
   "metadata": {},
   "outputs": [],
   "source": []
  },
  {
   "cell_type": "code",
   "execution_count": null,
   "id": "8ec1ca8f",
   "metadata": {},
   "outputs": [],
   "source": []
  },
  {
   "cell_type": "code",
   "execution_count": null,
   "id": "96b42acd",
   "metadata": {},
   "outputs": [],
   "source": []
  },
  {
   "cell_type": "code",
   "execution_count": 6,
   "id": "3ca533cc",
   "metadata": {},
   "outputs": [],
   "source": [
    "def get_k_fold_operation_data_proposed_approach(df, date_, cv):\n",
    "    \n",
    "    df = pd.DataFrame(df)\n",
    "    colLen = len(list(df))\n",
    "\n",
    "    X = df.values[:, 0:colLen - 1]\n",
    "    y = df.values[:, colLen - 1]\n",
    "    \n",
    "    \n",
    "    X_train_list = []\n",
    "    X_test_list = []\n",
    "    y_train_list = []\n",
    "    y_test_list = []\n",
    "    date_train_list = []\n",
    "    date_test_list = []\n",
    "    \n",
    "    kf = KFold(n_splits=cv)\n",
    "    \n",
    "    for train_index,test_index in kf.split(X,y):\n",
    "        X_train, X_test, y_train, y_test, date_train, date_test  = X[train_index], X[test_index], y[train_index], y[test_index], date_[train_index], date_[test_index]\n",
    "        \n",
    "        X_train_list.append(X_train)\n",
    "        X_test_list.append(X_test)\n",
    "        y_train_list.append(y_train)\n",
    "        y_test_list.append(y_test)\n",
    "        \n",
    "        date_train_list.append(date_train)\n",
    "        date_test_list.append(date_test)\n",
    "        \n",
    "    \n",
    "        \n",
    "    return X_train_list, X_test_list, y_train_list, y_test_list, date_train_list, date_test_list"
   ]
  },
  {
   "cell_type": "code",
   "execution_count": null,
   "id": "5b100da6",
   "metadata": {},
   "outputs": [],
   "source": []
  },
  {
   "cell_type": "code",
   "execution_count": null,
   "id": "53575081",
   "metadata": {},
   "outputs": [],
   "source": []
  },
  {
   "cell_type": "code",
   "execution_count": 7,
   "id": "355eaf5f",
   "metadata": {},
   "outputs": [],
   "source": [
    "def get_IQR_Operation_value(df, col, cv):\n",
    "    \n",
    "    S_B = df.shape[0]\n",
    "    \n",
    "    Q1 = df['AQI'].quantile(0.25)\n",
    "    Q3 = df['AQI'].quantile(0.75)\n",
    "\n",
    "    # Calculate IQR\n",
    "    IQR = Q3 - Q1\n",
    "\n",
    "    lower_bound = Q1 - 1.0 * IQR\n",
    "    upper_bound = Q3 + 1.75 * IQR\n",
    "    \n",
    "    print(lower_bound,upper_bound)\n",
    "    \n",
    "#     df = df.loc[(df['AQI'] <= upper_bound) & (df['AQI'] >= lower_bound)]\n",
    "    date_ = pd.to_datetime(dict(year=df.year, month=df.month, day=df.day)).values\n",
    "    df, impt_col = get_important_Feature(df)\n",
    "\n",
    "    X_train_list, \\\n",
    "    X_test_list, \\\n",
    "    y_train_list, \\\n",
    "    y_test_list, \\\n",
    "    date_train_list, \\\n",
    "    date_test_list = get_k_fold_operation_data_proposed_approach(df, date_, cv)\n",
    "    \n",
    "    S_A = df.shape[0]\n",
    "    \n",
    "    diff = S_B - S_A\n",
    "    \n",
    "    return X_train_list, X_test_list, y_train_list, y_test_list, date_train_list, date_test_list, diff, impt_col\n",
    "    "
   ]
  },
  {
   "cell_type": "code",
   "execution_count": null,
   "id": "966b120d",
   "metadata": {},
   "outputs": [],
   "source": []
  },
  {
   "cell_type": "code",
   "execution_count": null,
   "id": "c10c4b36",
   "metadata": {},
   "outputs": [],
   "source": []
  },
  {
   "cell_type": "code",
   "execution_count": null,
   "id": "f6d0206e",
   "metadata": {},
   "outputs": [],
   "source": []
  },
  {
   "cell_type": "code",
   "execution_count": null,
   "id": "58dd339b",
   "metadata": {},
   "outputs": [],
   "source": []
  },
  {
   "cell_type": "code",
   "execution_count": 8,
   "id": "aad6ea6c",
   "metadata": {},
   "outputs": [],
   "source": [
    "def get_k_fold_operation_data(df, cv):\n",
    "    \n",
    "    df = pd.DataFrame(df)\n",
    "    colLen = len(list(df))\n",
    "\n",
    "    X = df.values[:, 0:colLen - 1]\n",
    "    y = df.values[:, colLen - 1]\n",
    "    date_ = pd.to_datetime(dict(year=df.year, month=df.month, day=df.day)).values\n",
    "    \n",
    "    \n",
    "    X_train_list = []\n",
    "    X_test_list = []\n",
    "    y_train_list = []\n",
    "    y_test_list = []\n",
    "    date_train_list = []\n",
    "    date_test_list = []\n",
    "    \n",
    "    kf = KFold(n_splits=cv)\n",
    "    \n",
    "    for train_index,test_index in kf.split(X,y):\n",
    "        X_train, X_test, y_train, y_test, date_train, date_test  = X[train_index], X[test_index], y[train_index], y[test_index], date_[train_index], date_[test_index]\n",
    "        \n",
    "        X_train_list.append(X_train)\n",
    "        X_test_list.append(X_test)\n",
    "        y_train_list.append(y_train)\n",
    "        y_test_list.append(y_test)\n",
    "        \n",
    "        date_train_list.append(date_train)\n",
    "        date_test_list.append(date_test)\n",
    "        \n",
    "    \n",
    "        \n",
    "    return X_train_list, X_test_list, y_train_list, y_test_list, date_train_list, date_test_list"
   ]
  },
  {
   "cell_type": "code",
   "execution_count": null,
   "id": "28fa5d5e",
   "metadata": {},
   "outputs": [],
   "source": []
  },
  {
   "cell_type": "code",
   "execution_count": null,
   "id": "1324c4d1",
   "metadata": {},
   "outputs": [],
   "source": []
  },
  {
   "cell_type": "code",
   "execution_count": 9,
   "id": "90b41eea",
   "metadata": {},
   "outputs": [],
   "source": [
    "from tensorflow.keras.models import Sequential\n",
    "from tensorflow.keras.layers import LSTM, Dense, Input\n",
    "from tensorflow.keras.optimizers import Adam\n",
    "from sklearn.metrics import mean_absolute_error, mean_squared_error, r2_score, mean_absolute_percentage_error\n",
    "from sklearn.preprocessing import StandardScaler, Normalizer, MinMaxScaler, PowerTransformer, RobustScaler\n",
    "import numpy as np\n",
    "import tensorflow as tf\n",
    "\n",
    "def LSTM_Regression(X_train, X_test, y_train, y_test, scaler_name):\n",
    "    # Initialize the scaler\n",
    "    scaler = None\n",
    "    if scaler_name == 'StandardScaler':\n",
    "        scaler = StandardScaler()\n",
    "    elif scaler_name == 'Normalizer':\n",
    "        scaler = Normalizer()\n",
    "    elif scaler_name == 'MinMaxScaler':\n",
    "        scaler = MinMaxScaler()\n",
    "    elif scaler_name == 'PowerTransformer':\n",
    "        scaler = PowerTransformer(method='yeo-johnson')\n",
    "    elif scaler_name == 'RobustScaler':\n",
    "        scaler = RobustScaler()\n",
    "\n",
    "    # Apply scaling\n",
    "    if scaler_name == 'not_processing':\n",
    "        X_train_scaled = X_train\n",
    "        X_test_scaled = X_test\n",
    "    else:\n",
    "        X_train_scaled = scaler.fit_transform(X_train)\n",
    "        X_test_scaled = scaler.transform(X_test)\n",
    "    \n",
    "    # Reshape input data for LSTM (samples, timesteps, features)\n",
    "    X_train_scaled = X_train_scaled.reshape((X_train_scaled.shape[0], 1, X_train_scaled.shape[1]))\n",
    "    X_test_scaled = X_test_scaled.reshape((X_test_scaled.shape[0], 1, X_test_scaled.shape[1]))\n",
    "\n",
    "    # Set random seeds for reproducibility\n",
    "    np.random.seed(1)\n",
    "    tf.keras.utils.set_random_seed(1)\n",
    "\n",
    "    # Build the LSTM model\n",
    "    def build_lstm(input_shape):\n",
    "        model = Sequential([\n",
    "            Input(shape=input_shape),\n",
    "            LSTM(64, activation='relu', return_sequences=True),\n",
    "            LSTM(32, activation='relu'),\n",
    "            Dense(1, activation='linear')  # Regression output layer\n",
    "        ])\n",
    "        model.compile(optimizer=Adam(learning_rate=0.001), loss='mse')\n",
    "        return model\n",
    "\n",
    "    lstm_model = build_lstm((X_train_scaled.shape[1], X_train_scaled.shape[2]))\n",
    "\n",
    "    # Train the LSTM model\n",
    "    lstm_model.fit(X_train_scaled, y_train, epochs=50, batch_size=32, validation_split=0.2, verbose=0)\n",
    "\n",
    "    # Predict using the LSTM model\n",
    "    y_pred = lstm_model.predict(X_test_scaled).flatten()\n",
    "\n",
    "    # Evaluate the model\n",
    "    mae = mean_absolute_error(y_test, y_pred)\n",
    "    rmse = np.sqrt(mean_squared_error(y_test, y_pred))\n",
    "    r_2 = r2_score(y_test, y_pred)\n",
    "    mape = mean_absolute_percentage_error(y_test, y_pred) * 100\n",
    "\n",
    "    return mae, rmse, r_2, mape, y_pred\n"
   ]
  },
  {
   "cell_type": "code",
   "execution_count": null,
   "id": "73ccccdd",
   "metadata": {},
   "outputs": [],
   "source": []
  },
  {
   "cell_type": "code",
   "execution_count": 10,
   "id": "5ec6d4f5",
   "metadata": {},
   "outputs": [
    {
     "name": "stdout",
     "output_type": "stream",
     "text": [
      "Amsterdam\n"
     ]
    },
    {
     "name": "stderr",
     "output_type": "stream",
     "text": [
      "C:\\Users\\DELL\\AppData\\Local\\Temp\\ipykernel_15528\\2216484155.py:9: SettingWithCopyWarning: \n",
      "A value is trying to be set on a copy of a slice from a DataFrame\n",
      "\n",
      "See the caveats in the documentation: https://pandas.pydata.org/pandas-docs/stable/user_guide/indexing.html#returning-a-view-versus-a-copy\n",
      "  city_df.drop(columns=['location','country','latitude','longitude','generationtime_ms','elevation','Date'],inplace=True)\n"
     ]
    },
    {
     "name": "stdout",
     "output_type": "stream",
     "text": [
      "10/10 [==============================] - 0s 1ms/step\n",
      "['Netherlands', 'Amsterdam', 1.8006226872692608, 2.3272668180976672, 0.9211547780977322, 7.245357792815943, 'fold_1', 'StandardScaler', 'LSTM']\n",
      "10/10 [==============================] - 0s 1ms/step\n",
      "['Netherlands', 'Amsterdam', 1.8273043371226685, 2.388506057803, 0.9428149376991014, 7.59615956283871, 'fold_2', 'StandardScaler', 'LSTM']\n",
      "10/10 [==============================] - 0s 1ms/step\n",
      "['Netherlands', 'Amsterdam', 2.278352729806072, 2.9353711683319084, 0.8913086003773426, 9.664386350651666, 'fold_3', 'StandardScaler', 'LSTM']\n",
      "10/10 [==============================] - 0s 1ms/step\n",
      "['Netherlands', 'Amsterdam', 2.0132795828118173, 2.4392138723923704, 0.8864388068511946, 8.891484314866885, 'fold_4', 'StandardScaler', 'LSTM']\n",
      "10/10 [==============================] - 0s 853us/step\n",
      "['Netherlands', 'Amsterdam', 2.00301638150324, 2.639839250249159, 0.9108566316438881, 7.542271726724126, 'fold_5', 'StandardScaler', 'LSTM']\n",
      "Athens\n"
     ]
    },
    {
     "name": "stderr",
     "output_type": "stream",
     "text": [
      "C:\\Users\\DELL\\AppData\\Local\\Temp\\ipykernel_15528\\2216484155.py:9: SettingWithCopyWarning: \n",
      "A value is trying to be set on a copy of a slice from a DataFrame\n",
      "\n",
      "See the caveats in the documentation: https://pandas.pydata.org/pandas-docs/stable/user_guide/indexing.html#returning-a-view-versus-a-copy\n",
      "  city_df.drop(columns=['location','country','latitude','longitude','generationtime_ms','elevation','Date'],inplace=True)\n"
     ]
    },
    {
     "name": "stdout",
     "output_type": "stream",
     "text": [
      "10/10 [==============================] - 0s 998us/step\n",
      "['Greece', 'Athens', 2.4991067858143747, 3.2722761304825108, 0.8986840606556332, 6.542694244735311, 'fold_1', 'StandardScaler', 'LSTM']\n",
      "10/10 [==============================] - 0s 1ms/step\n",
      "['Greece', 'Athens', 1.9803927597934252, 2.489574672683927, 0.9206560845968691, 5.8728369609191065, 'fold_2', 'StandardScaler', 'LSTM']\n",
      "10/10 [==============================] - 0s 1ms/step\n",
      "['Greece', 'Athens', 2.674179442941325, 3.3009690678261445, 0.8878263886919362, 8.095411132654219, 'fold_3', 'StandardScaler', 'LSTM']\n",
      "10/10 [==============================] - 0s 1ms/step\n",
      "['Greece', 'Athens', 3.1568701778917005, 4.018215782132344, 0.7722298001495339, 9.855037627266846, 'fold_4', 'StandardScaler', 'LSTM']\n",
      "10/10 [==============================] - 0s 1ms/step\n",
      "['Greece', 'Athens', 2.52375206011071, 3.2117766941004806, 0.8944465691306699, 7.492282210311593, 'fold_5', 'StandardScaler', 'LSTM']\n",
      "Barcelona\n"
     ]
    },
    {
     "name": "stderr",
     "output_type": "stream",
     "text": [
      "C:\\Users\\DELL\\AppData\\Local\\Temp\\ipykernel_15528\\2216484155.py:9: SettingWithCopyWarning: \n",
      "A value is trying to be set on a copy of a slice from a DataFrame\n",
      "\n",
      "See the caveats in the documentation: https://pandas.pydata.org/pandas-docs/stable/user_guide/indexing.html#returning-a-view-versus-a-copy\n",
      "  city_df.drop(columns=['location','country','latitude','longitude','generationtime_ms','elevation','Date'],inplace=True)\n"
     ]
    },
    {
     "name": "stdout",
     "output_type": "stream",
     "text": [
      "10/10 [==============================] - 0s 1ms/step\n",
      "['Spain', 'Barcelona', 2.2837070990205492, 2.9386945341836364, 0.8889983732055031, 7.316177509547825, 'fold_1', 'StandardScaler', 'LSTM']\n",
      "10/10 [==============================] - 0s 969us/step\n",
      "['Spain', 'Barcelona', 1.8520471951732898, 2.4647205281957447, 0.9530525574840548, 5.747127695517408, 'fold_2', 'StandardScaler', 'LSTM']\n",
      "10/10 [==============================] - 0s 1ms/step\n",
      "['Spain', 'Barcelona', 2.097879444627456, 4.3624423717462655, 0.8814154531716467, 6.79132765870199, 'fold_3', 'StandardScaler', 'LSTM']\n",
      "10/10 [==============================] - 0s 1ms/step\n",
      "['Spain', 'Barcelona', 3.545563341820076, 4.347762123032995, 0.889803045234791, 11.662653225355035, 'fold_4', 'StandardScaler', 'LSTM']\n",
      "10/10 [==============================] - 0s 1ms/step\n",
      "['Spain', 'Barcelona', 4.0874099513711455, 4.922302408131069, 0.7180947627801675, 13.29714762336971, 'fold_5', 'StandardScaler', 'LSTM']\n",
      "Berlin\n"
     ]
    },
    {
     "name": "stderr",
     "output_type": "stream",
     "text": [
      "C:\\Users\\DELL\\AppData\\Local\\Temp\\ipykernel_15528\\2216484155.py:9: SettingWithCopyWarning: \n",
      "A value is trying to be set on a copy of a slice from a DataFrame\n",
      "\n",
      "See the caveats in the documentation: https://pandas.pydata.org/pandas-docs/stable/user_guide/indexing.html#returning-a-view-versus-a-copy\n",
      "  city_df.drop(columns=['location','country','latitude','longitude','generationtime_ms','elevation','Date'],inplace=True)\n"
     ]
    },
    {
     "name": "stdout",
     "output_type": "stream",
     "text": [
      "10/10 [==============================] - 0s 2ms/step\n",
      "['Germany', 'Berlin', 1.962266840625542, 2.965439766449122, 0.9073310860520188, 6.938685330201223, 'fold_1', 'StandardScaler', 'LSTM']\n",
      "10/10 [==============================] - 0s 1ms/step\n",
      "['Germany', 'Berlin', 1.3411833804491997, 1.7221207377792436, 0.9741849909242405, 5.005073135661597, 'fold_2', 'StandardScaler', 'LSTM']\n",
      "10/10 [==============================] - 0s 1ms/step\n",
      "['Germany', 'Berlin', 2.30459965091862, 2.879240051585618, 0.9319304765993497, 9.178147081799459, 'fold_3', 'StandardScaler', 'LSTM']\n",
      "10/10 [==============================] - 0s 1ms/step\n",
      "['Germany', 'Berlin', 1.9441161580281714, 2.4835166005764413, 0.8985462687167387, 8.420851256319034, 'fold_4', 'StandardScaler', 'LSTM']\n",
      "10/10 [==============================] - 0s 1ms/step\n",
      "['Germany', 'Berlin', 2.17125470997536, 2.601308559082945, 0.8942467039034246, 7.976284209637159, 'fold_5', 'StandardScaler', 'LSTM']\n",
      "Bruges\n"
     ]
    },
    {
     "name": "stderr",
     "output_type": "stream",
     "text": [
      "C:\\Users\\DELL\\AppData\\Local\\Temp\\ipykernel_15528\\2216484155.py:9: SettingWithCopyWarning: \n",
      "A value is trying to be set on a copy of a slice from a DataFrame\n",
      "\n",
      "See the caveats in the documentation: https://pandas.pydata.org/pandas-docs/stable/user_guide/indexing.html#returning-a-view-versus-a-copy\n",
      "  city_df.drop(columns=['location','country','latitude','longitude','generationtime_ms','elevation','Date'],inplace=True)\n"
     ]
    },
    {
     "name": "stdout",
     "output_type": "stream",
     "text": [
      "10/10 [==============================] - 0s 1ms/step\n",
      "['Belgium', 'Bruges', 2.5231093101805255, 3.1674757723000235, 0.8947271554325048, 9.2405999045263, 'fold_1', 'StandardScaler', 'LSTM']\n",
      "10/10 [==============================] - 0s 1ms/step\n",
      "['Belgium', 'Bruges', 1.8095660906404119, 2.315028328228435, 0.9615111165369166, 7.020496826734482, 'fold_2', 'StandardScaler', 'LSTM']\n",
      "10/10 [==============================] - 0s 1ms/step\n",
      "['Belgium', 'Bruges', 1.9440736716196412, 2.6655356830666386, 0.9399079063388629, 7.0942844317786555, 'fold_3', 'StandardScaler', 'LSTM']\n",
      "10/10 [==============================] - 0s 1ms/step\n",
      "['Belgium', 'Bruges', 1.8686365504243059, 2.351431847499875, 0.8878134425629207, 7.589876756862533, 'fold_4', 'StandardScaler', 'LSTM']\n",
      "10/10 [==============================] - 0s 1ms/step\n",
      "['Belgium', 'Bruges', 1.9184543879609133, 2.386778926343332, 0.9407925616003123, 7.10085684505916, 'fold_5', 'StandardScaler', 'LSTM']\n",
      "Brussels\n"
     ]
    },
    {
     "name": "stderr",
     "output_type": "stream",
     "text": [
      "C:\\Users\\DELL\\AppData\\Local\\Temp\\ipykernel_15528\\2216484155.py:9: SettingWithCopyWarning: \n",
      "A value is trying to be set on a copy of a slice from a DataFrame\n",
      "\n",
      "See the caveats in the documentation: https://pandas.pydata.org/pandas-docs/stable/user_guide/indexing.html#returning-a-view-versus-a-copy\n",
      "  city_df.drop(columns=['location','country','latitude','longitude','generationtime_ms','elevation','Date'],inplace=True)\n"
     ]
    },
    {
     "name": "stdout",
     "output_type": "stream",
     "text": [
      "10/10 [==============================] - 0s 997us/step\n",
      "['Belgium', 'Brussels', 1.7622878722363364, 2.2617630043104984, 0.9519521581617423, 6.631070734927047, 'fold_1', 'StandardScaler', 'LSTM']\n",
      "10/10 [==============================] - 0s 1ms/step\n",
      "['Belgium', 'Brussels', 1.6205196598349094, 2.206803485025377, 0.9625970928690554, 6.660551427548844, 'fold_2', 'StandardScaler', 'LSTM']\n",
      "10/10 [==============================] - 0s 1ms/step\n",
      "['Belgium', 'Brussels', 1.9762188310492521, 2.566024685205334, 0.9476613017065578, 8.105554290792062, 'fold_3', 'StandardScaler', 'LSTM']\n",
      "10/10 [==============================] - 0s 1ms/step\n",
      "['Belgium', 'Brussels', 2.4615236286703306, 3.020450276214807, 0.8671952583670364, 10.716962410451321, 'fold_4', 'StandardScaler', 'LSTM']\n",
      "10/10 [==============================] - 0s 1ms/step\n",
      "['Belgium', 'Brussels', 2.134837163637762, 2.678193450533112, 0.9365051333304031, 7.98537793357606, 'fold_5', 'StandardScaler', 'LSTM']\n",
      "Budapest\n"
     ]
    },
    {
     "name": "stderr",
     "output_type": "stream",
     "text": [
      "C:\\Users\\DELL\\AppData\\Local\\Temp\\ipykernel_15528\\2216484155.py:9: SettingWithCopyWarning: \n",
      "A value is trying to be set on a copy of a slice from a DataFrame\n",
      "\n",
      "See the caveats in the documentation: https://pandas.pydata.org/pandas-docs/stable/user_guide/indexing.html#returning-a-view-versus-a-copy\n",
      "  city_df.drop(columns=['location','country','latitude','longitude','generationtime_ms','elevation','Date'],inplace=True)\n"
     ]
    },
    {
     "name": "stdout",
     "output_type": "stream",
     "text": [
      "10/10 [==============================] - 0s 1ms/step\n",
      "['Hungary', 'Budapest', 3.3467096582614513, 4.280115520042113, 0.9090675291985193, 10.266303213858205, 'fold_1', 'StandardScaler', 'LSTM']\n",
      "10/10 [==============================] - 0s 1ms/step\n",
      "['Hungary', 'Budapest', 1.8007266641207484, 2.2953108374825177, 0.979316341030616, 5.600057980590425, 'fold_2', 'StandardScaler', 'LSTM']\n",
      "10/10 [==============================] - 0s 1ms/step\n",
      "['Hungary', 'Budapest', 2.436286524550555, 2.929677703276944, 0.9612677782486159, 7.27112512665825, 'fold_3', 'StandardScaler', 'LSTM']\n",
      "10/10 [==============================] - 0s 1ms/step\n",
      "['Hungary', 'Budapest', 4.4126182712920725, 5.349758978406716, 0.860785188744265, 13.65225347352285, 'fold_4', 'StandardScaler', 'LSTM']\n",
      "10/10 [==============================] - 0s 1ms/step\n",
      "['Hungary', 'Budapest', 4.1435961309633305, 5.115878914121432, 0.8811157956271469, 11.794576026575534, 'fold_5', 'StandardScaler', 'LSTM']\n",
      "Cluj-Napoca\n"
     ]
    },
    {
     "name": "stderr",
     "output_type": "stream",
     "text": [
      "C:\\Users\\DELL\\AppData\\Local\\Temp\\ipykernel_15528\\2216484155.py:9: SettingWithCopyWarning: \n",
      "A value is trying to be set on a copy of a slice from a DataFrame\n",
      "\n",
      "See the caveats in the documentation: https://pandas.pydata.org/pandas-docs/stable/user_guide/indexing.html#returning-a-view-versus-a-copy\n",
      "  city_df.drop(columns=['location','country','latitude','longitude','generationtime_ms','elevation','Date'],inplace=True)\n"
     ]
    },
    {
     "name": "stdout",
     "output_type": "stream",
     "text": [
      "10/10 [==============================] - 0s 1ms/step\n",
      "['Romania', 'Cluj-Napoca', 2.785389697321174, 3.4468136733404133, 0.9301305881775846, 9.120903352706915, 'fold_1', 'StandardScaler', 'LSTM']\n",
      "10/10 [==============================] - 0s 1ms/step\n",
      "['Romania', 'Cluj-Napoca', 2.2738527271845577, 2.8837316851864214, 0.9462866965968268, 7.9226107494204125, 'fold_2', 'StandardScaler', 'LSTM']\n",
      "10/10 [==============================] - 0s 1ms/step\n",
      "['Romania', 'Cluj-Napoca', 2.291868465676155, 3.0059958874796093, 0.956103451118631, 7.806168995694375, 'fold_3', 'StandardScaler', 'LSTM']\n",
      "10/10 [==============================] - 0s 1ms/step\n",
      "['Romania', 'Cluj-Napoca', 4.083593534008008, 4.7928242421166605, 0.8829546626927351, 13.910288221158961, 'fold_4', 'StandardScaler', 'LSTM']\n",
      "10/10 [==============================] - 0s 1ms/step\n",
      "['Romania', 'Cluj-Napoca', 3.702781713172181, 4.640869006833725, 0.8805049091644278, 11.313393439312343, 'fold_5', 'StandardScaler', 'LSTM']\n",
      "Copenhagen\n"
     ]
    },
    {
     "name": "stderr",
     "output_type": "stream",
     "text": [
      "C:\\Users\\DELL\\AppData\\Local\\Temp\\ipykernel_15528\\2216484155.py:9: SettingWithCopyWarning: \n",
      "A value is trying to be set on a copy of a slice from a DataFrame\n",
      "\n",
      "See the caveats in the documentation: https://pandas.pydata.org/pandas-docs/stable/user_guide/indexing.html#returning-a-view-versus-a-copy\n",
      "  city_df.drop(columns=['location','country','latitude','longitude','generationtime_ms','elevation','Date'],inplace=True)\n"
     ]
    },
    {
     "name": "stdout",
     "output_type": "stream",
     "text": [
      "10/10 [==============================] - 0s 1ms/step\n",
      "['Denmark', 'Copenhagen', 1.9481466844491453, 2.468156486667902, 0.830577769943877, 8.062151045147477, 'fold_1', 'StandardScaler', 'LSTM']\n",
      "10/10 [==============================] - 0s 1ms/step\n",
      "['Denmark', 'Copenhagen', 1.35454491175473, 1.8543733335156276, 0.9381905563621848, 5.356989863020586, 'fold_2', 'StandardScaler', 'LSTM']\n",
      "10/10 [==============================] - 0s 2ms/step\n",
      "['Denmark', 'Copenhagen', 1.6953854920112919, 2.172586092658953, 0.868171889187398, 7.241042151523939, 'fold_3', 'StandardScaler', 'LSTM']\n",
      "10/10 [==============================] - 0s 1ms/step\n",
      "['Denmark', 'Copenhagen', 2.112405161879378, 2.628566916034634, 0.8142567621655592, 9.336730425749487, 'fold_4', 'StandardScaler', 'LSTM']\n",
      "10/10 [==============================] - 0s 1ms/step\n",
      "['Denmark', 'Copenhagen', 2.4801228133510786, 3.043927978313144, 0.5769544287523581, 9.448036433519515, 'fold_5', 'StandardScaler', 'LSTM']\n",
      "Frankfurt Airport\n"
     ]
    },
    {
     "name": "stderr",
     "output_type": "stream",
     "text": [
      "C:\\Users\\DELL\\AppData\\Local\\Temp\\ipykernel_15528\\2216484155.py:9: SettingWithCopyWarning: \n",
      "A value is trying to be set on a copy of a slice from a DataFrame\n",
      "\n",
      "See the caveats in the documentation: https://pandas.pydata.org/pandas-docs/stable/user_guide/indexing.html#returning-a-view-versus-a-copy\n",
      "  city_df.drop(columns=['location','country','latitude','longitude','generationtime_ms','elevation','Date'],inplace=True)\n"
     ]
    },
    {
     "name": "stdout",
     "output_type": "stream",
     "text": [
      "10/10 [==============================] - 0s 1ms/step\n",
      "['Germany', 'Frankfurt Airport', 1.6407430190953245, 2.1691620775250153, 0.9307174074548686, 6.749640387938732, 'fold_1', 'StandardScaler', 'LSTM']\n",
      "10/10 [==============================] - 0s 1ms/step\n",
      "['Germany', 'Frankfurt Airport', 1.5533037632023368, 2.130173337398793, 0.9242007507709109, 6.518429367721372, 'fold_2', 'StandardScaler', 'LSTM']\n",
      "10/10 [==============================] - 0s 1ms/step\n",
      "['Germany', 'Frankfurt Airport', 1.6488550014147474, 2.178275522433145, 0.9424089337696278, 7.066132305184746, 'fold_3', 'StandardScaler', 'LSTM']\n",
      "10/10 [==============================] - 0s 1ms/step\n",
      "['Germany', 'Frankfurt Airport', 1.9442382805967988, 2.472085167930199, 0.9042066261903028, 8.44780438741934, 'fold_4', 'StandardScaler', 'LSTM']\n",
      "10/10 [==============================] - 0s 1ms/step\n",
      "['Germany', 'Frankfurt Airport', 2.0499472770516736, 2.5677289329395436, 0.9398281854743908, 8.04939351126664, 'fold_5', 'StandardScaler', 'LSTM']\n",
      "Ghent\n"
     ]
    },
    {
     "name": "stderr",
     "output_type": "stream",
     "text": [
      "C:\\Users\\DELL\\AppData\\Local\\Temp\\ipykernel_15528\\2216484155.py:9: SettingWithCopyWarning: \n",
      "A value is trying to be set on a copy of a slice from a DataFrame\n",
      "\n",
      "See the caveats in the documentation: https://pandas.pydata.org/pandas-docs/stable/user_guide/indexing.html#returning-a-view-versus-a-copy\n",
      "  city_df.drop(columns=['location','country','latitude','longitude','generationtime_ms','elevation','Date'],inplace=True)\n"
     ]
    },
    {
     "name": "stdout",
     "output_type": "stream",
     "text": [
      "10/10 [==============================] - 0s 1ms/step\n",
      "['Belgium', 'Ghent', 2.563378756092406, 3.4059508527783797, 0.9061482433717409, 9.15634939467835, 'fold_1', 'StandardScaler', 'LSTM']\n",
      "10/10 [==============================] - 0s 1ms/step\n",
      "['Belgium', 'Ghent', 1.6708769624091713, 2.1230570029058584, 0.9713571711802869, 6.549326320487428, 'fold_2', 'StandardScaler', 'LSTM']\n",
      "10/10 [==============================] - 0s 1ms/step\n",
      "['Belgium', 'Ghent', 1.7435917266427647, 2.324469945016038, 0.9651300395172027, 6.730105588103112, 'fold_3', 'StandardScaler', 'LSTM']\n",
      "10/10 [==============================] - 0s 1ms/step\n",
      "['Belgium', 'Ghent', 2.2151126839798883, 2.869482793525816, 0.876009261664855, 9.292950835271174, 'fold_4', 'StandardScaler', 'LSTM']\n",
      "10/10 [==============================] - 0s 1ms/step\n",
      "['Belgium', 'Ghent', 2.0157359027427084, 2.6456350138048936, 0.9439290235279968, 7.247221662435038, 'fold_5', 'StandardScaler', 'LSTM']\n",
      "Graz Airport\n"
     ]
    },
    {
     "name": "stderr",
     "output_type": "stream",
     "text": [
      "C:\\Users\\DELL\\AppData\\Local\\Temp\\ipykernel_15528\\2216484155.py:9: SettingWithCopyWarning: \n",
      "A value is trying to be set on a copy of a slice from a DataFrame\n",
      "\n",
      "See the caveats in the documentation: https://pandas.pydata.org/pandas-docs/stable/user_guide/indexing.html#returning-a-view-versus-a-copy\n",
      "  city_df.drop(columns=['location','country','latitude','longitude','generationtime_ms','elevation','Date'],inplace=True)\n"
     ]
    },
    {
     "name": "stdout",
     "output_type": "stream",
     "text": [
      "10/10 [==============================] - 0s 1ms/step\n",
      "['Austria', 'Graz Airport', 2.1532989920745256, 2.934679922049935, 0.919302899911605, 6.840907508131987, 'fold_1', 'StandardScaler', 'LSTM']\n",
      "10/10 [==============================] - 0s 1ms/step\n",
      "['Austria', 'Graz Airport', 1.731280762310986, 2.3156476507815267, 0.9593386393193792, 5.396908763820864, 'fold_2', 'StandardScaler', 'LSTM']\n",
      "10/10 [==============================] - 0s 1ms/step\n",
      "['Austria', 'Graz Airport', 1.9966608095386793, 2.5941709667152555, 0.9586990305057113, 6.4354114120693735, 'fold_3', 'StandardScaler', 'LSTM']\n",
      "10/10 [==============================] - 0s 1ms/step\n",
      "['Austria', 'Graz Airport', 3.1892481165933826, 3.847653688383698, 0.9080416158280227, 10.967703535878979, 'fold_4', 'StandardScaler', 'LSTM']\n",
      "10/10 [==============================] - 0s 1ms/step\n",
      "['Austria', 'Graz Airport', 3.1032818898762744, 3.51280542912559, 0.9199640268156982, 10.164903961219514, 'fold_5', 'StandardScaler', 'LSTM']\n",
      "Helsinki\n"
     ]
    },
    {
     "name": "stderr",
     "output_type": "stream",
     "text": [
      "C:\\Users\\DELL\\AppData\\Local\\Temp\\ipykernel_15528\\2216484155.py:9: SettingWithCopyWarning: \n",
      "A value is trying to be set on a copy of a slice from a DataFrame\n",
      "\n",
      "See the caveats in the documentation: https://pandas.pydata.org/pandas-docs/stable/user_guide/indexing.html#returning-a-view-versus-a-copy\n",
      "  city_df.drop(columns=['location','country','latitude','longitude','generationtime_ms','elevation','Date'],inplace=True)\n"
     ]
    },
    {
     "name": "stdout",
     "output_type": "stream",
     "text": [
      "10/10 [==============================] - 0s 2ms/step\n",
      "['Finland', 'Helsinki', 1.7137459341576489, 2.140558516626693, 0.8567859657206371, 7.9439585258581, 'fold_1', 'StandardScaler', 'LSTM']\n",
      "10/10 [==============================] - 0s 934us/step\n",
      "['Finland', 'Helsinki', 1.4533665452373623, 1.910525566976118, 0.8717003306348234, 6.866245455443005, 'fold_2', 'StandardScaler', 'LSTM']\n",
      "10/10 [==============================] - 0s 998us/step\n",
      "['Finland', 'Helsinki', 1.502079928846664, 1.9646080236435217, 0.9047670323658333, 7.824519275625091, 'fold_3', 'StandardScaler', 'LSTM']\n",
      "10/10 [==============================] - 0s 1ms/step\n",
      "['Finland', 'Helsinki', 2.032434674702823, 2.5792905231722703, 0.6999882383937863, 10.157797338972243, 'fold_4', 'StandardScaler', 'LSTM']\n",
      "10/10 [==============================] - 0s 1ms/step\n",
      "['Finland', 'Helsinki', 1.953002499663122, 2.3435313288734596, 0.7476559718079615, 8.472538379375013, 'fold_5', 'StandardScaler', 'LSTM']\n",
      "Isle of Man\n"
     ]
    },
    {
     "name": "stderr",
     "output_type": "stream",
     "text": [
      "C:\\Users\\DELL\\AppData\\Local\\Temp\\ipykernel_15528\\2216484155.py:9: SettingWithCopyWarning: \n",
      "A value is trying to be set on a copy of a slice from a DataFrame\n",
      "\n",
      "See the caveats in the documentation: https://pandas.pydata.org/pandas-docs/stable/user_guide/indexing.html#returning-a-view-versus-a-copy\n",
      "  city_df.drop(columns=['location','country','latitude','longitude','generationtime_ms','elevation','Date'],inplace=True)\n"
     ]
    },
    {
     "name": "stdout",
     "output_type": "stream",
     "text": [
      "10/10 [==============================] - 0s 1ms/step\n",
      "['UK', 'Isle of Man', 2.7158332538279257, 3.4707061702841315, 0.5067740672036603, 10.416872757684835, 'fold_1', 'StandardScaler', 'LSTM']\n",
      "10/10 [==============================] - 0s 1ms/step\n",
      "['UK', 'Isle of Man', 2.2619842873316376, 3.1751100468824833, 0.6133854702817463, 8.372230858505509, 'fold_2', 'StandardScaler', 'LSTM']\n",
      "10/10 [==============================] - 0s 1ms/step\n",
      "['UK', 'Isle of Man', 1.4275444599047096, 1.9224364974477541, 0.8291515322444503, 5.6458728324566305, 'fold_3', 'StandardScaler', 'LSTM']\n",
      "10/10 [==============================] - 0s 1ms/step\n",
      "['UK', 'Isle of Man', 3.0106493011457185, 3.5629205348485016, 0.6172473020629206, 12.140515694315605, 'fold_4', 'StandardScaler', 'LSTM']\n",
      "10/10 [==============================] - 0s 1ms/step\n",
      "['UK', 'Isle of Man', 2.288467905837107, 2.825907548314995, 0.5503638452714947, 8.367571810190237, 'fold_5', 'StandardScaler', 'LSTM']\n",
      "Istanbul Airport\n"
     ]
    },
    {
     "name": "stderr",
     "output_type": "stream",
     "text": [
      "C:\\Users\\DELL\\AppData\\Local\\Temp\\ipykernel_15528\\2216484155.py:9: SettingWithCopyWarning: \n",
      "A value is trying to be set on a copy of a slice from a DataFrame\n",
      "\n",
      "See the caveats in the documentation: https://pandas.pydata.org/pandas-docs/stable/user_guide/indexing.html#returning-a-view-versus-a-copy\n",
      "  city_df.drop(columns=['location','country','latitude','longitude','generationtime_ms','elevation','Date'],inplace=True)\n"
     ]
    },
    {
     "name": "stdout",
     "output_type": "stream",
     "text": [
      "10/10 [==============================] - 0s 1ms/step\n",
      "['Turkey', 'Istanbul Airport', 2.132973334623821, 2.7970974894549894, 0.9074668314119105, 7.4273018363390495, 'fold_1', 'StandardScaler', 'LSTM']\n",
      "10/10 [==============================] - 0s 1ms/step\n",
      "['Turkey', 'Istanbul Airport', 1.8541489257115746, 2.46991539747978, 0.9284696736684825, 6.562438743423028, 'fold_2', 'StandardScaler', 'LSTM']\n",
      "10/10 [==============================] - 0s 1ms/step\n",
      "['Turkey', 'Istanbul Airport', 1.9181718238412513, 2.4026514069280744, 0.921164729749643, 6.7765322863475665, 'fold_3', 'StandardScaler', 'LSTM']\n",
      "10/10 [==============================] - 0s 1ms/step\n",
      "['Turkey', 'Istanbul Airport', 3.5695730921340307, 4.306075674836203, 0.7776517808157549, 12.18096542138523, 'fold_4', 'StandardScaler', 'LSTM']\n",
      "10/10 [==============================] - 0s 997us/step\n",
      "['Turkey', 'Istanbul Airport', 2.7587161434295515, 3.486819324104116, 0.8841450388393634, 8.22058020643725, 'fold_5', 'StandardScaler', 'LSTM']\n",
      "Limerick\n"
     ]
    },
    {
     "name": "stderr",
     "output_type": "stream",
     "text": [
      "C:\\Users\\DELL\\AppData\\Local\\Temp\\ipykernel_15528\\2216484155.py:9: SettingWithCopyWarning: \n",
      "A value is trying to be set on a copy of a slice from a DataFrame\n",
      "\n",
      "See the caveats in the documentation: https://pandas.pydata.org/pandas-docs/stable/user_guide/indexing.html#returning-a-view-versus-a-copy\n",
      "  city_df.drop(columns=['location','country','latitude','longitude','generationtime_ms','elevation','Date'],inplace=True)\n"
     ]
    },
    {
     "name": "stdout",
     "output_type": "stream",
     "text": [
      "10/10 [==============================] - 0s 1ms/step\n",
      "['Ireland', 'Limerick', 1.7276978986390756, 2.308210710275086, 0.8690852720763568, 7.503754487105599, 'fold_1', 'StandardScaler', 'LSTM']\n",
      "10/10 [==============================] - 0s 959us/step\n",
      "['Ireland', 'Limerick', 1.316906512055767, 1.8317054630255667, 0.9194251441247849, 5.759386794797592, 'fold_2', 'StandardScaler', 'LSTM']\n",
      "10/10 [==============================] - 0s 1ms/step\n",
      "['Ireland', 'Limerick', 2.3394559159126445, 2.88707914656296, 0.5785960048164362, 10.194423742145755, 'fold_3', 'StandardScaler', 'LSTM']\n",
      "10/10 [==============================] - 0s 1ms/step\n",
      "['Ireland', 'Limerick', 3.0588900313529788, 3.4532503432412156, 0.5829013603681307, 13.983804765899066, 'fold_4', 'StandardScaler', 'LSTM']\n",
      "10/10 [==============================] - 0s 1ms/step\n",
      "['Ireland', 'Limerick', 3.7816966363828484, 4.316611181019086, 0.08865606872976062, 15.835815130416886, 'fold_5', 'StandardScaler', 'LSTM']\n",
      "London\n"
     ]
    },
    {
     "name": "stderr",
     "output_type": "stream",
     "text": [
      "C:\\Users\\DELL\\AppData\\Local\\Temp\\ipykernel_15528\\2216484155.py:9: SettingWithCopyWarning: \n",
      "A value is trying to be set on a copy of a slice from a DataFrame\n",
      "\n",
      "See the caveats in the documentation: https://pandas.pydata.org/pandas-docs/stable/user_guide/indexing.html#returning-a-view-versus-a-copy\n",
      "  city_df.drop(columns=['location','country','latitude','longitude','generationtime_ms','elevation','Date'],inplace=True)\n"
     ]
    },
    {
     "name": "stdout",
     "output_type": "stream",
     "text": [
      "10/10 [==============================] - 0s 1ms/step\n",
      "['UK', 'London', 1.7536679334065484, 2.2484575328360097, 0.946663596006133, 7.2973481517370615, 'fold_1', 'StandardScaler', 'LSTM']\n",
      "10/10 [==============================] - 0s 1ms/step\n",
      "['UK', 'London', 1.3381624885890038, 1.710974848945787, 0.9681196310812192, 5.687896738476029, 'fold_2', 'StandardScaler', 'LSTM']\n",
      "10/10 [==============================] - 0s 1ms/step\n",
      "['UK', 'London', 1.5565306966163246, 2.1762649975846933, 0.9371345851342641, 6.653380286059829, 'fold_3', 'StandardScaler', 'LSTM']\n",
      "10/10 [==============================] - 0s 1ms/step\n",
      "['UK', 'London', 2.002374014353643, 2.459331208898719, 0.9066408834944996, 9.119387629361846, 'fold_4', 'StandardScaler', 'LSTM']\n",
      "10/10 [==============================] - 0s 1ms/step\n",
      "['UK', 'London', 2.0314339764041986, 2.5214387465960524, 0.9187241257188797, 7.858328466103916, 'fold_5', 'StandardScaler', 'LSTM']\n",
      "Lyon\n"
     ]
    },
    {
     "name": "stderr",
     "output_type": "stream",
     "text": [
      "C:\\Users\\DELL\\AppData\\Local\\Temp\\ipykernel_15528\\2216484155.py:9: SettingWithCopyWarning: \n",
      "A value is trying to be set on a copy of a slice from a DataFrame\n",
      "\n",
      "See the caveats in the documentation: https://pandas.pydata.org/pandas-docs/stable/user_guide/indexing.html#returning-a-view-versus-a-copy\n",
      "  city_df.drop(columns=['location','country','latitude','longitude','generationtime_ms','elevation','Date'],inplace=True)\n"
     ]
    },
    {
     "name": "stdout",
     "output_type": "stream",
     "text": [
      "10/10 [==============================] - 0s 1ms/step\n",
      "['France', 'Lyon', 1.7234108819625216, 2.2309163822036595, 0.9602721536250322, 6.542600104122583, 'fold_1', 'StandardScaler', 'LSTM']\n",
      "10/10 [==============================] - 0s 1ms/step\n",
      "['France', 'Lyon', 1.9560433315904173, 2.6851792913048484, 0.9609021314663798, 6.900107675696865, 'fold_2', 'StandardScaler', 'LSTM']\n",
      "10/10 [==============================] - 0s 1ms/step\n",
      "['France', 'Lyon', 1.6962295797861868, 2.1477382961809295, 0.9712988247008507, 6.549646205665558, 'fold_3', 'StandardScaler', 'LSTM']\n",
      "10/10 [==============================] - 0s 1ms/step\n",
      "['France', 'Lyon', 2.096761266934817, 2.7746744837199877, 0.9427217236090729, 8.688139707035182, 'fold_4', 'StandardScaler', 'LSTM']\n",
      "10/10 [==============================] - 0s 1ms/step\n",
      "['France', 'Lyon', 2.0553905452223127, 2.6097644163488734, 0.9554778370324263, 7.27913795377792, 'fold_5', 'StandardScaler', 'LSTM']\n",
      "Madrid\n"
     ]
    },
    {
     "name": "stderr",
     "output_type": "stream",
     "text": [
      "C:\\Users\\DELL\\AppData\\Local\\Temp\\ipykernel_15528\\2216484155.py:9: SettingWithCopyWarning: \n",
      "A value is trying to be set on a copy of a slice from a DataFrame\n",
      "\n",
      "See the caveats in the documentation: https://pandas.pydata.org/pandas-docs/stable/user_guide/indexing.html#returning-a-view-versus-a-copy\n",
      "  city_df.drop(columns=['location','country','latitude','longitude','generationtime_ms','elevation','Date'],inplace=True)\n"
     ]
    },
    {
     "name": "stdout",
     "output_type": "stream",
     "text": [
      "10/10 [==============================] - 0s 1ms/step\n",
      "['Spain', 'Madrid', 3.1727085514958273, 13.544539799671236, -0.48373055738653137, 12.66624399736739, 'fold_1', 'StandardScaler', 'LSTM']\n",
      "10/10 [==============================] - 0s 1ms/step\n",
      "['Spain', 'Madrid', 2.014176708378204, 2.5409707277296705, 0.9332691874625002, 7.536793184951322, 'fold_2', 'StandardScaler', 'LSTM']\n",
      "10/10 [==============================] - 0s 1ms/step\n",
      "['Spain', 'Madrid', 2.0284322277051667, 2.6429399256954884, 0.8793052280362557, 7.204458981611617, 'fold_3', 'StandardScaler', 'LSTM']\n",
      "10/10 [==============================] - 0s 1ms/step\n",
      "['Spain', 'Madrid', 3.2415773248019275, 4.07530359714073, 0.8465879262288472, 11.164806672668028, 'fold_4', 'StandardScaler', 'LSTM']\n",
      "10/10 [==============================] - 0s 1ms/step\n",
      "['Spain', 'Madrid', 3.61606589517637, 4.9041143242544525, 0.6782712761050197, 12.088317162372556, 'fold_5', 'StandardScaler', 'LSTM']\n",
      "Marseille\n"
     ]
    },
    {
     "name": "stderr",
     "output_type": "stream",
     "text": [
      "C:\\Users\\DELL\\AppData\\Local\\Temp\\ipykernel_15528\\2216484155.py:9: SettingWithCopyWarning: \n",
      "A value is trying to be set on a copy of a slice from a DataFrame\n",
      "\n",
      "See the caveats in the documentation: https://pandas.pydata.org/pandas-docs/stable/user_guide/indexing.html#returning-a-view-versus-a-copy\n",
      "  city_df.drop(columns=['location','country','latitude','longitude','generationtime_ms','elevation','Date'],inplace=True)\n"
     ]
    },
    {
     "name": "stdout",
     "output_type": "stream",
     "text": [
      "10/10 [==============================] - 0s 1ms/step\n",
      "['France', 'Marseille', 1.3517721369269224, 1.7984365918121508, 0.9338440343204163, 4.683569586065904, 'fold_1', 'StandardScaler', 'LSTM']\n",
      "10/10 [==============================] - 0s 1ms/step\n",
      "['France', 'Marseille', 1.9244484008719391, 2.4583704251539626, 0.919529705213017, 6.349540754332494, 'fold_2', 'StandardScaler', 'LSTM']\n",
      "10/10 [==============================] - 0s 1ms/step\n",
      "['France', 'Marseille', 1.7033816810067925, 2.461037639668592, 0.9277303015501636, 6.082821536640429, 'fold_3', 'StandardScaler', 'LSTM']\n",
      "10/10 [==============================] - 0s 1ms/step\n",
      "['France', 'Marseille', 3.086913178500519, 3.7149802441740922, 0.7503213679244882, 11.245360053218288, 'fold_4', 'StandardScaler', 'LSTM']\n",
      "10/10 [==============================] - 0s 1ms/step\n",
      "['France', 'Marseille', 2.6620672282562947, 3.3820431465028125, 0.6213116293707929, 9.387697802590674, 'fold_5', 'StandardScaler', 'LSTM']\n",
      "Milan\n"
     ]
    },
    {
     "name": "stderr",
     "output_type": "stream",
     "text": [
      "C:\\Users\\DELL\\AppData\\Local\\Temp\\ipykernel_15528\\2216484155.py:9: SettingWithCopyWarning: \n",
      "A value is trying to be set on a copy of a slice from a DataFrame\n",
      "\n",
      "See the caveats in the documentation: https://pandas.pydata.org/pandas-docs/stable/user_guide/indexing.html#returning-a-view-versus-a-copy\n",
      "  city_df.drop(columns=['location','country','latitude','longitude','generationtime_ms','elevation','Date'],inplace=True)\n"
     ]
    },
    {
     "name": "stdout",
     "output_type": "stream",
     "text": [
      "10/10 [==============================] - 0s 1ms/step\n",
      "['Italy', 'Milan', 3.2835231820064186, 4.141573787784941, 0.9568109016497454, 7.6730697303981295, 'fold_1', 'StandardScaler', 'LSTM']\n",
      "10/10 [==============================] - 0s 997us/step\n",
      "['Italy', 'Milan', 2.5288938801038214, 3.231316310203257, 0.9737483917392232, 5.731696593188408, 'fold_2', 'StandardScaler', 'LSTM']\n",
      "10/10 [==============================] - 0s 1ms/step\n",
      "['Italy', 'Milan', 2.6923312335253846, 3.4049285043174065, 0.9688103545157855, 6.833123356629707, 'fold_3', 'StandardScaler', 'LSTM']\n",
      "10/10 [==============================] - 0s 1ms/step\n",
      "['Italy', 'Milan', 4.038035152165311, 4.9604821197435465, 0.960274380312869, 9.944864103039224, 'fold_4', 'StandardScaler', 'LSTM']\n",
      "10/10 [==============================] - 0s 1ms/step\n",
      "['Italy', 'Milan', 2.9466039034873925, 4.279232695342204, 0.9633700941042963, 7.305191600184734, 'fold_5', 'StandardScaler', 'LSTM']\n",
      "Moscow\n"
     ]
    },
    {
     "name": "stderr",
     "output_type": "stream",
     "text": [
      "C:\\Users\\DELL\\AppData\\Local\\Temp\\ipykernel_15528\\2216484155.py:9: SettingWithCopyWarning: \n",
      "A value is trying to be set on a copy of a slice from a DataFrame\n",
      "\n",
      "See the caveats in the documentation: https://pandas.pydata.org/pandas-docs/stable/user_guide/indexing.html#returning-a-view-versus-a-copy\n",
      "  city_df.drop(columns=['location','country','latitude','longitude','generationtime_ms','elevation','Date'],inplace=True)\n"
     ]
    },
    {
     "name": "stdout",
     "output_type": "stream",
     "text": [
      "10/10 [==============================] - 0s 1ms/step\n",
      "['Russia', 'Moscow', 2.998865806744502, 3.916486025276155, 0.9608952565689844, 6.45371262519031, 'fold_1', 'StandardScaler', 'LSTM']\n",
      "10/10 [==============================] - 0s 1ms/step\n",
      "['Russia', 'Moscow', 2.346897610790653, 3.010130057958299, 0.9704153983788343, 6.813555686070129, 'fold_2', 'StandardScaler', 'LSTM']\n",
      "10/10 [==============================] - 0s 1ms/step\n",
      "['Russia', 'Moscow', 2.654557306472569, 3.4624974664175414, 0.9621956376431108, 6.4766818662683745, 'fold_3', 'StandardScaler', 'LSTM']\n",
      "10/10 [==============================] - 0s 1ms/step\n",
      "['Russia', 'Moscow', 3.494495825136088, 4.514959407915904, 0.9393764714583761, 8.440014406794825, 'fold_4', 'StandardScaler', 'LSTM']\n",
      "10/10 [==============================] - 0s 1ms/step\n",
      "['Russia', 'Moscow', 3.750413425436847, 4.689741740674482, 0.9384791808590777, 8.39788680393921, 'fold_5', 'StandardScaler', 'LSTM']\n",
      "Munich\n"
     ]
    },
    {
     "name": "stderr",
     "output_type": "stream",
     "text": [
      "C:\\Users\\DELL\\AppData\\Local\\Temp\\ipykernel_15528\\2216484155.py:9: SettingWithCopyWarning: \n",
      "A value is trying to be set on a copy of a slice from a DataFrame\n",
      "\n",
      "See the caveats in the documentation: https://pandas.pydata.org/pandas-docs/stable/user_guide/indexing.html#returning-a-view-versus-a-copy\n",
      "  city_df.drop(columns=['location','country','latitude','longitude','generationtime_ms','elevation','Date'],inplace=True)\n"
     ]
    },
    {
     "name": "stdout",
     "output_type": "stream",
     "text": [
      "10/10 [==============================] - 0s 1ms/step\n",
      "['Germany', 'Munich', 1.5965452942831937, 1.9979208741597574, 0.9067680997489538, 6.254123966653112, 'fold_1', 'StandardScaler', 'LSTM']\n",
      "10/10 [==============================] - 0s 1ms/step\n",
      "['Germany', 'Munich', 1.6122944910232335, 2.0742884619875563, 0.9272231056190836, 7.196974153087058, 'fold_2', 'StandardScaler', 'LSTM']\n",
      "10/10 [==============================] - 0s 1ms/step\n",
      "['Germany', 'Munich', 1.7450354447647858, 2.2445039605359085, 0.9178507186169289, 7.3799782718400095, 'fold_3', 'StandardScaler', 'LSTM']\n",
      "10/10 [==============================] - 0s 1ms/step\n",
      "['Germany', 'Munich', 2.14440353820313, 2.7709452878977427, 0.8896138782749787, 8.873693614765468, 'fold_4', 'StandardScaler', 'LSTM']\n",
      "10/10 [==============================] - 0s 1ms/step\n",
      "['Germany', 'Munich', 2.86214708410986, 3.3405669340344373, 0.8551085674763945, 10.4770949798597, 'fold_5', 'StandardScaler', 'LSTM']\n",
      "Nice\n"
     ]
    },
    {
     "name": "stderr",
     "output_type": "stream",
     "text": [
      "C:\\Users\\DELL\\AppData\\Local\\Temp\\ipykernel_15528\\2216484155.py:9: SettingWithCopyWarning: \n",
      "A value is trying to be set on a copy of a slice from a DataFrame\n",
      "\n",
      "See the caveats in the documentation: https://pandas.pydata.org/pandas-docs/stable/user_guide/indexing.html#returning-a-view-versus-a-copy\n",
      "  city_df.drop(columns=['location','country','latitude','longitude','generationtime_ms','elevation','Date'],inplace=True)\n"
     ]
    },
    {
     "name": "stdout",
     "output_type": "stream",
     "text": [
      "10/10 [==============================] - 0s 1ms/step\n",
      "['France', 'Nice', 1.8676776213315034, 2.8145459025640855, 0.8742282490820517, 6.118678889473875, 'fold_1', 'StandardScaler', 'LSTM']\n",
      "10/10 [==============================] - 0s 1ms/step\n",
      "['France', 'Nice', 1.6920511776998166, 2.229178529242963, 0.9214863247357126, 6.218703117632235, 'fold_2', 'StandardScaler', 'LSTM']\n",
      "10/10 [==============================] - 0s 1ms/step\n",
      "['France', 'Nice', 2.3435278537610893, 5.72249862545027, 0.16866013595359797, 9.378627049867745, 'fold_3', 'StandardScaler', 'LSTM']\n",
      "10/10 [==============================] - 0s 1ms/step\n",
      "['France', 'Nice', 3.636606965435149, 4.233084704868118, 0.7232024363908105, 14.5273466307648, 'fold_4', 'StandardScaler', 'LSTM']\n",
      "10/10 [==============================] - 0s 1ms/step\n",
      "['France', 'Nice', 4.25280927631953, 4.844187735517455, 0.35122770590430286, 14.690135844172895, 'fold_5', 'StandardScaler', 'LSTM']\n",
      "Nicosia\n"
     ]
    },
    {
     "name": "stderr",
     "output_type": "stream",
     "text": [
      "C:\\Users\\DELL\\AppData\\Local\\Temp\\ipykernel_15528\\2216484155.py:9: SettingWithCopyWarning: \n",
      "A value is trying to be set on a copy of a slice from a DataFrame\n",
      "\n",
      "See the caveats in the documentation: https://pandas.pydata.org/pandas-docs/stable/user_guide/indexing.html#returning-a-view-versus-a-copy\n",
      "  city_df.drop(columns=['location','country','latitude','longitude','generationtime_ms','elevation','Date'],inplace=True)\n"
     ]
    },
    {
     "name": "stdout",
     "output_type": "stream",
     "text": [
      "10/10 [==============================] - 0s 1ms/step\n",
      "['Cyprus', 'Nicosia', 2.665935054167138, 3.244101237247915, 0.8876535731717523, 7.317069666526018, 'fold_1', 'StandardScaler', 'LSTM']\n",
      "10/10 [==============================] - 0s 2ms/step\n",
      "['Cyprus', 'Nicosia', 2.6781862163108237, 3.371815315880241, 0.8696369340731736, 7.989431659814179, 'fold_2', 'StandardScaler', 'LSTM']\n",
      "10/10 [==============================] - 0s 2ms/step\n",
      "['Cyprus', 'Nicosia', 2.578410281438261, 3.29286667570943, 0.7993196231886415, 7.746839757054194, 'fold_3', 'StandardScaler', 'LSTM']\n",
      "10/10 [==============================] - 0s 1ms/step\n",
      "['Cyprus', 'Nicosia', 5.671587418203485, 6.61824290351126, 0.47731115716675043, 17.4350425877518, 'fold_4', 'StandardScaler', 'LSTM']\n",
      "10/10 [==============================] - 0s 1ms/step\n",
      "['Cyprus', 'Nicosia', 4.4695584360323, 5.566123666726885, 0.600376581814942, 12.765690536917628, 'fold_5', 'StandardScaler', 'LSTM']\n",
      "Oslo\n"
     ]
    },
    {
     "name": "stderr",
     "output_type": "stream",
     "text": [
      "C:\\Users\\DELL\\AppData\\Local\\Temp\\ipykernel_15528\\2216484155.py:9: SettingWithCopyWarning: \n",
      "A value is trying to be set on a copy of a slice from a DataFrame\n",
      "\n",
      "See the caveats in the documentation: https://pandas.pydata.org/pandas-docs/stable/user_guide/indexing.html#returning-a-view-versus-a-copy\n",
      "  city_df.drop(columns=['location','country','latitude','longitude','generationtime_ms','elevation','Date'],inplace=True)\n"
     ]
    },
    {
     "name": "stdout",
     "output_type": "stream",
     "text": [
      "10/10 [==============================] - 0s 1ms/step\n",
      "['Norway', 'Oslo', 1.2174111085268964, 1.582503673146217, 0.9504795366216809, 5.408109822080695, 'fold_1', 'StandardScaler', 'LSTM']\n",
      "10/10 [==============================] - 0s 1ms/step\n",
      "['Norway', 'Oslo', 1.4550724465008738, 2.0633355463721013, 0.9201818151033877, 5.803917537107307, 'fold_2', 'StandardScaler', 'LSTM']\n",
      "10/10 [==============================] - 0s 1ms/step\n",
      "['Norway', 'Oslo', 1.3153725378045202, 1.7262055101217322, 0.9418815971468756, 6.05964304945333, 'fold_3', 'StandardScaler', 'LSTM']\n",
      "10/10 [==============================] - 0s 1ms/step\n",
      "['Norway', 'Oslo', 2.0771368290191368, 2.6212983746946605, 0.8635807014944336, 9.90135953705713, 'fold_4', 'StandardScaler', 'LSTM']\n",
      "10/10 [==============================] - 0s 1ms/step\n",
      "['Norway', 'Oslo', 2.927791990645945, 3.8190687120953983, 0.49068978334970714, 12.08967302039506, 'fold_5', 'StandardScaler', 'LSTM']\n",
      "Paris\n"
     ]
    },
    {
     "name": "stderr",
     "output_type": "stream",
     "text": [
      "C:\\Users\\DELL\\AppData\\Local\\Temp\\ipykernel_15528\\2216484155.py:9: SettingWithCopyWarning: \n",
      "A value is trying to be set on a copy of a slice from a DataFrame\n",
      "\n",
      "See the caveats in the documentation: https://pandas.pydata.org/pandas-docs/stable/user_guide/indexing.html#returning-a-view-versus-a-copy\n",
      "  city_df.drop(columns=['location','country','latitude','longitude','generationtime_ms','elevation','Date'],inplace=True)\n"
     ]
    },
    {
     "name": "stdout",
     "output_type": "stream",
     "text": [
      "10/10 [==============================] - 0s 1ms/step\n",
      "['France', 'Paris', 2.066268782024362, 2.8413460528109105, 0.934164118008601, 7.1921778169864305, 'fold_1', 'StandardScaler', 'LSTM']\n",
      "10/10 [==============================] - 0s 1ms/step\n",
      "['France', 'Paris', 1.8262326826243642, 2.347833400545275, 0.9655985712728079, 6.764120720753507, 'fold_2', 'StandardScaler', 'LSTM']\n",
      "10/10 [==============================] - 0s 1ms/step\n",
      "['France', 'Paris', 1.6195877338653282, 2.1054347169851995, 0.9682013144896426, 6.374572227230161, 'fold_3', 'StandardScaler', 'LSTM']\n",
      "10/10 [==============================] - 0s 1ms/step\n",
      "['France', 'Paris', 2.1039341345225293, 2.6914115196490296, 0.9062649054858738, 8.729691861262342, 'fold_4', 'StandardScaler', 'LSTM']\n",
      "10/10 [==============================] - 0s 1ms/step\n",
      "['France', 'Paris', 2.4186969195326715, 2.9807994769606685, 0.9276018986087712, 9.371037652012637, 'fold_5', 'StandardScaler', 'LSTM']\n",
      "Poznan\n"
     ]
    },
    {
     "name": "stderr",
     "output_type": "stream",
     "text": [
      "C:\\Users\\DELL\\AppData\\Local\\Temp\\ipykernel_15528\\2216484155.py:9: SettingWithCopyWarning: \n",
      "A value is trying to be set on a copy of a slice from a DataFrame\n",
      "\n",
      "See the caveats in the documentation: https://pandas.pydata.org/pandas-docs/stable/user_guide/indexing.html#returning-a-view-versus-a-copy\n",
      "  city_df.drop(columns=['location','country','latitude','longitude','generationtime_ms','elevation','Date'],inplace=True)\n"
     ]
    },
    {
     "name": "stdout",
     "output_type": "stream",
     "text": [
      "10/10 [==============================] - 0s 1ms/step\n",
      "['Poland', 'Poznan', 2.6101266656990623, 3.275195282498364, 0.9672849485600303, 8.1333881647575, 'fold_1', 'StandardScaler', 'LSTM']\n",
      "10/10 [==============================] - 0s 1ms/step\n",
      "['Poland', 'Poznan', 2.037916240082484, 2.6960781236275975, 0.9776295268499899, 6.805797321608728, 'fold_2', 'StandardScaler', 'LSTM']\n",
      "10/10 [==============================] - 0s 1ms/step\n",
      "['Poland', 'Poznan', 2.6306989214736025, 3.2693927503987648, 0.9620360435079409, 7.964490462911068, 'fold_3', 'StandardScaler', 'LSTM']\n",
      "10/10 [==============================] - 0s 1ms/step\n",
      "['Poland', 'Poznan', 3.72377606940596, 4.430599540389243, 0.9236155297678289, 12.441256834404935, 'fold_4', 'StandardScaler', 'LSTM']\n",
      "10/10 [==============================] - 0s 1ms/step\n",
      "['Poland', 'Poznan', 2.7142324730685865, 3.2972159646703263, 0.948853479047605, 8.661838067185505, 'fold_5', 'StandardScaler', 'LSTM']\n",
      "Prague\n"
     ]
    },
    {
     "name": "stderr",
     "output_type": "stream",
     "text": [
      "C:\\Users\\DELL\\AppData\\Local\\Temp\\ipykernel_15528\\2216484155.py:9: SettingWithCopyWarning: \n",
      "A value is trying to be set on a copy of a slice from a DataFrame\n",
      "\n",
      "See the caveats in the documentation: https://pandas.pydata.org/pandas-docs/stable/user_guide/indexing.html#returning-a-view-versus-a-copy\n",
      "  city_df.drop(columns=['location','country','latitude','longitude','generationtime_ms','elevation','Date'],inplace=True)\n"
     ]
    },
    {
     "name": "stdout",
     "output_type": "stream",
     "text": [
      "10/10 [==============================] - 0s 998us/step\n",
      "['Czech Republic', 'Prague', 2.1092601901977677, 2.890914845361603, 0.9497810624387397, 7.135401121771063, 'fold_1', 'StandardScaler', 'LSTM']\n",
      "10/10 [==============================] - 0s 2ms/step\n",
      "['Czech Republic', 'Prague', 1.9261196378159195, 2.537966150849953, 0.9605664733907665, 6.4833617726241615, 'fold_2', 'StandardScaler', 'LSTM']\n",
      "10/10 [==============================] - 0s 1ms/step\n",
      "['Czech Republic', 'Prague', 1.8082898163904335, 2.3193243794143137, 0.9619395635121811, 6.770499406965133, 'fold_3', 'StandardScaler', 'LSTM']\n",
      "10/10 [==============================] - 0s 2ms/step\n",
      "['Czech Republic', 'Prague', 3.2539330345310575, 3.947867896591807, 0.89073325671232, 12.880021489202184, 'fold_4', 'StandardScaler', 'LSTM']\n",
      "10/10 [==============================] - 0s 1ms/step\n",
      "['Czech Republic', 'Prague', 3.082494420003673, 3.7860184810625195, 0.8763548784814247, 10.483676439350646, 'fold_5', 'StandardScaler', 'LSTM']\n",
      "Reykjavik Airport\n"
     ]
    },
    {
     "name": "stderr",
     "output_type": "stream",
     "text": [
      "C:\\Users\\DELL\\AppData\\Local\\Temp\\ipykernel_15528\\2216484155.py:9: SettingWithCopyWarning: \n",
      "A value is trying to be set on a copy of a slice from a DataFrame\n",
      "\n",
      "See the caveats in the documentation: https://pandas.pydata.org/pandas-docs/stable/user_guide/indexing.html#returning-a-view-versus-a-copy\n",
      "  city_df.drop(columns=['location','country','latitude','longitude','generationtime_ms','elevation','Date'],inplace=True)\n"
     ]
    },
    {
     "name": "stdout",
     "output_type": "stream",
     "text": [
      "10/10 [==============================] - 0s 1ms/step\n",
      "['Iceland', 'Reykjavik Airport', 1.7404935118552625, 2.1163923071965636, 0.6808902734932925, 6.784847064236707, 'fold_1', 'StandardScaler', 'LSTM']\n",
      "10/10 [==============================] - 0s 1ms/step\n",
      "['Iceland', 'Reykjavik Airport', 1.5318953326848002, 2.24904373705061, 0.790833750713173, 6.538827296746068, 'fold_2', 'StandardScaler', 'LSTM']\n",
      "10/10 [==============================] - 0s 1ms/step\n",
      "['Iceland', 'Reykjavik Airport', 2.4498669513284335, 3.018670755129543, 0.7277313707665201, 9.789751681469319, 'fold_3', 'StandardScaler', 'LSTM']\n",
      "10/10 [==============================] - 0s 1ms/step\n",
      "['Iceland', 'Reykjavik Airport', 4.12508683553025, 4.871984511568526, -0.12292040705787688, 17.586753965080344, 'fold_4', 'StandardScaler', 'LSTM']\n",
      "10/10 [==============================] - 0s 1ms/step\n",
      "['Iceland', 'Reykjavik Airport', 3.5079190219374015, 4.304337105518171, 0.37422206357609, 13.664615889797204, 'fold_5', 'StandardScaler', 'LSTM']\n",
      "Rome\n"
     ]
    },
    {
     "name": "stderr",
     "output_type": "stream",
     "text": [
      "C:\\Users\\DELL\\AppData\\Local\\Temp\\ipykernel_15528\\2216484155.py:9: SettingWithCopyWarning: \n",
      "A value is trying to be set on a copy of a slice from a DataFrame\n",
      "\n",
      "See the caveats in the documentation: https://pandas.pydata.org/pandas-docs/stable/user_guide/indexing.html#returning-a-view-versus-a-copy\n",
      "  city_df.drop(columns=['location','country','latitude','longitude','generationtime_ms','elevation','Date'],inplace=True)\n"
     ]
    },
    {
     "name": "stdout",
     "output_type": "stream",
     "text": [
      "10/10 [==============================] - 0s 1ms/step\n",
      "['Italy', 'Rome', 2.230379879271211, 3.1315865238758342, 0.9101842383969201, 6.883152531577444, 'fold_1', 'StandardScaler', 'LSTM']\n",
      "10/10 [==============================] - 0s 1ms/step\n",
      "['Italy', 'Rome', 1.8796442436845335, 2.3710980640142956, 0.906941496169102, 6.5255771630142, 'fold_2', 'StandardScaler', 'LSTM']\n",
      "10/10 [==============================] - 0s 1ms/step\n",
      "['Italy', 'Rome', 2.1157473276739243, 2.5876260231111097, 0.9355764636927494, 7.711258483526468, 'fold_3', 'StandardScaler', 'LSTM']\n",
      "10/10 [==============================] - 0s 1ms/step\n",
      "['Italy', 'Rome', 3.4808040253103587, 4.194673905947606, 0.8824422888763255, 11.824671336097014, 'fold_4', 'StandardScaler', 'LSTM']\n",
      "10/10 [==============================] - 0s 1ms/step\n",
      "['Italy', 'Rome', 2.6363665633005633, 3.317817765277724, 0.8822113733572235, 8.256195701153821, 'fold_5', 'StandardScaler', 'LSTM']\n",
      "Stockholm\n"
     ]
    },
    {
     "name": "stderr",
     "output_type": "stream",
     "text": [
      "C:\\Users\\DELL\\AppData\\Local\\Temp\\ipykernel_15528\\2216484155.py:9: SettingWithCopyWarning: \n",
      "A value is trying to be set on a copy of a slice from a DataFrame\n",
      "\n",
      "See the caveats in the documentation: https://pandas.pydata.org/pandas-docs/stable/user_guide/indexing.html#returning-a-view-versus-a-copy\n",
      "  city_df.drop(columns=['location','country','latitude','longitude','generationtime_ms','elevation','Date'],inplace=True)\n"
     ]
    },
    {
     "name": "stdout",
     "output_type": "stream",
     "text": [
      "10/10 [==============================] - 0s 1ms/step\n",
      "['Sewden', 'Stockholm', 1.646204332171583, 2.1127389871810833, 0.8628265335713573, 7.430748962967093, 'fold_1', 'StandardScaler', 'LSTM']\n",
      "10/10 [==============================] - 0s 2ms/step\n",
      "['Sewden', 'Stockholm', 1.275312748129509, 1.8603701052983765, 0.9057530851858135, 5.660562278649059, 'fold_2', 'StandardScaler', 'LSTM']\n",
      "10/10 [==============================] - 0s 1ms/step\n",
      "['Sewden', 'Stockholm', 1.9346277017027271, 2.5187745746247634, 0.8352306517653836, 9.05640991301776, 'fold_3', 'StandardScaler', 'LSTM']\n",
      "10/10 [==============================] - 0s 1ms/step\n",
      "['Sewden', 'Stockholm', 1.7203786460231976, 2.220353747964144, 0.7566364772429865, 8.210152830542018, 'fold_4', 'StandardScaler', 'LSTM']\n",
      "10/10 [==============================] - 0s 1ms/step\n",
      "['Sewden', 'Stockholm', 1.7267678894408762, 2.155301141706527, 0.7838432137587855, 7.193099785760805, 'fold_5', 'StandardScaler', 'LSTM']\n",
      "bern\n"
     ]
    },
    {
     "name": "stderr",
     "output_type": "stream",
     "text": [
      "C:\\Users\\DELL\\AppData\\Local\\Temp\\ipykernel_15528\\2216484155.py:9: SettingWithCopyWarning: \n",
      "A value is trying to be set on a copy of a slice from a DataFrame\n",
      "\n",
      "See the caveats in the documentation: https://pandas.pydata.org/pandas-docs/stable/user_guide/indexing.html#returning-a-view-versus-a-copy\n",
      "  city_df.drop(columns=['location','country','latitude','longitude','generationtime_ms','elevation','Date'],inplace=True)\n"
     ]
    },
    {
     "name": "stdout",
     "output_type": "stream",
     "text": [
      "10/10 [==============================] - 0s 1ms/step\n",
      "['Switzerland', 'bern', 1.634879133942727, 2.494590337978656, 0.8760253097759305, 6.049500740129114, 'fold_1', 'StandardScaler', 'LSTM']\n",
      "10/10 [==============================] - 0s 1ms/step\n",
      "['Switzerland', 'bern', 1.9063502664435403, 2.5399917509901058, 0.9133375062085567, 7.677181910194768, 'fold_2', 'StandardScaler', 'LSTM']\n",
      "10/10 [==============================] - 0s 1ms/step\n",
      "['Switzerland', 'bern', 1.6541093310264687, 2.1116825562839536, 0.9337756023318251, 6.732292817412591, 'fold_3', 'StandardScaler', 'LSTM']\n",
      "10/10 [==============================] - 0s 1ms/step\n",
      "['Switzerland', 'bern', 1.880441469688938, 2.3356358111568056, 0.9060801898219207, 7.9086737984493425, 'fold_4', 'StandardScaler', 'LSTM']\n",
      "10/10 [==============================] - 0s 1ms/step\n",
      "['Switzerland', 'bern', 2.886156379360043, 3.3423180986845273, 0.7318627398792175, 11.678098489597138, 'fold_5', 'StandardScaler', 'LSTM']\n",
      "luxembourg findel airport\n"
     ]
    },
    {
     "name": "stderr",
     "output_type": "stream",
     "text": [
      "C:\\Users\\DELL\\AppData\\Local\\Temp\\ipykernel_15528\\2216484155.py:9: SettingWithCopyWarning: \n",
      "A value is trying to be set on a copy of a slice from a DataFrame\n",
      "\n",
      "See the caveats in the documentation: https://pandas.pydata.org/pandas-docs/stable/user_guide/indexing.html#returning-a-view-versus-a-copy\n",
      "  city_df.drop(columns=['location','country','latitude','longitude','generationtime_ms','elevation','Date'],inplace=True)\n"
     ]
    },
    {
     "name": "stdout",
     "output_type": "stream",
     "text": [
      "10/10 [==============================] - 0s 1ms/step\n",
      "['Luxembourg', 'luxembourg findel airport', 1.9870158044687045, 2.9351320409681843, 0.8423222626546643, 7.896868433499919, 'fold_1', 'StandardScaler', 'LSTM']\n",
      "10/10 [==============================] - 0s 1ms/step\n",
      "['Luxembourg', 'luxembourg findel airport', 1.6003158440872962, 1.9794175492226975, 0.9372628385641093, 7.044734027318472, 'fold_2', 'StandardScaler', 'LSTM']\n",
      "10/10 [==============================] - 0s 1ms/step\n",
      "['Luxembourg', 'luxembourg findel airport', 1.9106750477394552, 2.3938696125624745, 0.9134701457344933, 8.46805984701884, 'fold_3', 'StandardScaler', 'LSTM']\n",
      "10/10 [==============================] - 0s 1ms/step\n",
      "['Luxembourg', 'luxembourg findel airport', 1.8934857638459226, 2.2828179362454666, 0.9012408920375168, 8.242608813273181, 'fold_4', 'StandardScaler', 'LSTM']\n",
      "10/10 [==============================] - 0s 994us/step\n",
      "['Luxembourg', 'luxembourg findel airport', 2.8216021812125436, 3.261825168055251, 0.8117984735334283, 11.388545208250147, 'fold_5', 'StandardScaler', 'LSTM']\n"
     ]
    }
   ],
   "source": [
    "summary_value = []\n",
    "detail_value = []\n",
    "\n",
    "for city_ in df['location'].unique():\n",
    "    city_df = df[df['location'] == city_]\n",
    "    country_ = city_df['country'].unique()[0]\n",
    "    \n",
    "    print(city_)\n",
    "    city_df.drop(columns=['location','country','latitude','longitude','generationtime_ms','elevation','Date'],inplace=True)\n",
    "    \n",
    "    target_col = list(city_df)[-1]\n",
    "#     city_df = get_IQR_Operation_value(city_df,target_col)\n",
    "    \n",
    "    X_train_list, X_test_list, y_train_list, y_test_list, date_train_list, date_test_list = get_k_fold_operation_data(city_df, 5)\n",
    "    \n",
    "    k_fold = 1\n",
    "    \n",
    "    mae_list = []\n",
    "    rmse_list = []\n",
    "    r_2_list = []\n",
    "    mape_list = []\n",
    "    \n",
    "    for X_train, X_test, y_train, y_test, date_train, date_test in zip(X_train_list, X_test_list, y_train_list, y_test_list, date_train_list, date_test_list):\n",
    "        for _preprocessing_name in ['StandardScaler']: #'RobustScaler', 'MinMaxScaler' , 'StandardScaler'\n",
    "            \n",
    "            res = []\n",
    "            \n",
    "            mae, rmse, r_2, mape, y_pred = LSTM_Regression(X_train, X_test, y_train, y_test, _preprocessing_name)\n",
    "\n",
    "            res.append(country_)\n",
    "            res.append(city_)\n",
    "            res.append(mae)\n",
    "            res.append(rmse)\n",
    "            res.append(r_2)\n",
    "            res.append(mape)\n",
    "            res.append('fold_' + str(k_fold))\n",
    "            res.append(_preprocessing_name)\n",
    "            res.append('LSTM')\n",
    "            print(res)\n",
    "\n",
    "            full_output = pd.DataFrame({\n",
    "                'actual_value' : y_test,\n",
    "                'predict_value' : y_pred,\n",
    "                'Fold_number' : ['fold_' + str(k_fold)] * len(y_test),\n",
    "                'date' : date_test\n",
    "            })\n",
    "            full_output['city'] = city_\n",
    "            full_output['country'] = country_\n",
    "            full_output['pre-processing name'] = _preprocessing_name\n",
    "            full_output['model_name'] = 'LSTM'\n",
    "\n",
    "            summary_value.append(res)\n",
    "            detail_value.append(full_output)\n",
    "\n",
    "        k_fold = k_fold + 1\n",
    "        \n",
    "        "
   ]
  },
  {
   "cell_type": "code",
   "execution_count": null,
   "id": "faecba4d",
   "metadata": {},
   "outputs": [],
   "source": []
  },
  {
   "cell_type": "code",
   "execution_count": 11,
   "id": "9069ef13",
   "metadata": {},
   "outputs": [],
   "source": [
    "summary_df = pd.DataFrame(summary_value,columns=['Country','City','MAE','RMSE','R2','MAPE','K_Fold','pre-processing name','model_name'])"
   ]
  },
  {
   "cell_type": "code",
   "execution_count": 12,
   "id": "2dc1708c",
   "metadata": {},
   "outputs": [],
   "source": [
    "detail_df = pd.concat(detail_value)"
   ]
  },
  {
   "cell_type": "code",
   "execution_count": 13,
   "id": "1e110b1e",
   "metadata": {},
   "outputs": [],
   "source": [
    "summary_df.to_csv('../_output/AQI_LSTM_Summary_result.csv',index=False)"
   ]
  },
  {
   "cell_type": "code",
   "execution_count": 14,
   "id": "23d0414e",
   "metadata": {},
   "outputs": [],
   "source": [
    "detail_df.to_csv('../_output/AQI_LSTM_Detail_result.csv',index=False)"
   ]
  },
  {
   "cell_type": "code",
   "execution_count": null,
   "id": "2e24505c",
   "metadata": {},
   "outputs": [],
   "source": []
  },
  {
   "cell_type": "code",
   "execution_count": null,
   "id": "1b296917",
   "metadata": {},
   "outputs": [],
   "source": []
  }
 ],
 "metadata": {
  "kernelspec": {
   "display_name": "Python 3 (ipykernel)",
   "language": "python",
   "name": "python3"
  },
  "language_info": {
   "codemirror_mode": {
    "name": "ipython",
    "version": 3
   },
   "file_extension": ".py",
   "mimetype": "text/x-python",
   "name": "python",
   "nbconvert_exporter": "python",
   "pygments_lexer": "ipython3",
   "version": "3.10.9"
  }
 },
 "nbformat": 4,
 "nbformat_minor": 5
}
