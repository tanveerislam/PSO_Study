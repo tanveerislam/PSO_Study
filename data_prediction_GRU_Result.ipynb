{
 "cells": [
  {
   "cell_type": "code",
   "execution_count": 1,
   "id": "d02bb1eb",
   "metadata": {},
   "outputs": [],
   "source": [
    "import pandas as pd\n",
    "import numpy as np\n",
    "import random\n",
    "\n",
    "from sklearn.model_selection import KFold,StratifiedKFold\n",
    "\n",
    "from sklearn.model_selection import train_test_split\n",
    "from sklearn.preprocessing import StandardScaler, MinMaxScaler, Normalizer, PowerTransformer, RobustScaler\n",
    "from sklearn.decomposition import PCA\n",
    "\n",
    "from sklearn.ensemble import GradientBoostingRegressor,RandomForestRegressor,AdaBoostRegressor\n",
    "from sklearn.neighbors import KNeighborsRegressor\n",
    "import xgboost\n",
    "from sklearn.tree import DecisionTreeRegressor\n",
    "from sklearn.linear_model import LinearRegression\n",
    "\n",
    "from keras import Input\n",
    "from tensorflow.keras.models import Sequential\n",
    "from tensorflow.keras.layers import Dense, Dropout\n",
    "from tensorflow.keras.optimizers import Adam\n",
    "from sklearn.metrics import (mean_squared_error,\n",
    "                             r2_score,\n",
    "                             mean_absolute_percentage_error,\n",
    "                             mean_absolute_error\n",
    "                            )\n",
    "\n",
    "from sklearn.pipeline import Pipeline\n",
    "from statsmodels.tsa.api import VAR\n",
    "\n",
    "from sklearn.feature_selection import SelectKBest,f_regression"
   ]
  },
  {
   "cell_type": "code",
   "execution_count": 2,
   "id": "739fb82c",
   "metadata": {},
   "outputs": [],
   "source": [
    "df = pd.read_csv('../../data/dataset/Full_data_File.csv')"
   ]
  },
  {
   "cell_type": "code",
   "execution_count": 3,
   "id": "8beb90ed",
   "metadata": {},
   "outputs": [
    {
     "data": {
      "text/html": [
       "<div>\n",
       "<style scoped>\n",
       "    .dataframe tbody tr th:only-of-type {\n",
       "        vertical-align: middle;\n",
       "    }\n",
       "\n",
       "    .dataframe tbody tr th {\n",
       "        vertical-align: top;\n",
       "    }\n",
       "\n",
       "    .dataframe thead th {\n",
       "        text-align: right;\n",
       "    }\n",
       "</style>\n",
       "<table border=\"1\" class=\"dataframe\">\n",
       "  <thead>\n",
       "    <tr style=\"text-align: right;\">\n",
       "      <th></th>\n",
       "      <th>location</th>\n",
       "      <th>country</th>\n",
       "      <th>latitude</th>\n",
       "      <th>longitude</th>\n",
       "      <th>generationtime_ms</th>\n",
       "      <th>elevation</th>\n",
       "      <th>Date</th>\n",
       "      <th>year</th>\n",
       "      <th>month</th>\n",
       "      <th>day</th>\n",
       "      <th>...</th>\n",
       "      <th>RH</th>\n",
       "      <th>Dew_Point</th>\n",
       "      <th>snowfall</th>\n",
       "      <th>Pressure</th>\n",
       "      <th>wind_speed</th>\n",
       "      <th>wind_direction</th>\n",
       "      <th>wind_gusts</th>\n",
       "      <th>sunshine_duration</th>\n",
       "      <th>direct_radiation</th>\n",
       "      <th>AQI</th>\n",
       "    </tr>\n",
       "  </thead>\n",
       "  <tbody>\n",
       "    <tr>\n",
       "      <th>0</th>\n",
       "      <td>Amsterdam</td>\n",
       "      <td>Netherlands</td>\n",
       "      <td>52.4</td>\n",
       "      <td>4.9</td>\n",
       "      <td>104.943037</td>\n",
       "      <td>14</td>\n",
       "      <td>2021-01-01</td>\n",
       "      <td>2021</td>\n",
       "      <td>1</td>\n",
       "      <td>1</td>\n",
       "      <td>...</td>\n",
       "      <td>92.208333</td>\n",
       "      <td>1.266667</td>\n",
       "      <td>0.0</td>\n",
       "      <td>1006.029167</td>\n",
       "      <td>7.208333</td>\n",
       "      <td>243.250000</td>\n",
       "      <td>11.187500</td>\n",
       "      <td>890.836250</td>\n",
       "      <td>16.208333</td>\n",
       "      <td>65.125000</td>\n",
       "    </tr>\n",
       "    <tr>\n",
       "      <th>1</th>\n",
       "      <td>Amsterdam</td>\n",
       "      <td>Netherlands</td>\n",
       "      <td>52.4</td>\n",
       "      <td>4.9</td>\n",
       "      <td>104.943037</td>\n",
       "      <td>14</td>\n",
       "      <td>2021-01-02</td>\n",
       "      <td>2021</td>\n",
       "      <td>1</td>\n",
       "      <td>2</td>\n",
       "      <td>...</td>\n",
       "      <td>96.708333</td>\n",
       "      <td>1.312500</td>\n",
       "      <td>0.0</td>\n",
       "      <td>1011.245833</td>\n",
       "      <td>6.445833</td>\n",
       "      <td>216.916667</td>\n",
       "      <td>10.283333</td>\n",
       "      <td>937.792917</td>\n",
       "      <td>22.625000</td>\n",
       "      <td>33.291667</td>\n",
       "    </tr>\n",
       "    <tr>\n",
       "      <th>2</th>\n",
       "      <td>Amsterdam</td>\n",
       "      <td>Netherlands</td>\n",
       "      <td>52.4</td>\n",
       "      <td>4.9</td>\n",
       "      <td>104.943037</td>\n",
       "      <td>14</td>\n",
       "      <td>2021-01-03</td>\n",
       "      <td>2021</td>\n",
       "      <td>1</td>\n",
       "      <td>3</td>\n",
       "      <td>...</td>\n",
       "      <td>91.458333</td>\n",
       "      <td>1.229167</td>\n",
       "      <td>0.0</td>\n",
       "      <td>1015.504167</td>\n",
       "      <td>14.333333</td>\n",
       "      <td>52.208333</td>\n",
       "      <td>25.516667</td>\n",
       "      <td>739.805000</td>\n",
       "      <td>17.791667</td>\n",
       "      <td>34.041667</td>\n",
       "    </tr>\n",
       "    <tr>\n",
       "      <th>3</th>\n",
       "      <td>Amsterdam</td>\n",
       "      <td>Netherlands</td>\n",
       "      <td>52.4</td>\n",
       "      <td>4.9</td>\n",
       "      <td>104.943037</td>\n",
       "      <td>14</td>\n",
       "      <td>2021-01-04</td>\n",
       "      <td>2021</td>\n",
       "      <td>1</td>\n",
       "      <td>4</td>\n",
       "      <td>...</td>\n",
       "      <td>86.291667</td>\n",
       "      <td>0.879167</td>\n",
       "      <td>0.0</td>\n",
       "      <td>1017.016667</td>\n",
       "      <td>25.041667</td>\n",
       "      <td>49.375000</td>\n",
       "      <td>45.595833</td>\n",
       "      <td>0.000000</td>\n",
       "      <td>1.041667</td>\n",
       "      <td>19.750000</td>\n",
       "    </tr>\n",
       "    <tr>\n",
       "      <th>4</th>\n",
       "      <td>Amsterdam</td>\n",
       "      <td>Netherlands</td>\n",
       "      <td>52.4</td>\n",
       "      <td>4.9</td>\n",
       "      <td>104.943037</td>\n",
       "      <td>14</td>\n",
       "      <td>2021-01-05</td>\n",
       "      <td>2021</td>\n",
       "      <td>1</td>\n",
       "      <td>5</td>\n",
       "      <td>...</td>\n",
       "      <td>91.125000</td>\n",
       "      <td>1.475000</td>\n",
       "      <td>0.0</td>\n",
       "      <td>1016.929167</td>\n",
       "      <td>18.708333</td>\n",
       "      <td>54.541667</td>\n",
       "      <td>34.145833</td>\n",
       "      <td>46.027083</td>\n",
       "      <td>1.833333</td>\n",
       "      <td>10.166667</td>\n",
       "    </tr>\n",
       "  </tbody>\n",
       "</table>\n",
       "<p>5 rows × 27 columns</p>\n",
       "</div>"
      ],
      "text/plain": [
       "    location      country  latitude  longitude  generationtime_ms  elevation  \\\n",
       "0  Amsterdam  Netherlands      52.4        4.9         104.943037         14   \n",
       "1  Amsterdam  Netherlands      52.4        4.9         104.943037         14   \n",
       "2  Amsterdam  Netherlands      52.4        4.9         104.943037         14   \n",
       "3  Amsterdam  Netherlands      52.4        4.9         104.943037         14   \n",
       "4  Amsterdam  Netherlands      52.4        4.9         104.943037         14   \n",
       "\n",
       "         Date  year  month  day  ...         RH  Dew_Point  snowfall  \\\n",
       "0  2021-01-01  2021      1    1  ...  92.208333   1.266667       0.0   \n",
       "1  2021-01-02  2021      1    2  ...  96.708333   1.312500       0.0   \n",
       "2  2021-01-03  2021      1    3  ...  91.458333   1.229167       0.0   \n",
       "3  2021-01-04  2021      1    4  ...  86.291667   0.879167       0.0   \n",
       "4  2021-01-05  2021      1    5  ...  91.125000   1.475000       0.0   \n",
       "\n",
       "      Pressure  wind_speed  wind_direction  wind_gusts  sunshine_duration  \\\n",
       "0  1006.029167    7.208333      243.250000   11.187500         890.836250   \n",
       "1  1011.245833    6.445833      216.916667   10.283333         937.792917   \n",
       "2  1015.504167   14.333333       52.208333   25.516667         739.805000   \n",
       "3  1017.016667   25.041667       49.375000   45.595833           0.000000   \n",
       "4  1016.929167   18.708333       54.541667   34.145833          46.027083   \n",
       "\n",
       "   direct_radiation        AQI  \n",
       "0         16.208333  65.125000  \n",
       "1         22.625000  33.291667  \n",
       "2         17.791667  34.041667  \n",
       "3          1.041667  19.750000  \n",
       "4          1.833333  10.166667  \n",
       "\n",
       "[5 rows x 27 columns]"
      ]
     },
     "execution_count": 3,
     "metadata": {},
     "output_type": "execute_result"
    }
   ],
   "source": [
    "df.head()"
   ]
  },
  {
   "cell_type": "code",
   "execution_count": null,
   "id": "4bab3839",
   "metadata": {},
   "outputs": [],
   "source": []
  },
  {
   "cell_type": "code",
   "execution_count": 4,
   "id": "eeeabc10",
   "metadata": {},
   "outputs": [
    {
     "data": {
      "text/plain": [
       "(49674, 27)"
      ]
     },
     "execution_count": 4,
     "metadata": {},
     "output_type": "execute_result"
    }
   ],
   "source": [
    "df.shape"
   ]
  },
  {
   "cell_type": "code",
   "execution_count": null,
   "id": "c3b45ac9",
   "metadata": {},
   "outputs": [],
   "source": []
  },
  {
   "cell_type": "code",
   "execution_count": null,
   "id": "90df38d2",
   "metadata": {},
   "outputs": [],
   "source": []
  },
  {
   "cell_type": "code",
   "execution_count": 5,
   "id": "07cf0e34",
   "metadata": {},
   "outputs": [],
   "source": [
    "def get_important_Feature(df):\n",
    "    \n",
    "    def get_train_test(df):\n",
    "        X = df.iloc[:,0:-1]\n",
    "        y = df.iloc[:,-1]\n",
    "\n",
    "        X = MinMaxScaler().fit_transform(X)\n",
    "        X_train, X_test, y_train, y_test = train_test_split(X, y, test_size=0.2, random_state=42)\n",
    "\n",
    "        return X_train, X_test, y_train, y_test\n",
    "    \n",
    "    def fitness_function(selected_features, X_train, X_test, y_train, y_test):\n",
    "        # Select features based on the particle's position\n",
    "        selected_features = np.array(selected_features, dtype=bool)\n",
    "        if not any(selected_features):  # Avoid empty feature selection\n",
    "            return float('inf')  # Assign a very high MSE\n",
    "\n",
    "        X_train_selected = X_train[:, selected_features]\n",
    "        X_test_selected = X_test[:, selected_features]\n",
    "\n",
    "        # Train a regression model\n",
    "        model = DecisionTreeRegressor(random_state=42)\n",
    "        model.fit(X_train_selected, y_train)\n",
    "        predictions = model.predict(X_test_selected)\n",
    "\n",
    "        # Calculate and return MSE\n",
    "        mse = mean_squared_error(y_test, predictions)\n",
    "        return mse\n",
    "    \n",
    "    def pso_feature_selection(n_particles, n_iterations, n_features, df):\n",
    "        # Initialize particles\n",
    "        particles = [np.random.choice([0, 1], size=n_features) for _ in range(n_particles)]\n",
    "        velocities = [np.random.uniform(-1, 1, size=n_features) for _ in range(n_particles)]\n",
    "        personal_best_positions = particles.copy()\n",
    "        personal_best_scores = [float('inf')] * n_particles\n",
    "        global_best_position = None\n",
    "        global_best_score = float('inf')\n",
    "\n",
    "        X_train, X_test, y_train, y_test = get_train_test(df)\n",
    "\n",
    "        # PSO loop\n",
    "        for iteration in range(n_iterations):\n",
    "            for i, particle in enumerate(particles):\n",
    "                # Evaluate fitness\n",
    "                mse = fitness_function(particle, X_train, X_test, y_train, y_test)\n",
    "\n",
    "                # Update personal best\n",
    "                if mse < personal_best_scores[i]:\n",
    "                    personal_best_scores[i] = mse\n",
    "                    personal_best_positions[i] = particle.copy()\n",
    "\n",
    "                # Update global best\n",
    "                if mse < global_best_score:\n",
    "                    global_best_score = mse\n",
    "                    global_best_position = particle.copy()\n",
    "\n",
    "            # Update particle velocities and positions\n",
    "            for i, particle in enumerate(particles):\n",
    "                r1, r2 = np.random.rand(n_features), np.random.rand(n_features)\n",
    "                cognitive = r1 * (personal_best_positions[i] - particle)\n",
    "                social = r2 * (global_best_position - particle)\n",
    "                velocities[i] = 0.5 * velocities[i] + 1.5 * cognitive + 1.5 * social\n",
    "                particles[i] = np.where(np.random.rand(n_features) < 1 / (1 + np.exp(-velocities[i])), 1, 0)  # Sigmoid activation\n",
    "\n",
    "            # Print progress\n",
    "#             print(f\"Iteration {iteration+1}/{n_iterations}, Best MSE: {global_best_score}\")\n",
    "\n",
    "        return global_best_position, global_best_score\n",
    "\n",
    "\n",
    "\n",
    "    n_particles = 20\n",
    "    n_iterations = 50\n",
    "    n_features = len(list(df)) - 1\n",
    "\n",
    "    # Run PSO\n",
    "    best_features, best_score = pso_feature_selection(n_particles, n_iterations, n_features, df)\n",
    "\n",
    "    best_feature_list = []\n",
    "    for name_, flag in zip(list(df)[:-1],best_features):\n",
    "        if flag == 1:\n",
    "            best_feature_list.append(name_)\n",
    "    best_feature_list.append(list(df)[-1])\n",
    "    return df[best_feature_list], best_feature_list"
   ]
  },
  {
   "cell_type": "code",
   "execution_count": null,
   "id": "74ab9a64",
   "metadata": {},
   "outputs": [],
   "source": []
  },
  {
   "cell_type": "code",
   "execution_count": null,
   "id": "8ec1ca8f",
   "metadata": {},
   "outputs": [],
   "source": []
  },
  {
   "cell_type": "code",
   "execution_count": null,
   "id": "96b42acd",
   "metadata": {},
   "outputs": [],
   "source": []
  },
  {
   "cell_type": "code",
   "execution_count": 6,
   "id": "3ca533cc",
   "metadata": {},
   "outputs": [],
   "source": [
    "def get_k_fold_operation_data_proposed_approach(df, date_, cv):\n",
    "    \n",
    "    df = pd.DataFrame(df)\n",
    "    colLen = len(list(df))\n",
    "\n",
    "    X = df.values[:, 0:colLen - 1]\n",
    "    y = df.values[:, colLen - 1]\n",
    "    \n",
    "    \n",
    "    X_train_list = []\n",
    "    X_test_list = []\n",
    "    y_train_list = []\n",
    "    y_test_list = []\n",
    "    date_train_list = []\n",
    "    date_test_list = []\n",
    "    \n",
    "    kf = KFold(n_splits=cv)\n",
    "    \n",
    "    for train_index,test_index in kf.split(X,y):\n",
    "        X_train, X_test, y_train, y_test, date_train, date_test  = X[train_index], X[test_index], y[train_index], y[test_index], date_[train_index], date_[test_index]\n",
    "        \n",
    "        X_train_list.append(X_train)\n",
    "        X_test_list.append(X_test)\n",
    "        y_train_list.append(y_train)\n",
    "        y_test_list.append(y_test)\n",
    "        \n",
    "        date_train_list.append(date_train)\n",
    "        date_test_list.append(date_test)\n",
    "        \n",
    "    \n",
    "        \n",
    "    return X_train_list, X_test_list, y_train_list, y_test_list, date_train_list, date_test_list"
   ]
  },
  {
   "cell_type": "code",
   "execution_count": null,
   "id": "5b100da6",
   "metadata": {},
   "outputs": [],
   "source": []
  },
  {
   "cell_type": "code",
   "execution_count": null,
   "id": "53575081",
   "metadata": {},
   "outputs": [],
   "source": []
  },
  {
   "cell_type": "code",
   "execution_count": 7,
   "id": "355eaf5f",
   "metadata": {},
   "outputs": [],
   "source": [
    "def get_IQR_Operation_value(df, col, cv):\n",
    "    \n",
    "    S_B = df.shape[0]\n",
    "    \n",
    "    Q1 = df['AQI'].quantile(0.25)\n",
    "    Q3 = df['AQI'].quantile(0.75)\n",
    "\n",
    "    # Calculate IQR\n",
    "    IQR = Q3 - Q1\n",
    "\n",
    "    lower_bound = Q1 - 1.0 * IQR\n",
    "    upper_bound = Q3 + 1.75 * IQR\n",
    "    \n",
    "    print(lower_bound,upper_bound)\n",
    "    \n",
    "#     df = df.loc[(df['AQI'] <= upper_bound) & (df['AQI'] >= lower_bound)]\n",
    "    date_ = pd.to_datetime(dict(year=df.year, month=df.month, day=df.day)).values\n",
    "    df, impt_col = get_important_Feature(df)\n",
    "\n",
    "    X_train_list, \\\n",
    "    X_test_list, \\\n",
    "    y_train_list, \\\n",
    "    y_test_list, \\\n",
    "    date_train_list, \\\n",
    "    date_test_list = get_k_fold_operation_data_proposed_approach(df, date_, cv)\n",
    "    \n",
    "    S_A = df.shape[0]\n",
    "    \n",
    "    diff = S_B - S_A\n",
    "    \n",
    "    return X_train_list, X_test_list, y_train_list, y_test_list, date_train_list, date_test_list, diff, impt_col\n",
    "    "
   ]
  },
  {
   "cell_type": "code",
   "execution_count": null,
   "id": "966b120d",
   "metadata": {},
   "outputs": [],
   "source": []
  },
  {
   "cell_type": "code",
   "execution_count": null,
   "id": "c10c4b36",
   "metadata": {},
   "outputs": [],
   "source": []
  },
  {
   "cell_type": "code",
   "execution_count": null,
   "id": "f6d0206e",
   "metadata": {},
   "outputs": [],
   "source": []
  },
  {
   "cell_type": "code",
   "execution_count": null,
   "id": "58dd339b",
   "metadata": {},
   "outputs": [],
   "source": []
  },
  {
   "cell_type": "code",
   "execution_count": 8,
   "id": "aad6ea6c",
   "metadata": {},
   "outputs": [],
   "source": [
    "def get_k_fold_operation_data(df, cv):\n",
    "    \n",
    "    df = pd.DataFrame(df)\n",
    "    colLen = len(list(df))\n",
    "\n",
    "    X = df.values[:, 0:colLen - 1]\n",
    "    y = df.values[:, colLen - 1]\n",
    "    date_ = pd.to_datetime(dict(year=df.year, month=df.month, day=df.day)).values\n",
    "    \n",
    "    \n",
    "    X_train_list = []\n",
    "    X_test_list = []\n",
    "    y_train_list = []\n",
    "    y_test_list = []\n",
    "    date_train_list = []\n",
    "    date_test_list = []\n",
    "    \n",
    "    kf = KFold(n_splits=cv)\n",
    "    \n",
    "    for train_index,test_index in kf.split(X,y):\n",
    "        X_train, X_test, y_train, y_test, date_train, date_test  = X[train_index], X[test_index], y[train_index], y[test_index], date_[train_index], date_[test_index]\n",
    "        \n",
    "        X_train_list.append(X_train)\n",
    "        X_test_list.append(X_test)\n",
    "        y_train_list.append(y_train)\n",
    "        y_test_list.append(y_test)\n",
    "        \n",
    "        date_train_list.append(date_train)\n",
    "        date_test_list.append(date_test)\n",
    "        \n",
    "    \n",
    "        \n",
    "    return X_train_list, X_test_list, y_train_list, y_test_list, date_train_list, date_test_list"
   ]
  },
  {
   "cell_type": "code",
   "execution_count": null,
   "id": "28fa5d5e",
   "metadata": {},
   "outputs": [],
   "source": []
  },
  {
   "cell_type": "code",
   "execution_count": null,
   "id": "1324c4d1",
   "metadata": {},
   "outputs": [],
   "source": []
  },
  {
   "cell_type": "code",
   "execution_count": 9,
   "id": "90b41eea",
   "metadata": {},
   "outputs": [],
   "source": [
    "from tensorflow.keras.models import Sequential\n",
    "from tensorflow.keras.layers import GRU, Dense, Input\n",
    "from tensorflow.keras.optimizers import Adam\n",
    "from sklearn.metrics import mean_absolute_error, mean_squared_error, r2_score, mean_absolute_percentage_error\n",
    "from sklearn.preprocessing import StandardScaler, Normalizer, MinMaxScaler, PowerTransformer, RobustScaler\n",
    "import numpy as np\n",
    "import tensorflow as tf\n",
    "\n",
    "def GRU_Regression(X_train, X_test, y_train, y_test, scaler_name):\n",
    "    # Initialize the scaler\n",
    "    scaler = None\n",
    "    if scaler_name == 'StandardScaler':\n",
    "        scaler = StandardScaler()\n",
    "    elif scaler_name == 'Normalizer':\n",
    "        scaler = Normalizer()\n",
    "    elif scaler_name == 'MinMaxScaler':\n",
    "        scaler = MinMaxScaler()\n",
    "    elif scaler_name == 'PowerTransformer':\n",
    "        scaler = PowerTransformer(method='yeo-johnson')\n",
    "    elif scaler_name == 'RobustScaler':\n",
    "        scaler = RobustScaler()\n",
    "\n",
    "    # Apply scaling\n",
    "    if scaler_name == 'not_processing':\n",
    "        X_train_scaled = X_train\n",
    "        X_test_scaled = X_test\n",
    "    else:\n",
    "        X_train_scaled = scaler.fit_transform(X_train)\n",
    "        X_test_scaled = scaler.transform(X_test)\n",
    "    \n",
    "    # Reshape input data for GRU (samples, timesteps, features)\n",
    "    X_train_scaled = X_train_scaled.reshape((X_train_scaled.shape[0], 1, X_train_scaled.shape[1]))\n",
    "    X_test_scaled = X_test_scaled.reshape((X_test_scaled.shape[0], 1, X_test_scaled.shape[1]))\n",
    "\n",
    "    # Set random seeds for reproducibility\n",
    "    np.random.seed(1)\n",
    "    tf.keras.utils.set_random_seed(1)\n",
    "\n",
    "    # Build the GRU model\n",
    "    def build_gru(input_shape):\n",
    "        model = Sequential([\n",
    "            Input(shape=input_shape),\n",
    "            GRU(64, activation='relu', return_sequences=True),\n",
    "            GRU(32, activation='relu'),\n",
    "            Dense(1, activation='linear')  # Regression output layer\n",
    "        ])\n",
    "        model.compile(optimizer=Adam(learning_rate=0.001), loss='mse')\n",
    "        return model\n",
    "\n",
    "    gru_model = build_gru((X_train_scaled.shape[1], X_train_scaled.shape[2]))\n",
    "\n",
    "    # Train the GRU model\n",
    "    gru_model.fit(X_train_scaled, y_train, epochs=50, batch_size=32, validation_split=0.2, verbose=0)\n",
    "\n",
    "    # Predict using the GRU model\n",
    "    y_pred = gru_model.predict(X_test_scaled).flatten()\n",
    "\n",
    "    # Evaluate the model\n",
    "    mae = mean_absolute_error(y_test, y_pred)\n",
    "    rmse = np.sqrt(mean_squared_error(y_test, y_pred))\n",
    "    r_2 = r2_score(y_test, y_pred)\n",
    "    mape = mean_absolute_percentage_error(y_test, y_pred) * 100\n",
    "\n",
    "    return mae, rmse, r_2, mape, y_pred\n"
   ]
  },
  {
   "cell_type": "code",
   "execution_count": null,
   "id": "73ccccdd",
   "metadata": {},
   "outputs": [],
   "source": []
  },
  {
   "cell_type": "code",
   "execution_count": 10,
   "id": "5ec6d4f5",
   "metadata": {},
   "outputs": [
    {
     "name": "stdout",
     "output_type": "stream",
     "text": [
      "Amsterdam\n"
     ]
    },
    {
     "name": "stderr",
     "output_type": "stream",
     "text": [
      "C:\\Users\\DELL\\AppData\\Local\\Temp\\ipykernel_8948\\2602270106.py:9: SettingWithCopyWarning: \n",
      "A value is trying to be set on a copy of a slice from a DataFrame\n",
      "\n",
      "See the caveats in the documentation: https://pandas.pydata.org/pandas-docs/stable/user_guide/indexing.html#returning-a-view-versus-a-copy\n",
      "  city_df.drop(columns=['location','country','latitude','longitude','generationtime_ms','elevation','Date'],inplace=True)\n"
     ]
    },
    {
     "name": "stdout",
     "output_type": "stream",
     "text": [
      "10/10 [==============================] - 0s 1ms/step\n",
      "['Netherlands', 'Amsterdam', 1.1445713715884196, 1.4937299773992698, 0.9675191625082006, 4.648965512237127, 'fold_1', 'StandardScaler', 'GRU']\n",
      "10/10 [==============================] - 0s 1ms/step\n",
      "['Netherlands', 'Amsterdam', 1.1447487835470398, 1.5126915420043159, 0.9770633143996257, 4.754560989139997, 'fold_2', 'StandardScaler', 'GRU']\n",
      "10/10 [==============================] - 0s 958us/step\n",
      "['Netherlands', 'Amsterdam', 1.1988359923776424, 1.574353440638076, 0.9687339075280654, 4.937538039401339, 'fold_3', 'StandardScaler', 'GRU']\n",
      "10/10 [==============================] - 0s 1ms/step\n",
      "['Netherlands', 'Amsterdam', 1.3286340127796887, 1.724435436960069, 0.9432423948741446, 5.876213912789383, 'fold_4', 'StandardScaler', 'GRU']\n",
      "10/10 [==============================] - 0s 1ms/step\n",
      "['Netherlands', 'Amsterdam', 1.455102010404683, 1.840543826581489, 0.9566662370780725, 5.726627392185194, 'fold_5', 'StandardScaler', 'GRU']\n",
      "Athens\n"
     ]
    },
    {
     "name": "stderr",
     "output_type": "stream",
     "text": [
      "C:\\Users\\DELL\\AppData\\Local\\Temp\\ipykernel_8948\\2602270106.py:9: SettingWithCopyWarning: \n",
      "A value is trying to be set on a copy of a slice from a DataFrame\n",
      "\n",
      "See the caveats in the documentation: https://pandas.pydata.org/pandas-docs/stable/user_guide/indexing.html#returning-a-view-versus-a-copy\n",
      "  city_df.drop(columns=['location','country','latitude','longitude','generationtime_ms','elevation','Date'],inplace=True)\n"
     ]
    },
    {
     "name": "stdout",
     "output_type": "stream",
     "text": [
      "10/10 [==============================] - 0s 1ms/step\n",
      "['Greece', 'Athens', 1.4792050219504362, 1.8959547036556879, 0.9659878722798715, 4.047543521341114, 'fold_1', 'StandardScaler', 'GRU']\n",
      "10/10 [==============================] - 0s 1ms/step\n",
      "['Greece', 'Athens', 1.50848530852087, 1.8759878362172837, 0.9549470378911326, 4.470924336565601, 'fold_2', 'StandardScaler', 'GRU']\n",
      "10/10 [==============================] - 0s 2ms/step\n",
      "['Greece', 'Athens', 1.7424459065476503, 3.1365113695420015, 0.8987251695983054, 5.3705861863944815, 'fold_3', 'StandardScaler', 'GRU']\n",
      "10/10 [==============================] - 0s 1ms/step\n",
      "['Greece', 'Athens', 1.901026534163244, 2.4832225326770847, 0.913011533779423, 5.769381076817136, 'fold_4', 'StandardScaler', 'GRU']\n",
      "10/10 [==============================] - 0s 1ms/step\n",
      "['Greece', 'Athens', 1.7328248524774696, 2.3028008183499304, 0.9457381721107031, 5.060414703587226, 'fold_5', 'StandardScaler', 'GRU']\n",
      "Barcelona\n"
     ]
    },
    {
     "name": "stderr",
     "output_type": "stream",
     "text": [
      "C:\\Users\\DELL\\AppData\\Local\\Temp\\ipykernel_8948\\2602270106.py:9: SettingWithCopyWarning: \n",
      "A value is trying to be set on a copy of a slice from a DataFrame\n",
      "\n",
      "See the caveats in the documentation: https://pandas.pydata.org/pandas-docs/stable/user_guide/indexing.html#returning-a-view-versus-a-copy\n",
      "  city_df.drop(columns=['location','country','latitude','longitude','generationtime_ms','elevation','Date'],inplace=True)\n"
     ]
    },
    {
     "name": "stdout",
     "output_type": "stream",
     "text": [
      "10/10 [==============================] - 0s 1ms/step\n",
      "['Spain', 'Barcelona', 1.5485307977739324, 1.9964007366828846, 0.9487709979093383, 4.977493897312067, 'fold_1', 'StandardScaler', 'GRU']\n",
      "10/10 [==============================] - 0s 1ms/step\n",
      "['Spain', 'Barcelona', 1.2727160736850405, 1.7705422999426172, 0.9757735830057789, 3.8514163774547057, 'fold_2', 'StandardScaler', 'GRU']\n",
      "10/10 [==============================] - 0s 2ms/step\n",
      "['Spain', 'Barcelona', 1.4212435434942372, 4.494233730381473, 0.8741422387716555, 4.675989729624024, 'fold_3', 'StandardScaler', 'GRU']\n",
      "10/10 [==============================] - 0s 1ms/step\n",
      "['Spain', 'Barcelona', 1.9695125257587858, 2.416128291469528, 0.9659687403054903, 6.224994465152144, 'fold_4', 'StandardScaler', 'GRU']\n",
      "10/10 [==============================] - 0s 1ms/step\n",
      "['Spain', 'Barcelona', 2.2402361985210963, 2.732478032262177, 0.913127980176496, 7.38364785983086, 'fold_5', 'StandardScaler', 'GRU']\n",
      "Berlin\n"
     ]
    },
    {
     "name": "stderr",
     "output_type": "stream",
     "text": [
      "C:\\Users\\DELL\\AppData\\Local\\Temp\\ipykernel_8948\\2602270106.py:9: SettingWithCopyWarning: \n",
      "A value is trying to be set on a copy of a slice from a DataFrame\n",
      "\n",
      "See the caveats in the documentation: https://pandas.pydata.org/pandas-docs/stable/user_guide/indexing.html#returning-a-view-versus-a-copy\n",
      "  city_df.drop(columns=['location','country','latitude','longitude','generationtime_ms','elevation','Date'],inplace=True)\n"
     ]
    },
    {
     "name": "stdout",
     "output_type": "stream",
     "text": [
      "10/10 [==============================] - 0s 2ms/step\n",
      "['Germany', 'Berlin', 1.4276378976607083, 2.222277857495228, 0.9479581679225206, 5.064723921003371, 'fold_1', 'StandardScaler', 'GRU']\n",
      "10/10 [==============================] - 0s 974us/step\n",
      "['Germany', 'Berlin', 0.9896449204449237, 1.2810586496010652, 0.9857149055813959, 3.6686184266823054, 'fold_2', 'StandardScaler', 'GRU']\n",
      "10/10 [==============================] - 0s 1ms/step\n",
      "['Germany', 'Berlin', 1.5194932369336684, 1.9159442916665061, 0.9698586489888253, 5.970284607113154, 'fold_3', 'StandardScaler', 'GRU']\n",
      "10/10 [==============================] - 0s 1ms/step\n",
      "['Germany', 'Berlin', 1.2701375538900017, 1.6252485216423325, 0.956551633923911, 5.491531474137413, 'fold_4', 'StandardScaler', 'GRU']\n",
      "10/10 [==============================] - 0s 1ms/step\n",
      "['Germany', 'Berlin', 1.4343700245635156, 1.7045567463917954, 0.9545919240428015, 5.540174164890776, 'fold_5', 'StandardScaler', 'GRU']\n",
      "Bruges\n"
     ]
    },
    {
     "name": "stderr",
     "output_type": "stream",
     "text": [
      "C:\\Users\\DELL\\AppData\\Local\\Temp\\ipykernel_8948\\2602270106.py:9: SettingWithCopyWarning: \n",
      "A value is trying to be set on a copy of a slice from a DataFrame\n",
      "\n",
      "See the caveats in the documentation: https://pandas.pydata.org/pandas-docs/stable/user_guide/indexing.html#returning-a-view-versus-a-copy\n",
      "  city_df.drop(columns=['location','country','latitude','longitude','generationtime_ms','elevation','Date'],inplace=True)\n"
     ]
    },
    {
     "name": "stdout",
     "output_type": "stream",
     "text": [
      "10/10 [==============================] - 0s 2ms/step\n",
      "['Belgium', 'Bruges', 1.3944288846168915, 1.8844753153143265, 0.9627376139663574, 5.2125335124621754, 'fold_1', 'StandardScaler', 'GRU']\n",
      "10/10 [==============================] - 0s 895us/step\n",
      "['Belgium', 'Bruges', 1.233709067514498, 1.5851628227541015, 0.9819544364383777, 4.579727163478217, 'fold_2', 'StandardScaler', 'GRU']\n",
      "10/10 [==============================] - 0s 1ms/step\n",
      "['Belgium', 'Bruges', 1.2020072610410923, 1.5719134614219583, 0.9791019578731067, 4.383448216736411, 'fold_3', 'StandardScaler', 'GRU']\n",
      "10/10 [==============================] - 0s 1ms/step\n",
      "['Belgium', 'Bruges', 1.3544116150842958, 1.7014788598766077, 0.9412606488784059, 5.549206452911201, 'fold_4', 'StandardScaler', 'GRU']\n",
      "10/10 [==============================] - 0s 1ms/step\n",
      "['Belgium', 'Bruges', 1.3030005263411297, 1.6299395130929812, 0.9723881911228622, 4.993299282811825, 'fold_5', 'StandardScaler', 'GRU']\n",
      "Brussels\n"
     ]
    },
    {
     "name": "stderr",
     "output_type": "stream",
     "text": [
      "C:\\Users\\DELL\\AppData\\Local\\Temp\\ipykernel_8948\\2602270106.py:9: SettingWithCopyWarning: \n",
      "A value is trying to be set on a copy of a slice from a DataFrame\n",
      "\n",
      "See the caveats in the documentation: https://pandas.pydata.org/pandas-docs/stable/user_guide/indexing.html#returning-a-view-versus-a-copy\n",
      "  city_df.drop(columns=['location','country','latitude','longitude','generationtime_ms','elevation','Date'],inplace=True)\n"
     ]
    },
    {
     "name": "stdout",
     "output_type": "stream",
     "text": [
      "10/10 [==============================] - 0s 1ms/step\n",
      "['Belgium', 'Brussels', 1.250303320510396, 1.7142949149834654, 0.972397350736472, 4.631134571213672, 'fold_1', 'StandardScaler', 'GRU']\n",
      "10/10 [==============================] - 0s 1ms/step\n",
      "['Belgium', 'Brussels', 1.0514984217952918, 1.4440134968552665, 0.9839852360529631, 4.237498375583456, 'fold_2', 'StandardScaler', 'GRU']\n",
      "10/10 [==============================] - 0s 1ms/step\n",
      "['Belgium', 'Brussels', 1.2738766376286332, 1.653233415643353, 0.9782745086785583, 5.13167703895242, 'fold_3', 'StandardScaler', 'GRU']\n",
      "10/10 [==============================] - 0s 1ms/step\n",
      "['Belgium', 'Brussels', 1.4671753040731768, 1.882123218357277, 0.9484336603709929, 6.388581850658609, 'fold_4', 'StandardScaler', 'GRU']\n",
      "10/10 [==============================] - 0s 1ms/step\n",
      "['Belgium', 'Brussels', 1.4589661049516238, 1.8358673248653992, 0.9701642257273646, 5.573114153068478, 'fold_5', 'StandardScaler', 'GRU']\n",
      "Budapest\n"
     ]
    },
    {
     "name": "stderr",
     "output_type": "stream",
     "text": [
      "C:\\Users\\DELL\\AppData\\Local\\Temp\\ipykernel_8948\\2602270106.py:9: SettingWithCopyWarning: \n",
      "A value is trying to be set on a copy of a slice from a DataFrame\n",
      "\n",
      "See the caveats in the documentation: https://pandas.pydata.org/pandas-docs/stable/user_guide/indexing.html#returning-a-view-versus-a-copy\n",
      "  city_df.drop(columns=['location','country','latitude','longitude','generationtime_ms','elevation','Date'],inplace=True)\n"
     ]
    },
    {
     "name": "stdout",
     "output_type": "stream",
     "text": [
      "10/10 [==============================] - 0s 1ms/step\n",
      "['Hungary', 'Budapest', 2.275053171845696, 2.8229064546614993, 0.9604450368885112, 6.9957451558521235, 'fold_1', 'StandardScaler', 'GRU']\n",
      "10/10 [==============================] - 0s 1ms/step\n",
      "['Hungary', 'Budapest', 1.1982399056491244, 1.5397283154850143, 0.9906925106696312, 3.760017100900869, 'fold_2', 'StandardScaler', 'GRU']\n",
      "10/10 [==============================] - 0s 1ms/step\n",
      "['Hungary', 'Budapest', 1.4142958170747095, 1.74038593065004, 0.986331405944714, 4.263433089540413, 'fold_3', 'StandardScaler', 'GRU']\n",
      "10/10 [==============================] - 0s 2ms/step\n",
      "['Hungary', 'Budapest', 2.5383967754503356, 3.3924701854073773, 0.9440179123994484, 7.969330643471418, 'fold_4', 'StandardScaler', 'GRU']\n",
      "10/10 [==============================] - 0s 1ms/step\n",
      "['Hungary', 'Budapest', 2.17626417499699, 2.8340587360684455, 0.9635160933645406, 6.550260526270329, 'fold_5', 'StandardScaler', 'GRU']\n",
      "Cluj-Napoca\n"
     ]
    },
    {
     "name": "stderr",
     "output_type": "stream",
     "text": [
      "C:\\Users\\DELL\\AppData\\Local\\Temp\\ipykernel_8948\\2602270106.py:9: SettingWithCopyWarning: \n",
      "A value is trying to be set on a copy of a slice from a DataFrame\n",
      "\n",
      "See the caveats in the documentation: https://pandas.pydata.org/pandas-docs/stable/user_guide/indexing.html#returning-a-view-versus-a-copy\n",
      "  city_df.drop(columns=['location','country','latitude','longitude','generationtime_ms','elevation','Date'],inplace=True)\n"
     ]
    },
    {
     "name": "stdout",
     "output_type": "stream",
     "text": [
      "10/10 [==============================] - 0s 2ms/step\n",
      "['Romania', 'Cluj-Napoca', 1.9442317461397867, 2.469695034903754, 0.9641294421861947, 6.186308545113726, 'fold_1', 'StandardScaler', 'GRU']\n",
      "10/10 [==============================] - 0s 1ms/step\n",
      "['Romania', 'Cluj-Napoca', 1.3212618522992423, 1.686693842256153, 0.9816242665381647, 4.596947520478544, 'fold_2', 'StandardScaler', 'GRU']\n",
      "10/10 [==============================] - 0s 1ms/step\n",
      "['Romania', 'Cluj-Napoca', 1.4668810737731788, 1.956123968072593, 0.9814114136868537, 4.802806260421923, 'fold_3', 'StandardScaler', 'GRU']\n",
      "10/10 [==============================] - 0s 1ms/step\n",
      "['Romania', 'Cluj-Napoca', 2.2799370419489184, 2.6685390392835386, 0.9637157431645892, 7.667858586994263, 'fold_4', 'StandardScaler', 'GRU']\n",
      "10/10 [==============================] - 0s 1ms/step\n",
      "['Romania', 'Cluj-Napoca', 1.8275426250614528, 2.396946094760393, 0.9681236946919071, 5.472761715179764, 'fold_5', 'StandardScaler', 'GRU']\n",
      "Copenhagen\n"
     ]
    },
    {
     "name": "stderr",
     "output_type": "stream",
     "text": [
      "C:\\Users\\DELL\\AppData\\Local\\Temp\\ipykernel_8948\\2602270106.py:9: SettingWithCopyWarning: \n",
      "A value is trying to be set on a copy of a slice from a DataFrame\n",
      "\n",
      "See the caveats in the documentation: https://pandas.pydata.org/pandas-docs/stable/user_guide/indexing.html#returning-a-view-versus-a-copy\n",
      "  city_df.drop(columns=['location','country','latitude','longitude','generationtime_ms','elevation','Date'],inplace=True)\n"
     ]
    },
    {
     "name": "stdout",
     "output_type": "stream",
     "text": [
      "10/10 [==============================] - 0s 2ms/step\n",
      "['Denmark', 'Copenhagen', 1.2220816997402224, 1.630240937203569, 0.9260856775675832, 4.987450006330562, 'fold_1', 'StandardScaler', 'GRU']\n",
      "10/10 [==============================] - 0s 1ms/step\n",
      "['Denmark', 'Copenhagen', 0.9919544605359637, 1.5421284229983072, 0.9572534006080067, 3.9641401537719, 'fold_2', 'StandardScaler', 'GRU']\n",
      "10/10 [==============================] - 0s 1ms/step\n",
      "['Denmark', 'Copenhagen', 0.9732575024643989, 1.2395747584639605, 0.9570859516439956, 4.129474322766084, 'fold_3', 'StandardScaler', 'GRU']\n",
      "10/10 [==============================] - 0s 1ms/step\n",
      "['Denmark', 'Copenhagen', 1.3200422128041585, 1.6706753718838299, 0.9249658308416788, 6.037116480505686, 'fold_4', 'StandardScaler', 'GRU']\n",
      "10/10 [==============================] - 0s 1ms/step\n",
      "['Denmark', 'Copenhagen', 1.5680918998369888, 1.945474263301804, 0.8271897940708941, 6.064652152174116, 'fold_5', 'StandardScaler', 'GRU']\n",
      "Frankfurt Airport\n"
     ]
    },
    {
     "name": "stderr",
     "output_type": "stream",
     "text": [
      "C:\\Users\\DELL\\AppData\\Local\\Temp\\ipykernel_8948\\2602270106.py:9: SettingWithCopyWarning: \n",
      "A value is trying to be set on a copy of a slice from a DataFrame\n",
      "\n",
      "See the caveats in the documentation: https://pandas.pydata.org/pandas-docs/stable/user_guide/indexing.html#returning-a-view-versus-a-copy\n",
      "  city_df.drop(columns=['location','country','latitude','longitude','generationtime_ms','elevation','Date'],inplace=True)\n"
     ]
    },
    {
     "name": "stdout",
     "output_type": "stream",
     "text": [
      "10/10 [==============================] - 0s 1ms/step\n",
      "['Germany', 'Frankfurt Airport', 1.163103918437936, 1.611376749953761, 0.9617673580059474, 4.869713867268407, 'fold_1', 'StandardScaler', 'GRU']\n",
      "10/10 [==============================] - 0s 1ms/step\n",
      "['Germany', 'Frankfurt Airport', 1.0759736370278281, 1.3621367741036505, 0.9690060840536164, 4.438630664595663, 'fold_2', 'StandardScaler', 'GRU']\n",
      "10/10 [==============================] - 0s 1ms/step\n",
      "['Germany', 'Frankfurt Airport', 1.1251303539972868, 1.4548564408836084, 0.974309664338252, 4.888583028503654, 'fold_3', 'StandardScaler', 'GRU']\n",
      "10/10 [==============================] - 0s 1ms/step\n",
      "['Germany', 'Frankfurt Airport', 1.179296749367562, 1.5192859793658497, 0.963818408053834, 5.144481247358197, 'fold_4', 'StandardScaler', 'GRU']\n",
      "10/10 [==============================] - 0s 1ms/step\n",
      "['Germany', 'Frankfurt Airport', 1.3540480060664486, 1.691030647342849, 0.9739025715296791, 5.328011151006307, 'fold_5', 'StandardScaler', 'GRU']\n",
      "Ghent\n"
     ]
    },
    {
     "name": "stderr",
     "output_type": "stream",
     "text": [
      "C:\\Users\\DELL\\AppData\\Local\\Temp\\ipykernel_8948\\2602270106.py:9: SettingWithCopyWarning: \n",
      "A value is trying to be set on a copy of a slice from a DataFrame\n",
      "\n",
      "See the caveats in the documentation: https://pandas.pydata.org/pandas-docs/stable/user_guide/indexing.html#returning-a-view-versus-a-copy\n",
      "  city_df.drop(columns=['location','country','latitude','longitude','generationtime_ms','elevation','Date'],inplace=True)\n"
     ]
    },
    {
     "name": "stdout",
     "output_type": "stream",
     "text": [
      "10/10 [==============================] - 0s 985us/step\n",
      "['Belgium', 'Ghent', 1.62327897480866, 2.1641539626961968, 0.9621084858243547, 5.8548979710994615, 'fold_1', 'StandardScaler', 'GRU']\n",
      "10/10 [==============================] - 0s 1ms/step\n",
      "['Belgium', 'Ghent', 1.233619339389888, 1.5995350101743282, 0.9837415141190645, 4.874015663292529, 'fold_2', 'StandardScaler', 'GRU']\n",
      "10/10 [==============================] - 0s 1ms/step\n",
      "['Belgium', 'Ghent', 1.1663328305771354, 1.5476697867913127, 0.9845417547308642, 4.381063590067959, 'fold_3', 'StandardScaler', 'GRU']\n",
      "10/10 [==============================] - 0s 1ms/step\n",
      "['Belgium', 'Ghent', 1.4441928373624204, 1.8859944263544137, 0.9464372574124225, 6.044783320817489, 'fold_4', 'StandardScaler', 'GRU']\n",
      "10/10 [==============================] - 0s 923us/step\n",
      "['Belgium', 'Ghent', 1.5196892834145193, 1.9698262231183226, 0.968916201184393, 5.715542300835129, 'fold_5', 'StandardScaler', 'GRU']\n",
      "Graz Airport\n"
     ]
    },
    {
     "name": "stderr",
     "output_type": "stream",
     "text": [
      "C:\\Users\\DELL\\AppData\\Local\\Temp\\ipykernel_8948\\2602270106.py:9: SettingWithCopyWarning: \n",
      "A value is trying to be set on a copy of a slice from a DataFrame\n",
      "\n",
      "See the caveats in the documentation: https://pandas.pydata.org/pandas-docs/stable/user_guide/indexing.html#returning-a-view-versus-a-copy\n",
      "  city_df.drop(columns=['location','country','latitude','longitude','generationtime_ms','elevation','Date'],inplace=True)\n"
     ]
    },
    {
     "name": "stdout",
     "output_type": "stream",
     "text": [
      "10/10 [==============================] - 0s 1ms/step\n",
      "['Austria', 'Graz Airport', 1.4346518619611128, 2.126549403966491, 0.9576271768847227, 4.523620439756322, 'fold_1', 'StandardScaler', 'GRU']\n",
      "10/10 [==============================] - 0s 1ms/step\n",
      "['Austria', 'Graz Airport', 1.0644411365735473, 1.4193721248146236, 0.9847233019136713, 3.2282911017712657, 'fold_2', 'StandardScaler', 'GRU']\n",
      "10/10 [==============================] - 0s 1ms/step\n",
      "['Austria', 'Graz Airport', 1.378545401847525, 1.774960872908213, 0.9806651581001173, 4.452170275085185, 'fold_3', 'StandardScaler', 'GRU']\n",
      "10/10 [==============================] - 0s 1ms/step\n",
      "['Austria', 'Graz Airport', 1.2795471829366463, 1.7655688740114321, 0.9806371755882852, 4.211445337129715, 'fold_4', 'StandardScaler', 'GRU']\n",
      "10/10 [==============================] - 0s 1ms/step\n",
      "['Austria', 'Graz Airport', 1.6413378171180482, 2.0188205327178737, 0.9735654168895601, 5.2462532173317715, 'fold_5', 'StandardScaler', 'GRU']\n",
      "Helsinki\n"
     ]
    },
    {
     "name": "stderr",
     "output_type": "stream",
     "text": [
      "C:\\Users\\DELL\\AppData\\Local\\Temp\\ipykernel_8948\\2602270106.py:9: SettingWithCopyWarning: \n",
      "A value is trying to be set on a copy of a slice from a DataFrame\n",
      "\n",
      "See the caveats in the documentation: https://pandas.pydata.org/pandas-docs/stable/user_guide/indexing.html#returning-a-view-versus-a-copy\n",
      "  city_df.drop(columns=['location','country','latitude','longitude','generationtime_ms','elevation','Date'],inplace=True)\n"
     ]
    },
    {
     "name": "stdout",
     "output_type": "stream",
     "text": [
      "10/10 [==============================] - 0s 1ms/step\n",
      "['Finland', 'Helsinki', 1.1039768561839522, 1.431814950441, 0.9359225596334279, 5.318583332288169, 'fold_1', 'StandardScaler', 'GRU']\n",
      "10/10 [==============================] - 0s 1ms/step\n",
      "['Finland', 'Helsinki', 0.9499521070419374, 1.4373307046802577, 0.9273838472727205, 4.400194178328426, 'fold_2', 'StandardScaler', 'GRU']\n",
      "10/10 [==============================] - 0s 1ms/step\n",
      "['Finland', 'Helsinki', 0.9187910317285963, 1.2506085911148448, 0.9614096865051159, 4.753201092783674, 'fold_3', 'StandardScaler', 'GRU']\n",
      "10/10 [==============================] - 0s 2ms/step\n",
      "['Finland', 'Helsinki', 0.9788448505749984, 1.2152806710543953, 0.9333974377358067, 4.941617004096464, 'fold_4', 'StandardScaler', 'GRU']\n",
      "10/10 [==============================] - 0s 1ms/step\n",
      "['Finland', 'Helsinki', 0.9705890008848006, 1.1757753263458512, 0.9364815065637712, 4.2425143419498506, 'fold_5', 'StandardScaler', 'GRU']\n",
      "Isle of Man\n"
     ]
    },
    {
     "name": "stderr",
     "output_type": "stream",
     "text": [
      "C:\\Users\\DELL\\AppData\\Local\\Temp\\ipykernel_8948\\2602270106.py:9: SettingWithCopyWarning: \n",
      "A value is trying to be set on a copy of a slice from a DataFrame\n",
      "\n",
      "See the caveats in the documentation: https://pandas.pydata.org/pandas-docs/stable/user_guide/indexing.html#returning-a-view-versus-a-copy\n",
      "  city_df.drop(columns=['location','country','latitude','longitude','generationtime_ms','elevation','Date'],inplace=True)\n"
     ]
    },
    {
     "name": "stdout",
     "output_type": "stream",
     "text": [
      "10/10 [==============================] - 0s 1ms/step\n",
      "['UK', 'Isle of Man', 1.3525528641962226, 1.8744576404958142, 0.8561329070334884, 5.176319429824681, 'fold_1', 'StandardScaler', 'GRU']\n",
      "10/10 [==============================] - 0s 1ms/step\n",
      "['UK', 'Isle of Man', 1.2337365912520177, 2.057399888885213, 0.8376702830807659, 4.589423705885254, 'fold_2', 'StandardScaler', 'GRU']\n",
      "10/10 [==============================] - 0s 1ms/step\n",
      "['UK', 'Isle of Man', 0.7007812136384449, 0.9587222835409865, 0.9575094134869963, 2.7223779820755856, 'fold_3', 'StandardScaler', 'GRU']\n",
      "10/10 [==============================] - 0s 1ms/step\n",
      "['UK', 'Isle of Man', 1.579962431023654, 1.9214453270997462, 0.8886828570535585, 6.200999455434217, 'fold_4', 'StandardScaler', 'GRU']\n",
      "10/10 [==============================] - 0s 995us/step\n",
      "['UK', 'Isle of Man', 1.1631454724699397, 1.4744973587945998, 0.8775853700579204, 4.188865154123846, 'fold_5', 'StandardScaler', 'GRU']\n",
      "Istanbul Airport\n"
     ]
    },
    {
     "name": "stderr",
     "output_type": "stream",
     "text": [
      "C:\\Users\\DELL\\AppData\\Local\\Temp\\ipykernel_8948\\2602270106.py:9: SettingWithCopyWarning: \n",
      "A value is trying to be set on a copy of a slice from a DataFrame\n",
      "\n",
      "See the caveats in the documentation: https://pandas.pydata.org/pandas-docs/stable/user_guide/indexing.html#returning-a-view-versus-a-copy\n",
      "  city_df.drop(columns=['location','country','latitude','longitude','generationtime_ms','elevation','Date'],inplace=True)\n"
     ]
    },
    {
     "name": "stdout",
     "output_type": "stream",
     "text": [
      "10/10 [==============================] - 0s 1ms/step\n",
      "['Turkey', 'Istanbul Airport', 1.5808953446875391, 1.9537757345671294, 0.9548527138139112, 5.359380588785425, 'fold_1', 'StandardScaler', 'GRU']\n",
      "10/10 [==============================] - 0s 1ms/step\n",
      "['Turkey', 'Istanbul Airport', 1.2631650667756658, 1.7408937247612248, 0.9644638339170685, 4.255692324968612, 'fold_2', 'StandardScaler', 'GRU']\n",
      "10/10 [==============================] - 0s 1ms/step\n",
      "['Turkey', 'Istanbul Airport', 1.1768343350658672, 1.5102447968008947, 0.9688517445957312, 4.162559043047705, 'fold_3', 'StandardScaler', 'GRU']\n",
      "10/10 [==============================] - 0s 1ms/step\n",
      "['Turkey', 'Istanbul Airport', 1.708240586328724, 2.151101132421512, 0.9445129037885482, 5.788478402394741, 'fold_4', 'StandardScaler', 'GRU']\n",
      "10/10 [==============================] - 0s 1ms/step\n",
      "['Turkey', 'Istanbul Airport', 1.3062824811020946, 1.733580227796197, 0.9713619371663976, 3.715853361416336, 'fold_5', 'StandardScaler', 'GRU']\n",
      "Limerick\n"
     ]
    },
    {
     "name": "stderr",
     "output_type": "stream",
     "text": [
      "C:\\Users\\DELL\\AppData\\Local\\Temp\\ipykernel_8948\\2602270106.py:9: SettingWithCopyWarning: \n",
      "A value is trying to be set on a copy of a slice from a DataFrame\n",
      "\n",
      "See the caveats in the documentation: https://pandas.pydata.org/pandas-docs/stable/user_guide/indexing.html#returning-a-view-versus-a-copy\n",
      "  city_df.drop(columns=['location','country','latitude','longitude','generationtime_ms','elevation','Date'],inplace=True)\n"
     ]
    },
    {
     "name": "stdout",
     "output_type": "stream",
     "text": [
      "10/10 [==============================] - 0s 1ms/step\n",
      "['Ireland', 'Limerick', 1.1690372059098417, 1.5897440072916704, 0.9378999432789102, 5.105112818283904, 'fold_1', 'StandardScaler', 'GRU']\n",
      "10/10 [==============================] - 0s 1ms/step\n",
      "['Ireland', 'Limerick', 0.7676218307181578, 1.272990471435305, 0.9610830710254985, 3.288140166041633, 'fold_2', 'StandardScaler', 'GRU']\n",
      "10/10 [==============================] - 0s 1ms/step\n",
      "['Ireland', 'Limerick', 1.1989055681446363, 1.5019032259755694, 0.8859579096163499, 5.255930547810131, 'fold_3', 'StandardScaler', 'GRU']\n",
      "10/10 [==============================] - 0s 1ms/step\n",
      "['Ireland', 'Limerick', 1.2236179086171328, 1.4880536044820503, 0.9225502895530049, 5.392975681503842, 'fold_4', 'StandardScaler', 'GRU']\n",
      "10/10 [==============================] - 0s 1ms/step\n",
      "['Ireland', 'Limerick', 1.4313224243791143, 1.7420341961546926, 0.8515740643917231, 5.961889149299433, 'fold_5', 'StandardScaler', 'GRU']\n",
      "London\n"
     ]
    },
    {
     "name": "stderr",
     "output_type": "stream",
     "text": [
      "C:\\Users\\DELL\\AppData\\Local\\Temp\\ipykernel_8948\\2602270106.py:9: SettingWithCopyWarning: \n",
      "A value is trying to be set on a copy of a slice from a DataFrame\n",
      "\n",
      "See the caveats in the documentation: https://pandas.pydata.org/pandas-docs/stable/user_guide/indexing.html#returning-a-view-versus-a-copy\n",
      "  city_df.drop(columns=['location','country','latitude','longitude','generationtime_ms','elevation','Date'],inplace=True)\n"
     ]
    },
    {
     "name": "stdout",
     "output_type": "stream",
     "text": [
      "10/10 [==============================] - 0s 1ms/step\n",
      "['UK', 'London', 1.2312928341897005, 1.6238170185236358, 0.9721818316889744, 5.133068952396157, 'fold_1', 'StandardScaler', 'GRU']\n",
      "10/10 [==============================] - 0s 1ms/step\n",
      "['UK', 'London', 1.0323839797276886, 1.3301921365927085, 0.9807307487408842, 4.4128222310469445, 'fold_2', 'StandardScaler', 'GRU']\n",
      "10/10 [==============================] - 0s 1ms/step\n",
      "['UK', 'London', 1.098954052685602, 1.499474043915743, 0.9701553742819394, 4.727076952586564, 'fold_3', 'StandardScaler', 'GRU']\n",
      "10/10 [==============================] - 0s 1ms/step\n",
      "['UK', 'London', 1.1962535022056267, 1.5209868395775654, 0.9642913358441093, 5.389722693060692, 'fold_4', 'StandardScaler', 'GRU']\n",
      "10/10 [==============================] - 0s 1ms/step\n",
      "['UK', 'London', 1.291017969993696, 1.6195567605461718, 0.9664681780123054, 5.107368799019653, 'fold_5', 'StandardScaler', 'GRU']\n",
      "Lyon\n"
     ]
    },
    {
     "name": "stderr",
     "output_type": "stream",
     "text": [
      "C:\\Users\\DELL\\AppData\\Local\\Temp\\ipykernel_8948\\2602270106.py:9: SettingWithCopyWarning: \n",
      "A value is trying to be set on a copy of a slice from a DataFrame\n",
      "\n",
      "See the caveats in the documentation: https://pandas.pydata.org/pandas-docs/stable/user_guide/indexing.html#returning-a-view-versus-a-copy\n",
      "  city_df.drop(columns=['location','country','latitude','longitude','generationtime_ms','elevation','Date'],inplace=True)\n"
     ]
    },
    {
     "name": "stdout",
     "output_type": "stream",
     "text": [
      "10/10 [==============================] - 0s 1ms/step\n",
      "['France', 'Lyon', 1.4124456564042895, 1.8462827701515747, 0.972790229977083, 5.5315647192023425, 'fold_1', 'StandardScaler', 'GRU']\n",
      "10/10 [==============================] - 0s 997us/step\n",
      "['France', 'Lyon', 1.2817801188116205, 1.9153411904345428, 0.9801070678818882, 4.507444767829597, 'fold_2', 'StandardScaler', 'GRU']\n",
      "10/10 [==============================] - 0s 1ms/step\n",
      "['France', 'Lyon', 1.2058180554272373, 1.5112399390032787, 0.9857896817536407, 4.721350229551908, 'fold_3', 'StandardScaler', 'GRU']\n",
      "10/10 [==============================] - 0s 1ms/step\n",
      "['France', 'Lyon', 1.2236412834359087, 1.6990665080286762, 0.9785223570439612, 4.972802050734375, 'fold_4', 'StandardScaler', 'GRU']\n",
      "10/10 [==============================] - 0s 1ms/step\n",
      "['France', 'Lyon', 1.3066565609413736, 1.7863469917400427, 0.9791404329463519, 4.444864328767001, 'fold_5', 'StandardScaler', 'GRU']\n",
      "Madrid\n"
     ]
    },
    {
     "name": "stderr",
     "output_type": "stream",
     "text": [
      "C:\\Users\\DELL\\AppData\\Local\\Temp\\ipykernel_8948\\2602270106.py:9: SettingWithCopyWarning: \n",
      "A value is trying to be set on a copy of a slice from a DataFrame\n",
      "\n",
      "See the caveats in the documentation: https://pandas.pydata.org/pandas-docs/stable/user_guide/indexing.html#returning-a-view-versus-a-copy\n",
      "  city_df.drop(columns=['location','country','latitude','longitude','generationtime_ms','elevation','Date'],inplace=True)\n"
     ]
    },
    {
     "name": "stdout",
     "output_type": "stream",
     "text": [
      "10/10 [==============================] - 0s 1ms/step\n",
      "['Spain', 'Madrid', 2.431382579608176, 13.301925945869549, -0.431052560726896, 9.964890435085119, 'fold_1', 'StandardScaler', 'GRU']\n",
      "10/10 [==============================] - 0s 1ms/step\n",
      "['Spain', 'Madrid', 1.5742254191881988, 2.082191919812281, 0.9551906542725136, 5.717065587640218, 'fold_2', 'StandardScaler', 'GRU']\n",
      "10/10 [==============================] - 0s 1ms/step\n",
      "['Spain', 'Madrid', 1.401712202046015, 1.8493870706182527, 0.9409024455705546, 5.051591422206761, 'fold_3', 'StandardScaler', 'GRU']\n",
      "10/10 [==============================] - 0s 1ms/step\n",
      "['Spain', 'Madrid', 1.7471564850306402, 2.511030782892714, 0.9417570077977598, 5.321553669995522, 'fold_4', 'StandardScaler', 'GRU']\n",
      "10/10 [==============================] - 0s 1ms/step\n",
      "['Spain', 'Madrid', 2.570258721913377, 3.423432030374025, 0.8432194859511671, 8.384497928293147, 'fold_5', 'StandardScaler', 'GRU']\n",
      "Marseille\n"
     ]
    },
    {
     "name": "stderr",
     "output_type": "stream",
     "text": [
      "C:\\Users\\DELL\\AppData\\Local\\Temp\\ipykernel_8948\\2602270106.py:9: SettingWithCopyWarning: \n",
      "A value is trying to be set on a copy of a slice from a DataFrame\n",
      "\n",
      "See the caveats in the documentation: https://pandas.pydata.org/pandas-docs/stable/user_guide/indexing.html#returning-a-view-versus-a-copy\n",
      "  city_df.drop(columns=['location','country','latitude','longitude','generationtime_ms','elevation','Date'],inplace=True)\n"
     ]
    },
    {
     "name": "stdout",
     "output_type": "stream",
     "text": [
      "10/10 [==============================] - 0s 1ms/step\n",
      "['France', 'Marseille', 1.0311538448919622, 1.3476001079819386, 0.9628549603065178, 3.601847940631357, 'fold_1', 'StandardScaler', 'GRU']\n",
      "10/10 [==============================] - 0s 1ms/step\n",
      "['France', 'Marseille', 1.2885107906986046, 1.788783515292592, 0.957395397769021, 4.129502483268867, 'fold_2', 'StandardScaler', 'GRU']\n",
      "10/10 [==============================] - 0s 1ms/step\n",
      "['France', 'Marseille', 1.049054370078866, 1.6358576090538768, 0.9680691317722864, 3.7768020458304754, 'fold_3', 'StandardScaler', 'GRU']\n",
      "10/10 [==============================] - 0s 1ms/step\n",
      "['France', 'Marseille', 1.8297822159719246, 2.2145669224407887, 0.911275006372614, 6.732159800969644, 'fold_4', 'StandardScaler', 'GRU']\n",
      "10/10 [==============================] - 0s 1ms/step\n",
      "['France', 'Marseille', 1.3089579425445972, 1.609034410843195, 0.9142854904027826, 4.546985702981312, 'fold_5', 'StandardScaler', 'GRU']\n",
      "Milan\n"
     ]
    },
    {
     "name": "stderr",
     "output_type": "stream",
     "text": [
      "C:\\Users\\DELL\\AppData\\Local\\Temp\\ipykernel_8948\\2602270106.py:9: SettingWithCopyWarning: \n",
      "A value is trying to be set on a copy of a slice from a DataFrame\n",
      "\n",
      "See the caveats in the documentation: https://pandas.pydata.org/pandas-docs/stable/user_guide/indexing.html#returning-a-view-versus-a-copy\n",
      "  city_df.drop(columns=['location','country','latitude','longitude','generationtime_ms','elevation','Date'],inplace=True)\n"
     ]
    },
    {
     "name": "stdout",
     "output_type": "stream",
     "text": [
      "10/10 [==============================] - 0s 1ms/step\n",
      "['Italy', 'Milan', 1.6864090117713826, 2.1019124671789875, 0.988875702798629, 4.167298096151574, 'fold_1', 'StandardScaler', 'GRU']\n",
      "10/10 [==============================] - 0s 1ms/step\n",
      "['Italy', 'Milan', 1.6160404780139668, 2.215433041941908, 0.9876600265079005, 3.7072259762917863, 'fold_2', 'StandardScaler', 'GRU']\n",
      "10/10 [==============================] - 0s 1ms/step\n",
      "['Italy', 'Milan', 1.7908233986597633, 2.3000401995656037, 0.9857680209019967, 4.666043624191289, 'fold_3', 'StandardScaler', 'GRU']\n",
      "10/10 [==============================] - 0s 2ms/step\n",
      "['Italy', 'Milan', 1.993313967909443, 2.5069170174160833, 0.9898538139816943, 5.014043772276578, 'fold_4', 'StandardScaler', 'GRU']\n",
      "10/10 [==============================] - 0s 1ms/step\n",
      "['Italy', 'Milan', 2.088483710267228, 2.78775022256614, 0.9844542487205538, 5.441752839429037, 'fold_5', 'StandardScaler', 'GRU']\n",
      "Moscow\n"
     ]
    },
    {
     "name": "stderr",
     "output_type": "stream",
     "text": [
      "C:\\Users\\DELL\\AppData\\Local\\Temp\\ipykernel_8948\\2602270106.py:9: SettingWithCopyWarning: \n",
      "A value is trying to be set on a copy of a slice from a DataFrame\n",
      "\n",
      "See the caveats in the documentation: https://pandas.pydata.org/pandas-docs/stable/user_guide/indexing.html#returning-a-view-versus-a-copy\n",
      "  city_df.drop(columns=['location','country','latitude','longitude','generationtime_ms','elevation','Date'],inplace=True)\n"
     ]
    },
    {
     "name": "stdout",
     "output_type": "stream",
     "text": [
      "10/10 [==============================] - 0s 1ms/step\n",
      "['Russia', 'Moscow', 1.8419820223516434, 2.3848028594641133, 0.9855008933013901, 3.970771270388904, 'fold_1', 'StandardScaler', 'GRU']\n",
      "10/10 [==============================] - 0s 1ms/step\n",
      "['Russia', 'Moscow', 1.4853774205734736, 1.9330796287014318, 0.9877990206263454, 4.511966489048913, 'fold_2', 'StandardScaler', 'GRU']\n",
      "10/10 [==============================] - 0s 1ms/step\n",
      "['Russia', 'Moscow', 1.499219986946071, 1.869147296594595, 0.988983337558126, 3.898230485466784, 'fold_3', 'StandardScaler', 'GRU']\n",
      "10/10 [==============================] - 0s 1ms/step\n",
      "['Russia', 'Moscow', 1.6602724023061246, 2.1270556090192736, 0.9865447677501815, 4.255059165160945, 'fold_4', 'StandardScaler', 'GRU']\n",
      "10/10 [==============================] - 0s 1ms/step\n",
      "['Russia', 'Moscow', 1.9616949895745548, 2.3754052277872733, 0.9842166324243593, 4.585010449835058, 'fold_5', 'StandardScaler', 'GRU']\n",
      "Munich\n"
     ]
    },
    {
     "name": "stderr",
     "output_type": "stream",
     "text": [
      "C:\\Users\\DELL\\AppData\\Local\\Temp\\ipykernel_8948\\2602270106.py:9: SettingWithCopyWarning: \n",
      "A value is trying to be set on a copy of a slice from a DataFrame\n",
      "\n",
      "See the caveats in the documentation: https://pandas.pydata.org/pandas-docs/stable/user_guide/indexing.html#returning-a-view-versus-a-copy\n",
      "  city_df.drop(columns=['location','country','latitude','longitude','generationtime_ms','elevation','Date'],inplace=True)\n"
     ]
    },
    {
     "name": "stdout",
     "output_type": "stream",
     "text": [
      "10/10 [==============================] - 0s 1ms/step\n",
      "['Germany', 'Munich', 1.0501377823952254, 1.3072869155058395, 0.9600837442922856, 4.219119246515239, 'fold_1', 'StandardScaler', 'GRU']\n",
      "10/10 [==============================] - 0s 1ms/step\n",
      "['Germany', 'Munich', 1.0790487010729366, 1.4712551352956724, 0.9633873470382552, 4.8403728968040465, 'fold_2', 'StandardScaler', 'GRU']\n",
      "10/10 [==============================] - 0s 1ms/step\n",
      "['Germany', 'Munich', 1.1026982782093897, 1.5014718977709858, 0.9632381437170754, 4.595451311578351, 'fold_3', 'StandardScaler', 'GRU']\n",
      "10/10 [==============================] - 0s 1ms/step\n",
      "['Germany', 'Munich', 1.2073922527435161, 1.7869233834419753, 0.9540938958457653, 4.897936381198748, 'fold_4', 'StandardScaler', 'GRU']\n",
      "10/10 [==============================] - 0s 1ms/step\n",
      "['Germany', 'Munich', 1.4941716063512527, 1.7635881546286478, 0.9596171750362272, 5.567873388879726, 'fold_5', 'StandardScaler', 'GRU']\n",
      "Nice\n"
     ]
    },
    {
     "name": "stderr",
     "output_type": "stream",
     "text": [
      "C:\\Users\\DELL\\AppData\\Local\\Temp\\ipykernel_8948\\2602270106.py:9: SettingWithCopyWarning: \n",
      "A value is trying to be set on a copy of a slice from a DataFrame\n",
      "\n",
      "See the caveats in the documentation: https://pandas.pydata.org/pandas-docs/stable/user_guide/indexing.html#returning-a-view-versus-a-copy\n",
      "  city_df.drop(columns=['location','country','latitude','longitude','generationtime_ms','elevation','Date'],inplace=True)\n"
     ]
    },
    {
     "name": "stdout",
     "output_type": "stream",
     "text": [
      "10/10 [==============================] - 0s 1ms/step\n",
      "['France', 'Nice', 1.2456836678740384, 1.8161308887660803, 0.9476326346245072, 4.151522454246763, 'fold_1', 'StandardScaler', 'GRU']\n",
      "10/10 [==============================] - 0s 1ms/step\n",
      "['France', 'Nice', 1.0444951035660697, 1.4613864013063422, 0.9662568417980048, 3.601031689922056, 'fold_2', 'StandardScaler', 'GRU']\n",
      "10/10 [==============================] - 0s 1ms/step\n",
      "['France', 'Nice', 1.7172521761018935, 7.104769707127688, -0.2814663977506502, 7.285806073873546, 'fold_3', 'StandardScaler', 'GRU']\n",
      "10/10 [==============================] - 0s 1ms/step\n",
      "['France', 'Nice', 1.7155197864253764, 2.0670272856459633, 0.9340004819142255, 6.766391433622039, 'fold_4', 'StandardScaler', 'GRU']\n",
      "10/10 [==============================] - 0s 1ms/step\n",
      "['France', 'Nice', 1.838668936463796, 2.152451860022427, 0.8719094006607171, 6.259812701409744, 'fold_5', 'StandardScaler', 'GRU']\n",
      "Nicosia\n"
     ]
    },
    {
     "name": "stderr",
     "output_type": "stream",
     "text": [
      "C:\\Users\\DELL\\AppData\\Local\\Temp\\ipykernel_8948\\2602270106.py:9: SettingWithCopyWarning: \n",
      "A value is trying to be set on a copy of a slice from a DataFrame\n",
      "\n",
      "See the caveats in the documentation: https://pandas.pydata.org/pandas-docs/stable/user_guide/indexing.html#returning-a-view-versus-a-copy\n",
      "  city_df.drop(columns=['location','country','latitude','longitude','generationtime_ms','elevation','Date'],inplace=True)\n"
     ]
    },
    {
     "name": "stdout",
     "output_type": "stream",
     "text": [
      "10/10 [==============================] - 0s 1ms/step\n",
      "['Cyprus', 'Nicosia', 1.6142798847983981, 1.9888528977697848, 0.9577744036351667, 4.1601499631603645, 'fold_1', 'StandardScaler', 'GRU']\n",
      "10/10 [==============================] - 0s 2ms/step\n",
      "['Cyprus', 'Nicosia', 1.4571453991545937, 1.9612353269370404, 0.9558951425674326, 4.0416863759238115, 'fold_2', 'StandardScaler', 'GRU']\n",
      "10/10 [==============================] - 0s 1ms/step\n",
      "['Cyprus', 'Nicosia', 1.3997047176099797, 1.9008376327790346, 0.9331276389661396, 4.048523435677215, 'fold_3', 'StandardScaler', 'GRU']\n",
      "10/10 [==============================] - 0s 1ms/step\n",
      "['Cyprus', 'Nicosia', 2.2509488580433743, 2.76838121979838, 0.9085445452841817, 6.9014370830984175, 'fold_4', 'StandardScaler', 'GRU']\n",
      "10/10 [==============================] - 0s 1ms/step\n",
      "['Cyprus', 'Nicosia', 1.9326022923264874, 2.5362471617373172, 0.9170286080495395, 5.247861268871757, 'fold_5', 'StandardScaler', 'GRU']\n",
      "Oslo\n"
     ]
    },
    {
     "name": "stderr",
     "output_type": "stream",
     "text": [
      "C:\\Users\\DELL\\AppData\\Local\\Temp\\ipykernel_8948\\2602270106.py:9: SettingWithCopyWarning: \n",
      "A value is trying to be set on a copy of a slice from a DataFrame\n",
      "\n",
      "See the caveats in the documentation: https://pandas.pydata.org/pandas-docs/stable/user_guide/indexing.html#returning-a-view-versus-a-copy\n",
      "  city_df.drop(columns=['location','country','latitude','longitude','generationtime_ms','elevation','Date'],inplace=True)\n"
     ]
    },
    {
     "name": "stdout",
     "output_type": "stream",
     "text": [
      "10/10 [==============================] - 0s 2ms/step\n",
      "['Norway', 'Oslo', 0.9495500785905757, 1.2345165062114292, 0.9698637612005754, 4.310109731168174, 'fold_1', 'StandardScaler', 'GRU']\n",
      "10/10 [==============================] - 0s 1ms/step\n",
      "['Norway', 'Oslo', 0.9781780536860634, 1.4018681297044862, 0.9631551788820483, 3.820064241897008, 'fold_2', 'StandardScaler', 'GRU']\n",
      "10/10 [==============================] - 0s 1ms/step\n",
      "['Norway', 'Oslo', 1.032611666204722, 1.3348438110603695, 0.9652472178193989, 4.7984821491645, 'fold_3', 'StandardScaler', 'GRU']\n",
      "10/10 [==============================] - 0s 1ms/step\n",
      "['Norway', 'Oslo', 1.2196927756479339, 1.5771008870109942, 0.9506187763361265, 5.656812098468045, 'fold_4', 'StandardScaler', 'GRU']\n",
      "10/10 [==============================] - 0s 1ms/step\n",
      "['Norway', 'Oslo', 1.4407593071732891, 1.8511401995368006, 0.8803408074586958, 5.901859141301445, 'fold_5', 'StandardScaler', 'GRU']\n",
      "Paris\n"
     ]
    },
    {
     "name": "stderr",
     "output_type": "stream",
     "text": [
      "C:\\Users\\DELL\\AppData\\Local\\Temp\\ipykernel_8948\\2602270106.py:9: SettingWithCopyWarning: \n",
      "A value is trying to be set on a copy of a slice from a DataFrame\n",
      "\n",
      "See the caveats in the documentation: https://pandas.pydata.org/pandas-docs/stable/user_guide/indexing.html#returning-a-view-versus-a-copy\n",
      "  city_df.drop(columns=['location','country','latitude','longitude','generationtime_ms','elevation','Date'],inplace=True)\n"
     ]
    },
    {
     "name": "stdout",
     "output_type": "stream",
     "text": [
      "10/10 [==============================] - 0s 1ms/step\n",
      "['France', 'Paris', 1.7143506971235571, 2.179152166599592, 0.9612751707140181, 6.315301244865566, 'fold_1', 'StandardScaler', 'GRU']\n",
      "10/10 [==============================] - 0s 1ms/step\n",
      "['France', 'Paris', 1.1617935215501478, 1.482688776205504, 0.986280384936806, 4.199227077676616, 'fold_2', 'StandardScaler', 'GRU']\n",
      "10/10 [==============================] - 0s 2ms/step\n",
      "['France', 'Paris', 1.2229055062820922, 1.5808308336536958, 0.982073462905948, 4.79612534863296, 'fold_3', 'StandardScaler', 'GRU']\n",
      "10/10 [==============================] - 0s 1ms/step\n",
      "['France', 'Paris', 1.2453031365729903, 1.5720199637156589, 0.9680214975574736, 4.993506151642064, 'fold_4', 'StandardScaler', 'GRU']\n",
      "10/10 [==============================] - 0s 1ms/step\n",
      "['France', 'Paris', 1.7038080049976365, 2.325872880136864, 0.9559208101242408, 6.347272738104383, 'fold_5', 'StandardScaler', 'GRU']\n",
      "Poznan\n"
     ]
    },
    {
     "name": "stderr",
     "output_type": "stream",
     "text": [
      "C:\\Users\\DELL\\AppData\\Local\\Temp\\ipykernel_8948\\2602270106.py:9: SettingWithCopyWarning: \n",
      "A value is trying to be set on a copy of a slice from a DataFrame\n",
      "\n",
      "See the caveats in the documentation: https://pandas.pydata.org/pandas-docs/stable/user_guide/indexing.html#returning-a-view-versus-a-copy\n",
      "  city_df.drop(columns=['location','country','latitude','longitude','generationtime_ms','elevation','Date'],inplace=True)\n"
     ]
    },
    {
     "name": "stdout",
     "output_type": "stream",
     "text": [
      "10/10 [==============================] - 0s 1ms/step\n",
      "['Poland', 'Poznan', 1.494331734172314, 1.9912172500274454, 0.9879076558205834, 4.8818611638038805, 'fold_1', 'StandardScaler', 'GRU']\n",
      "10/10 [==============================] - 0s 941us/step\n",
      "['Poland', 'Poznan', 1.2841295716969388, 1.6394527213442187, 0.9917280477505884, 4.403441763214051, 'fold_2', 'StandardScaler', 'GRU']\n",
      "10/10 [==============================] - 0s 1ms/step\n",
      "['Poland', 'Poznan', 1.4132244848225206, 1.7294394714356907, 0.989376979734374, 4.194060009646576, 'fold_3', 'StandardScaler', 'GRU']\n",
      "10/10 [==============================] - 0s 1ms/step\n",
      "['Poland', 'Poznan', 2.0717064637571703, 2.695863270804788, 0.9717202348649284, 7.191920939913145, 'fold_4', 'StandardScaler', 'GRU']\n",
      "10/10 [==============================] - 0s 1ms/step\n",
      "['Poland', 'Poznan', 1.8142278270634344, 2.224270108240114, 0.9767246424744808, 5.849235199765827, 'fold_5', 'StandardScaler', 'GRU']\n",
      "Prague\n"
     ]
    },
    {
     "name": "stderr",
     "output_type": "stream",
     "text": [
      "C:\\Users\\DELL\\AppData\\Local\\Temp\\ipykernel_8948\\2602270106.py:9: SettingWithCopyWarning: \n",
      "A value is trying to be set on a copy of a slice from a DataFrame\n",
      "\n",
      "See the caveats in the documentation: https://pandas.pydata.org/pandas-docs/stable/user_guide/indexing.html#returning-a-view-versus-a-copy\n",
      "  city_df.drop(columns=['location','country','latitude','longitude','generationtime_ms','elevation','Date'],inplace=True)\n"
     ]
    },
    {
     "name": "stdout",
     "output_type": "stream",
     "text": [
      "10/10 [==============================] - 0s 1ms/step\n",
      "['Czech Republic', 'Prague', 1.3175317365019257, 1.83714269361548, 0.9797193111671849, 4.464219074544349, 'fold_1', 'StandardScaler', 'GRU']\n",
      "10/10 [==============================] - 0s 1ms/step\n",
      "['Czech Republic', 'Prague', 1.286957475148379, 1.6751120253692384, 0.9828216407788414, 4.359005908759929, 'fold_2', 'StandardScaler', 'GRU']\n",
      "10/10 [==============================] - 0s 1ms/step\n",
      "['Czech Republic', 'Prague', 1.1737312856874509, 1.4714386550318976, 0.9846808347779733, 4.317137565096974, 'fold_3', 'StandardScaler', 'GRU']\n",
      "10/10 [==============================] - 0s 1ms/step\n",
      "['Czech Republic', 'Prague', 1.4022648639330582, 1.7496392748256722, 0.9785385128270098, 5.435475143969307, 'fold_4', 'StandardScaler', 'GRU']\n",
      "10/10 [==============================] - 0s 1ms/step\n",
      "['Czech Republic', 'Prague', 2.0474730855253735, 2.38789691298292, 0.9508138675742309, 6.823544325060974, 'fold_5', 'StandardScaler', 'GRU']\n",
      "Reykjavik Airport\n"
     ]
    },
    {
     "name": "stderr",
     "output_type": "stream",
     "text": [
      "C:\\Users\\DELL\\AppData\\Local\\Temp\\ipykernel_8948\\2602270106.py:9: SettingWithCopyWarning: \n",
      "A value is trying to be set on a copy of a slice from a DataFrame\n",
      "\n",
      "See the caveats in the documentation: https://pandas.pydata.org/pandas-docs/stable/user_guide/indexing.html#returning-a-view-versus-a-copy\n",
      "  city_df.drop(columns=['location','country','latitude','longitude','generationtime_ms','elevation','Date'],inplace=True)\n"
     ]
    },
    {
     "name": "stdout",
     "output_type": "stream",
     "text": [
      "10/10 [==============================] - 0s 1ms/step\n",
      "['Iceland', 'Reykjavik Airport', 1.0252950188785412, 1.3132924404628215, 0.8771230049920743, 4.013833964200226, 'fold_1', 'StandardScaler', 'GRU']\n",
      "10/10 [==============================] - 0s 1ms/step\n",
      "['Iceland', 'Reykjavik Airport', 0.842252453712568, 1.546458651077262, 0.9011054334761867, 3.728313806218739, 'fold_2', 'StandardScaler', 'GRU']\n",
      "10/10 [==============================] - 0s 1ms/step\n",
      "['Iceland', 'Reykjavik Airport', 1.1004798347002835, 1.4166572817790437, 0.9400352942719074, 4.5606740611323815, 'fold_3', 'StandardScaler', 'GRU']\n",
      "10/10 [==============================] - 0s 1ms/step\n",
      "['Iceland', 'Reykjavik Airport', 2.132723955258931, 2.55268231798418, 0.6917303873731804, 9.093378308558812, 'fold_4', 'StandardScaler', 'GRU']\n",
      "10/10 [==============================] - 0s 1ms/step\n",
      "['Iceland', 'Reykjavik Airport', 1.9565873799258715, 2.399369978358854, 0.8055526028828187, 7.765319822718862, 'fold_5', 'StandardScaler', 'GRU']\n",
      "Rome\n"
     ]
    },
    {
     "name": "stderr",
     "output_type": "stream",
     "text": [
      "C:\\Users\\DELL\\AppData\\Local\\Temp\\ipykernel_8948\\2602270106.py:9: SettingWithCopyWarning: \n",
      "A value is trying to be set on a copy of a slice from a DataFrame\n",
      "\n",
      "See the caveats in the documentation: https://pandas.pydata.org/pandas-docs/stable/user_guide/indexing.html#returning-a-view-versus-a-copy\n",
      "  city_df.drop(columns=['location','country','latitude','longitude','generationtime_ms','elevation','Date'],inplace=True)\n"
     ]
    },
    {
     "name": "stdout",
     "output_type": "stream",
     "text": [
      "10/10 [==============================] - 0s 1ms/step\n",
      "['Italy', 'Rome', 1.4749735787731257, 2.163490073320952, 0.9571319686496289, 4.517392937955275, 'fold_1', 'StandardScaler', 'GRU']\n",
      "10/10 [==============================] - 0s 1ms/step\n",
      "['Italy', 'Rome', 1.2236805746000108, 1.6559103052435102, 0.9546130863085034, 4.1576158505593, 'fold_2', 'StandardScaler', 'GRU']\n",
      "10/10 [==============================] - 0s 1ms/step\n",
      "['Italy', 'Rome', 1.2640450218496795, 1.5591511182524378, 0.9766106603195068, 4.529126159708663, 'fold_3', 'StandardScaler', 'GRU']\n",
      "10/10 [==============================] - 0s 1ms/step\n",
      "['Italy', 'Rome', 1.5796397146024654, 2.047367179908489, 0.9719943158155658, 5.278207779765249, 'fold_4', 'StandardScaler', 'GRU']\n",
      "10/10 [==============================] - 0s 2ms/step\n",
      "['Italy', 'Rome', 1.60448934389576, 2.0768625739323774, 0.953845524281185, 5.14478934746151, 'fold_5', 'StandardScaler', 'GRU']\n",
      "Stockholm\n"
     ]
    },
    {
     "name": "stderr",
     "output_type": "stream",
     "text": [
      "C:\\Users\\DELL\\AppData\\Local\\Temp\\ipykernel_8948\\2602270106.py:9: SettingWithCopyWarning: \n",
      "A value is trying to be set on a copy of a slice from a DataFrame\n",
      "\n",
      "See the caveats in the documentation: https://pandas.pydata.org/pandas-docs/stable/user_guide/indexing.html#returning-a-view-versus-a-copy\n",
      "  city_df.drop(columns=['location','country','latitude','longitude','generationtime_ms','elevation','Date'],inplace=True)\n"
     ]
    },
    {
     "name": "stdout",
     "output_type": "stream",
     "text": [
      "10/10 [==============================] - 0s 1ms/step\n",
      "['Sewden', 'Stockholm', 1.124115075945719, 1.477036932617825, 0.9329558128141588, 5.288980974268649, 'fold_1', 'StandardScaler', 'GRU']\n",
      "10/10 [==============================] - 0s 1ms/step\n",
      "['Sewden', 'Stockholm', 0.8492394375474484, 1.2760234753416786, 0.9556610129932819, 3.7795924177272586, 'fold_2', 'StandardScaler', 'GRU']\n",
      "10/10 [==============================] - 0s 1ms/step\n",
      "['Sewden', 'Stockholm', 1.1935928553751067, 1.684137759424517, 0.92633638147605, 5.554950729369811, 'fold_3', 'StandardScaler', 'GRU']\n",
      "10/10 [==============================] - 0s 1ms/step\n",
      "['Sewden', 'Stockholm', 1.0371452542744817, 1.2753064443654822, 0.9197139211093683, 5.154935413587568, 'fold_4', 'StandardScaler', 'GRU']\n",
      "10/10 [==============================] - 0s 1ms/step\n",
      "['Sewden', 'Stockholm', 0.9700613130717518, 1.197866797707554, 0.9332317472237188, 4.080399139553603, 'fold_5', 'StandardScaler', 'GRU']\n",
      "bern\n"
     ]
    },
    {
     "name": "stderr",
     "output_type": "stream",
     "text": [
      "C:\\Users\\DELL\\AppData\\Local\\Temp\\ipykernel_8948\\2602270106.py:9: SettingWithCopyWarning: \n",
      "A value is trying to be set on a copy of a slice from a DataFrame\n",
      "\n",
      "See the caveats in the documentation: https://pandas.pydata.org/pandas-docs/stable/user_guide/indexing.html#returning-a-view-versus-a-copy\n",
      "  city_df.drop(columns=['location','country','latitude','longitude','generationtime_ms','elevation','Date'],inplace=True)\n"
     ]
    },
    {
     "name": "stdout",
     "output_type": "stream",
     "text": [
      "10/10 [==============================] - 0s 1ms/step\n",
      "['Switzerland', 'bern', 1.0987430568169954, 1.8498923424997684, 0.9318246353857587, 4.047720273855752, 'fold_1', 'StandardScaler', 'GRU']\n",
      "10/10 [==============================] - 0s 1ms/step\n",
      "['Switzerland', 'bern', 1.1659623781840007, 1.555427773108411, 0.9675012790897659, 4.579396439763818, 'fold_2', 'StandardScaler', 'GRU']\n",
      "10/10 [==============================] - 0s 1ms/step\n",
      "['Switzerland', 'bern', 0.9501890580948081, 1.2474606483740829, 0.976889227567799, 4.013404710744119, 'fold_3', 'StandardScaler', 'GRU']\n",
      "10/10 [==============================] - 0s 1ms/step\n",
      "['Switzerland', 'bern', 1.0907818704979604, 1.4086489046294945, 0.9658372770452137, 4.847050717905272, 'fold_4', 'StandardScaler', 'GRU']\n",
      "10/10 [==============================] - 0s 1ms/step\n",
      "['Switzerland', 'bern', 1.815785666034647, 2.1072575005641423, 0.8934148200642487, 7.585046416754233, 'fold_5', 'StandardScaler', 'GRU']\n",
      "luxembourg findel airport\n"
     ]
    },
    {
     "name": "stderr",
     "output_type": "stream",
     "text": [
      "C:\\Users\\DELL\\AppData\\Local\\Temp\\ipykernel_8948\\2602270106.py:9: SettingWithCopyWarning: \n",
      "A value is trying to be set on a copy of a slice from a DataFrame\n",
      "\n",
      "See the caveats in the documentation: https://pandas.pydata.org/pandas-docs/stable/user_guide/indexing.html#returning-a-view-versus-a-copy\n",
      "  city_df.drop(columns=['location','country','latitude','longitude','generationtime_ms','elevation','Date'],inplace=True)\n"
     ]
    },
    {
     "name": "stdout",
     "output_type": "stream",
     "text": [
      "10/10 [==============================] - 0s 1ms/step\n",
      "['Luxembourg', 'luxembourg findel airport', 1.2068239327041232, 1.862359743931155, 0.9365192215778263, 4.957861945533325, 'fold_1', 'StandardScaler', 'GRU']\n",
      "10/10 [==============================] - 0s 1ms/step\n",
      "['Luxembourg', 'luxembourg findel airport', 1.0277456181234423, 1.3470223359382718, 0.9709464218374316, 4.698858722327948, 'fold_2', 'StandardScaler', 'GRU']\n",
      "10/10 [==============================] - 0s 1ms/step\n",
      "['Luxembourg', 'luxembourg findel airport', 0.975311092045753, 1.2551585634436593, 0.9762117674537538, 4.36082863738899, 'fold_3', 'StandardScaler', 'GRU']\n",
      "10/10 [==============================] - 0s 1ms/step\n",
      "['Luxembourg', 'luxembourg findel airport', 1.0551155375563392, 1.3261472375568106, 0.9666713213365955, 4.735165446403314, 'fold_4', 'StandardScaler', 'GRU']\n",
      "10/10 [==============================] - 0s 1ms/step\n",
      "['Luxembourg', 'luxembourg findel airport', 1.5145847263945846, 1.783375359918419, 0.9437416090665274, 6.2438194069422055, 'fold_5', 'StandardScaler', 'GRU']\n"
     ]
    }
   ],
   "source": [
    "summary_value = []\n",
    "detail_value = []\n",
    "\n",
    "for city_ in df['location'].unique():\n",
    "    city_df = df[df['location'] == city_]\n",
    "    country_ = city_df['country'].unique()[0]\n",
    "    \n",
    "    print(city_)\n",
    "    city_df.drop(columns=['location','country','latitude','longitude','generationtime_ms','elevation','Date'],inplace=True)\n",
    "    \n",
    "    target_col = list(city_df)[-1]\n",
    "#     city_df = get_IQR_Operation_value(city_df,target_col)\n",
    "    \n",
    "    X_train_list, X_test_list, y_train_list, y_test_list, date_train_list, date_test_list = get_k_fold_operation_data(city_df, 5)\n",
    "    \n",
    "    k_fold = 1\n",
    "    \n",
    "    mae_list = []\n",
    "    rmse_list = []\n",
    "    r_2_list = []\n",
    "    mape_list = []\n",
    "    \n",
    "    for X_train, X_test, y_train, y_test, date_train, date_test in zip(X_train_list, X_test_list, y_train_list, y_test_list, date_train_list, date_test_list):\n",
    "        for _preprocessing_name in ['StandardScaler']: #'RobustScaler', 'MinMaxScaler' , 'StandardScaler'\n",
    "            \n",
    "            res = []\n",
    "            \n",
    "            mae, rmse, r_2, mape, y_pred = GRU_Regression(X_train, X_test, y_train, y_test, _preprocessing_name)\n",
    "\n",
    "            res.append(country_)\n",
    "            res.append(city_)\n",
    "            res.append(mae)\n",
    "            res.append(rmse)\n",
    "            res.append(r_2)\n",
    "            res.append(mape)\n",
    "            res.append('fold_' + str(k_fold))\n",
    "            res.append(_preprocessing_name)\n",
    "            res.append('GRU')\n",
    "            print(res)\n",
    "\n",
    "            full_output = pd.DataFrame({\n",
    "                'actual_value' : y_test,\n",
    "                'predict_value' : y_pred,\n",
    "                'Fold_number' : ['fold_' + str(k_fold)] * len(y_test),\n",
    "                'date' : date_test\n",
    "            })\n",
    "            full_output['city'] = city_\n",
    "            full_output['country'] = country_\n",
    "            full_output['pre-processing name'] = _preprocessing_name\n",
    "            full_output['model_name'] = 'GRU'\n",
    "\n",
    "            summary_value.append(res)\n",
    "            detail_value.append(full_output)\n",
    "\n",
    "        k_fold = k_fold + 1\n",
    "        \n",
    "        "
   ]
  },
  {
   "cell_type": "code",
   "execution_count": null,
   "id": "faecba4d",
   "metadata": {},
   "outputs": [],
   "source": []
  },
  {
   "cell_type": "code",
   "execution_count": 11,
   "id": "9069ef13",
   "metadata": {},
   "outputs": [],
   "source": [
    "summary_df = pd.DataFrame(summary_value,columns=['Country','City','MAE','RMSE','R2','MAPE','K_Fold','pre-processing name','model_name'])"
   ]
  },
  {
   "cell_type": "code",
   "execution_count": 12,
   "id": "2dc1708c",
   "metadata": {},
   "outputs": [],
   "source": [
    "detail_df = pd.concat(detail_value)"
   ]
  },
  {
   "cell_type": "code",
   "execution_count": 13,
   "id": "1e110b1e",
   "metadata": {},
   "outputs": [],
   "source": [
    "summary_df.to_csv('../_output/AQI_GRU_Summary_result.csv',index=False)"
   ]
  },
  {
   "cell_type": "code",
   "execution_count": 14,
   "id": "23d0414e",
   "metadata": {},
   "outputs": [],
   "source": [
    "detail_df.to_csv('../_output/AQI_GRU_Detail_result.csv',index=False)"
   ]
  },
  {
   "cell_type": "code",
   "execution_count": null,
   "id": "2e24505c",
   "metadata": {},
   "outputs": [],
   "source": []
  },
  {
   "cell_type": "code",
   "execution_count": null,
   "id": "1b296917",
   "metadata": {},
   "outputs": [],
   "source": []
  }
 ],
 "metadata": {
  "kernelspec": {
   "display_name": "Python 3 (ipykernel)",
   "language": "python",
   "name": "python3"
  },
  "language_info": {
   "codemirror_mode": {
    "name": "ipython",
    "version": 3
   },
   "file_extension": ".py",
   "mimetype": "text/x-python",
   "name": "python",
   "nbconvert_exporter": "python",
   "pygments_lexer": "ipython3",
   "version": "3.10.9"
  }
 },
 "nbformat": 4,
 "nbformat_minor": 5
}
