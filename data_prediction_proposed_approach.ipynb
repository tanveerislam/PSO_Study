{
 "cells": [
  {
   "cell_type": "code",
   "execution_count": 32,
   "id": "d02bb1eb",
   "metadata": {},
   "outputs": [],
   "source": [
    "import pandas as pd\n",
    "import numpy as np\n",
    "import random\n",
    "\n",
    "from sklearn.model_selection import KFold,StratifiedKFold\n",
    "\n",
    "from sklearn.model_selection import train_test_split\n",
    "from sklearn.preprocessing import StandardScaler, MinMaxScaler, Normalizer, PowerTransformer, RobustScaler\n",
    "from sklearn.decomposition import PCA\n",
    "\n",
    "from sklearn.ensemble import GradientBoostingRegressor,RandomForestRegressor,AdaBoostRegressor\n",
    "from sklearn.neighbors import KNeighborsRegressor\n",
    "import xgboost\n",
    "from sklearn.tree import DecisionTreeRegressor\n",
    "from sklearn.linear_model import LinearRegression\n",
    "\n",
    "from keras import Input\n",
    "from tensorflow.keras.models import Sequential\n",
    "from tensorflow.keras.layers import Dense, Dropout\n",
    "from tensorflow.keras.optimizers import Adam\n",
    "from sklearn.metrics import (mean_squared_error,\n",
    "                             r2_score,\n",
    "                             mean_absolute_percentage_error,\n",
    "                             mean_absolute_error\n",
    "                            )\n",
    "\n",
    "from sklearn.pipeline import Pipeline\n",
    "from statsmodels.tsa.api import VAR\n",
    "\n",
    "from sklearn.feature_selection import SelectKBest,f_regression"
   ]
  },
  {
   "cell_type": "code",
   "execution_count": 33,
   "id": "739fb82c",
   "metadata": {},
   "outputs": [],
   "source": [
    "df = pd.read_csv('../../data/dataset/Full_data_File.csv')"
   ]
  },
  {
   "cell_type": "code",
   "execution_count": 34,
   "id": "8beb90ed",
   "metadata": {},
   "outputs": [
    {
     "data": {
      "text/html": [
       "<div>\n",
       "<style scoped>\n",
       "    .dataframe tbody tr th:only-of-type {\n",
       "        vertical-align: middle;\n",
       "    }\n",
       "\n",
       "    .dataframe tbody tr th {\n",
       "        vertical-align: top;\n",
       "    }\n",
       "\n",
       "    .dataframe thead th {\n",
       "        text-align: right;\n",
       "    }\n",
       "</style>\n",
       "<table border=\"1\" class=\"dataframe\">\n",
       "  <thead>\n",
       "    <tr style=\"text-align: right;\">\n",
       "      <th></th>\n",
       "      <th>location</th>\n",
       "      <th>country</th>\n",
       "      <th>latitude</th>\n",
       "      <th>longitude</th>\n",
       "      <th>generationtime_ms</th>\n",
       "      <th>elevation</th>\n",
       "      <th>Date</th>\n",
       "      <th>year</th>\n",
       "      <th>month</th>\n",
       "      <th>day</th>\n",
       "      <th>...</th>\n",
       "      <th>RH</th>\n",
       "      <th>Dew_Point</th>\n",
       "      <th>snowfall</th>\n",
       "      <th>Pressure</th>\n",
       "      <th>wind_speed</th>\n",
       "      <th>wind_direction</th>\n",
       "      <th>wind_gusts</th>\n",
       "      <th>sunshine_duration</th>\n",
       "      <th>direct_radiation</th>\n",
       "      <th>AQI</th>\n",
       "    </tr>\n",
       "  </thead>\n",
       "  <tbody>\n",
       "    <tr>\n",
       "      <th>0</th>\n",
       "      <td>Amsterdam</td>\n",
       "      <td>Netherlands</td>\n",
       "      <td>52.4</td>\n",
       "      <td>4.9</td>\n",
       "      <td>104.943037</td>\n",
       "      <td>14</td>\n",
       "      <td>2021-01-01</td>\n",
       "      <td>2021</td>\n",
       "      <td>1</td>\n",
       "      <td>1</td>\n",
       "      <td>...</td>\n",
       "      <td>92.208333</td>\n",
       "      <td>1.266667</td>\n",
       "      <td>0.0</td>\n",
       "      <td>1006.029167</td>\n",
       "      <td>7.208333</td>\n",
       "      <td>243.250000</td>\n",
       "      <td>11.187500</td>\n",
       "      <td>890.836250</td>\n",
       "      <td>16.208333</td>\n",
       "      <td>65.125000</td>\n",
       "    </tr>\n",
       "    <tr>\n",
       "      <th>1</th>\n",
       "      <td>Amsterdam</td>\n",
       "      <td>Netherlands</td>\n",
       "      <td>52.4</td>\n",
       "      <td>4.9</td>\n",
       "      <td>104.943037</td>\n",
       "      <td>14</td>\n",
       "      <td>2021-01-02</td>\n",
       "      <td>2021</td>\n",
       "      <td>1</td>\n",
       "      <td>2</td>\n",
       "      <td>...</td>\n",
       "      <td>96.708333</td>\n",
       "      <td>1.312500</td>\n",
       "      <td>0.0</td>\n",
       "      <td>1011.245833</td>\n",
       "      <td>6.445833</td>\n",
       "      <td>216.916667</td>\n",
       "      <td>10.283333</td>\n",
       "      <td>937.792917</td>\n",
       "      <td>22.625000</td>\n",
       "      <td>33.291667</td>\n",
       "    </tr>\n",
       "    <tr>\n",
       "      <th>2</th>\n",
       "      <td>Amsterdam</td>\n",
       "      <td>Netherlands</td>\n",
       "      <td>52.4</td>\n",
       "      <td>4.9</td>\n",
       "      <td>104.943037</td>\n",
       "      <td>14</td>\n",
       "      <td>2021-01-03</td>\n",
       "      <td>2021</td>\n",
       "      <td>1</td>\n",
       "      <td>3</td>\n",
       "      <td>...</td>\n",
       "      <td>91.458333</td>\n",
       "      <td>1.229167</td>\n",
       "      <td>0.0</td>\n",
       "      <td>1015.504167</td>\n",
       "      <td>14.333333</td>\n",
       "      <td>52.208333</td>\n",
       "      <td>25.516667</td>\n",
       "      <td>739.805000</td>\n",
       "      <td>17.791667</td>\n",
       "      <td>34.041667</td>\n",
       "    </tr>\n",
       "    <tr>\n",
       "      <th>3</th>\n",
       "      <td>Amsterdam</td>\n",
       "      <td>Netherlands</td>\n",
       "      <td>52.4</td>\n",
       "      <td>4.9</td>\n",
       "      <td>104.943037</td>\n",
       "      <td>14</td>\n",
       "      <td>2021-01-04</td>\n",
       "      <td>2021</td>\n",
       "      <td>1</td>\n",
       "      <td>4</td>\n",
       "      <td>...</td>\n",
       "      <td>86.291667</td>\n",
       "      <td>0.879167</td>\n",
       "      <td>0.0</td>\n",
       "      <td>1017.016667</td>\n",
       "      <td>25.041667</td>\n",
       "      <td>49.375000</td>\n",
       "      <td>45.595833</td>\n",
       "      <td>0.000000</td>\n",
       "      <td>1.041667</td>\n",
       "      <td>19.750000</td>\n",
       "    </tr>\n",
       "    <tr>\n",
       "      <th>4</th>\n",
       "      <td>Amsterdam</td>\n",
       "      <td>Netherlands</td>\n",
       "      <td>52.4</td>\n",
       "      <td>4.9</td>\n",
       "      <td>104.943037</td>\n",
       "      <td>14</td>\n",
       "      <td>2021-01-05</td>\n",
       "      <td>2021</td>\n",
       "      <td>1</td>\n",
       "      <td>5</td>\n",
       "      <td>...</td>\n",
       "      <td>91.125000</td>\n",
       "      <td>1.475000</td>\n",
       "      <td>0.0</td>\n",
       "      <td>1016.929167</td>\n",
       "      <td>18.708333</td>\n",
       "      <td>54.541667</td>\n",
       "      <td>34.145833</td>\n",
       "      <td>46.027083</td>\n",
       "      <td>1.833333</td>\n",
       "      <td>10.166667</td>\n",
       "    </tr>\n",
       "  </tbody>\n",
       "</table>\n",
       "<p>5 rows × 27 columns</p>\n",
       "</div>"
      ],
      "text/plain": [
       "    location      country  latitude  longitude  generationtime_ms  elevation  \\\n",
       "0  Amsterdam  Netherlands      52.4        4.9         104.943037         14   \n",
       "1  Amsterdam  Netherlands      52.4        4.9         104.943037         14   \n",
       "2  Amsterdam  Netherlands      52.4        4.9         104.943037         14   \n",
       "3  Amsterdam  Netherlands      52.4        4.9         104.943037         14   \n",
       "4  Amsterdam  Netherlands      52.4        4.9         104.943037         14   \n",
       "\n",
       "         Date  year  month  day  ...         RH  Dew_Point  snowfall  \\\n",
       "0  2021-01-01  2021      1    1  ...  92.208333   1.266667       0.0   \n",
       "1  2021-01-02  2021      1    2  ...  96.708333   1.312500       0.0   \n",
       "2  2021-01-03  2021      1    3  ...  91.458333   1.229167       0.0   \n",
       "3  2021-01-04  2021      1    4  ...  86.291667   0.879167       0.0   \n",
       "4  2021-01-05  2021      1    5  ...  91.125000   1.475000       0.0   \n",
       "\n",
       "      Pressure  wind_speed  wind_direction  wind_gusts  sunshine_duration  \\\n",
       "0  1006.029167    7.208333      243.250000   11.187500         890.836250   \n",
       "1  1011.245833    6.445833      216.916667   10.283333         937.792917   \n",
       "2  1015.504167   14.333333       52.208333   25.516667         739.805000   \n",
       "3  1017.016667   25.041667       49.375000   45.595833           0.000000   \n",
       "4  1016.929167   18.708333       54.541667   34.145833          46.027083   \n",
       "\n",
       "   direct_radiation        AQI  \n",
       "0         16.208333  65.125000  \n",
       "1         22.625000  33.291667  \n",
       "2         17.791667  34.041667  \n",
       "3          1.041667  19.750000  \n",
       "4          1.833333  10.166667  \n",
       "\n",
       "[5 rows x 27 columns]"
      ]
     },
     "execution_count": 34,
     "metadata": {},
     "output_type": "execute_result"
    }
   ],
   "source": [
    "df.head()"
   ]
  },
  {
   "cell_type": "code",
   "execution_count": null,
   "id": "c0890721",
   "metadata": {},
   "outputs": [],
   "source": []
  },
  {
   "cell_type": "code",
   "execution_count": null,
   "id": "9ea4b5ab",
   "metadata": {},
   "outputs": [],
   "source": []
  },
  {
   "cell_type": "code",
   "execution_count": null,
   "id": "4bab3839",
   "metadata": {},
   "outputs": [],
   "source": []
  },
  {
   "cell_type": "code",
   "execution_count": 35,
   "id": "eeeabc10",
   "metadata": {},
   "outputs": [
    {
     "data": {
      "text/plain": [
       "(49674, 27)"
      ]
     },
     "execution_count": 35,
     "metadata": {},
     "output_type": "execute_result"
    }
   ],
   "source": [
    "df.shape"
   ]
  },
  {
   "cell_type": "code",
   "execution_count": null,
   "id": "c3b45ac9",
   "metadata": {},
   "outputs": [],
   "source": []
  },
  {
   "cell_type": "code",
   "execution_count": null,
   "id": "90df38d2",
   "metadata": {},
   "outputs": [],
   "source": []
  },
  {
   "cell_type": "code",
   "execution_count": 36,
   "id": "07cf0e34",
   "metadata": {},
   "outputs": [],
   "source": [
    "def get_important_Feature(df):\n",
    "    \n",
    "    def get_train_test(df):\n",
    "        X = df.iloc[:,0:-1]\n",
    "        y = df.iloc[:,-1]\n",
    "\n",
    "        X = MinMaxScaler().fit_transform(X)\n",
    "        X_train, X_test, y_train, y_test = train_test_split(X, y, test_size=0.2, random_state=42)\n",
    "\n",
    "        return X_train, X_test, y_train, y_test\n",
    "    \n",
    "    def fitness_function(selected_features, X_train, X_test, y_train, y_test):\n",
    "        # Select features based on the particle's position\n",
    "        selected_features = np.array(selected_features, dtype=bool)\n",
    "        if not any(selected_features):  # Avoid empty feature selection\n",
    "            return float('inf')  # Assign a very high MSE\n",
    "\n",
    "        X_train_selected = X_train[:, selected_features]\n",
    "        X_test_selected = X_test[:, selected_features]\n",
    "\n",
    "        # Train a regression model\n",
    "        model = DecisionTreeRegressor(random_state=42)\n",
    "        model.fit(X_train_selected, y_train)\n",
    "        predictions = model.predict(X_test_selected)\n",
    "\n",
    "        # Calculate and return MSE\n",
    "        mse = mean_squared_error(y_test, predictions)\n",
    "        return mse\n",
    "    \n",
    "    def pso_feature_selection(n_particles, n_iterations, n_features, df):\n",
    "        # Initialize particles\n",
    "        particles = [np.random.choice([0, 1], size=n_features) for _ in range(n_particles)]\n",
    "        velocities = [np.random.uniform(-1, 1, size=n_features) for _ in range(n_particles)]\n",
    "        personal_best_positions = particles.copy()\n",
    "        personal_best_scores = [float('inf')] * n_particles\n",
    "        global_best_position = None\n",
    "        global_best_score = float('inf')\n",
    "\n",
    "        X_train, X_test, y_train, y_test = get_train_test(df)\n",
    "\n",
    "        # PSO loop\n",
    "        for iteration in range(n_iterations):\n",
    "            for i, particle in enumerate(particles):\n",
    "                # Evaluate fitness\n",
    "                mse = fitness_function(particle, X_train, X_test, y_train, y_test)\n",
    "\n",
    "                # Update personal best\n",
    "                if mse < personal_best_scores[i]:\n",
    "                    personal_best_scores[i] = mse\n",
    "                    personal_best_positions[i] = particle.copy()\n",
    "\n",
    "                # Update global best\n",
    "                if mse < global_best_score:\n",
    "                    global_best_score = mse\n",
    "                    global_best_position = particle.copy()\n",
    "\n",
    "            # Update particle velocities and positions\n",
    "            for i, particle in enumerate(particles):\n",
    "                r1, r2 = np.random.rand(n_features), np.random.rand(n_features)\n",
    "                cognitive = r1 * (personal_best_positions[i] - particle)\n",
    "                social = r2 * (global_best_position - particle)\n",
    "                velocities[i] = 0.5 * velocities[i] + 1.5 * cognitive + 1.5 * social\n",
    "                particles[i] = np.where(np.random.rand(n_features) < 1 / (1 + np.exp(-velocities[i])), 1, 0)  # Sigmoid activation\n",
    "\n",
    "            # Print progress\n",
    "#             print(f\"Iteration {iteration+1}/{n_iterations}, Best MSE: {global_best_score}\")\n",
    "\n",
    "        return global_best_position, global_best_score\n",
    "\n",
    "\n",
    "\n",
    "    n_particles = 20\n",
    "    n_iterations = 50\n",
    "    n_features = len(list(df)) - 1\n",
    "\n",
    "    # Run PSO\n",
    "    best_features, best_score = pso_feature_selection(n_particles, n_iterations, n_features, df)\n",
    "\n",
    "    best_feature_list = []\n",
    "    for name_, flag in zip(list(df)[:-1],best_features):\n",
    "        if flag == 1:\n",
    "            best_feature_list.append(name_)\n",
    "    best_feature_list.append(list(df)[-1])\n",
    "    return df[best_feature_list], best_feature_list"
   ]
  },
  {
   "cell_type": "code",
   "execution_count": null,
   "id": "74ab9a64",
   "metadata": {},
   "outputs": [],
   "source": []
  },
  {
   "cell_type": "code",
   "execution_count": null,
   "id": "8ec1ca8f",
   "metadata": {},
   "outputs": [],
   "source": []
  },
  {
   "cell_type": "code",
   "execution_count": 37,
   "id": "c88c0bad",
   "metadata": {},
   "outputs": [],
   "source": [
    "# def get_important_Feature(df):\n",
    "#     X = df.values[:,0:-1]\n",
    "#     y = df.values[:,-1]\n",
    "#     fs = SelectKBest(score_func=f_regression,k='all')\n",
    "#     fs.fit(X,y)\n",
    "#     score_df = pd.DataFrame([fs.pvalues_,fs.scores_]).T\n",
    "#     score_df.columns = ['p-value','score']\n",
    "#     score_df['columns'] = list(df)[:-1]\n",
    "#     score_df = score_df[score_df['p-value'] < 0.05].copy()\n",
    "    \n",
    "#     feature_col = score_df['columns'].to_list()\n",
    "#     target_col = [list(df)[-1]]\n",
    "    \n",
    "#     return df[feature_col + target_col].copy(), feature_col"
   ]
  },
  {
   "cell_type": "code",
   "execution_count": null,
   "id": "96b42acd",
   "metadata": {},
   "outputs": [],
   "source": []
  },
  {
   "cell_type": "code",
   "execution_count": 38,
   "id": "3ca533cc",
   "metadata": {},
   "outputs": [],
   "source": [
    "def get_k_fold_operation_data_proposed_approach(df, date_, cv):\n",
    "    \n",
    "    df = pd.DataFrame(df)\n",
    "    colLen = len(list(df))\n",
    "\n",
    "    X = df.values[:, 0:colLen - 1]\n",
    "    y = df.values[:, colLen - 1]\n",
    "    \n",
    "    \n",
    "    X_train_list = []\n",
    "    X_test_list = []\n",
    "    y_train_list = []\n",
    "    y_test_list = []\n",
    "    date_train_list = []\n",
    "    date_test_list = []\n",
    "    \n",
    "    kf = KFold(n_splits=cv)\n",
    "    \n",
    "    for train_index,test_index in kf.split(X,y):\n",
    "        X_train, X_test, y_train, y_test, date_train, date_test  = X[train_index], X[test_index], y[train_index], y[test_index], date_[train_index], date_[test_index]\n",
    "        \n",
    "        X_train_list.append(X_train)\n",
    "        X_test_list.append(X_test)\n",
    "        y_train_list.append(y_train)\n",
    "        y_test_list.append(y_test)\n",
    "        \n",
    "        date_train_list.append(date_train)\n",
    "        date_test_list.append(date_test)\n",
    "        \n",
    "    \n",
    "        \n",
    "    return X_train_list, X_test_list, y_train_list, y_test_list, date_train_list, date_test_list"
   ]
  },
  {
   "cell_type": "code",
   "execution_count": null,
   "id": "5b100da6",
   "metadata": {},
   "outputs": [],
   "source": []
  },
  {
   "cell_type": "code",
   "execution_count": null,
   "id": "53575081",
   "metadata": {},
   "outputs": [],
   "source": []
  },
  {
   "cell_type": "code",
   "execution_count": 39,
   "id": "355eaf5f",
   "metadata": {},
   "outputs": [],
   "source": [
    "def get_IQR_Operation_value(df, col, cv):\n",
    "    \n",
    "    S_B = df.shape[0]\n",
    "    \n",
    "    Q1 = df['AQI'].quantile(0.25)\n",
    "    Q3 = df['AQI'].quantile(0.75)\n",
    "\n",
    "    # Calculate IQR\n",
    "    IQR = Q3 - Q1\n",
    "\n",
    "    lower_bound = Q1 - 1.0 * IQR\n",
    "    upper_bound = Q3 + 1.75 * IQR\n",
    "    \n",
    "    print(lower_bound,upper_bound)\n",
    "    \n",
    "#     df = df.loc[(df['AQI'] <= upper_bound) & (df['AQI'] >= lower_bound)]\n",
    "    date_ = pd.to_datetime(dict(year=df.year, month=df.month, day=df.day)).values\n",
    "    df, impt_col = get_important_Feature(df)\n",
    "\n",
    "    X_train_list, \\\n",
    "    X_test_list, \\\n",
    "    y_train_list, \\\n",
    "    y_test_list, \\\n",
    "    date_train_list, \\\n",
    "    date_test_list = get_k_fold_operation_data_proposed_approach(df, date_, cv)\n",
    "    \n",
    "    S_A = df.shape[0]\n",
    "    \n",
    "    diff = S_B - S_A\n",
    "    \n",
    "    return X_train_list, X_test_list, y_train_list, y_test_list, date_train_list, date_test_list, diff, impt_col\n",
    "    "
   ]
  },
  {
   "cell_type": "code",
   "execution_count": null,
   "id": "966b120d",
   "metadata": {},
   "outputs": [],
   "source": []
  },
  {
   "cell_type": "code",
   "execution_count": null,
   "id": "c10c4b36",
   "metadata": {},
   "outputs": [],
   "source": []
  },
  {
   "cell_type": "code",
   "execution_count": null,
   "id": "f6d0206e",
   "metadata": {},
   "outputs": [],
   "source": []
  },
  {
   "cell_type": "code",
   "execution_count": null,
   "id": "58dd339b",
   "metadata": {},
   "outputs": [],
   "source": []
  },
  {
   "cell_type": "code",
   "execution_count": 40,
   "id": "aad6ea6c",
   "metadata": {},
   "outputs": [],
   "source": [
    "def get_k_fold_operation_data(df, cv):\n",
    "    \n",
    "    df = pd.DataFrame(df)\n",
    "    colLen = len(list(df))\n",
    "\n",
    "    X = df.values[:, 0:colLen - 1]\n",
    "    y = df.values[:, colLen - 1]\n",
    "    date_ = pd.to_datetime(dict(year=df.year, month=df.month, day=df.day)).values\n",
    "    \n",
    "    \n",
    "    X_train_list = []\n",
    "    X_test_list = []\n",
    "    y_train_list = []\n",
    "    y_test_list = []\n",
    "    date_train_list = []\n",
    "    date_test_list = []\n",
    "    \n",
    "    kf = KFold(n_splits=cv)\n",
    "    \n",
    "    for train_index,test_index in kf.split(X,y):\n",
    "        X_train, X_test, y_train, y_test, date_train, date_test  = X[train_index], X[test_index], y[train_index], y[test_index], date_[train_index], date_[test_index]\n",
    "        \n",
    "        X_train_list.append(X_train)\n",
    "        X_test_list.append(X_test)\n",
    "        y_train_list.append(y_train)\n",
    "        y_test_list.append(y_test)\n",
    "        \n",
    "        date_train_list.append(date_train)\n",
    "        date_test_list.append(date_test)\n",
    "        \n",
    "    \n",
    "        \n",
    "    return X_train_list, X_test_list, y_train_list, y_test_list, date_train_list, date_test_list"
   ]
  },
  {
   "cell_type": "code",
   "execution_count": null,
   "id": "28fa5d5e",
   "metadata": {},
   "outputs": [],
   "source": []
  },
  {
   "cell_type": "code",
   "execution_count": null,
   "id": "1324c4d1",
   "metadata": {},
   "outputs": [],
   "source": []
  },
  {
   "cell_type": "code",
   "execution_count": 41,
   "id": "90b41eea",
   "metadata": {},
   "outputs": [],
   "source": [
    "from tensorflow.keras.models import Sequential\n",
    "from tensorflow.keras.layers import Dense, Input\n",
    "from tensorflow.keras.optimizers import Adam\n",
    "from sklearn.metrics import mean_absolute_error, mean_squared_error, r2_score, mean_absolute_percentage_error\n",
    "from sklearn.preprocessing import StandardScaler, Normalizer, MinMaxScaler, PowerTransformer, RobustScaler\n",
    "import tensorflow as tf\n",
    "\n",
    "\n",
    "def NN_Regression(X_train, X_test, y_train, y_test, scaler_name):\n",
    "\n",
    "    # Initialize the scaler\n",
    "    scaler = None\n",
    "    if scaler_name == 'StandardScaler':\n",
    "        scaler = StandardScaler()\n",
    "    elif scaler_name == 'Normalizer':\n",
    "        scaler = Normalizer()\n",
    "    elif scaler_name == 'MinMaxScaler':\n",
    "        scaler = MinMaxScaler()\n",
    "    elif scaler_name == 'PowerTransformer':\n",
    "        scaler = PowerTransformer(method='yeo-johnson')\n",
    "    elif scaler_name == 'RobustScaler':\n",
    "        scaler = RobustScaler()\n",
    "\n",
    "    # Apply scaling\n",
    "    if scaler_name == 'not_processing':\n",
    "        X_train_scaled = X_train\n",
    "        X_test_scaled = X_test\n",
    "    else:\n",
    "        X_train_scaled = scaler.fit_transform(X_train)\n",
    "        X_test_scaled = scaler.transform(X_test)\n",
    "\n",
    "    random.seed(1)\n",
    "    np.random.seed(1)\n",
    "    tf.keras.utils.set_random_seed(1)\n",
    "\n",
    "    # Build the Neural Network model\n",
    "    def build_nn(input_dim):\n",
    "        model = Sequential([\n",
    "            Input(shape=(input_dim,)),  # Define input shape\n",
    "            Dense(64, activation='relu'),\n",
    "            Dense(32, activation='relu'),\n",
    "            Dense(1, activation='linear')  # Regression output layer\n",
    "        ])\n",
    "        model.compile(optimizer=Adam(learning_rate=0.001), loss='mse')  # Compile the model\n",
    "        return model\n",
    "\n",
    "    nn = build_nn(X_train_scaled.shape[1])\n",
    "\n",
    "    # Train the Neural Network\n",
    "    nn.fit(X_train_scaled, y_train, epochs=50, batch_size=32, validation_split=0.2, verbose=0)\n",
    "\n",
    "    # Predict using the Neural Network\n",
    "    y_pred = nn.predict(X_test_scaled).flatten()\n",
    "\n",
    "    # Evaluate the Neural Network\n",
    "    mae = mean_absolute_error(y_test, y_pred)\n",
    "    rmse = np.sqrt(mean_squared_error(y_test, y_pred))\n",
    "    r_2 = r2_score(y_test, y_pred)\n",
    "    mape = mean_absolute_percentage_error(y_test, y_pred) * 100\n",
    "\n",
    "    return mae, rmse, r_2, mape, y_pred\n"
   ]
  },
  {
   "cell_type": "code",
   "execution_count": null,
   "id": "73ccccdd",
   "metadata": {},
   "outputs": [],
   "source": []
  },
  {
   "cell_type": "code",
   "execution_count": null,
   "id": "7e4d9ca9",
   "metadata": {},
   "outputs": [],
   "source": []
  },
  {
   "cell_type": "code",
   "execution_count": null,
   "id": "7deb5ad1",
   "metadata": {},
   "outputs": [],
   "source": []
  },
  {
   "cell_type": "code",
   "execution_count": null,
   "id": "5b488a81",
   "metadata": {},
   "outputs": [],
   "source": []
  },
  {
   "cell_type": "code",
   "execution_count": 42,
   "id": "bbc6bc26",
   "metadata": {},
   "outputs": [],
   "source": [
    "def NN_GBR(X_train, X_test, y_train, y_test, scaler_name, model_object):\n",
    "    scaler = None\n",
    "    # Step 1: Initialize the scaler\n",
    "    if scaler_name == 'StandardScaler':\n",
    "        scaler = StandardScaler()\n",
    "        \n",
    "    elif scaler_name == 'Normalizer':\n",
    "        scaler = Normalizer()\n",
    "        \n",
    "    elif scaler_name == 'MinMaxScaler':\n",
    "        scaler = MinMaxScaler()\n",
    "    \n",
    "    elif scaler_name == 'PowerTransformer':\n",
    "        scaler = PowerTransformer(method='yeo-johnson')\n",
    "        \n",
    "    elif scaler_name == 'RobustScaler':\n",
    "        scaler = RobustScaler()\n",
    "    \n",
    "    ###############################################\n",
    "    if scaler_name == 'not_processing':\n",
    "        X_train_scaled = X_train\n",
    "        X_test_scaled = X_test\n",
    "    else:\n",
    "        X_train_scaled = scaler.fit_transform(X_train)\n",
    "        X_test_scaled = scaler.transform(X_test)\n",
    "    ###############################################\n",
    "    \n",
    "    \n",
    "    X_train_pca = X_train_scaled\n",
    "    X_test_pca = X_test_scaled\n",
    "    \n",
    "    import tensorflow as tf\n",
    "    tf.keras.utils.set_random_seed(1)\n",
    "    \n",
    "    # Step 3: Build a Neural Network for feature extraction\n",
    "    def build_nn(input_dim):\n",
    "        model = Sequential([\n",
    "            Input(shape=(input_dim,)),  # Use Input layer for the shape\n",
    "            Dense(64, activation='relu'),\n",
    "            Dense(32, activation='relu'),\n",
    "            Dense(1, activation='linear')\n",
    "        ])\n",
    "        model.compile(optimizer=Adam(learning_rate=0.001), loss='mse')\n",
    "        return model\n",
    "\n",
    "    nn = build_nn(X_train_pca.shape[1])\n",
    "    nn.fit(X_train_pca, y_train, epochs=50, batch_size=32, validation_split=0.2, verbose=0)\n",
    "\n",
    "    # Step 4: Extract features from the Neural Network\n",
    "    # Extract the second-to-last layer's output\n",
    "    extractor = Sequential(nn.layers[:-1])\n",
    "    X_train_nn_features = extractor.predict(X_train_pca)\n",
    "    X_test_nn_features = extractor.predict(X_test_pca)\n",
    "\n",
    "    # Step 5: Train a Gradient Boosting Regressor\n",
    "    gbr = model_object\n",
    "    gbr.fit(X_train_nn_features, y_train)\n",
    "\n",
    "    # Step 6: Evaluate the model\n",
    "    y_pred = gbr.predict(X_test_nn_features)\n",
    "    \n",
    "    mae = mean_absolute_error(y_test, y_pred)\n",
    "    rmse = np.sqrt(mean_squared_error(y_test, y_pred))\n",
    "    r_2 = r2_score(y_test, y_pred)\n",
    "    mape = mean_absolute_percentage_error(y_test, y_pred) * 100\n",
    "    \n",
    "    return mae, rmse, r_2, mape, y_pred"
   ]
  },
  {
   "cell_type": "code",
   "execution_count": null,
   "id": "7cf761b0",
   "metadata": {},
   "outputs": [],
   "source": []
  },
  {
   "cell_type": "code",
   "execution_count": null,
   "id": "19e27c9c",
   "metadata": {},
   "outputs": [],
   "source": []
  },
  {
   "cell_type": "code",
   "execution_count": null,
   "id": "b3ed3660",
   "metadata": {},
   "outputs": [],
   "source": []
  },
  {
   "cell_type": "code",
   "execution_count": null,
   "id": "cfae5073",
   "metadata": {},
   "outputs": [],
   "source": []
  },
  {
   "cell_type": "code",
   "execution_count": null,
   "id": "a0654142",
   "metadata": {},
   "outputs": [],
   "source": []
  },
  {
   "cell_type": "code",
   "execution_count": 43,
   "id": "33acf902",
   "metadata": {},
   "outputs": [],
   "source": [
    "def GBR(X_train, X_test, y_train, y_test, scaler_name, model_object):\n",
    "    scaler = None\n",
    "    # Step 1: Initialize the scaler\n",
    "    if scaler_name == 'StandardScaler':\n",
    "        scaler = StandardScaler()\n",
    "        \n",
    "    elif scaler_name == 'Normalizer':\n",
    "        scaler = Normalizer()\n",
    "        \n",
    "    elif scaler_name == 'MinMaxScaler':\n",
    "        scaler = MinMaxScaler()\n",
    "        \n",
    "    elif scaler_name == 'PowerTransformer':\n",
    "        scaler = PowerTransformer(method='yeo-johnson')\n",
    "        \n",
    "    elif scaler_name == 'RobustScaler':\n",
    "        scaler = RobustScaler()\n",
    "    \n",
    "    ###############################################\n",
    "    if scaler_name == 'not_processing':\n",
    "        pipeline = Pipeline([\n",
    "            ('gbr', model_object)\n",
    "        ])\n",
    "    else:\n",
    "        pipeline = Pipeline([\n",
    "            ('scaler', scaler),\n",
    "            ('gbr', model_object)\n",
    "        ])\n",
    "    ###############################################\n",
    "\n",
    "    # Fit pipeline\n",
    "    pipeline.fit(X_train, y_train)\n",
    "    y_pred = pipeline.predict(X_test)\n",
    "    \n",
    "    mae = mean_absolute_error(y_test, y_pred)\n",
    "    rmse = np.sqrt(mean_squared_error(y_test, y_pred))\n",
    "    r_2 = r2_score(y_test, y_pred)\n",
    "    mape = mean_absolute_percentage_error(y_test, y_pred) * 100\n",
    "    \n",
    "    return mae, rmse, r_2, mape, y_pred"
   ]
  },
  {
   "cell_type": "code",
   "execution_count": null,
   "id": "ff498c4c",
   "metadata": {},
   "outputs": [],
   "source": []
  },
  {
   "cell_type": "code",
   "execution_count": null,
   "id": "368a801f",
   "metadata": {},
   "outputs": [],
   "source": []
  },
  {
   "cell_type": "code",
   "execution_count": null,
   "id": "27f5c21c",
   "metadata": {},
   "outputs": [],
   "source": []
  },
  {
   "cell_type": "code",
   "execution_count": 44,
   "id": "befbc4aa",
   "metadata": {},
   "outputs": [],
   "source": [
    "model_dict = {\n",
    "#     'GradientBoostingRegressor':GradientBoostingRegressor(n_estimators=200, learning_rate=0.05, max_depth=3, random_state=42),\n",
    "#     'RandomForestRegressor':RandomForestRegressor(random_state=42,n_estimators=300),\n",
    "#     'AdaBoostRegressor': AdaBoostRegressor(n_estimators=100,random_state=42),\n",
    "#     'xgboost.XGBRegressor' : xgboost.XGBRegressor(objective='reg:linear',n_estimators = 100, random_state=42)\n",
    "#     'KNeighborsRegressor' : KNeighborsRegressor(n_neighbors=5),\n",
    "    'LinearRegression' : LinearRegression()\n",
    "#     'DecisionTreeRegressor' : DecisionTreeRegressor(random_state=42)\n",
    "}"
   ]
  },
  {
   "cell_type": "code",
   "execution_count": null,
   "id": "1d614a31",
   "metadata": {},
   "outputs": [],
   "source": []
  },
  {
   "cell_type": "code",
   "execution_count": null,
   "id": "dedb6a38",
   "metadata": {},
   "outputs": [],
   "source": []
  },
  {
   "cell_type": "code",
   "execution_count": 45,
   "id": "4d777e43",
   "metadata": {},
   "outputs": [
    {
     "name": "stdout",
     "output_type": "stream",
     "text": [
      "Amsterdam\n",
      "13.541666666666668 41.66666666666667\n"
     ]
    },
    {
     "name": "stderr",
     "output_type": "stream",
     "text": [
      "C:\\Users\\HP\\AppData\\Local\\Temp\\ipykernel_20712\\3734773123.py:11: SettingWithCopyWarning: \n",
      "A value is trying to be set on a copy of a slice from a DataFrame\n",
      "\n",
      "See the caveats in the documentation: https://pandas.pydata.org/pandas-docs/stable/user_guide/indexing.html#returning-a-view-versus-a-copy\n",
      "  city_df.drop(columns=['location', 'country', 'latitude', 'longitude', 'generationtime_ms','elevation','Date'],inplace=True)\n"
     ]
    },
    {
     "name": "stdout",
     "output_type": "stream",
     "text": [
      "\u001b[1m37/37\u001b[0m \u001b[32m━━━━━━━━━━━━━━━━━━━━\u001b[0m\u001b[37m\u001b[0m \u001b[1m0s\u001b[0m 2ms/step \n",
      "\u001b[1m10/10\u001b[0m \u001b[32m━━━━━━━━━━━━━━━━━━━━\u001b[0m\u001b[37m\u001b[0m \u001b[1m0s\u001b[0m 2ms/step \n",
      "['Netherlands', 'Amsterdam', 1.1359901656062936, 1.4244278358127362, 0.970463166910633, 4.617564238863571, 'fold_1', 'StandardScaler', 'NN-ML', 'LinearRegression']\n",
      "\u001b[1m37/37\u001b[0m \u001b[32m━━━━━━━━━━━━━━━━━━━━\u001b[0m\u001b[37m\u001b[0m \u001b[1m0s\u001b[0m 2ms/step \n",
      "\u001b[1m10/10\u001b[0m \u001b[32m━━━━━━━━━━━━━━━━━━━━\u001b[0m\u001b[37m\u001b[0m \u001b[1m0s\u001b[0m 2ms/step \n",
      "['Netherlands', 'Amsterdam', 1.0892540308982817, 1.3982263778390023, 0.9804032123674619, 4.593044616335813, 'fold_2', 'StandardScaler', 'NN-ML', 'LinearRegression']\n",
      "\u001b[1m37/37\u001b[0m \u001b[32m━━━━━━━━━━━━━━━━━━━━\u001b[0m\u001b[37m\u001b[0m \u001b[1m0s\u001b[0m 1ms/step \n",
      "\u001b[1m10/10\u001b[0m \u001b[32m━━━━━━━━━━━━━━━━━━━━\u001b[0m\u001b[37m\u001b[0m \u001b[1m0s\u001b[0m 3ms/step \n",
      "['Netherlands', 'Amsterdam', 0.9202199548346812, 1.1258832806438428, 0.9840097272153175, 3.848706182663147, 'fold_3', 'StandardScaler', 'NN-ML', 'LinearRegression']\n",
      "\u001b[1m37/37\u001b[0m \u001b[32m━━━━━━━━━━━━━━━━━━━━\u001b[0m\u001b[37m\u001b[0m \u001b[1m0s\u001b[0m 1ms/step \n",
      "\u001b[1m10/10\u001b[0m \u001b[32m━━━━━━━━━━━━━━━━━━━━\u001b[0m\u001b[37m\u001b[0m \u001b[1m0s\u001b[0m 2ms/step \n",
      "['Netherlands', 'Amsterdam', 0.9765443649466177, 1.2649587794098236, 0.9694590226115661, 4.3388783052079445, 'fold_4', 'StandardScaler', 'NN-ML', 'LinearRegression']\n",
      "\u001b[1m37/37\u001b[0m \u001b[32m━━━━━━━━━━━━━━━━━━━━\u001b[0m\u001b[37m\u001b[0m \u001b[1m0s\u001b[0m 1ms/step \n",
      "\u001b[1m10/10\u001b[0m \u001b[32m━━━━━━━━━━━━━━━━━━━━\u001b[0m\u001b[37m\u001b[0m \u001b[1m0s\u001b[0m 2ms/step \n",
      "['Netherlands', 'Amsterdam', 1.1079168755169875, 1.4035125021764503, 0.9748019665735225, 4.264891141569295, 'fold_5', 'StandardScaler', 'NN-ML', 'LinearRegression']\n",
      "Athens\n",
      "18.375 57.4375\n"
     ]
    },
    {
     "name": "stderr",
     "output_type": "stream",
     "text": [
      "C:\\Users\\HP\\AppData\\Local\\Temp\\ipykernel_20712\\3734773123.py:11: SettingWithCopyWarning: \n",
      "A value is trying to be set on a copy of a slice from a DataFrame\n",
      "\n",
      "See the caveats in the documentation: https://pandas.pydata.org/pandas-docs/stable/user_guide/indexing.html#returning-a-view-versus-a-copy\n",
      "  city_df.drop(columns=['location', 'country', 'latitude', 'longitude', 'generationtime_ms','elevation','Date'],inplace=True)\n"
     ]
    },
    {
     "name": "stdout",
     "output_type": "stream",
     "text": [
      "\u001b[1m37/37\u001b[0m \u001b[32m━━━━━━━━━━━━━━━━━━━━\u001b[0m\u001b[37m\u001b[0m \u001b[1m0s\u001b[0m 2ms/step \n",
      "\u001b[1m10/10\u001b[0m \u001b[32m━━━━━━━━━━━━━━━━━━━━\u001b[0m\u001b[37m\u001b[0m \u001b[1m0s\u001b[0m 2ms/step \n",
      "['Greece', 'Athens', 1.036034528712771, 1.5332725888523087, 0.9777558082703109, 2.592216738008245, 'fold_1', 'StandardScaler', 'NN-ML', 'LinearRegression']\n",
      "\u001b[1m37/37\u001b[0m \u001b[32m━━━━━━━━━━━━━━━━━━━━\u001b[0m\u001b[37m\u001b[0m \u001b[1m0s\u001b[0m 2ms/step \n",
      "\u001b[1m10/10\u001b[0m \u001b[32m━━━━━━━━━━━━━━━━━━━━\u001b[0m\u001b[37m\u001b[0m \u001b[1m0s\u001b[0m 2ms/step \n",
      "['Greece', 'Athens', 0.9921871320297726, 1.312776704690273, 0.9779379920497614, 3.0758954205246636, 'fold_2', 'StandardScaler', 'NN-ML', 'LinearRegression']\n",
      "\u001b[1m37/37\u001b[0m \u001b[32m━━━━━━━━━━━━━━━━━━━━\u001b[0m\u001b[37m\u001b[0m \u001b[1m0s\u001b[0m 1ms/step \n",
      "\u001b[1m10/10\u001b[0m \u001b[32m━━━━━━━━━━━━━━━━━━━━\u001b[0m\u001b[37m\u001b[0m \u001b[1m0s\u001b[0m 3ms/step \n",
      "['Greece', 'Athens', 0.9984051038141122, 1.2676484339874794, 0.9834573363070799, 3.0221231391333423, 'fold_3', 'StandardScaler', 'NN-ML', 'LinearRegression']\n",
      "\u001b[1m37/37\u001b[0m \u001b[32m━━━━━━━━━━━━━━━━━━━━\u001b[0m\u001b[37m\u001b[0m \u001b[1m0s\u001b[0m 1ms/step \n",
      "\u001b[1m10/10\u001b[0m \u001b[32m━━━━━━━━━━━━━━━━━━━━\u001b[0m\u001b[37m\u001b[0m \u001b[1m0s\u001b[0m 2ms/step \n",
      "['Greece', 'Athens', 1.3444190482570704, 1.759424435848204, 0.9563311624309221, 4.026626379991036, 'fold_4', 'StandardScaler', 'NN-ML', 'LinearRegression']\n",
      "\u001b[1m37/37\u001b[0m \u001b[32m━━━━━━━━━━━━━━━━━━━━\u001b[0m\u001b[37m\u001b[0m \u001b[1m0s\u001b[0m 1ms/step \n",
      "\u001b[1m10/10\u001b[0m \u001b[32m━━━━━━━━━━━━━━━━━━━━\u001b[0m\u001b[37m\u001b[0m \u001b[1m0s\u001b[0m 2ms/step \n",
      "['Greece', 'Athens', 1.3326699156739397, 1.8321906586896475, 0.9656502960420345, 3.9055290498085258, 'fold_5', 'StandardScaler', 'NN-ML', 'LinearRegression']\n",
      "Barcelona\n",
      "16.125 55.343749999999986\n"
     ]
    },
    {
     "name": "stderr",
     "output_type": "stream",
     "text": [
      "C:\\Users\\HP\\AppData\\Local\\Temp\\ipykernel_20712\\3734773123.py:11: SettingWithCopyWarning: \n",
      "A value is trying to be set on a copy of a slice from a DataFrame\n",
      "\n",
      "See the caveats in the documentation: https://pandas.pydata.org/pandas-docs/stable/user_guide/indexing.html#returning-a-view-versus-a-copy\n",
      "  city_df.drop(columns=['location', 'country', 'latitude', 'longitude', 'generationtime_ms','elevation','Date'],inplace=True)\n"
     ]
    },
    {
     "name": "stdout",
     "output_type": "stream",
     "text": [
      "\u001b[1m37/37\u001b[0m \u001b[32m━━━━━━━━━━━━━━━━━━━━\u001b[0m\u001b[37m\u001b[0m \u001b[1m0s\u001b[0m 1ms/step \n",
      "\u001b[1m10/10\u001b[0m \u001b[32m━━━━━━━━━━━━━━━━━━━━\u001b[0m\u001b[37m\u001b[0m \u001b[1m0s\u001b[0m 2ms/step \n",
      "['Spain', 'Barcelona', 1.0469575866768657, 1.3557713287367537, 0.9763738289391256, 3.5001075340344108, 'fold_1', 'StandardScaler', 'NN-ML', 'LinearRegression']\n",
      "\u001b[1m37/37\u001b[0m \u001b[32m━━━━━━━━━━━━━━━━━━━━\u001b[0m\u001b[37m\u001b[0m \u001b[1m0s\u001b[0m 1ms/step \n",
      "\u001b[1m10/10\u001b[0m \u001b[32m━━━━━━━━━━━━━━━━━━━━\u001b[0m\u001b[37m\u001b[0m \u001b[1m0s\u001b[0m 2ms/step \n",
      "['Spain', 'Barcelona', 1.0764126625235224, 1.5019071837802391, 0.9825673759833101, 3.3565375105641766, 'fold_2', 'StandardScaler', 'NN-ML', 'LinearRegression']\n",
      "\u001b[1m37/37\u001b[0m \u001b[32m━━━━━━━━━━━━━━━━━━━━\u001b[0m\u001b[37m\u001b[0m \u001b[1m0s\u001b[0m 2ms/step \n",
      "\u001b[1m10/10\u001b[0m \u001b[32m━━━━━━━━━━━━━━━━━━━━\u001b[0m\u001b[37m\u001b[0m \u001b[1m0s\u001b[0m 2ms/step \n",
      "['Spain', 'Barcelona', 1.0389324475641124, 1.6086925526519253, 0.9838744403923301, 3.2381640123422937, 'fold_3', 'StandardScaler', 'NN-ML', 'LinearRegression']\n",
      "\u001b[1m37/37\u001b[0m \u001b[32m━━━━━━━━━━━━━━━━━━━━\u001b[0m\u001b[37m\u001b[0m \u001b[1m0s\u001b[0m 1ms/step \n",
      "\u001b[1m10/10\u001b[0m \u001b[32m━━━━━━━━━━━━━━━━━━━━\u001b[0m\u001b[37m\u001b[0m \u001b[1m0s\u001b[0m 2ms/step \n",
      "['Spain', 'Barcelona', 1.0011586729250002, 1.3166776312836124, 0.9898935889321521, 3.199764911947766, 'fold_4', 'StandardScaler', 'NN-ML', 'LinearRegression']\n",
      "\u001b[1m37/37\u001b[0m \u001b[32m━━━━━━━━━━━━━━━━━━━━\u001b[0m\u001b[37m\u001b[0m \u001b[1m0s\u001b[0m 1ms/step \n",
      "\u001b[1m10/10\u001b[0m \u001b[32m━━━━━━━━━━━━━━━━━━━━\u001b[0m\u001b[37m\u001b[0m \u001b[1m0s\u001b[0m 2ms/step \n",
      "['Spain', 'Barcelona', 1.4508414290267033, 1.8114757718566936, 0.9618203783291243, 4.860392285113132, 'fold_5', 'StandardScaler', 'NN-ML', 'LinearRegression']\n",
      "Berlin\n",
      "12.791666666666671 46.85416666666666\n"
     ]
    },
    {
     "name": "stderr",
     "output_type": "stream",
     "text": [
      "C:\\Users\\HP\\AppData\\Local\\Temp\\ipykernel_20712\\3734773123.py:11: SettingWithCopyWarning: \n",
      "A value is trying to be set on a copy of a slice from a DataFrame\n",
      "\n",
      "See the caveats in the documentation: https://pandas.pydata.org/pandas-docs/stable/user_guide/indexing.html#returning-a-view-versus-a-copy\n",
      "  city_df.drop(columns=['location', 'country', 'latitude', 'longitude', 'generationtime_ms','elevation','Date'],inplace=True)\n"
     ]
    },
    {
     "name": "stdout",
     "output_type": "stream",
     "text": [
      "\u001b[1m37/37\u001b[0m \u001b[32m━━━━━━━━━━━━━━━━━━━━\u001b[0m\u001b[37m\u001b[0m \u001b[1m0s\u001b[0m 2ms/step \n",
      "\u001b[1m10/10\u001b[0m \u001b[32m━━━━━━━━━━━━━━━━━━━━\u001b[0m\u001b[37m\u001b[0m \u001b[1m0s\u001b[0m 2ms/step \n",
      "['Germany', 'Berlin', 0.9567012200990229, 1.24641004049077, 0.9836289047014221, 3.7401297658394186, 'fold_1', 'StandardScaler', 'NN-ML', 'LinearRegression']\n",
      "\u001b[1m37/37\u001b[0m \u001b[32m━━━━━━━━━━━━━━━━━━━━\u001b[0m\u001b[37m\u001b[0m \u001b[1m0s\u001b[0m 1ms/step \n",
      "\u001b[1m10/10\u001b[0m \u001b[32m━━━━━━━━━━━━━━━━━━━━\u001b[0m\u001b[37m\u001b[0m \u001b[1m0s\u001b[0m 2ms/step \n",
      "['Germany', 'Berlin', 0.7410331044567225, 1.0149847046194163, 0.9910326507535996, 2.839641262180004, 'fold_2', 'StandardScaler', 'NN-ML', 'LinearRegression']\n",
      "\u001b[1m37/37\u001b[0m \u001b[32m━━━━━━━━━━━━━━━━━━━━\u001b[0m\u001b[37m\u001b[0m \u001b[1m0s\u001b[0m 2ms/step \n",
      "\u001b[1m10/10\u001b[0m \u001b[32m━━━━━━━━━━━━━━━━━━━━\u001b[0m\u001b[37m\u001b[0m \u001b[1m0s\u001b[0m 2ms/step \n",
      "['Germany', 'Berlin', 0.7219555497713828, 0.9738409838373722, 0.9922129483463046, 3.0542347378085486, 'fold_3', 'StandardScaler', 'NN-ML', 'LinearRegression']\n",
      "\u001b[1m37/37\u001b[0m \u001b[32m━━━━━━━━━━━━━━━━━━━━\u001b[0m\u001b[37m\u001b[0m \u001b[1m0s\u001b[0m 1ms/step \n",
      "\u001b[1m10/10\u001b[0m \u001b[32m━━━━━━━━━━━━━━━━━━━━\u001b[0m\u001b[37m\u001b[0m \u001b[1m0s\u001b[0m 2ms/step \n",
      "['Germany', 'Berlin', 0.6945556124595749, 0.9294547162247245, 0.9857901216317889, 3.011720144470035, 'fold_4', 'StandardScaler', 'NN-ML', 'LinearRegression']\n",
      "\u001b[1m37/37\u001b[0m \u001b[32m━━━━━━━━━━━━━━━━━━━━\u001b[0m\u001b[37m\u001b[0m \u001b[1m0s\u001b[0m 1ms/step \n",
      "\u001b[1m10/10\u001b[0m \u001b[32m━━━━━━━━━━━━━━━━━━━━\u001b[0m\u001b[37m\u001b[0m \u001b[1m0s\u001b[0m 2ms/step \n",
      "['Germany', 'Berlin', 0.666584305567284, 0.9237943326878871, 0.9866629198945185, 2.6458299445511986, 'fold_5', 'StandardScaler', 'NN-ML', 'LinearRegression']\n",
      "Bruges\n",
      "13.875 44.8125\n"
     ]
    },
    {
     "name": "stderr",
     "output_type": "stream",
     "text": [
      "C:\\Users\\HP\\AppData\\Local\\Temp\\ipykernel_20712\\3734773123.py:11: SettingWithCopyWarning: \n",
      "A value is trying to be set on a copy of a slice from a DataFrame\n",
      "\n",
      "See the caveats in the documentation: https://pandas.pydata.org/pandas-docs/stable/user_guide/indexing.html#returning-a-view-versus-a-copy\n",
      "  city_df.drop(columns=['location', 'country', 'latitude', 'longitude', 'generationtime_ms','elevation','Date'],inplace=True)\n"
     ]
    },
    {
     "name": "stdout",
     "output_type": "stream",
     "text": [
      "\u001b[1m37/37\u001b[0m \u001b[32m━━━━━━━━━━━━━━━━━━━━\u001b[0m\u001b[37m\u001b[0m \u001b[1m0s\u001b[0m 1ms/step \n",
      "\u001b[1m10/10\u001b[0m \u001b[32m━━━━━━━━━━━━━━━━━━━━\u001b[0m\u001b[37m\u001b[0m \u001b[1m0s\u001b[0m 2ms/step \n",
      "['Belgium', 'Bruges', 0.9571840961096093, 1.3636966993576218, 0.9804869420897592, 3.5583718147815477, 'fold_1', 'StandardScaler', 'NN-ML', 'LinearRegression']\n",
      "\u001b[1m37/37\u001b[0m \u001b[32m━━━━━━━━━━━━━━━━━━━━\u001b[0m\u001b[37m\u001b[0m \u001b[1m0s\u001b[0m 1ms/step \n",
      "\u001b[1m10/10\u001b[0m \u001b[32m━━━━━━━━━━━━━━━━━━━━\u001b[0m\u001b[37m\u001b[0m \u001b[1m0s\u001b[0m 2ms/step \n",
      "['Belgium', 'Bruges', 0.7697819705423156, 1.0050535889201522, 0.9927456061423829, 3.0612482017841587, 'fold_2', 'StandardScaler', 'NN-ML', 'LinearRegression']\n",
      "\u001b[1m37/37\u001b[0m \u001b[32m━━━━━━━━━━━━━━━━━━━━\u001b[0m\u001b[37m\u001b[0m \u001b[1m0s\u001b[0m 1ms/step \n",
      "\u001b[1m10/10\u001b[0m \u001b[32m━━━━━━━━━━━━━━━━━━━━\u001b[0m\u001b[37m\u001b[0m \u001b[1m0s\u001b[0m 2ms/step \n",
      "['Belgium', 'Bruges', 0.7904416349924864, 1.103524152929086, 0.9897005977505814, 3.1615331584966224, 'fold_3', 'StandardScaler', 'NN-ML', 'LinearRegression']\n",
      "\u001b[1m37/37\u001b[0m \u001b[32m━━━━━━━━━━━━━━━━━━━━\u001b[0m\u001b[37m\u001b[0m \u001b[1m0s\u001b[0m 1ms/step \n",
      "\u001b[1m10/10\u001b[0m \u001b[32m━━━━━━━━━━━━━━━━━━━━\u001b[0m\u001b[37m\u001b[0m \u001b[1m0s\u001b[0m 2ms/step \n",
      "['Belgium', 'Bruges', 0.8506001511665239, 1.1347845771481786, 0.9738721978403038, 3.466516065530742, 'fold_4', 'StandardScaler', 'NN-ML', 'LinearRegression']\n",
      "\u001b[1m37/37\u001b[0m \u001b[32m━━━━━━━━━━━━━━━━━━━━\u001b[0m\u001b[37m\u001b[0m \u001b[1m0s\u001b[0m 2ms/step \n",
      "\u001b[1m10/10\u001b[0m \u001b[32m━━━━━━━━━━━━━━━━━━━━\u001b[0m\u001b[37m\u001b[0m \u001b[1m0s\u001b[0m 2ms/step \n",
      "['Belgium', 'Bruges', 0.7291298544025856, 0.9433733385991503, 0.9907504824918525, 2.707612510422851, 'fold_5', 'StandardScaler', 'NN-ML', 'LinearRegression']\n",
      "Brussels\n",
      "11.833333333333332 46.677083333333336\n"
     ]
    },
    {
     "name": "stderr",
     "output_type": "stream",
     "text": [
      "C:\\Users\\HP\\AppData\\Local\\Temp\\ipykernel_20712\\3734773123.py:11: SettingWithCopyWarning: \n",
      "A value is trying to be set on a copy of a slice from a DataFrame\n",
      "\n",
      "See the caveats in the documentation: https://pandas.pydata.org/pandas-docs/stable/user_guide/indexing.html#returning-a-view-versus-a-copy\n",
      "  city_df.drop(columns=['location', 'country', 'latitude', 'longitude', 'generationtime_ms','elevation','Date'],inplace=True)\n"
     ]
    },
    {
     "name": "stdout",
     "output_type": "stream",
     "text": [
      "\u001b[1m37/37\u001b[0m \u001b[32m━━━━━━━━━━━━━━━━━━━━\u001b[0m\u001b[37m\u001b[0m \u001b[1m0s\u001b[0m 1ms/step \n",
      "\u001b[1m10/10\u001b[0m \u001b[32m━━━━━━━━━━━━━━━━━━━━\u001b[0m\u001b[37m\u001b[0m \u001b[1m0s\u001b[0m 2ms/step \n",
      "['Belgium', 'Brussels', 0.93067397463715, 1.4447131174522019, 0.9803960798325878, 3.536794661595595, 'fold_1', 'StandardScaler', 'NN-ML', 'LinearRegression']\n",
      "\u001b[1m37/37\u001b[0m \u001b[32m━━━━━━━━━━━━━━━━━━━━\u001b[0m\u001b[37m\u001b[0m \u001b[1m0s\u001b[0m 1ms/step \n",
      "\u001b[1m10/10\u001b[0m \u001b[32m━━━━━━━━━━━━━━━━━━━━\u001b[0m\u001b[37m\u001b[0m \u001b[1m0s\u001b[0m 2ms/step \n",
      "['Belgium', 'Brussels', 0.6843715029764391, 0.9399222802740584, 0.9932148113728662, 2.810570535045272, 'fold_2', 'StandardScaler', 'NN-ML', 'LinearRegression']\n",
      "\u001b[1m37/37\u001b[0m \u001b[32m━━━━━━━━━━━━━━━━━━━━\u001b[0m\u001b[37m\u001b[0m \u001b[1m0s\u001b[0m 2ms/step \n",
      "\u001b[1m10/10\u001b[0m \u001b[32m━━━━━━━━━━━━━━━━━━━━\u001b[0m\u001b[37m\u001b[0m \u001b[1m0s\u001b[0m 2ms/step \n",
      "['Belgium', 'Brussels', 0.7804290116105448, 1.0866869956633738, 0.990613359241895, 3.2739857406386914, 'fold_3', 'StandardScaler', 'NN-ML', 'LinearRegression']\n",
      "\u001b[1m37/37\u001b[0m \u001b[32m━━━━━━━━━━━━━━━━━━━━\u001b[0m\u001b[37m\u001b[0m \u001b[1m0s\u001b[0m 1ms/step \n",
      "\u001b[1m10/10\u001b[0m \u001b[32m━━━━━━━━━━━━━━━━━━━━\u001b[0m\u001b[37m\u001b[0m \u001b[1m0s\u001b[0m 2ms/step \n",
      "['Belgium', 'Brussels', 0.9715562236907823, 1.3501495937757515, 0.9734640903245533, 4.391813129159612, 'fold_4', 'StandardScaler', 'NN-ML', 'LinearRegression']\n",
      "\u001b[1m37/37\u001b[0m \u001b[32m━━━━━━━━━━━━━━━━━━━━\u001b[0m\u001b[37m\u001b[0m \u001b[1m0s\u001b[0m 1ms/step \n",
      "\u001b[1m10/10\u001b[0m \u001b[32m━━━━━━━━━━━━━━━━━━━━\u001b[0m\u001b[37m\u001b[0m \u001b[1m0s\u001b[0m 2ms/step \n",
      "['Belgium', 'Brussels', 0.8209634458637671, 1.1069248963347211, 0.9891534645700704, 3.1018006355404126, 'fold_5', 'StandardScaler', 'NN-ML', 'LinearRegression']\n",
      "Budapest\n",
      "11.25 69.84375\n"
     ]
    },
    {
     "name": "stderr",
     "output_type": "stream",
     "text": [
      "C:\\Users\\HP\\AppData\\Local\\Temp\\ipykernel_20712\\3734773123.py:11: SettingWithCopyWarning: \n",
      "A value is trying to be set on a copy of a slice from a DataFrame\n",
      "\n",
      "See the caveats in the documentation: https://pandas.pydata.org/pandas-docs/stable/user_guide/indexing.html#returning-a-view-versus-a-copy\n",
      "  city_df.drop(columns=['location', 'country', 'latitude', 'longitude', 'generationtime_ms','elevation','Date'],inplace=True)\n"
     ]
    },
    {
     "name": "stdout",
     "output_type": "stream",
     "text": [
      "\u001b[1m37/37\u001b[0m \u001b[32m━━━━━━━━━━━━━━━━━━━━\u001b[0m\u001b[37m\u001b[0m \u001b[1m0s\u001b[0m 1ms/step \n",
      "\u001b[1m10/10\u001b[0m \u001b[32m━━━━━━━━━━━━━━━━━━━━\u001b[0m\u001b[37m\u001b[0m \u001b[1m0s\u001b[0m 2ms/step \n",
      "['Hungary', 'Budapest', 2.035983436072374, 2.496880712826955, 0.9690540656672785, 6.474680773442277, 'fold_1', 'StandardScaler', 'NN-ML', 'LinearRegression']\n",
      "\u001b[1m37/37\u001b[0m \u001b[32m━━━━━━━━━━━━━━━━━━━━\u001b[0m\u001b[37m\u001b[0m \u001b[1m0s\u001b[0m 1ms/step \n",
      "\u001b[1m10/10\u001b[0m \u001b[32m━━━━━━━━━━━━━━━━━━━━\u001b[0m\u001b[37m\u001b[0m \u001b[1m0s\u001b[0m 2ms/step \n",
      "['Hungary', 'Budapest', 1.6900353431701656, 2.1441180195028946, 0.9819514744956596, 5.218001911812084, 'fold_2', 'StandardScaler', 'NN-ML', 'LinearRegression']\n",
      "\u001b[1m37/37\u001b[0m \u001b[32m━━━━━━━━━━━━━━━━━━━━\u001b[0m\u001b[37m\u001b[0m \u001b[1m0s\u001b[0m 1ms/step \n",
      "\u001b[1m10/10\u001b[0m \u001b[32m━━━━━━━━━━━━━━━━━━━━\u001b[0m\u001b[37m\u001b[0m \u001b[1m0s\u001b[0m 2ms/step \n",
      "['Hungary', 'Budapest', 1.441830574105319, 1.825947216294599, 0.9849544123193197, 4.711083337661187, 'fold_3', 'StandardScaler', 'NN-ML', 'LinearRegression']\n",
      "\u001b[1m37/37\u001b[0m \u001b[32m━━━━━━━━━━━━━━━━━━━━\u001b[0m\u001b[37m\u001b[0m \u001b[1m0s\u001b[0m 1ms/step \n",
      "\u001b[1m10/10\u001b[0m \u001b[32m━━━━━━━━━━━━━━━━━━━━\u001b[0m\u001b[37m\u001b[0m \u001b[1m0s\u001b[0m 2ms/step \n",
      "['Hungary', 'Budapest', 2.25836439110917, 2.7901597271647107, 0.9621317581527717, 7.305705596669335, 'fold_4', 'StandardScaler', 'NN-ML', 'LinearRegression']\n",
      "\u001b[1m37/37\u001b[0m \u001b[32m━━━━━━━━━━━━━━━━━━━━\u001b[0m\u001b[37m\u001b[0m \u001b[1m0s\u001b[0m 1ms/step \n",
      "\u001b[1m10/10\u001b[0m \u001b[32m━━━━━━━━━━━━━━━━━━━━\u001b[0m\u001b[37m\u001b[0m \u001b[1m0s\u001b[0m 2ms/step \n",
      "['Hungary', 'Budapest', 3.517247816199038, 4.223622239080516, 0.9189685187242891, 12.14407582102305, 'fold_5', 'StandardScaler', 'NN-ML', 'LinearRegression']\n",
      "Cluj-Napoca\n",
      "12.083333333333336 60.20833333333333\n"
     ]
    },
    {
     "name": "stderr",
     "output_type": "stream",
     "text": [
      "C:\\Users\\HP\\AppData\\Local\\Temp\\ipykernel_20712\\3734773123.py:11: SettingWithCopyWarning: \n",
      "A value is trying to be set on a copy of a slice from a DataFrame\n",
      "\n",
      "See the caveats in the documentation: https://pandas.pydata.org/pandas-docs/stable/user_guide/indexing.html#returning-a-view-versus-a-copy\n",
      "  city_df.drop(columns=['location', 'country', 'latitude', 'longitude', 'generationtime_ms','elevation','Date'],inplace=True)\n"
     ]
    },
    {
     "name": "stdout",
     "output_type": "stream",
     "text": [
      "\u001b[1m37/37\u001b[0m \u001b[32m━━━━━━━━━━━━━━━━━━━━\u001b[0m\u001b[37m\u001b[0m \u001b[1m0s\u001b[0m 1ms/step \n",
      "\u001b[1m10/10\u001b[0m \u001b[32m━━━━━━━━━━━━━━━━━━━━\u001b[0m\u001b[37m\u001b[0m \u001b[1m0s\u001b[0m 2ms/step \n",
      "['Romania', 'Cluj-Napoca', 1.3009451713171427, 1.653675662678843, 0.9839175524815812, 4.47301959885953, 'fold_1', 'StandardScaler', 'NN-ML', 'LinearRegression']\n",
      "\u001b[1m37/37\u001b[0m \u001b[32m━━━━━━━━━━━━━━━━━━━━\u001b[0m\u001b[37m\u001b[0m \u001b[1m0s\u001b[0m 1ms/step \n",
      "\u001b[1m10/10\u001b[0m \u001b[32m━━━━━━━━━━━━━━━━━━━━\u001b[0m\u001b[37m\u001b[0m \u001b[1m0s\u001b[0m 2ms/step \n",
      "['Romania', 'Cluj-Napoca', 1.5003280269500878, 1.8950173185690184, 0.9768047781497773, 5.285417993333154, 'fold_2', 'StandardScaler', 'NN-ML', 'LinearRegression']\n",
      "\u001b[1m37/37\u001b[0m \u001b[32m━━━━━━━━━━━━━━━━━━━━\u001b[0m\u001b[37m\u001b[0m \u001b[1m0s\u001b[0m 2ms/step \n",
      "\u001b[1m10/10\u001b[0m \u001b[32m━━━━━━━━━━━━━━━━━━━━\u001b[0m\u001b[37m\u001b[0m \u001b[1m0s\u001b[0m 2ms/step \n",
      "['Romania', 'Cluj-Napoca', 1.1799494664962975, 1.5680970845925617, 0.9880546326976422, 4.346348435273534, 'fold_3', 'StandardScaler', 'NN-ML', 'LinearRegression']\n",
      "\u001b[1m37/37\u001b[0m \u001b[32m━━━━━━━━━━━━━━━━━━━━\u001b[0m\u001b[37m\u001b[0m \u001b[1m0s\u001b[0m 1ms/step \n",
      "\u001b[1m10/10\u001b[0m \u001b[32m━━━━━━━━━━━━━━━━━━━━\u001b[0m\u001b[37m\u001b[0m \u001b[1m0s\u001b[0m 2ms/step \n",
      "['Romania', 'Cluj-Napoca', 1.4334679716798266, 2.004641403201024, 0.9795240291399018, 4.917543630306965, 'fold_4', 'StandardScaler', 'NN-ML', 'LinearRegression']\n",
      "\u001b[1m37/37\u001b[0m \u001b[32m━━━━━━━━━━━━━━━━━━━━\u001b[0m\u001b[37m\u001b[0m \u001b[1m0s\u001b[0m 1ms/step \n",
      "\u001b[1m10/10\u001b[0m \u001b[32m━━━━━━━━━━━━━━━━━━━━\u001b[0m\u001b[37m\u001b[0m \u001b[1m0s\u001b[0m 2ms/step \n",
      "['Romania', 'Cluj-Napoca', 1.6305111728302413, 2.393236500127273, 0.9682222840335061, 5.168552430629552, 'fold_5', 'StandardScaler', 'NN-ML', 'LinearRegression']\n",
      "Copenhagen\n",
      "14.916666666666668 40.22916666666667\n"
     ]
    },
    {
     "name": "stderr",
     "output_type": "stream",
     "text": [
      "C:\\Users\\HP\\AppData\\Local\\Temp\\ipykernel_20712\\3734773123.py:11: SettingWithCopyWarning: \n",
      "A value is trying to be set on a copy of a slice from a DataFrame\n",
      "\n",
      "See the caveats in the documentation: https://pandas.pydata.org/pandas-docs/stable/user_guide/indexing.html#returning-a-view-versus-a-copy\n",
      "  city_df.drop(columns=['location', 'country', 'latitude', 'longitude', 'generationtime_ms','elevation','Date'],inplace=True)\n"
     ]
    },
    {
     "name": "stdout",
     "output_type": "stream",
     "text": [
      "\u001b[1m37/37\u001b[0m \u001b[32m━━━━━━━━━━━━━━━━━━━━\u001b[0m\u001b[37m\u001b[0m \u001b[1m0s\u001b[0m 1ms/step \n",
      "\u001b[1m10/10\u001b[0m \u001b[32m━━━━━━━━━━━━━━━━━━━━\u001b[0m\u001b[37m\u001b[0m \u001b[1m0s\u001b[0m 2ms/step \n",
      "['Denmark', 'Copenhagen', 0.9819342360426007, 1.3200166950883012, 0.9515399498710929, 4.1933505851835795, 'fold_1', 'StandardScaler', 'NN-ML', 'LinearRegression']\n",
      "\u001b[1m37/37\u001b[0m \u001b[32m━━━━━━━━━━━━━━━━━━━━\u001b[0m\u001b[37m\u001b[0m \u001b[1m0s\u001b[0m 1ms/step \n",
      "\u001b[1m10/10\u001b[0m \u001b[32m━━━━━━━━━━━━━━━━━━━━\u001b[0m\u001b[37m\u001b[0m \u001b[1m0s\u001b[0m 2ms/step \n",
      "['Denmark', 'Copenhagen', 0.6231182536033733, 0.914018494013146, 0.9849834400542953, 2.6017164430599835, 'fold_2', 'StandardScaler', 'NN-ML', 'LinearRegression']\n",
      "\u001b[1m37/37\u001b[0m \u001b[32m━━━━━━━━━━━━━━━━━━━━\u001b[0m\u001b[37m\u001b[0m \u001b[1m0s\u001b[0m 1ms/step \n",
      "\u001b[1m10/10\u001b[0m \u001b[32m━━━━━━━━━━━━━━━━━━━━\u001b[0m\u001b[37m\u001b[0m \u001b[1m0s\u001b[0m 2ms/step \n",
      "['Denmark', 'Copenhagen', 0.6860619288056946, 0.866880303067003, 0.9790119394517192, 3.0199813221894862, 'fold_3', 'StandardScaler', 'NN-ML', 'LinearRegression']\n",
      "\u001b[1m37/37\u001b[0m \u001b[32m━━━━━━━━━━━━━━━━━━━━\u001b[0m\u001b[37m\u001b[0m \u001b[1m0s\u001b[0m 1ms/step \n",
      "\u001b[1m10/10\u001b[0m \u001b[32m━━━━━━━━━━━━━━━━━━━━\u001b[0m\u001b[37m\u001b[0m \u001b[1m0s\u001b[0m 2ms/step \n",
      "['Denmark', 'Copenhagen', 0.8239234266760141, 1.1571208813913363, 0.9640058104976759, 4.059006819254416, 'fold_4', 'StandardScaler', 'NN-ML', 'LinearRegression']\n",
      "\u001b[1m37/37\u001b[0m \u001b[32m━━━━━━━━━━━━━━━━━━━━\u001b[0m\u001b[37m\u001b[0m \u001b[1m0s\u001b[0m 1ms/step \n",
      "\u001b[1m10/10\u001b[0m \u001b[32m━━━━━━━━━━━━━━━━━━━━\u001b[0m\u001b[37m\u001b[0m \u001b[1m0s\u001b[0m 2ms/step \n",
      "['Denmark', 'Copenhagen', 0.9410882671129764, 1.180216445021931, 0.9364022528875688, 3.745548526782133, 'fold_5', 'StandardScaler', 'NN-ML', 'LinearRegression']\n",
      "Frankfurt Airport\n",
      "11.291666666666657 44.72916666666667\n"
     ]
    },
    {
     "name": "stderr",
     "output_type": "stream",
     "text": [
      "C:\\Users\\HP\\AppData\\Local\\Temp\\ipykernel_20712\\3734773123.py:11: SettingWithCopyWarning: \n",
      "A value is trying to be set on a copy of a slice from a DataFrame\n",
      "\n",
      "See the caveats in the documentation: https://pandas.pydata.org/pandas-docs/stable/user_guide/indexing.html#returning-a-view-versus-a-copy\n",
      "  city_df.drop(columns=['location', 'country', 'latitude', 'longitude', 'generationtime_ms','elevation','Date'],inplace=True)\n"
     ]
    },
    {
     "name": "stdout",
     "output_type": "stream",
     "text": [
      "\u001b[1m37/37\u001b[0m \u001b[32m━━━━━━━━━━━━━━━━━━━━\u001b[0m\u001b[37m\u001b[0m \u001b[1m0s\u001b[0m 1ms/step \n",
      "\u001b[1m10/10\u001b[0m \u001b[32m━━━━━━━━━━━━━━━━━━━━\u001b[0m\u001b[37m\u001b[0m \u001b[1m0s\u001b[0m 3ms/step \n",
      "['Germany', 'Frankfurt Airport', 1.150660164391493, 1.5448589967828752, 0.9648587005406631, 4.834329338413373, 'fold_1', 'StandardScaler', 'NN-ML', 'LinearRegression']\n",
      "\u001b[1m37/37\u001b[0m \u001b[32m━━━━━━━━━━━━━━━━━━━━\u001b[0m\u001b[37m\u001b[0m \u001b[1m0s\u001b[0m 1ms/step \n",
      "\u001b[1m10/10\u001b[0m \u001b[32m━━━━━━━━━━━━━━━━━━━━\u001b[0m\u001b[37m\u001b[0m \u001b[1m0s\u001b[0m 2ms/step \n",
      "['Germany', 'Frankfurt Airport', 1.2458178855512787, 1.6060123616525444, 0.9569143367589026, 4.95426421984291, 'fold_2', 'StandardScaler', 'NN-ML', 'LinearRegression']\n",
      "\u001b[1m37/37\u001b[0m \u001b[32m━━━━━━━━━━━━━━━━━━━━\u001b[0m\u001b[37m\u001b[0m \u001b[1m0s\u001b[0m 2ms/step \n",
      "\u001b[1m10/10\u001b[0m \u001b[32m━━━━━━━━━━━━━━━━━━━━\u001b[0m\u001b[37m\u001b[0m \u001b[1m0s\u001b[0m 2ms/step \n",
      "['Germany', 'Frankfurt Airport', 1.0159938945073512, 1.2993318633410613, 0.9795086923399166, 4.419611877277614, 'fold_3', 'StandardScaler', 'NN-ML', 'LinearRegression']\n",
      "\u001b[1m37/37\u001b[0m \u001b[32m━━━━━━━━━━━━━━━━━━━━\u001b[0m\u001b[37m\u001b[0m \u001b[1m0s\u001b[0m 1ms/step \n",
      "\u001b[1m10/10\u001b[0m \u001b[32m━━━━━━━━━━━━━━━━━━━━\u001b[0m\u001b[37m\u001b[0m \u001b[1m0s\u001b[0m 2ms/step \n",
      "['Germany', 'Frankfurt Airport', 1.116549978517506, 1.4245957777406018, 0.9681879309057388, 4.799120095727429, 'fold_4', 'StandardScaler', 'NN-ML', 'LinearRegression']\n",
      "\u001b[1m37/37\u001b[0m \u001b[32m━━━━━━━━━━━━━━━━━━━━\u001b[0m\u001b[37m\u001b[0m \u001b[1m0s\u001b[0m 1ms/step \n",
      "\u001b[1m10/10\u001b[0m \u001b[32m━━━━━━━━━━━━━━━━━━━━\u001b[0m\u001b[37m\u001b[0m \u001b[1m0s\u001b[0m 2ms/step \n",
      "['Germany', 'Frankfurt Airport', 2.366215009123224, 2.7976567999281663, 0.9285695095263715, 10.067334023248744, 'fold_5', 'StandardScaler', 'NN-ML', 'LinearRegression']\n",
      "Ghent\n",
      "12.416666666666671 47.41666666666666\n"
     ]
    },
    {
     "name": "stderr",
     "output_type": "stream",
     "text": [
      "C:\\Users\\HP\\AppData\\Local\\Temp\\ipykernel_20712\\3734773123.py:11: SettingWithCopyWarning: \n",
      "A value is trying to be set on a copy of a slice from a DataFrame\n",
      "\n",
      "See the caveats in the documentation: https://pandas.pydata.org/pandas-docs/stable/user_guide/indexing.html#returning-a-view-versus-a-copy\n",
      "  city_df.drop(columns=['location', 'country', 'latitude', 'longitude', 'generationtime_ms','elevation','Date'],inplace=True)\n"
     ]
    },
    {
     "name": "stdout",
     "output_type": "stream",
     "text": [
      "\u001b[1m37/37\u001b[0m \u001b[32m━━━━━━━━━━━━━━━━━━━━\u001b[0m\u001b[37m\u001b[0m \u001b[1m0s\u001b[0m 2ms/step \n",
      "\u001b[1m10/10\u001b[0m \u001b[32m━━━━━━━━━━━━━━━━━━━━\u001b[0m\u001b[37m\u001b[0m \u001b[1m0s\u001b[0m 2ms/step \n",
      "['Belgium', 'Ghent', 1.4768305671093005, 2.132203100897291, 0.9632190626234057, 5.591146603246261, 'fold_1', 'StandardScaler', 'NN-ML', 'LinearRegression']\n",
      "\u001b[1m37/37\u001b[0m \u001b[32m━━━━━━━━━━━━━━━━━━━━\u001b[0m\u001b[37m\u001b[0m \u001b[1m0s\u001b[0m 2ms/step \n",
      "\u001b[1m10/10\u001b[0m \u001b[32m━━━━━━━━━━━━━━━━━━━━\u001b[0m\u001b[37m\u001b[0m \u001b[1m0s\u001b[0m 2ms/step \n",
      "['Belgium', 'Ghent', 1.1033960586269151, 1.4158939659444847, 0.9872604508227536, 4.300290094188383, 'fold_2', 'StandardScaler', 'NN-ML', 'LinearRegression']\n",
      "\u001b[1m37/37\u001b[0m \u001b[32m━━━━━━━━━━━━━━━━━━━━\u001b[0m\u001b[37m\u001b[0m \u001b[1m0s\u001b[0m 1ms/step \n",
      "\u001b[1m10/10\u001b[0m \u001b[32m━━━━━━━━━━━━━━━━━━━━\u001b[0m\u001b[37m\u001b[0m \u001b[1m0s\u001b[0m 2ms/step \n",
      "['Belgium', 'Ghent', 1.0535310022362832, 1.3728760269258322, 0.9878362852296222, 4.26103691323008, 'fold_3', 'StandardScaler', 'NN-ML', 'LinearRegression']\n",
      "\u001b[1m37/37\u001b[0m \u001b[32m━━━━━━━━━━━━━━━━━━━━\u001b[0m\u001b[37m\u001b[0m \u001b[1m0s\u001b[0m 1ms/step \n",
      "\u001b[1m10/10\u001b[0m \u001b[32m━━━━━━━━━━━━━━━━━━━━\u001b[0m\u001b[37m\u001b[0m \u001b[1m0s\u001b[0m 2ms/step \n",
      "['Belgium', 'Ghent', 1.341212816978699, 1.7780069809569259, 0.9523954000439705, 5.880998934379971, 'fold_4', 'StandardScaler', 'NN-ML', 'LinearRegression']\n",
      "\u001b[1m37/37\u001b[0m \u001b[32m━━━━━━━━━━━━━━━━━━━━\u001b[0m\u001b[37m\u001b[0m \u001b[1m0s\u001b[0m 1ms/step \n",
      "\u001b[1m10/10\u001b[0m \u001b[32m━━━━━━━━━━━━━━━━━━━━\u001b[0m\u001b[37m\u001b[0m \u001b[1m0s\u001b[0m 2ms/step \n",
      "['Belgium', 'Ghent', 1.4635676967498923, 1.8776556776315767, 0.9717570426823783, 5.8458175862651345, 'fold_5', 'StandardScaler', 'NN-ML', 'LinearRegression']\n",
      "Graz Airport\n",
      "13.958333333333321 58.48958333333335\n"
     ]
    },
    {
     "name": "stderr",
     "output_type": "stream",
     "text": [
      "C:\\Users\\HP\\AppData\\Local\\Temp\\ipykernel_20712\\3734773123.py:11: SettingWithCopyWarning: \n",
      "A value is trying to be set on a copy of a slice from a DataFrame\n",
      "\n",
      "See the caveats in the documentation: https://pandas.pydata.org/pandas-docs/stable/user_guide/indexing.html#returning-a-view-versus-a-copy\n",
      "  city_df.drop(columns=['location', 'country', 'latitude', 'longitude', 'generationtime_ms','elevation','Date'],inplace=True)\n"
     ]
    },
    {
     "name": "stdout",
     "output_type": "stream",
     "text": [
      "\u001b[1m37/37\u001b[0m \u001b[32m━━━━━━━━━━━━━━━━━━━━\u001b[0m\u001b[37m\u001b[0m \u001b[1m0s\u001b[0m 1ms/step \n",
      "\u001b[1m10/10\u001b[0m \u001b[32m━━━━━━━━━━━━━━━━━━━━\u001b[0m\u001b[37m\u001b[0m \u001b[1m0s\u001b[0m 2ms/step \n",
      "['Austria', 'Graz Airport', 2.5080309988288754, 3.0084453309742236, 0.9151951491555673, 8.579907866359271, 'fold_1', 'StandardScaler', 'NN-ML', 'LinearRegression']\n",
      "\u001b[1m37/37\u001b[0m \u001b[32m━━━━━━━━━━━━━━━━━━━━\u001b[0m\u001b[37m\u001b[0m \u001b[1m0s\u001b[0m 1ms/step \n",
      "\u001b[1m10/10\u001b[0m \u001b[32m━━━━━━━━━━━━━━━━━━━━\u001b[0m\u001b[37m\u001b[0m \u001b[1m0s\u001b[0m 2ms/step \n",
      "['Austria', 'Graz Airport', 1.2605402632935403, 1.5849848478731403, 0.9809503420636769, 3.9371272210320405, 'fold_2', 'StandardScaler', 'NN-ML', 'LinearRegression']\n",
      "\u001b[1m37/37\u001b[0m \u001b[32m━━━━━━━━━━━━━━━━━━━━\u001b[0m\u001b[37m\u001b[0m \u001b[1m0s\u001b[0m 1ms/step \n",
      "\u001b[1m10/10\u001b[0m \u001b[32m━━━━━━━━━━━━━━━━━━━━\u001b[0m\u001b[37m\u001b[0m \u001b[1m0s\u001b[0m 2ms/step \n",
      "['Austria', 'Graz Airport', 1.3112428340737674, 1.6873676762327214, 0.9825263952404762, 4.389889107536045, 'fold_3', 'StandardScaler', 'NN-ML', 'LinearRegression']\n",
      "\u001b[1m37/37\u001b[0m \u001b[32m━━━━━━━━━━━━━━━━━━━━\u001b[0m\u001b[37m\u001b[0m \u001b[1m0s\u001b[0m 1ms/step \n",
      "\u001b[1m10/10\u001b[0m \u001b[32m━━━━━━━━━━━━━━━━━━━━\u001b[0m\u001b[37m\u001b[0m \u001b[1m0s\u001b[0m 2ms/step \n",
      "['Austria', 'Graz Airport', 1.2538474466158371, 1.7030936325449462, 0.9819832509304108, 4.0988299235611505, 'fold_4', 'StandardScaler', 'NN-ML', 'LinearRegression']\n",
      "\u001b[1m37/37\u001b[0m \u001b[32m━━━━━━━━━━━━━━━━━━━━\u001b[0m\u001b[37m\u001b[0m \u001b[1m0s\u001b[0m 1ms/step \n",
      "\u001b[1m10/10\u001b[0m \u001b[32m━━━━━━━━━━━━━━━━━━━━\u001b[0m\u001b[37m\u001b[0m \u001b[1m0s\u001b[0m 2ms/step \n",
      "['Austria', 'Graz Airport', 2.0125864673422904, 2.4481008944738316, 0.9611281093292539, 7.074535304895846, 'fold_5', 'StandardScaler', 'NN-ML', 'LinearRegression']\n",
      "Helsinki\n",
      "10.458333333333332 41.083333333333336\n"
     ]
    },
    {
     "name": "stderr",
     "output_type": "stream",
     "text": [
      "C:\\Users\\HP\\AppData\\Local\\Temp\\ipykernel_20712\\3734773123.py:11: SettingWithCopyWarning: \n",
      "A value is trying to be set on a copy of a slice from a DataFrame\n",
      "\n",
      "See the caveats in the documentation: https://pandas.pydata.org/pandas-docs/stable/user_guide/indexing.html#returning-a-view-versus-a-copy\n",
      "  city_df.drop(columns=['location', 'country', 'latitude', 'longitude', 'generationtime_ms','elevation','Date'],inplace=True)\n"
     ]
    },
    {
     "name": "stdout",
     "output_type": "stream",
     "text": [
      "\u001b[1m37/37\u001b[0m \u001b[32m━━━━━━━━━━━━━━━━━━━━\u001b[0m\u001b[37m\u001b[0m \u001b[1m0s\u001b[0m 1ms/step \n",
      "\u001b[1m10/10\u001b[0m \u001b[32m━━━━━━━━━━━━━━━━━━━━\u001b[0m\u001b[37m\u001b[0m \u001b[1m0s\u001b[0m 2ms/step \n",
      "['Finland', 'Helsinki', 0.7512410394974534, 1.0844993140314145, 0.9632387785776415, 3.947482438124111, 'fold_1', 'StandardScaler', 'NN-ML', 'LinearRegression']\n",
      "\u001b[1m37/37\u001b[0m \u001b[32m━━━━━━━━━━━━━━━━━━━━\u001b[0m\u001b[37m\u001b[0m \u001b[1m0s\u001b[0m 1ms/step \n",
      "\u001b[1m10/10\u001b[0m \u001b[32m━━━━━━━━━━━━━━━━━━━━\u001b[0m\u001b[37m\u001b[0m \u001b[1m0s\u001b[0m 2ms/step \n",
      "['Finland', 'Helsinki', 0.6158833253329203, 1.1488346486897054, 0.9536088775927962, 2.9595485900230676, 'fold_2', 'StandardScaler', 'NN-ML', 'LinearRegression']\n",
      "\u001b[1m37/37\u001b[0m \u001b[32m━━━━━━━━━━━━━━━━━━━━\u001b[0m\u001b[37m\u001b[0m \u001b[1m0s\u001b[0m 2ms/step \n",
      "\u001b[1m10/10\u001b[0m \u001b[32m━━━━━━━━━━━━━━━━━━━━\u001b[0m\u001b[37m\u001b[0m \u001b[1m0s\u001b[0m 2ms/step \n",
      "['Finland', 'Helsinki', 0.5588831248348707, 0.7928551348822269, 0.9844895935883847, 2.7920377162426284, 'fold_3', 'StandardScaler', 'NN-ML', 'LinearRegression']\n",
      "\u001b[1m37/37\u001b[0m \u001b[32m━━━━━━━━━━━━━━━━━━━━\u001b[0m\u001b[37m\u001b[0m \u001b[1m0s\u001b[0m 2ms/step \n",
      "\u001b[1m10/10\u001b[0m \u001b[32m━━━━━━━━━━━━━━━━━━━━\u001b[0m\u001b[37m\u001b[0m \u001b[1m0s\u001b[0m 2ms/step \n",
      "['Finland', 'Helsinki', 0.6270016644098987, 0.831560395394283, 0.9688164646741967, 3.211464851425873, 'fold_4', 'StandardScaler', 'NN-ML', 'LinearRegression']\n",
      "\u001b[1m37/37\u001b[0m \u001b[32m━━━━━━━━━━━━━━━━━━━━\u001b[0m\u001b[37m\u001b[0m \u001b[1m0s\u001b[0m 1ms/step \n",
      "\u001b[1m10/10\u001b[0m \u001b[32m━━━━━━━━━━━━━━━━━━━━\u001b[0m\u001b[37m\u001b[0m \u001b[1m0s\u001b[0m 2ms/step \n",
      "['Finland', 'Helsinki', 0.5186371705303452, 0.7271409501991049, 0.9757065770724762, 2.2638193319541506, 'fold_5', 'StandardScaler', 'NN-ML', 'LinearRegression']\n",
      "Isle of Man\n",
      "16.291666666666657 42.22916666666667\n"
     ]
    },
    {
     "name": "stderr",
     "output_type": "stream",
     "text": [
      "C:\\Users\\HP\\AppData\\Local\\Temp\\ipykernel_20712\\3734773123.py:11: SettingWithCopyWarning: \n",
      "A value is trying to be set on a copy of a slice from a DataFrame\n",
      "\n",
      "See the caveats in the documentation: https://pandas.pydata.org/pandas-docs/stable/user_guide/indexing.html#returning-a-view-versus-a-copy\n",
      "  city_df.drop(columns=['location', 'country', 'latitude', 'longitude', 'generationtime_ms','elevation','Date'],inplace=True)\n"
     ]
    },
    {
     "name": "stdout",
     "output_type": "stream",
     "text": [
      "\u001b[1m37/37\u001b[0m \u001b[32m━━━━━━━━━━━━━━━━━━━━\u001b[0m\u001b[37m\u001b[0m \u001b[1m0s\u001b[0m 1ms/step \n",
      "\u001b[1m10/10\u001b[0m \u001b[32m━━━━━━━━━━━━━━━━━━━━\u001b[0m\u001b[37m\u001b[0m \u001b[1m0s\u001b[0m 2ms/step \n",
      "['UK', 'Isle of Man', 0.8890884581686287, 1.3742314057925487, 0.9226732164474021, 3.506843040074116, 'fold_1', 'StandardScaler', 'NN-ML', 'LinearRegression']\n",
      "\u001b[1m37/37\u001b[0m \u001b[32m━━━━━━━━━━━━━━━━━━━━\u001b[0m\u001b[37m\u001b[0m \u001b[1m0s\u001b[0m 1ms/step \n",
      "\u001b[1m10/10\u001b[0m \u001b[32m━━━━━━━━━━━━━━━━━━━━\u001b[0m\u001b[37m\u001b[0m \u001b[1m0s\u001b[0m 2ms/step \n",
      "['UK', 'Isle of Man', 0.8796099593105925, 1.6454490317029367, 0.8961684168016627, 3.393043364439109, 'fold_2', 'StandardScaler', 'NN-ML', 'LinearRegression']\n",
      "\u001b[1m37/37\u001b[0m \u001b[32m━━━━━━━━━━━━━━━━━━━━\u001b[0m\u001b[37m\u001b[0m \u001b[1m0s\u001b[0m 2ms/step \n",
      "\u001b[1m10/10\u001b[0m \u001b[32m━━━━━━━━━━━━━━━━━━━━\u001b[0m\u001b[37m\u001b[0m \u001b[1m0s\u001b[0m 4ms/step \n",
      "['UK', 'Isle of Man', 0.7207918014700552, 0.9955014409639755, 0.9541867746321362, 2.877177449325344, 'fold_3', 'StandardScaler', 'NN-ML', 'LinearRegression']\n",
      "\u001b[1m37/37\u001b[0m \u001b[32m━━━━━━━━━━━━━━━━━━━━\u001b[0m\u001b[37m\u001b[0m \u001b[1m0s\u001b[0m 1ms/step \n",
      "\u001b[1m10/10\u001b[0m \u001b[32m━━━━━━━━━━━━━━━━━━━━\u001b[0m\u001b[37m\u001b[0m \u001b[1m0s\u001b[0m 2ms/step \n",
      "['UK', 'Isle of Man', 0.7248219398603045, 1.2168242616096083, 0.9553561429586409, 2.7839042130820664, 'fold_4', 'StandardScaler', 'NN-ML', 'LinearRegression']\n",
      "\u001b[1m37/37\u001b[0m \u001b[32m━━━━━━━━━━━━━━━━━━━━\u001b[0m\u001b[37m\u001b[0m \u001b[1m0s\u001b[0m 2ms/step\n",
      "\u001b[1m10/10\u001b[0m \u001b[32m━━━━━━━━━━━━━━━━━━━━\u001b[0m\u001b[37m\u001b[0m \u001b[1m0s\u001b[0m 3ms/step \n",
      "['UK', 'Isle of Man', 0.761258739314667, 1.0713008322399795, 0.9353798129603869, 2.709540989527024, 'fold_5', 'StandardScaler', 'NN-ML', 'LinearRegression']\n",
      "Istanbul Airport\n",
      "17.04166666666667 49.85416666666666\n"
     ]
    },
    {
     "name": "stderr",
     "output_type": "stream",
     "text": [
      "C:\\Users\\HP\\AppData\\Local\\Temp\\ipykernel_20712\\3734773123.py:11: SettingWithCopyWarning: \n",
      "A value is trying to be set on a copy of a slice from a DataFrame\n",
      "\n",
      "See the caveats in the documentation: https://pandas.pydata.org/pandas-docs/stable/user_guide/indexing.html#returning-a-view-versus-a-copy\n",
      "  city_df.drop(columns=['location', 'country', 'latitude', 'longitude', 'generationtime_ms','elevation','Date'],inplace=True)\n"
     ]
    },
    {
     "name": "stdout",
     "output_type": "stream",
     "text": [
      "\u001b[1m37/37\u001b[0m \u001b[32m━━━━━━━━━━━━━━━━━━━━\u001b[0m\u001b[37m\u001b[0m \u001b[1m0s\u001b[0m 1ms/step \n",
      "\u001b[1m10/10\u001b[0m \u001b[32m━━━━━━━━━━━━━━━━━━━━\u001b[0m\u001b[37m\u001b[0m \u001b[1m0s\u001b[0m 2ms/step \n",
      "['Turkey', 'Istanbul Airport', 1.7340144264820092, 2.078013725613771, 0.9489284486028977, 5.996431648202872, 'fold_1', 'StandardScaler', 'NN-ML', 'LinearRegression']\n",
      "\u001b[1m37/37\u001b[0m \u001b[32m━━━━━━━━━━━━━━━━━━━━\u001b[0m\u001b[37m\u001b[0m \u001b[1m0s\u001b[0m 1ms/step \n",
      "\u001b[1m10/10\u001b[0m \u001b[32m━━━━━━━━━━━━━━━━━━━━\u001b[0m\u001b[37m\u001b[0m \u001b[1m0s\u001b[0m 2ms/step \n",
      "['Turkey', 'Istanbul Airport', 1.0131788003390239, 1.3959325003098189, 0.9771516475899757, 3.437110039033563, 'fold_2', 'StandardScaler', 'NN-ML', 'LinearRegression']\n",
      "\u001b[1m37/37\u001b[0m \u001b[32m━━━━━━━━━━━━━━━━━━━━\u001b[0m\u001b[37m\u001b[0m \u001b[1m0s\u001b[0m 1ms/step \n",
      "\u001b[1m10/10\u001b[0m \u001b[32m━━━━━━━━━━━━━━━━━━━━\u001b[0m\u001b[37m\u001b[0m \u001b[1m0s\u001b[0m 2ms/step \n",
      "['Turkey', 'Istanbul Airport', 1.0517069977712412, 1.3766059409301004, 0.9741203552922872, 3.8014031175239467, 'fold_3', 'StandardScaler', 'NN-ML', 'LinearRegression']\n",
      "\u001b[1m37/37\u001b[0m \u001b[32m━━━━━━━━━━━━━━━━━━━━\u001b[0m\u001b[37m\u001b[0m \u001b[1m0s\u001b[0m 2ms/step \n",
      "\u001b[1m10/10\u001b[0m \u001b[32m━━━━━━━━━━━━━━━━━━━━\u001b[0m\u001b[37m\u001b[0m \u001b[1m0s\u001b[0m 2ms/step \n",
      "['Turkey', 'Istanbul Airport', 1.2211782028685962, 1.5119160511695855, 0.9725889485207079, 4.276710569265298, 'fold_4', 'StandardScaler', 'NN-ML', 'LinearRegression']\n",
      "\u001b[1m37/37\u001b[0m \u001b[32m━━━━━━━━━━━━━━━━━━━━\u001b[0m\u001b[37m\u001b[0m \u001b[1m0s\u001b[0m 1ms/step \n",
      "\u001b[1m10/10\u001b[0m \u001b[32m━━━━━━━━━━━━━━━━━━━━\u001b[0m\u001b[37m\u001b[0m \u001b[1m0s\u001b[0m 2ms/step \n",
      "['Turkey', 'Istanbul Airport', 1.6872283857162693, 1.96178152647683, 0.9633261057171318, 5.194048052879788, 'fold_5', 'StandardScaler', 'NN-ML', 'LinearRegression']\n",
      "Limerick\n",
      "12.916666666666668 39.63541666666667\n"
     ]
    },
    {
     "name": "stderr",
     "output_type": "stream",
     "text": [
      "C:\\Users\\HP\\AppData\\Local\\Temp\\ipykernel_20712\\3734773123.py:11: SettingWithCopyWarning: \n",
      "A value is trying to be set on a copy of a slice from a DataFrame\n",
      "\n",
      "See the caveats in the documentation: https://pandas.pydata.org/pandas-docs/stable/user_guide/indexing.html#returning-a-view-versus-a-copy\n",
      "  city_df.drop(columns=['location', 'country', 'latitude', 'longitude', 'generationtime_ms','elevation','Date'],inplace=True)\n"
     ]
    },
    {
     "name": "stdout",
     "output_type": "stream",
     "text": [
      "\u001b[1m37/37\u001b[0m \u001b[32m━━━━━━━━━━━━━━━━━━━━\u001b[0m\u001b[37m\u001b[0m \u001b[1m0s\u001b[0m 1ms/step \n",
      "\u001b[1m10/10\u001b[0m \u001b[32m━━━━━━━━━━━━━━━━━━━━\u001b[0m\u001b[37m\u001b[0m \u001b[1m0s\u001b[0m 2ms/step \n",
      "['Ireland', 'Limerick', 0.9608737676488116, 1.7184381071094426, 0.9274386434487369, 4.549074981864924, 'fold_1', 'StandardScaler', 'NN-ML', 'LinearRegression']\n",
      "\u001b[1m37/37\u001b[0m \u001b[32m━━━━━━━━━━━━━━━━━━━━\u001b[0m\u001b[37m\u001b[0m \u001b[1m0s\u001b[0m 1ms/step \n",
      "\u001b[1m10/10\u001b[0m \u001b[32m━━━━━━━━━━━━━━━━━━━━\u001b[0m\u001b[37m\u001b[0m \u001b[1m0s\u001b[0m 2ms/step \n",
      "['Ireland', 'Limerick', 0.4503245658526137, 1.0474658375962853, 0.9736507661865312, 1.9976029606361732, 'fold_2', 'StandardScaler', 'NN-ML', 'LinearRegression']\n",
      "\u001b[1m37/37\u001b[0m \u001b[32m━━━━━━━━━━━━━━━━━━━━\u001b[0m\u001b[37m\u001b[0m \u001b[1m0s\u001b[0m 1ms/step \n",
      "\u001b[1m10/10\u001b[0m \u001b[32m━━━━━━━━━━━━━━━━━━━━\u001b[0m\u001b[37m\u001b[0m \u001b[1m0s\u001b[0m 2ms/step \n",
      "['Ireland', 'Limerick', 0.5210516006434889, 0.7918643399512895, 0.9682982789162866, 2.2994631556264897, 'fold_3', 'StandardScaler', 'NN-ML', 'LinearRegression']\n",
      "\u001b[1m37/37\u001b[0m \u001b[32m━━━━━━━━━━━━━━━━━━━━\u001b[0m\u001b[37m\u001b[0m \u001b[1m0s\u001b[0m 1ms/step \n",
      "\u001b[1m10/10\u001b[0m \u001b[32m━━━━━━━━━━━━━━━━━━━━\u001b[0m\u001b[37m\u001b[0m \u001b[1m0s\u001b[0m 2ms/step \n",
      "['Ireland', 'Limerick', 0.5848280120658002, 0.8159725239997926, 0.9767119182830547, 2.559687965720149, 'fold_4', 'StandardScaler', 'NN-ML', 'LinearRegression']\n",
      "\u001b[1m37/37\u001b[0m \u001b[32m━━━━━━━━━━━━━━━━━━━━\u001b[0m\u001b[37m\u001b[0m \u001b[1m0s\u001b[0m 1ms/step \n",
      "\u001b[1m10/10\u001b[0m \u001b[32m━━━━━━━━━━━━━━━━━━━━\u001b[0m\u001b[37m\u001b[0m \u001b[1m0s\u001b[0m 2ms/step \n",
      "['Ireland', 'Limerick', 0.516747609665405, 0.7501246608349255, 0.9724790557797484, 2.045715424292085, 'fold_5', 'StandardScaler', 'NN-ML', 'LinearRegression']\n",
      "London\n",
      "12.708333333333336 40.67708333333333\n"
     ]
    },
    {
     "name": "stderr",
     "output_type": "stream",
     "text": [
      "C:\\Users\\HP\\AppData\\Local\\Temp\\ipykernel_20712\\3734773123.py:11: SettingWithCopyWarning: \n",
      "A value is trying to be set on a copy of a slice from a DataFrame\n",
      "\n",
      "See the caveats in the documentation: https://pandas.pydata.org/pandas-docs/stable/user_guide/indexing.html#returning-a-view-versus-a-copy\n",
      "  city_df.drop(columns=['location', 'country', 'latitude', 'longitude', 'generationtime_ms','elevation','Date'],inplace=True)\n"
     ]
    },
    {
     "name": "stdout",
     "output_type": "stream",
     "text": [
      "\u001b[1m37/37\u001b[0m \u001b[32m━━━━━━━━━━━━━━━━━━━━\u001b[0m\u001b[37m\u001b[0m \u001b[1m0s\u001b[0m 1ms/step \n",
      "\u001b[1m10/10\u001b[0m \u001b[32m━━━━━━━━━━━━━━━━━━━━\u001b[0m\u001b[37m\u001b[0m \u001b[1m0s\u001b[0m 2ms/step \n",
      "['UK', 'London', 0.9575873972748461, 1.2451547929087798, 0.9836430983564275, 4.271167934951769, 'fold_1', 'StandardScaler', 'NN-ML', 'LinearRegression']\n",
      "\u001b[1m37/37\u001b[0m \u001b[32m━━━━━━━━━━━━━━━━━━━━\u001b[0m\u001b[37m\u001b[0m \u001b[1m0s\u001b[0m 1ms/step \n",
      "\u001b[1m10/10\u001b[0m \u001b[32m━━━━━━━━━━━━━━━━━━━━\u001b[0m\u001b[37m\u001b[0m \u001b[1m0s\u001b[0m 2ms/step \n",
      "['UK', 'London', 0.8363092762150177, 1.066979398233762, 0.9876020992537005, 3.5786915489788123, 'fold_2', 'StandardScaler', 'NN-ML', 'LinearRegression']\n",
      "\u001b[1m37/37\u001b[0m \u001b[32m━━━━━━━━━━━━━━━━━━━━\u001b[0m\u001b[37m\u001b[0m \u001b[1m0s\u001b[0m 1ms/step \n",
      "\u001b[1m10/10\u001b[0m \u001b[32m━━━━━━━━━━━━━━━━━━━━\u001b[0m\u001b[37m\u001b[0m \u001b[1m0s\u001b[0m 2ms/step \n",
      "['UK', 'London', 0.8670839261790936, 1.1616482712667935, 0.9820882700561199, 3.8905039705388105, 'fold_3', 'StandardScaler', 'NN-ML', 'LinearRegression']\n",
      "\u001b[1m37/37\u001b[0m \u001b[32m━━━━━━━━━━━━━━━━━━━━\u001b[0m\u001b[37m\u001b[0m \u001b[1m0s\u001b[0m 1ms/step \n",
      "\u001b[1m10/10\u001b[0m \u001b[32m━━━━━━━━━━━━━━━━━━━━\u001b[0m\u001b[37m\u001b[0m \u001b[1m0s\u001b[0m 2ms/step \n",
      "['UK', 'London', 0.9505204305256885, 1.2633505649253072, 0.9753639856206923, 4.300780007092943, 'fold_4', 'StandardScaler', 'NN-ML', 'LinearRegression']\n",
      "\u001b[1m37/37\u001b[0m \u001b[32m━━━━━━━━━━━━━━━━━━━━\u001b[0m\u001b[37m\u001b[0m \u001b[1m0s\u001b[0m 1ms/step \n",
      "\u001b[1m10/10\u001b[0m \u001b[32m━━━━━━━━━━━━━━━━━━━━\u001b[0m\u001b[37m\u001b[0m \u001b[1m0s\u001b[0m 2ms/step \n",
      "['UK', 'London', 0.8339259014826387, 1.1645644696949256, 0.9826622843078969, 3.333891533632501, 'fold_5', 'StandardScaler', 'NN-ML', 'LinearRegression']\n",
      "Lyon\n",
      "11.208333333333336 52.61458333333333\n"
     ]
    },
    {
     "name": "stderr",
     "output_type": "stream",
     "text": [
      "C:\\Users\\HP\\AppData\\Local\\Temp\\ipykernel_20712\\3734773123.py:11: SettingWithCopyWarning: \n",
      "A value is trying to be set on a copy of a slice from a DataFrame\n",
      "\n",
      "See the caveats in the documentation: https://pandas.pydata.org/pandas-docs/stable/user_guide/indexing.html#returning-a-view-versus-a-copy\n",
      "  city_df.drop(columns=['location', 'country', 'latitude', 'longitude', 'generationtime_ms','elevation','Date'],inplace=True)\n"
     ]
    },
    {
     "name": "stdout",
     "output_type": "stream",
     "text": [
      "\u001b[1m37/37\u001b[0m \u001b[32m━━━━━━━━━━━━━━━━━━━━\u001b[0m\u001b[37m\u001b[0m \u001b[1m0s\u001b[0m 1ms/step \n",
      "\u001b[1m10/10\u001b[0m \u001b[32m━━━━━━━━━━━━━━━━━━━━\u001b[0m\u001b[37m\u001b[0m \u001b[1m0s\u001b[0m 2ms/step \n",
      "['France', 'Lyon', 1.3639613716811179, 1.9806571010625202, 0.9686853884903484, 5.391978512903718, 'fold_1', 'StandardScaler', 'NN-ML', 'LinearRegression']\n",
      "\u001b[1m37/37\u001b[0m \u001b[32m━━━━━━━━━━━━━━━━━━━━\u001b[0m\u001b[37m\u001b[0m \u001b[1m0s\u001b[0m 1ms/step \n",
      "\u001b[1m10/10\u001b[0m \u001b[32m━━━━━━━━━━━━━━━━━━━━\u001b[0m\u001b[37m\u001b[0m \u001b[1m0s\u001b[0m 2ms/step \n",
      "['France', 'Lyon', 0.9946102105319227, 1.3307710048861985, 0.990396862145589, 3.460250424943931, 'fold_2', 'StandardScaler', 'NN-ML', 'LinearRegression']\n",
      "\u001b[1m37/37\u001b[0m \u001b[32m━━━━━━━━━━━━━━━━━━━━\u001b[0m\u001b[37m\u001b[0m \u001b[1m0s\u001b[0m 1ms/step \n",
      "\u001b[1m10/10\u001b[0m \u001b[32m━━━━━━━━━━━━━━━━━━━━\u001b[0m\u001b[37m\u001b[0m \u001b[1m0s\u001b[0m 2ms/step \n",
      "['France', 'Lyon', 1.1245946709968182, 1.407867569499236, 0.9876672317930073, 4.618367196793182, 'fold_3', 'StandardScaler', 'NN-ML', 'LinearRegression']\n",
      "\u001b[1m37/37\u001b[0m \u001b[32m━━━━━━━━━━━━━━━━━━━━\u001b[0m\u001b[37m\u001b[0m \u001b[1m0s\u001b[0m 1ms/step \n",
      "\u001b[1m10/10\u001b[0m \u001b[32m━━━━━━━━━━━━━━━━━━━━\u001b[0m\u001b[37m\u001b[0m \u001b[1m0s\u001b[0m 2ms/step \n",
      "['France', 'Lyon', 1.1104264139584752, 1.5883786662338677, 0.9812295817102883, 4.5250223676779235, 'fold_4', 'StandardScaler', 'NN-ML', 'LinearRegression']\n",
      "\u001b[1m37/37\u001b[0m \u001b[32m━━━━━━━━━━━━━━━━━━━━\u001b[0m\u001b[37m\u001b[0m \u001b[1m0s\u001b[0m 1ms/step \n",
      "\u001b[1m10/10\u001b[0m \u001b[32m━━━━━━━━━━━━━━━━━━━━\u001b[0m\u001b[37m\u001b[0m \u001b[1m0s\u001b[0m 2ms/step \n",
      "['France', 'Lyon', 0.9307475928302223, 1.2432602263690795, 0.9898958979299958, 3.247225428643625, 'fold_5', 'StandardScaler', 'NN-ML', 'LinearRegression']\n",
      "Madrid\n",
      "14.666666666666671 47.94791666666666\n"
     ]
    },
    {
     "name": "stderr",
     "output_type": "stream",
     "text": [
      "C:\\Users\\HP\\AppData\\Local\\Temp\\ipykernel_20712\\3734773123.py:11: SettingWithCopyWarning: \n",
      "A value is trying to be set on a copy of a slice from a DataFrame\n",
      "\n",
      "See the caveats in the documentation: https://pandas.pydata.org/pandas-docs/stable/user_guide/indexing.html#returning-a-view-versus-a-copy\n",
      "  city_df.drop(columns=['location', 'country', 'latitude', 'longitude', 'generationtime_ms','elevation','Date'],inplace=True)\n"
     ]
    },
    {
     "name": "stdout",
     "output_type": "stream",
     "text": [
      "\u001b[1m37/37\u001b[0m \u001b[32m━━━━━━━━━━━━━━━━━━━━\u001b[0m\u001b[37m\u001b[0m \u001b[1m0s\u001b[0m 1ms/step \n",
      "\u001b[1m10/10\u001b[0m \u001b[32m━━━━━━━━━━━━━━━━━━━━\u001b[0m\u001b[37m\u001b[0m \u001b[1m0s\u001b[0m 2ms/step \n",
      "['Spain', 'Madrid', 3.912699746054866, 24.785472781856395, -3.9684502859104516, 16.95253597727498, 'fold_1', 'StandardScaler', 'NN-ML', 'LinearRegression']\n",
      "\u001b[1m37/37\u001b[0m \u001b[32m━━━━━━━━━━━━━━━━━━━━\u001b[0m\u001b[37m\u001b[0m \u001b[1m0s\u001b[0m 1ms/step \n",
      "\u001b[1m10/10\u001b[0m \u001b[32m━━━━━━━━━━━━━━━━━━━━\u001b[0m\u001b[37m\u001b[0m \u001b[1m0s\u001b[0m 2ms/step \n",
      "['Spain', 'Madrid', 1.7457481519272338, 2.3364917836881927, 0.9435770738432224, 6.681048823876236, 'fold_2', 'StandardScaler', 'NN-ML', 'LinearRegression']\n",
      "\u001b[1m37/37\u001b[0m \u001b[32m━━━━━━━━━━━━━━━━━━━━\u001b[0m\u001b[37m\u001b[0m \u001b[1m0s\u001b[0m 2ms/step \n",
      "\u001b[1m10/10\u001b[0m \u001b[32m━━━━━━━━━━━━━━━━━━━━\u001b[0m\u001b[37m\u001b[0m \u001b[1m0s\u001b[0m 2ms/step \n",
      "['Spain', 'Madrid', 1.5139487693298896, 1.9678832184250539, 0.9330866890911192, 5.496873550869815, 'fold_3', 'StandardScaler', 'NN-ML', 'LinearRegression']\n",
      "\u001b[1m37/37\u001b[0m \u001b[32m━━━━━━━━━━━━━━━━━━━━\u001b[0m\u001b[37m\u001b[0m \u001b[1m0s\u001b[0m 1ms/step \n",
      "\u001b[1m10/10\u001b[0m \u001b[32m━━━━━━━━━━━━━━━━━━━━\u001b[0m\u001b[37m\u001b[0m \u001b[1m0s\u001b[0m 2ms/step \n",
      "['Spain', 'Madrid', 1.8926049585211766, 2.775875221486544, 0.9288230317652449, 5.788658708960172, 'fold_4', 'StandardScaler', 'NN-ML', 'LinearRegression']\n",
      "\u001b[1m37/37\u001b[0m \u001b[32m━━━━━━━━━━━━━━━━━━━━\u001b[0m\u001b[37m\u001b[0m \u001b[1m0s\u001b[0m 1ms/step \n",
      "\u001b[1m10/10\u001b[0m \u001b[32m━━━━━━━━━━━━━━━━━━━━\u001b[0m\u001b[37m\u001b[0m \u001b[1m0s\u001b[0m 2ms/step \n",
      "['Spain', 'Madrid', 2.9256088352638843, 3.4846684371496783, 0.8375605209364063, 10.421456992732978, 'fold_5', 'StandardScaler', 'NN-ML', 'LinearRegression']\n",
      "Marseille\n",
      "16.708333333333336 50.30208333333333\n"
     ]
    },
    {
     "name": "stderr",
     "output_type": "stream",
     "text": [
      "C:\\Users\\HP\\AppData\\Local\\Temp\\ipykernel_20712\\3734773123.py:11: SettingWithCopyWarning: \n",
      "A value is trying to be set on a copy of a slice from a DataFrame\n",
      "\n",
      "See the caveats in the documentation: https://pandas.pydata.org/pandas-docs/stable/user_guide/indexing.html#returning-a-view-versus-a-copy\n",
      "  city_df.drop(columns=['location', 'country', 'latitude', 'longitude', 'generationtime_ms','elevation','Date'],inplace=True)\n"
     ]
    },
    {
     "name": "stdout",
     "output_type": "stream",
     "text": [
      "\u001b[1m37/37\u001b[0m \u001b[32m━━━━━━━━━━━━━━━━━━━━\u001b[0m\u001b[37m\u001b[0m \u001b[1m0s\u001b[0m 1ms/step \n",
      "\u001b[1m10/10\u001b[0m \u001b[32m━━━━━━━━━━━━━━━━━━━━\u001b[0m\u001b[37m\u001b[0m \u001b[1m0s\u001b[0m 3ms/step \n",
      "['France', 'Marseille', 1.209903734400275, 1.5257261162171225, 0.9523863020024371, 4.042337893595897, 'fold_1', 'StandardScaler', 'NN-ML', 'LinearRegression']\n",
      "\u001b[1m37/37\u001b[0m \u001b[32m━━━━━━━━━━━━━━━━━━━━\u001b[0m\u001b[37m\u001b[0m \u001b[1m0s\u001b[0m 1ms/step \n",
      "\u001b[1m10/10\u001b[0m \u001b[32m━━━━━━━━━━━━━━━━━━━━\u001b[0m\u001b[37m\u001b[0m \u001b[1m0s\u001b[0m 2ms/step \n",
      "['France', 'Marseille', 1.145633103096322, 1.4224009998100986, 0.9730607782702226, 3.7657270063578503, 'fold_2', 'StandardScaler', 'NN-ML', 'LinearRegression']\n",
      "\u001b[1m37/37\u001b[0m \u001b[32m━━━━━━━━━━━━━━━━━━━━\u001b[0m\u001b[37m\u001b[0m \u001b[1m0s\u001b[0m 1ms/step \n",
      "\u001b[1m10/10\u001b[0m \u001b[32m━━━━━━━━━━━━━━━━━━━━\u001b[0m\u001b[37m\u001b[0m \u001b[1m0s\u001b[0m 2ms/step \n",
      "['France', 'Marseille', 1.206408365676392, 1.6019024905342139, 0.9693809378785492, 4.329919202592577, 'fold_3', 'StandardScaler', 'NN-ML', 'LinearRegression']\n",
      "\u001b[1m37/37\u001b[0m \u001b[32m━━━━━━━━━━━━━━━━━━━━\u001b[0m\u001b[37m\u001b[0m \u001b[1m0s\u001b[0m 1ms/step \n",
      "\u001b[1m10/10\u001b[0m \u001b[32m━━━━━━━━━━━━━━━━━━━━\u001b[0m\u001b[37m\u001b[0m \u001b[1m0s\u001b[0m 2ms/step \n",
      "['France', 'Marseille', 1.0806511809292447, 1.4130062107678616, 0.9638792715113036, 4.016981129120896, 'fold_4', 'StandardScaler', 'NN-ML', 'LinearRegression']\n",
      "\u001b[1m37/37\u001b[0m \u001b[32m━━━━━━━━━━━━━━━━━━━━\u001b[0m\u001b[37m\u001b[0m \u001b[1m0s\u001b[0m 1ms/step \n",
      "\u001b[1m10/10\u001b[0m \u001b[32m━━━━━━━━━━━━━━━━━━━━\u001b[0m\u001b[37m\u001b[0m \u001b[1m0s\u001b[0m 2ms/step \n",
      "['France', 'Marseille', 1.1929548537894472, 1.5360070404526849, 0.9218893785020673, 4.115194412955877, 'fold_5', 'StandardScaler', 'NN-ML', 'LinearRegression']\n",
      "Milan\n",
      "-0.9583333333333321 121.38541666666667\n"
     ]
    },
    {
     "name": "stderr",
     "output_type": "stream",
     "text": [
      "C:\\Users\\HP\\AppData\\Local\\Temp\\ipykernel_20712\\3734773123.py:11: SettingWithCopyWarning: \n",
      "A value is trying to be set on a copy of a slice from a DataFrame\n",
      "\n",
      "See the caveats in the documentation: https://pandas.pydata.org/pandas-docs/stable/user_guide/indexing.html#returning-a-view-versus-a-copy\n",
      "  city_df.drop(columns=['location', 'country', 'latitude', 'longitude', 'generationtime_ms','elevation','Date'],inplace=True)\n"
     ]
    },
    {
     "name": "stdout",
     "output_type": "stream",
     "text": [
      "\u001b[1m37/37\u001b[0m \u001b[32m━━━━━━━━━━━━━━━━━━━━\u001b[0m\u001b[37m\u001b[0m \u001b[1m0s\u001b[0m 1ms/step \n",
      "\u001b[1m10/10\u001b[0m \u001b[32m━━━━━━━━━━━━━━━━━━━━\u001b[0m\u001b[37m\u001b[0m \u001b[1m0s\u001b[0m 2ms/step \n",
      "['Italy', 'Milan', 4.070875222094366, 4.599650165180644, 0.9467287442288557, 10.328780325290056, 'fold_1', 'StandardScaler', 'NN-ML', 'LinearRegression']\n",
      "\u001b[1m37/37\u001b[0m \u001b[32m━━━━━━━━━━━━━━━━━━━━\u001b[0m\u001b[37m\u001b[0m \u001b[1m0s\u001b[0m 1ms/step \n",
      "\u001b[1m10/10\u001b[0m \u001b[32m━━━━━━━━━━━━━━━━━━━━\u001b[0m\u001b[37m\u001b[0m \u001b[1m0s\u001b[0m 2ms/step \n",
      "['Italy', 'Milan', 2.5246709274919064, 3.17093511980102, 0.9747203136346617, 5.622535308094916, 'fold_2', 'StandardScaler', 'NN-ML', 'LinearRegression']\n",
      "\u001b[1m37/37\u001b[0m \u001b[32m━━━━━━━━━━━━━━━━━━━━\u001b[0m\u001b[37m\u001b[0m \u001b[1m0s\u001b[0m 2ms/step \n",
      "\u001b[1m10/10\u001b[0m \u001b[32m━━━━━━━━━━━━━━━━━━━━\u001b[0m\u001b[37m\u001b[0m \u001b[1m0s\u001b[0m 2ms/step \n",
      "['Italy', 'Milan', 1.9812672105554032, 2.483191072177792, 0.9834112095790625, 5.256182596766795, 'fold_3', 'StandardScaler', 'NN-ML', 'LinearRegression']\n",
      "\u001b[1m37/37\u001b[0m \u001b[32m━━━━━━━━━━━━━━━━━━━━\u001b[0m\u001b[37m\u001b[0m \u001b[1m0s\u001b[0m 2ms/step \n",
      "\u001b[1m10/10\u001b[0m \u001b[32m━━━━━━━━━━━━━━━━━━━━\u001b[0m\u001b[37m\u001b[0m \u001b[1m0s\u001b[0m 2ms/step \n",
      "['Italy', 'Milan', 1.9698395554877854, 2.8326892336648823, 0.9870454966600053, 4.852954310712175, 'fold_4', 'StandardScaler', 'NN-ML', 'LinearRegression']\n",
      "\u001b[1m37/37\u001b[0m \u001b[32m━━━━━━━━━━━━━━━━━━━━\u001b[0m\u001b[37m\u001b[0m \u001b[1m0s\u001b[0m 1ms/step \n",
      "\u001b[1m10/10\u001b[0m \u001b[32m━━━━━━━━━━━━━━━━━━━━\u001b[0m\u001b[37m\u001b[0m \u001b[1m0s\u001b[0m 2ms/step \n",
      "['Italy', 'Milan', 2.0797106163686814, 2.671248236557823, 0.9857264337986337, 5.791126773259787, 'fold_5', 'StandardScaler', 'NN-ML', 'LinearRegression']\n",
      "Moscow\n",
      "-1.0833333333333215 115.63541666666663\n"
     ]
    },
    {
     "name": "stderr",
     "output_type": "stream",
     "text": [
      "C:\\Users\\HP\\AppData\\Local\\Temp\\ipykernel_20712\\3734773123.py:11: SettingWithCopyWarning: \n",
      "A value is trying to be set on a copy of a slice from a DataFrame\n",
      "\n",
      "See the caveats in the documentation: https://pandas.pydata.org/pandas-docs/stable/user_guide/indexing.html#returning-a-view-versus-a-copy\n",
      "  city_df.drop(columns=['location', 'country', 'latitude', 'longitude', 'generationtime_ms','elevation','Date'],inplace=True)\n"
     ]
    },
    {
     "name": "stdout",
     "output_type": "stream",
     "text": [
      "\u001b[1m37/37\u001b[0m \u001b[32m━━━━━━━━━━━━━━━━━━━━\u001b[0m\u001b[37m\u001b[0m \u001b[1m0s\u001b[0m 1ms/step \n",
      "\u001b[1m10/10\u001b[0m \u001b[32m━━━━━━━━━━━━━━━━━━━━\u001b[0m\u001b[37m\u001b[0m \u001b[1m0s\u001b[0m 2ms/step \n",
      "['Russia', 'Moscow', 0.9182926716115556, 1.2174785287511725, 0.9962211565534514, 2.210280108036597, 'fold_1', 'StandardScaler', 'NN-ML', 'LinearRegression']\n",
      "\u001b[1m37/37\u001b[0m \u001b[32m━━━━━━━━━━━━━━━━━━━━\u001b[0m\u001b[37m\u001b[0m \u001b[1m0s\u001b[0m 1ms/step \n",
      "\u001b[1m10/10\u001b[0m \u001b[32m━━━━━━━━━━━━━━━━━━━━\u001b[0m\u001b[37m\u001b[0m \u001b[1m0s\u001b[0m 2ms/step \n",
      "['Russia', 'Moscow', 1.134891059300671, 1.5535875281842888, 0.9921192662167435, 3.6378421071120286, 'fold_2', 'StandardScaler', 'NN-ML', 'LinearRegression']\n",
      "\u001b[1m37/37\u001b[0m \u001b[32m━━━━━━━━━━━━━━━━━━━━\u001b[0m\u001b[37m\u001b[0m \u001b[1m0s\u001b[0m 1ms/step \n",
      "\u001b[1m10/10\u001b[0m \u001b[32m━━━━━━━━━━━━━━━━━━━━\u001b[0m\u001b[37m\u001b[0m \u001b[1m0s\u001b[0m 2ms/step \n",
      "['Russia', 'Moscow', 0.750337417811564, 1.0352401902261221, 0.9966205561385025, 2.1269274606058035, 'fold_3', 'StandardScaler', 'NN-ML', 'LinearRegression']\n",
      "\u001b[1m37/37\u001b[0m \u001b[32m━━━━━━━━━━━━━━━━━━━━\u001b[0m\u001b[37m\u001b[0m \u001b[1m0s\u001b[0m 1ms/step \n",
      "\u001b[1m10/10\u001b[0m \u001b[32m━━━━━━━━━━━━━━━━━━━━\u001b[0m\u001b[37m\u001b[0m \u001b[1m0s\u001b[0m 2ms/step \n",
      "['Russia', 'Moscow', 0.8868238871500368, 1.248756207087151, 0.9953624475954855, 2.5720162193436145, 'fold_4', 'StandardScaler', 'NN-ML', 'LinearRegression']\n",
      "\u001b[1m37/37\u001b[0m \u001b[32m━━━━━━━━━━━━━━━━━━━━\u001b[0m\u001b[37m\u001b[0m \u001b[1m0s\u001b[0m 1ms/step \n",
      "\u001b[1m10/10\u001b[0m \u001b[32m━━━━━━━━━━━━━━━━━━━━\u001b[0m\u001b[37m\u001b[0m \u001b[1m0s\u001b[0m 2ms/step \n",
      "['Russia', 'Moscow', 0.8529259799277948, 1.122891170497735, 0.9964730476783826, 2.160972747378604, 'fold_5', 'StandardScaler', 'NN-ML', 'LinearRegression']\n",
      "Munich\n",
      "13.208333333333332 44.770833333333336\n"
     ]
    },
    {
     "name": "stderr",
     "output_type": "stream",
     "text": [
      "C:\\Users\\HP\\AppData\\Local\\Temp\\ipykernel_20712\\3734773123.py:11: SettingWithCopyWarning: \n",
      "A value is trying to be set on a copy of a slice from a DataFrame\n",
      "\n",
      "See the caveats in the documentation: https://pandas.pydata.org/pandas-docs/stable/user_guide/indexing.html#returning-a-view-versus-a-copy\n",
      "  city_df.drop(columns=['location', 'country', 'latitude', 'longitude', 'generationtime_ms','elevation','Date'],inplace=True)\n"
     ]
    },
    {
     "name": "stdout",
     "output_type": "stream",
     "text": [
      "\u001b[1m37/37\u001b[0m \u001b[32m━━━━━━━━━━━━━━━━━━━━\u001b[0m\u001b[37m\u001b[0m \u001b[1m0s\u001b[0m 2ms/step \n",
      "\u001b[1m10/10\u001b[0m \u001b[32m━━━━━━━━━━━━━━━━━━━━\u001b[0m\u001b[37m\u001b[0m \u001b[1m0s\u001b[0m 2ms/step \n",
      "['Germany', 'Munich', 0.9896888928201824, 1.2650550574853734, 0.9626210737435544, 3.99016057038474, 'fold_1', 'StandardScaler', 'NN-ML', 'LinearRegression']\n",
      "\u001b[1m37/37\u001b[0m \u001b[32m━━━━━━━━━━━━━━━━━━━━\u001b[0m\u001b[37m\u001b[0m \u001b[1m0s\u001b[0m 1ms/step \n",
      "\u001b[1m10/10\u001b[0m \u001b[32m━━━━━━━━━━━━━━━━━━━━\u001b[0m\u001b[37m\u001b[0m \u001b[1m0s\u001b[0m 2ms/step \n",
      "['Germany', 'Munich', 0.8215923635926963, 1.1225159029951357, 0.9786872141772184, 3.656897480268716, 'fold_2', 'StandardScaler', 'NN-ML', 'LinearRegression']\n",
      "\u001b[1m37/37\u001b[0m \u001b[32m━━━━━━━━━━━━━━━━━━━━\u001b[0m\u001b[37m\u001b[0m \u001b[1m0s\u001b[0m 1ms/step \n",
      "\u001b[1m10/10\u001b[0m \u001b[32m━━━━━━━━━━━━━━━━━━━━\u001b[0m\u001b[37m\u001b[0m \u001b[1m0s\u001b[0m 2ms/step \n",
      "['Germany', 'Munich', 0.7880557029758957, 1.0745112489851973, 0.9811728341018091, 3.6342312008971804, 'fold_3', 'StandardScaler', 'NN-ML', 'LinearRegression']\n",
      "\u001b[1m37/37\u001b[0m \u001b[32m━━━━━━━━━━━━━━━━━━━━\u001b[0m\u001b[37m\u001b[0m \u001b[1m0s\u001b[0m 1ms/step \n",
      "\u001b[1m10/10\u001b[0m \u001b[32m━━━━━━━━━━━━━━━━━━━━\u001b[0m\u001b[37m\u001b[0m \u001b[1m0s\u001b[0m 2ms/step \n",
      "['Germany', 'Munich', 0.7220533296942165, 0.9724112060384337, 0.986405648853019, 2.813674336165816, 'fold_4', 'StandardScaler', 'NN-ML', 'LinearRegression']\n",
      "\u001b[1m37/37\u001b[0m \u001b[32m━━━━━━━━━━━━━━━━━━━━\u001b[0m\u001b[37m\u001b[0m \u001b[1m0s\u001b[0m 1ms/step \n",
      "\u001b[1m10/10\u001b[0m \u001b[32m━━━━━━━━━━━━━━━━━━━━\u001b[0m\u001b[37m\u001b[0m \u001b[1m0s\u001b[0m 2ms/step \n",
      "['Germany', 'Munich', 0.5473798116048177, 0.7490038898886803, 0.992715990616785, 2.0200389453423964, 'fold_5', 'StandardScaler', 'NN-ML', 'LinearRegression']\n",
      "Nice\n",
      "14.166666666666671 50.26041666666666\n"
     ]
    },
    {
     "name": "stderr",
     "output_type": "stream",
     "text": [
      "C:\\Users\\HP\\AppData\\Local\\Temp\\ipykernel_20712\\3734773123.py:11: SettingWithCopyWarning: \n",
      "A value is trying to be set on a copy of a slice from a DataFrame\n",
      "\n",
      "See the caveats in the documentation: https://pandas.pydata.org/pandas-docs/stable/user_guide/indexing.html#returning-a-view-versus-a-copy\n",
      "  city_df.drop(columns=['location', 'country', 'latitude', 'longitude', 'generationtime_ms','elevation','Date'],inplace=True)\n"
     ]
    },
    {
     "name": "stdout",
     "output_type": "stream",
     "text": [
      "\u001b[1m37/37\u001b[0m \u001b[32m━━━━━━━━━━━━━━━━━━━━\u001b[0m\u001b[37m\u001b[0m \u001b[1m0s\u001b[0m 1ms/step \n",
      "\u001b[1m10/10\u001b[0m \u001b[32m━━━━━━━━━━━━━━━━━━━━\u001b[0m\u001b[37m\u001b[0m \u001b[1m0s\u001b[0m 2ms/step \n",
      "['France', 'Nice', 0.7666493026334139, 1.2684439557723939, 0.9744548179725612, 2.4199289626920173, 'fold_1', 'StandardScaler', 'NN-ML', 'LinearRegression']\n",
      "\u001b[1m37/37\u001b[0m \u001b[32m━━━━━━━━━━━━━━━━━━━━\u001b[0m\u001b[37m\u001b[0m \u001b[1m0s\u001b[0m 2ms/step \n",
      "\u001b[1m10/10\u001b[0m \u001b[32m━━━━━━━━━━━━━━━━━━━━\u001b[0m\u001b[37m\u001b[0m \u001b[1m0s\u001b[0m 2ms/step \n",
      "['France', 'Nice', 0.8709607320289088, 1.3325974564874359, 0.9719422032713485, 2.957255191399176, 'fold_2', 'StandardScaler', 'NN-ML', 'LinearRegression']\n",
      "\u001b[1m37/37\u001b[0m \u001b[32m━━━━━━━━━━━━━━━━━━━━\u001b[0m\u001b[37m\u001b[0m \u001b[1m0s\u001b[0m 1ms/step \n",
      "\u001b[1m10/10\u001b[0m \u001b[32m━━━━━━━━━━━━━━━━━━━━\u001b[0m\u001b[37m\u001b[0m \u001b[1m0s\u001b[0m 2ms/step \n",
      "['France', 'Nice', 1.7132241845675258, 9.363178398411799, -1.225634313339794, 7.450178197803297, 'fold_3', 'StandardScaler', 'NN-ML', 'LinearRegression']\n",
      "\u001b[1m37/37\u001b[0m \u001b[32m━━━━━━━━━━━━━━━━━━━━\u001b[0m\u001b[37m\u001b[0m \u001b[1m0s\u001b[0m 1ms/step \n",
      "\u001b[1m10/10\u001b[0m \u001b[32m━━━━━━━━━━━━━━━━━━━━\u001b[0m\u001b[37m\u001b[0m \u001b[1m0s\u001b[0m 2ms/step \n",
      "['France', 'Nice', 0.7549350849569663, 1.0376444420184703, 0.9833679618030262, 3.0304784870325334, 'fold_4', 'StandardScaler', 'NN-ML', 'LinearRegression']\n",
      "\u001b[1m37/37\u001b[0m \u001b[32m━━━━━━━━━━━━━━━━━━━━\u001b[0m\u001b[37m\u001b[0m \u001b[1m0s\u001b[0m 1ms/step \n",
      "\u001b[1m10/10\u001b[0m \u001b[32m━━━━━━━━━━━━━━━━━━━━\u001b[0m\u001b[37m\u001b[0m \u001b[1m0s\u001b[0m 2ms/step \n",
      "['France', 'Nice', 0.82003078721974, 1.1630078077219588, 0.9626048203407557, 2.8577326340635008, 'fold_5', 'StandardScaler', 'NN-ML', 'LinearRegression']\n",
      "Nicosia\n",
      "19.875 57.53125\n"
     ]
    },
    {
     "name": "stderr",
     "output_type": "stream",
     "text": [
      "C:\\Users\\HP\\AppData\\Local\\Temp\\ipykernel_20712\\3734773123.py:11: SettingWithCopyWarning: \n",
      "A value is trying to be set on a copy of a slice from a DataFrame\n",
      "\n",
      "See the caveats in the documentation: https://pandas.pydata.org/pandas-docs/stable/user_guide/indexing.html#returning-a-view-versus-a-copy\n",
      "  city_df.drop(columns=['location', 'country', 'latitude', 'longitude', 'generationtime_ms','elevation','Date'],inplace=True)\n"
     ]
    },
    {
     "name": "stdout",
     "output_type": "stream",
     "text": [
      "\u001b[1m37/37\u001b[0m \u001b[32m━━━━━━━━━━━━━━━━━━━━\u001b[0m\u001b[37m\u001b[0m \u001b[1m0s\u001b[0m 1ms/step \n",
      "\u001b[1m10/10\u001b[0m \u001b[32m━━━━━━━━━━━━━━━━━━━━\u001b[0m\u001b[37m\u001b[0m \u001b[1m0s\u001b[0m 2ms/step \n",
      "['Cyprus', 'Nicosia', 1.0890292578861027, 1.4192198503895195, 0.9784984473975369, 2.8466425240335305, 'fold_1', 'StandardScaler', 'NN-ML', 'LinearRegression']\n",
      "\u001b[1m37/37\u001b[0m \u001b[32m━━━━━━━━━━━━━━━━━━━━\u001b[0m\u001b[37m\u001b[0m \u001b[1m0s\u001b[0m 1ms/step \n",
      "\u001b[1m10/10\u001b[0m \u001b[32m━━━━━━━━━━━━━━━━━━━━\u001b[0m\u001b[37m\u001b[0m \u001b[1m0s\u001b[0m 2ms/step \n",
      "['Cyprus', 'Nicosia', 1.0933879630206382, 1.5992966841672958, 0.9706718221407027, 3.0204252628537556, 'fold_2', 'StandardScaler', 'NN-ML', 'LinearRegression']\n",
      "\u001b[1m37/37\u001b[0m \u001b[32m━━━━━━━━━━━━━━━━━━━━\u001b[0m\u001b[37m\u001b[0m \u001b[1m0s\u001b[0m 1ms/step \n",
      "\u001b[1m10/10\u001b[0m \u001b[32m━━━━━━━━━━━━━━━━━━━━\u001b[0m\u001b[37m\u001b[0m \u001b[1m0s\u001b[0m 2ms/step \n",
      "['Cyprus', 'Nicosia', 0.9661904927258075, 1.3341276883549853, 0.9670578903101728, 2.833981386926252, 'fold_3', 'StandardScaler', 'NN-ML', 'LinearRegression']\n",
      "\u001b[1m37/37\u001b[0m \u001b[32m━━━━━━━━━━━━━━━━━━━━\u001b[0m\u001b[37m\u001b[0m \u001b[1m0s\u001b[0m 1ms/step \n",
      "\u001b[1m10/10\u001b[0m \u001b[32m━━━━━━━━━━━━━━━━━━━━\u001b[0m\u001b[37m\u001b[0m \u001b[1m0s\u001b[0m 2ms/step \n",
      "['Cyprus', 'Nicosia', 0.9937376475225304, 1.30486925461873, 0.9796814916690777, 2.966125343395824, 'fold_4', 'StandardScaler', 'NN-ML', 'LinearRegression']\n",
      "\u001b[1m37/37\u001b[0m \u001b[32m━━━━━━━━━━━━━━━━━━━━\u001b[0m\u001b[37m\u001b[0m \u001b[1m0s\u001b[0m 2ms/step \n",
      "\u001b[1m10/10\u001b[0m \u001b[32m━━━━━━━━━━━━━━━━━━━━\u001b[0m\u001b[37m\u001b[0m \u001b[1m0s\u001b[0m 3ms/step \n",
      "['Cyprus', 'Nicosia', 1.1861603662847926, 1.790176742434313, 0.9586631813952003, 3.30443644376571, 'fold_5', 'StandardScaler', 'NN-ML', 'LinearRegression']\n",
      "Oslo\n",
      "11.99999999999999 39.968750000000014\n"
     ]
    },
    {
     "name": "stderr",
     "output_type": "stream",
     "text": [
      "C:\\Users\\HP\\AppData\\Local\\Temp\\ipykernel_20712\\3734773123.py:11: SettingWithCopyWarning: \n",
      "A value is trying to be set on a copy of a slice from a DataFrame\n",
      "\n",
      "See the caveats in the documentation: https://pandas.pydata.org/pandas-docs/stable/user_guide/indexing.html#returning-a-view-versus-a-copy\n",
      "  city_df.drop(columns=['location', 'country', 'latitude', 'longitude', 'generationtime_ms','elevation','Date'],inplace=True)\n"
     ]
    },
    {
     "name": "stdout",
     "output_type": "stream",
     "text": [
      "\u001b[1m37/37\u001b[0m \u001b[32m━━━━━━━━━━━━━━━━━━━━\u001b[0m\u001b[37m\u001b[0m \u001b[1m0s\u001b[0m 1ms/step \n",
      "\u001b[1m10/10\u001b[0m \u001b[32m━━━━━━━━━━━━━━━━━━━━\u001b[0m\u001b[37m\u001b[0m \u001b[1m0s\u001b[0m 2ms/step \n",
      "['Norway', 'Oslo', 0.882191834867475, 1.2728047988839983, 0.9679654332670411, 4.07189111317246, 'fold_1', 'StandardScaler', 'NN-ML', 'LinearRegression']\n",
      "\u001b[1m37/37\u001b[0m \u001b[32m━━━━━━━━━━━━━━━━━━━━\u001b[0m\u001b[37m\u001b[0m \u001b[1m0s\u001b[0m 2ms/step \n",
      "\u001b[1m10/10\u001b[0m \u001b[32m━━━━━━━━━━━━━━━━━━━━\u001b[0m\u001b[37m\u001b[0m \u001b[1m0s\u001b[0m 2ms/step \n",
      "['Norway', 'Oslo', 0.7929242092724808, 1.020035592980788, 0.9804928968806692, 3.3931962970216683, 'fold_2', 'StandardScaler', 'NN-ML', 'LinearRegression']\n",
      "\u001b[1m37/37\u001b[0m \u001b[32m━━━━━━━━━━━━━━━━━━━━\u001b[0m\u001b[37m\u001b[0m \u001b[1m0s\u001b[0m 1ms/step \n",
      "\u001b[1m10/10\u001b[0m \u001b[32m━━━━━━━━━━━━━━━━━━━━\u001b[0m\u001b[37m\u001b[0m \u001b[1m0s\u001b[0m 2ms/step \n",
      "['Norway', 'Oslo', 0.8841367138030868, 1.1858195204597834, 0.9725737857501924, 4.596211550459624, 'fold_3', 'StandardScaler', 'NN-ML', 'LinearRegression']\n",
      "\u001b[1m37/37\u001b[0m \u001b[32m━━━━━━━━━━━━━━━━━━━━\u001b[0m\u001b[37m\u001b[0m \u001b[1m0s\u001b[0m 1ms/step \n",
      "\u001b[1m10/10\u001b[0m \u001b[32m━━━━━━━━━━━━━━━━━━━━\u001b[0m\u001b[37m\u001b[0m \u001b[1m0s\u001b[0m 2ms/step \n",
      "['Norway', 'Oslo', 0.8663244062362738, 1.1547704589045895, 0.9735251062312337, 4.424632332876903, 'fold_4', 'StandardScaler', 'NN-ML', 'LinearRegression']\n",
      "\u001b[1m37/37\u001b[0m \u001b[32m━━━━━━━━━━━━━━━━━━━━\u001b[0m\u001b[37m\u001b[0m \u001b[1m0s\u001b[0m 1ms/step \n",
      "\u001b[1m10/10\u001b[0m \u001b[32m━━━━━━━━━━━━━━━━━━━━\u001b[0m\u001b[37m\u001b[0m \u001b[1m0s\u001b[0m 2ms/step \n",
      "['Norway', 'Oslo', 0.7286714211990843, 0.9921747235879711, 0.9656249165282382, 3.1375141610597943, 'fold_5', 'StandardScaler', 'NN-ML', 'LinearRegression']\n",
      "Paris\n",
      "12.541666666666671 47.54166666666666\n"
     ]
    },
    {
     "name": "stderr",
     "output_type": "stream",
     "text": [
      "C:\\Users\\HP\\AppData\\Local\\Temp\\ipykernel_20712\\3734773123.py:11: SettingWithCopyWarning: \n",
      "A value is trying to be set on a copy of a slice from a DataFrame\n",
      "\n",
      "See the caveats in the documentation: https://pandas.pydata.org/pandas-docs/stable/user_guide/indexing.html#returning-a-view-versus-a-copy\n",
      "  city_df.drop(columns=['location', 'country', 'latitude', 'longitude', 'generationtime_ms','elevation','Date'],inplace=True)\n"
     ]
    },
    {
     "name": "stdout",
     "output_type": "stream",
     "text": [
      "\u001b[1m37/37\u001b[0m \u001b[32m━━━━━━━━━━━━━━━━━━━━\u001b[0m\u001b[37m\u001b[0m \u001b[1m0s\u001b[0m 1ms/step \n",
      "\u001b[1m10/10\u001b[0m \u001b[32m━━━━━━━━━━━━━━━━━━━━\u001b[0m\u001b[37m\u001b[0m \u001b[1m0s\u001b[0m 2ms/step \n",
      "['France', 'Paris', 1.2469449081247308, 1.9615975377293056, 0.9686213530711961, 4.513391870994054, 'fold_1', 'StandardScaler', 'NN-ML', 'LinearRegression']\n",
      "\u001b[1m37/37\u001b[0m \u001b[32m━━━━━━━━━━━━━━━━━━━━\u001b[0m\u001b[37m\u001b[0m \u001b[1m0s\u001b[0m 1ms/step \n",
      "\u001b[1m10/10\u001b[0m \u001b[32m━━━━━━━━━━━━━━━━━━━━\u001b[0m\u001b[37m\u001b[0m \u001b[1m0s\u001b[0m 2ms/step \n",
      "['France', 'Paris', 1.102884912055377, 1.4293128844080725, 0.9872504004701125, 4.105794116823646, 'fold_2', 'StandardScaler', 'NN-ML', 'LinearRegression']\n",
      "\u001b[1m37/37\u001b[0m \u001b[32m━━━━━━━━━━━━━━━━━━━━\u001b[0m\u001b[37m\u001b[0m \u001b[1m0s\u001b[0m 1ms/step \n",
      "\u001b[1m10/10\u001b[0m \u001b[32m━━━━━━━━━━━━━━━━━━━━\u001b[0m\u001b[37m\u001b[0m \u001b[1m0s\u001b[0m 2ms/step \n",
      "['France', 'Paris', 1.22961059117426, 1.607041490914311, 0.981474079881549, 4.884091066872132, 'fold_3', 'StandardScaler', 'NN-ML', 'LinearRegression']\n",
      "\u001b[1m37/37\u001b[0m \u001b[32m━━━━━━━━━━━━━━━━━━━━\u001b[0m\u001b[37m\u001b[0m \u001b[1m0s\u001b[0m 1ms/step \n",
      "\u001b[1m10/10\u001b[0m \u001b[32m━━━━━━━━━━━━━━━━━━━━\u001b[0m\u001b[37m\u001b[0m \u001b[1m0s\u001b[0m 2ms/step \n",
      "['France', 'Paris', 1.122175830684296, 1.4742851123109473, 0.9718741945945623, 4.616945832744626, 'fold_4', 'StandardScaler', 'NN-ML', 'LinearRegression']\n",
      "\u001b[1m37/37\u001b[0m \u001b[32m━━━━━━━━━━━━━━━━━━━━\u001b[0m\u001b[37m\u001b[0m \u001b[1m0s\u001b[0m 1ms/step \n",
      "\u001b[1m10/10\u001b[0m \u001b[32m━━━━━━━━━━━━━━━━━━━━\u001b[0m\u001b[37m\u001b[0m \u001b[1m0s\u001b[0m 2ms/step \n",
      "['France', 'Paris', 1.2261567159330464, 1.9312283147768052, 0.9696101263169181, 4.697290211561502, 'fold_5', 'StandardScaler', 'NN-ML', 'LinearRegression']\n",
      "Poznan\n",
      "8.25 72.78124999999999\n"
     ]
    },
    {
     "name": "stderr",
     "output_type": "stream",
     "text": [
      "C:\\Users\\HP\\AppData\\Local\\Temp\\ipykernel_20712\\3734773123.py:11: SettingWithCopyWarning: \n",
      "A value is trying to be set on a copy of a slice from a DataFrame\n",
      "\n",
      "See the caveats in the documentation: https://pandas.pydata.org/pandas-docs/stable/user_guide/indexing.html#returning-a-view-versus-a-copy\n",
      "  city_df.drop(columns=['location', 'country', 'latitude', 'longitude', 'generationtime_ms','elevation','Date'],inplace=True)\n"
     ]
    },
    {
     "name": "stdout",
     "output_type": "stream",
     "text": [
      "\u001b[1m37/37\u001b[0m \u001b[32m━━━━━━━━━━━━━━━━━━━━\u001b[0m\u001b[37m\u001b[0m \u001b[1m0s\u001b[0m 1ms/step \n",
      "\u001b[1m10/10\u001b[0m \u001b[32m━━━━━━━━━━━━━━━━━━━━\u001b[0m\u001b[37m\u001b[0m \u001b[1m0s\u001b[0m 2ms/step \n",
      "['Poland', 'Poznan', 1.7209739576563228, 2.2574829545427306, 0.9844574537796495, 5.787827514349283, 'fold_1', 'StandardScaler', 'NN-ML', 'LinearRegression']\n",
      "\u001b[1m37/37\u001b[0m \u001b[32m━━━━━━━━━━━━━━━━━━━━\u001b[0m\u001b[37m\u001b[0m \u001b[1m0s\u001b[0m 1ms/step \n",
      "\u001b[1m10/10\u001b[0m \u001b[32m━━━━━━━━━━━━━━━━━━━━\u001b[0m\u001b[37m\u001b[0m \u001b[1m0s\u001b[0m 2ms/step \n",
      "['Poland', 'Poznan', 1.754064799443772, 2.2017956363747353, 0.985080157513488, 5.717680621289375, 'fold_2', 'StandardScaler', 'NN-ML', 'LinearRegression']\n",
      "\u001b[1m37/37\u001b[0m \u001b[32m━━━━━━━━━━━━━━━━━━━━\u001b[0m\u001b[37m\u001b[0m \u001b[1m0s\u001b[0m 1ms/step \n",
      "\u001b[1m10/10\u001b[0m \u001b[32m━━━━━━━━━━━━━━━━━━━━\u001b[0m\u001b[37m\u001b[0m \u001b[1m0s\u001b[0m 2ms/step \n",
      "['Poland', 'Poznan', 1.2943876007376194, 1.6297978525942987, 0.9905658069485843, 4.339145793819128, 'fold_3', 'StandardScaler', 'NN-ML', 'LinearRegression']\n",
      "\u001b[1m37/37\u001b[0m \u001b[32m━━━━━━━━━━━━━━━━━━━━\u001b[0m\u001b[37m\u001b[0m \u001b[1m0s\u001b[0m 1ms/step \n",
      "\u001b[1m10/10\u001b[0m \u001b[32m━━━━━━━━━━━━━━━━━━━━\u001b[0m\u001b[37m\u001b[0m \u001b[1m0s\u001b[0m 2ms/step \n",
      "['Poland', 'Poznan', 1.587621002981107, 2.1299889948553625, 0.9823463385477748, 5.38166799372835, 'fold_4', 'StandardScaler', 'NN-ML', 'LinearRegression']\n",
      "\u001b[1m37/37\u001b[0m \u001b[32m━━━━━━━━━━━━━━━━━━━━\u001b[0m\u001b[37m\u001b[0m \u001b[1m0s\u001b[0m 1ms/step \n",
      "\u001b[1m10/10\u001b[0m \u001b[32m━━━━━━━━━━━━━━━━━━━━\u001b[0m\u001b[37m\u001b[0m \u001b[1m0s\u001b[0m 2ms/step \n",
      "['Poland', 'Poznan', 2.171534176830832, 2.746146981074888, 0.9645212045868677, 7.601552493984998, 'fold_5', 'StandardScaler', 'NN-ML', 'LinearRegression']\n",
      "Prague\n",
      "11.625 56.15625\n"
     ]
    },
    {
     "name": "stderr",
     "output_type": "stream",
     "text": [
      "C:\\Users\\HP\\AppData\\Local\\Temp\\ipykernel_20712\\3734773123.py:11: SettingWithCopyWarning: \n",
      "A value is trying to be set on a copy of a slice from a DataFrame\n",
      "\n",
      "See the caveats in the documentation: https://pandas.pydata.org/pandas-docs/stable/user_guide/indexing.html#returning-a-view-versus-a-copy\n",
      "  city_df.drop(columns=['location', 'country', 'latitude', 'longitude', 'generationtime_ms','elevation','Date'],inplace=True)\n"
     ]
    },
    {
     "name": "stdout",
     "output_type": "stream",
     "text": [
      "\u001b[1m37/37\u001b[0m \u001b[32m━━━━━━━━━━━━━━━━━━━━\u001b[0m\u001b[37m\u001b[0m \u001b[1m0s\u001b[0m 1ms/step \n",
      "\u001b[1m10/10\u001b[0m \u001b[32m━━━━━━━━━━━━━━━━━━━━\u001b[0m\u001b[37m\u001b[0m \u001b[1m0s\u001b[0m 2ms/step \n",
      "['Czech Republic', 'Prague', 0.8801657630043762, 1.1659676524660714, 0.9918309806322341, 3.172974881681899, 'fold_1', 'StandardScaler', 'NN-ML', 'LinearRegression']\n",
      "\u001b[1m37/37\u001b[0m \u001b[32m━━━━━━━━━━━━━━━━━━━━\u001b[0m\u001b[37m\u001b[0m \u001b[1m0s\u001b[0m 1ms/step \n",
      "\u001b[1m10/10\u001b[0m \u001b[32m━━━━━━━━━━━━━━━━━━━━\u001b[0m\u001b[37m\u001b[0m \u001b[1m0s\u001b[0m 2ms/step \n",
      "['Czech Republic', 'Prague', 0.8273015631932649, 1.1536238081787547, 0.9918525371658371, 2.9820705305930226, 'fold_2', 'StandardScaler', 'NN-ML', 'LinearRegression']\n",
      "\u001b[1m37/37\u001b[0m \u001b[32m━━━━━━━━━━━━━━━━━━━━\u001b[0m\u001b[37m\u001b[0m \u001b[1m0s\u001b[0m 1ms/step \n",
      "\u001b[1m10/10\u001b[0m \u001b[32m━━━━━━━━━━━━━━━━━━━━\u001b[0m\u001b[37m\u001b[0m \u001b[1m0s\u001b[0m 2ms/step \n",
      "['Czech Republic', 'Prague', 0.8370570221992385, 1.0725876960040328, 0.9918601500364511, 3.2720839248567857, 'fold_3', 'StandardScaler', 'NN-ML', 'LinearRegression']\n",
      "\u001b[1m37/37\u001b[0m \u001b[32m━━━━━━━━━━━━━━━━━━━━\u001b[0m\u001b[37m\u001b[0m \u001b[1m0s\u001b[0m 1ms/step \n",
      "\u001b[1m10/10\u001b[0m \u001b[32m━━━━━━━━━━━━━━━━━━━━\u001b[0m\u001b[37m\u001b[0m \u001b[1m0s\u001b[0m 3ms/step \n",
      "['Czech Republic', 'Prague', 1.0217913383762591, 1.346684667754944, 0.9872856370007018, 4.1194269410640985, 'fold_4', 'StandardScaler', 'NN-ML', 'LinearRegression']\n",
      "\u001b[1m37/37\u001b[0m \u001b[32m━━━━━━━━━━━━━━━━━━━━\u001b[0m\u001b[37m\u001b[0m \u001b[1m0s\u001b[0m 1ms/step \n",
      "\u001b[1m10/10\u001b[0m \u001b[32m━━━━━━━━━━━━━━━━━━━━\u001b[0m\u001b[37m\u001b[0m \u001b[1m0s\u001b[0m 2ms/step \n",
      "['Czech Republic', 'Prague', 0.6609390054119227, 0.8486757964276431, 0.9937870886084379, 2.31403440781581, 'fold_5', 'StandardScaler', 'NN-ML', 'LinearRegression']\n",
      "Reykjavik Airport\n",
      "14.125 43.65625\n"
     ]
    },
    {
     "name": "stderr",
     "output_type": "stream",
     "text": [
      "C:\\Users\\HP\\AppData\\Local\\Temp\\ipykernel_20712\\3734773123.py:11: SettingWithCopyWarning: \n",
      "A value is trying to be set on a copy of a slice from a DataFrame\n",
      "\n",
      "See the caveats in the documentation: https://pandas.pydata.org/pandas-docs/stable/user_guide/indexing.html#returning-a-view-versus-a-copy\n",
      "  city_df.drop(columns=['location', 'country', 'latitude', 'longitude', 'generationtime_ms','elevation','Date'],inplace=True)\n"
     ]
    },
    {
     "name": "stdout",
     "output_type": "stream",
     "text": [
      "\u001b[1m37/37\u001b[0m \u001b[32m━━━━━━━━━━━━━━━━━━━━\u001b[0m\u001b[37m\u001b[0m \u001b[1m0s\u001b[0m 2ms/step\n",
      "\u001b[1m10/10\u001b[0m \u001b[32m━━━━━━━━━━━━━━━━━━━━\u001b[0m\u001b[37m\u001b[0m \u001b[1m0s\u001b[0m 2ms/step \n",
      "['Iceland', 'Reykjavik Airport', 0.7378024707746459, 0.973592374853669, 0.9324691803549192, 2.9064848757368957, 'fold_1', 'StandardScaler', 'NN-ML', 'LinearRegression']\n",
      "\u001b[1m37/37\u001b[0m \u001b[32m━━━━━━━━━━━━━━━━━━━━\u001b[0m\u001b[37m\u001b[0m \u001b[1m0s\u001b[0m 2ms/step \n",
      "\u001b[1m10/10\u001b[0m \u001b[32m━━━━━━━━━━━━━━━━━━━━\u001b[0m\u001b[37m\u001b[0m \u001b[1m0s\u001b[0m 2ms/step \n",
      "['Iceland', 'Reykjavik Airport', 0.7552832903927318, 1.4210555979679822, 0.9164939490880466, 3.346601256565646, 'fold_2', 'StandardScaler', 'NN-ML', 'LinearRegression']\n",
      "\u001b[1m37/37\u001b[0m \u001b[32m━━━━━━━━━━━━━━━━━━━━\u001b[0m\u001b[37m\u001b[0m \u001b[1m0s\u001b[0m 2ms/step \n",
      "\u001b[1m10/10\u001b[0m \u001b[32m━━━━━━━━━━━━━━━━━━━━\u001b[0m\u001b[37m\u001b[0m \u001b[1m0s\u001b[0m 2ms/step \n",
      "['Iceland', 'Reykjavik Airport', 0.8981444138914477, 1.1297836877654104, 0.9618621057598677, 3.7195730815452417, 'fold_3', 'StandardScaler', 'NN-ML', 'LinearRegression']\n",
      "\u001b[1m37/37\u001b[0m \u001b[32m━━━━━━━━━━━━━━━━━━━━\u001b[0m\u001b[37m\u001b[0m \u001b[1m0s\u001b[0m 2ms/step \n",
      "\u001b[1m10/10\u001b[0m \u001b[32m━━━━━━━━━━━━━━━━━━━━\u001b[0m\u001b[37m\u001b[0m \u001b[1m0s\u001b[0m 2ms/step \n",
      "['Iceland', 'Reykjavik Airport', 0.9813794567160407, 1.287449554579304, 0.9215852758280745, 4.26515824377837, 'fold_4', 'StandardScaler', 'NN-ML', 'LinearRegression']\n",
      "\u001b[1m37/37\u001b[0m \u001b[32m━━━━━━━━━━━━━━━━━━━━\u001b[0m\u001b[37m\u001b[0m \u001b[1m0s\u001b[0m 1ms/step \n",
      "\u001b[1m10/10\u001b[0m \u001b[32m━━━━━━━━━━━━━━━━━━━━\u001b[0m\u001b[37m\u001b[0m \u001b[1m0s\u001b[0m 2ms/step \n",
      "['Iceland', 'Reykjavik Airport', 1.3072651836970084, 1.7314303563153275, 0.8987447038968093, 5.884435457561478, 'fold_5', 'StandardScaler', 'NN-ML', 'LinearRegression']\n",
      "Rome\n",
      "16.125 50.34375\n"
     ]
    },
    {
     "name": "stderr",
     "output_type": "stream",
     "text": [
      "C:\\Users\\HP\\AppData\\Local\\Temp\\ipykernel_20712\\3734773123.py:11: SettingWithCopyWarning: \n",
      "A value is trying to be set on a copy of a slice from a DataFrame\n",
      "\n",
      "See the caveats in the documentation: https://pandas.pydata.org/pandas-docs/stable/user_guide/indexing.html#returning-a-view-versus-a-copy\n",
      "  city_df.drop(columns=['location', 'country', 'latitude', 'longitude', 'generationtime_ms','elevation','Date'],inplace=True)\n"
     ]
    },
    {
     "name": "stdout",
     "output_type": "stream",
     "text": [
      "\u001b[1m37/37\u001b[0m \u001b[32m━━━━━━━━━━━━━━━━━━━━\u001b[0m\u001b[37m\u001b[0m \u001b[1m0s\u001b[0m 1ms/step \n",
      "\u001b[1m10/10\u001b[0m \u001b[32m━━━━━━━━━━━━━━━━━━━━\u001b[0m\u001b[37m\u001b[0m \u001b[1m0s\u001b[0m 2ms/step \n",
      "['Italy', 'Rome', 1.3754242917647814, 1.7190822123734388, 0.9729344398843247, 4.571795684766103, 'fold_1', 'StandardScaler', 'NN-ML', 'LinearRegression']\n",
      "\u001b[1m37/37\u001b[0m \u001b[32m━━━━━━━━━━━━━━━━━━━━\u001b[0m\u001b[37m\u001b[0m \u001b[1m0s\u001b[0m 1ms/step \n",
      "\u001b[1m10/10\u001b[0m \u001b[32m━━━━━━━━━━━━━━━━━━━━\u001b[0m\u001b[37m\u001b[0m \u001b[1m0s\u001b[0m 2ms/step \n",
      "['Italy', 'Rome', 1.1759676802648258, 1.647708458647262, 0.9550615823355633, 4.21620335762496, 'fold_2', 'StandardScaler', 'NN-ML', 'LinearRegression']\n",
      "\u001b[1m37/37\u001b[0m \u001b[32m━━━━━━━━━━━━━━━━━━━━\u001b[0m\u001b[37m\u001b[0m \u001b[1m0s\u001b[0m 1ms/step \n",
      "\u001b[1m10/10\u001b[0m \u001b[32m━━━━━━━━━━━━━━━━━━━━\u001b[0m\u001b[37m\u001b[0m \u001b[1m0s\u001b[0m 2ms/step \n",
      "['Italy', 'Rome', 1.130481338936444, 1.566168740849035, 0.9763996391527008, 4.622765986815664, 'fold_3', 'StandardScaler', 'NN-ML', 'LinearRegression']\n",
      "\u001b[1m37/37\u001b[0m \u001b[32m━━━━━━━━━━━━━━━━━━━━\u001b[0m\u001b[37m\u001b[0m \u001b[1m0s\u001b[0m 1ms/step \n",
      "\u001b[1m10/10\u001b[0m \u001b[32m━━━━━━━━━━━━━━━━━━━━\u001b[0m\u001b[37m\u001b[0m \u001b[1m0s\u001b[0m 2ms/step \n",
      "['Italy', 'Rome', 1.3631654330040224, 2.1667567122305806, 0.968632853373523, 4.736473712298091, 'fold_4', 'StandardScaler', 'NN-ML', 'LinearRegression']\n",
      "\u001b[1m37/37\u001b[0m \u001b[32m━━━━━━━━━━━━━━━━━━━━\u001b[0m\u001b[37m\u001b[0m \u001b[1m0s\u001b[0m 1ms/step \n",
      "\u001b[1m10/10\u001b[0m \u001b[32m━━━━━━━━━━━━━━━━━━━━\u001b[0m\u001b[37m\u001b[0m \u001b[1m0s\u001b[0m 2ms/step \n",
      "['Italy', 'Rome', 1.0890537745332063, 1.9177778762112747, 0.9606454536882963, 3.390306866254189, 'fold_5', 'StandardScaler', 'NN-ML', 'LinearRegression']\n",
      "Stockholm\n",
      "11.916666666666668 40.51041666666667\n"
     ]
    },
    {
     "name": "stderr",
     "output_type": "stream",
     "text": [
      "C:\\Users\\HP\\AppData\\Local\\Temp\\ipykernel_20712\\3734773123.py:11: SettingWithCopyWarning: \n",
      "A value is trying to be set on a copy of a slice from a DataFrame\n",
      "\n",
      "See the caveats in the documentation: https://pandas.pydata.org/pandas-docs/stable/user_guide/indexing.html#returning-a-view-versus-a-copy\n",
      "  city_df.drop(columns=['location', 'country', 'latitude', 'longitude', 'generationtime_ms','elevation','Date'],inplace=True)\n"
     ]
    },
    {
     "name": "stdout",
     "output_type": "stream",
     "text": [
      "\u001b[1m37/37\u001b[0m \u001b[32m━━━━━━━━━━━━━━━━━━━━\u001b[0m\u001b[37m\u001b[0m \u001b[1m0s\u001b[0m 1ms/step \n",
      "\u001b[1m10/10\u001b[0m \u001b[32m━━━━━━━━━━━━━━━━━━━━\u001b[0m\u001b[37m\u001b[0m \u001b[1m0s\u001b[0m 2ms/step \n",
      "['Sewden', 'Stockholm', 1.0081469066042672, 1.3269021162713235, 0.9458926587529702, 4.816925783750891, 'fold_1', 'StandardScaler', 'NN-ML', 'LinearRegression']\n",
      "\u001b[1m37/37\u001b[0m \u001b[32m━━━━━━━━━━━━━━━━━━━━\u001b[0m\u001b[37m\u001b[0m \u001b[1m0s\u001b[0m 1ms/step \n",
      "\u001b[1m10/10\u001b[0m \u001b[32m━━━━━━━━━━━━━━━━━━━━\u001b[0m\u001b[37m\u001b[0m \u001b[1m0s\u001b[0m 2ms/step \n",
      "['Sewden', 'Stockholm', 0.9130804462519954, 1.3458239589574275, 0.950677515016639, 4.00123509726844, 'fold_2', 'StandardScaler', 'NN-ML', 'LinearRegression']\n",
      "\u001b[1m37/37\u001b[0m \u001b[32m━━━━━━━━━━━━━━━━━━━━\u001b[0m\u001b[37m\u001b[0m \u001b[1m0s\u001b[0m 2ms/step \n",
      "\u001b[1m10/10\u001b[0m \u001b[32m━━━━━━━━━━━━━━━━━━━━\u001b[0m\u001b[37m\u001b[0m \u001b[1m0s\u001b[0m 2ms/step \n",
      "['Sewden', 'Stockholm', 0.8482785899889522, 1.1561097144819001, 0.9652866982681586, 4.181572196000646, 'fold_3', 'StandardScaler', 'NN-ML', 'LinearRegression']\n",
      "\u001b[1m37/37\u001b[0m \u001b[32m━━━━━━━━━━━━━━━━━━━━\u001b[0m\u001b[37m\u001b[0m \u001b[1m0s\u001b[0m 1ms/step \n",
      "\u001b[1m10/10\u001b[0m \u001b[32m━━━━━━━━━━━━━━━━━━━━\u001b[0m\u001b[37m\u001b[0m \u001b[1m0s\u001b[0m 2ms/step \n",
      "['Sewden', 'Stockholm', 0.9675611611370626, 1.1940350857634248, 0.9296206395422062, 4.770677989797479, 'fold_4', 'StandardScaler', 'NN-ML', 'LinearRegression']\n",
      "\u001b[1m37/37\u001b[0m \u001b[32m━━━━━━━━━━━━━━━━━━━━\u001b[0m\u001b[37m\u001b[0m \u001b[1m0s\u001b[0m 1ms/step \n",
      "\u001b[1m10/10\u001b[0m \u001b[32m━━━━━━━━━━━━━━━━━━━━\u001b[0m\u001b[37m\u001b[0m \u001b[1m0s\u001b[0m 2ms/step \n",
      "['Sewden', 'Stockholm', 0.78337311635823, 0.9941224833688271, 0.9540132467252112, 3.309387091841218, 'fold_5', 'StandardScaler', 'NN-ML', 'LinearRegression']\n",
      "bern\n",
      "13.25 44.1875\n"
     ]
    },
    {
     "name": "stderr",
     "output_type": "stream",
     "text": [
      "C:\\Users\\HP\\AppData\\Local\\Temp\\ipykernel_20712\\3734773123.py:11: SettingWithCopyWarning: \n",
      "A value is trying to be set on a copy of a slice from a DataFrame\n",
      "\n",
      "See the caveats in the documentation: https://pandas.pydata.org/pandas-docs/stable/user_guide/indexing.html#returning-a-view-versus-a-copy\n",
      "  city_df.drop(columns=['location', 'country', 'latitude', 'longitude', 'generationtime_ms','elevation','Date'],inplace=True)\n"
     ]
    },
    {
     "name": "stdout",
     "output_type": "stream",
     "text": [
      "\u001b[1m37/37\u001b[0m \u001b[32m━━━━━━━━━━━━━━━━━━━━\u001b[0m\u001b[37m\u001b[0m \u001b[1m0s\u001b[0m 1ms/step \n",
      "\u001b[1m10/10\u001b[0m \u001b[32m━━━━━━━━━━━━━━━━━━━━\u001b[0m\u001b[37m\u001b[0m \u001b[1m0s\u001b[0m 3ms/step \n",
      "['Switzerland', 'bern', 0.4152798744869992, 0.6068102585252803, 0.9926643198261368, 1.68579379922675, 'fold_1', 'StandardScaler', 'NN-ML', 'LinearRegression']\n",
      "\u001b[1m37/37\u001b[0m \u001b[32m━━━━━━━━━━━━━━━━━━━━\u001b[0m\u001b[37m\u001b[0m \u001b[1m0s\u001b[0m 1ms/step \n",
      "\u001b[1m10/10\u001b[0m \u001b[32m━━━━━━━━━━━━━━━━━━━━\u001b[0m\u001b[37m\u001b[0m \u001b[1m0s\u001b[0m 2ms/step \n",
      "['Switzerland', 'bern', 0.4374415297486467, 0.5993715730470878, 0.9951743163008825, 1.6993387758884548, 'fold_2', 'StandardScaler', 'NN-ML', 'LinearRegression']\n",
      "\u001b[1m37/37\u001b[0m \u001b[32m━━━━━━━━━━━━━━━━━━━━\u001b[0m\u001b[37m\u001b[0m \u001b[1m0s\u001b[0m 1ms/step \n",
      "\u001b[1m10/10\u001b[0m \u001b[32m━━━━━━━━━━━━━━━━━━━━\u001b[0m\u001b[37m\u001b[0m \u001b[1m0s\u001b[0m 2ms/step \n",
      "['Switzerland', 'bern', 0.4056580404168394, 0.5464481288577752, 0.9955653572580334, 1.8790132659410022, 'fold_3', 'StandardScaler', 'NN-ML', 'LinearRegression']\n",
      "\u001b[1m37/37\u001b[0m \u001b[32m━━━━━━━━━━━━━━━━━━━━\u001b[0m\u001b[37m\u001b[0m \u001b[1m0s\u001b[0m 1ms/step \n",
      "\u001b[1m10/10\u001b[0m \u001b[32m━━━━━━━━━━━━━━━━━━━━\u001b[0m\u001b[37m\u001b[0m \u001b[1m0s\u001b[0m 2ms/step \n",
      "['Switzerland', 'bern', 0.5037098573223098, 0.7978438324245919, 0.9890407019156701, 2.24062567572848, 'fold_4', 'StandardScaler', 'NN-ML', 'LinearRegression']\n",
      "\u001b[1m37/37\u001b[0m \u001b[32m━━━━━━━━━━━━━━━━━━━━\u001b[0m\u001b[37m\u001b[0m \u001b[1m0s\u001b[0m 1ms/step \n",
      "\u001b[1m10/10\u001b[0m \u001b[32m━━━━━━━━━━━━━━━━━━━━\u001b[0m\u001b[37m\u001b[0m \u001b[1m0s\u001b[0m 2ms/step \n",
      "['Switzerland', 'bern', 0.40763621243167675, 0.5950762272391641, 0.9915002371661452, 1.714962208878142, 'fold_5', 'StandardScaler', 'NN-ML', 'LinearRegression']\n",
      "luxembourg findel airport\n",
      "11.291666666666668 44.10416666666667\n"
     ]
    },
    {
     "name": "stderr",
     "output_type": "stream",
     "text": [
      "C:\\Users\\HP\\AppData\\Local\\Temp\\ipykernel_20712\\3734773123.py:11: SettingWithCopyWarning: \n",
      "A value is trying to be set on a copy of a slice from a DataFrame\n",
      "\n",
      "See the caveats in the documentation: https://pandas.pydata.org/pandas-docs/stable/user_guide/indexing.html#returning-a-view-versus-a-copy\n",
      "  city_df.drop(columns=['location', 'country', 'latitude', 'longitude', 'generationtime_ms','elevation','Date'],inplace=True)\n"
     ]
    },
    {
     "name": "stdout",
     "output_type": "stream",
     "text": [
      "\u001b[1m37/37\u001b[0m \u001b[32m━━━━━━━━━━━━━━━━━━━━\u001b[0m\u001b[37m\u001b[0m \u001b[1m0s\u001b[0m 1ms/step \n",
      "\u001b[1m10/10\u001b[0m \u001b[32m━━━━━━━━━━━━━━━━━━━━\u001b[0m\u001b[37m\u001b[0m \u001b[1m0s\u001b[0m 2ms/step \n",
      "['Luxembourg', 'luxembourg findel airport', 1.1660764767990728, 1.4850179311538085, 0.9596374600526044, 5.110543363433004, 'fold_1', 'StandardScaler', 'NN-ML', 'LinearRegression']\n",
      "\u001b[1m37/37\u001b[0m \u001b[32m━━━━━━━━━━━━━━━━━━━━\u001b[0m\u001b[37m\u001b[0m \u001b[1m0s\u001b[0m 1ms/step \n",
      "\u001b[1m10/10\u001b[0m \u001b[32m━━━━━━━━━━━━━━━━━━━━\u001b[0m\u001b[37m\u001b[0m \u001b[1m0s\u001b[0m 2ms/step \n",
      "['Luxembourg', 'luxembourg findel airport', 0.8309345876789528, 1.0901126923190687, 0.9809720139318101, 3.4286121344304816, 'fold_2', 'StandardScaler', 'NN-ML', 'LinearRegression']\n",
      "\u001b[1m37/37\u001b[0m \u001b[32m━━━━━━━━━━━━━━━━━━━━\u001b[0m\u001b[37m\u001b[0m \u001b[1m0s\u001b[0m 1ms/step \n",
      "\u001b[1m10/10\u001b[0m \u001b[32m━━━━━━━━━━━━━━━━━━━━\u001b[0m\u001b[37m\u001b[0m \u001b[1m0s\u001b[0m 2ms/step \n",
      "['Luxembourg', 'luxembourg findel airport', 0.9395914273719259, 1.2165733711414393, 0.9776518488042779, 4.159722352618005, 'fold_3', 'StandardScaler', 'NN-ML', 'LinearRegression']\n",
      "\u001b[1m37/37\u001b[0m \u001b[32m━━━━━━━━━━━━━━━━━━━━\u001b[0m\u001b[37m\u001b[0m \u001b[1m0s\u001b[0m 1ms/step \n",
      "\u001b[1m10/10\u001b[0m \u001b[32m━━━━━━━━━━━━━━━━━━━━\u001b[0m\u001b[37m\u001b[0m \u001b[1m0s\u001b[0m 2ms/step \n",
      "['Luxembourg', 'luxembourg findel airport', 0.9451622113789596, 1.258142139903999, 0.9700018809941688, 4.184936442001123, 'fold_4', 'StandardScaler', 'NN-ML', 'LinearRegression']\n",
      "\u001b[1m37/37\u001b[0m \u001b[32m━━━━━━━━━━━━━━━━━━━━\u001b[0m\u001b[37m\u001b[0m \u001b[1m0s\u001b[0m 1ms/step \n",
      "\u001b[1m10/10\u001b[0m \u001b[32m━━━━━━━━━━━━━━━━━━━━\u001b[0m\u001b[37m\u001b[0m \u001b[1m0s\u001b[0m 2ms/step \n",
      "['Luxembourg', 'luxembourg findel airport', 1.741252309111156, 1.9967365725054795, 0.9294749621340747, 7.402537439597068, 'fold_5', 'StandardScaler', 'NN-ML', 'LinearRegression']\n"
     ]
    }
   ],
   "source": [
    "cv  =5\n",
    "summary_value = []\n",
    "detail_value = []\n",
    "meta_data = []\n",
    "\n",
    "for city_ in df['location'].unique():\n",
    "    city_df = df[df['location'] == city_]\n",
    "    country_ = city_df['country'].unique()[0]\n",
    "    \n",
    "    print(city_)\n",
    "    city_df.drop(columns=['location', 'country', 'latitude', 'longitude', 'generationtime_ms','elevation','Date'],inplace=True)\n",
    "    \n",
    "    target_col = list(city_df)[-1]\n",
    "    X_train_list, \\\n",
    "    X_test_list, \\\n",
    "    y_train_list, \\\n",
    "    y_test_list, \\\n",
    "    date_train_list, \\\n",
    "    date_test_list, \\\n",
    "    diff, \\\n",
    "    impt_col = get_IQR_Operation_value(city_df,target_col,cv)\n",
    "    \n",
    "    meta_data.append(country_)\n",
    "    meta_data.append(city_)\n",
    "    meta_data.append(diff)\n",
    "    meta_data.append(city_df.shape[0])\n",
    "    meta_data.append(city_df.shape[1])\n",
    "    meta_data.append(impt_col)\n",
    "    \n",
    "    \n",
    "    k_fold = 1\n",
    "    \n",
    "    mae_list = []\n",
    "    rmse_list = []\n",
    "    r_2_list = []\n",
    "    mape_list = []\n",
    "    \n",
    "    for X_train, X_test, y_train, y_test, date_train, date_test in zip(X_train_list, X_test_list, y_train_list, y_test_list, date_train_list, date_test_list):\n",
    "        for _preprocessing_name in ['StandardScaler']: #'RobustScaler', 'MinMaxScaler' , 'StandardScaler'\n",
    "            for model_name, _ in model_dict.items():\n",
    "\n",
    "                model_object = model_dict[model_name]\n",
    "\n",
    "                res = []\n",
    "                mae, rmse, r_2, mape, y_pred = NN_GBR(X_train, X_test, y_train, y_test, _preprocessing_name, model_object)\n",
    "\n",
    "                res.append(country_)\n",
    "                res.append(city_)\n",
    "                res.append(mae)\n",
    "                res.append(rmse)\n",
    "                res.append(r_2)\n",
    "                res.append(mape)\n",
    "                res.append('fold_' + str(k_fold))\n",
    "                res.append(_preprocessing_name)\n",
    "                res.append('NN-ML')\n",
    "                res.append(model_name)\n",
    "                print(res)\n",
    "\n",
    "                full_output = pd.DataFrame({\n",
    "                    'actual_value' : y_test,\n",
    "                    'predict_value' : y_pred,\n",
    "                    'Fold_number' : ['fold_' + str(k_fold)] * len(y_test),\n",
    "                    'date' : date_test\n",
    "                })\n",
    "                full_output['city'] = city_\n",
    "                full_output['country'] = country_\n",
    "                full_output['pre-processing name'] = _preprocessing_name\n",
    "                full_output['method'] = 'NN-ML'\n",
    "                full_output['model_name'] = model_name\n",
    "\n",
    "                summary_value.append(res)\n",
    "                detail_value.append(full_output)\n",
    "\n",
    "        k_fold = k_fold + 1\n",
    "        \n",
    "        "
   ]
  },
  {
   "cell_type": "code",
   "execution_count": null,
   "id": "33470f4f",
   "metadata": {},
   "outputs": [],
   "source": []
  },
  {
   "cell_type": "code",
   "execution_count": null,
   "id": "85c7bbcf",
   "metadata": {},
   "outputs": [],
   "source": []
  },
  {
   "cell_type": "code",
   "execution_count": null,
   "id": "8b5b7c5e",
   "metadata": {},
   "outputs": [],
   "source": []
  },
  {
   "cell_type": "code",
   "execution_count": 46,
   "id": "ef163f18",
   "metadata": {},
   "outputs": [],
   "source": [
    "summary_df = pd.DataFrame(summary_value,columns=['Country','City','MAE','RMSE','R2','MAPE','K_Fold','pre-processing name','method','model_name'])"
   ]
  },
  {
   "cell_type": "code",
   "execution_count": null,
   "id": "3359fb02",
   "metadata": {},
   "outputs": [],
   "source": []
  },
  {
   "cell_type": "code",
   "execution_count": null,
   "id": "83a2c3f3",
   "metadata": {},
   "outputs": [],
   "source": []
  },
  {
   "cell_type": "code",
   "execution_count": 47,
   "id": "ff3aa2fc",
   "metadata": {},
   "outputs": [],
   "source": [
    "detail_df = pd.concat(detail_value)"
   ]
  },
  {
   "cell_type": "code",
   "execution_count": 48,
   "id": "8440d38e",
   "metadata": {},
   "outputs": [],
   "source": [
    "summary_df.to_csv('../_output/AQI_Proposed_Approach_Summary_result.csv',index=False)"
   ]
  },
  {
   "cell_type": "code",
   "execution_count": 49,
   "id": "f503a021",
   "metadata": {},
   "outputs": [],
   "source": [
    "detail_df.to_csv('../_output/AQI_Proposed_Approach_Detail_result.csv',index=False)"
   ]
  },
  {
   "cell_type": "code",
   "execution_count": 50,
   "id": "f252f206",
   "metadata": {},
   "outputs": [],
   "source": [
    "meta_df = pd.DataFrame(np.reshape(np.array(meta_data, dtype=\"object\"),(int(len(meta_data)/6),6)),columns=['Country','City',\n",
    "                                                                                               'IQR_Value','total_row',\n",
    "                                                                                               'total_column','important_feature'])"
   ]
  },
  {
   "cell_type": "code",
   "execution_count": 51,
   "id": "525dcb5e",
   "metadata": {},
   "outputs": [],
   "source": [
    "meta_df.to_csv('../_output/AQI_Proposed_Approach_metadata.csv',index=False)"
   ]
  },
  {
   "cell_type": "code",
   "execution_count": 52,
   "id": "fbacc554",
   "metadata": {},
   "outputs": [
    {
     "data": {
      "text/plain": [
       "array(['NN-ML'], dtype=object)"
      ]
     },
     "execution_count": 52,
     "metadata": {},
     "output_type": "execute_result"
    }
   ],
   "source": [
    "detail_df['method'].unique()"
   ]
  },
  {
   "cell_type": "code",
   "execution_count": null,
   "id": "a2748c79",
   "metadata": {},
   "outputs": [],
   "source": []
  },
  {
   "cell_type": "code",
   "execution_count": null,
   "id": "bce62790",
   "metadata": {},
   "outputs": [],
   "source": []
  },
  {
   "cell_type": "code",
   "execution_count": 53,
   "id": "fcdaf336",
   "metadata": {},
   "outputs": [],
   "source": [
    "model_dict = {\n",
    "#     'GradientBoostingRegressor':GradientBoostingRegressor(n_estimators=200, learning_rate=0.05, max_depth=3, random_state=42),\n",
    "    'RandomForestRegressor':RandomForestRegressor(random_state=42,n_estimators=300),\n",
    "#     'AdaBoostRegressor': AdaBoostRegressor(n_estimators=100,random_state=42),\n",
    "#     'xgboost.XGBRegressor' : xgboost.XGBRegressor(objective='reg:linear',n_estimators = 100, random_state=42),\n",
    "    'KNeighborsRegressor' : KNeighborsRegressor(n_neighbors=5),\n",
    "    'LinearRegression' : LinearRegression(),\n",
    "    'DecisionTreeRegressor' : DecisionTreeRegressor(random_state=42)\n",
    "}"
   ]
  },
  {
   "cell_type": "code",
   "execution_count": null,
   "id": "260725b7",
   "metadata": {},
   "outputs": [],
   "source": []
  },
  {
   "cell_type": "code",
   "execution_count": 54,
   "id": "796d43ce",
   "metadata": {},
   "outputs": [
    {
     "data": {
      "text/html": [
       "<div>\n",
       "<style scoped>\n",
       "    .dataframe tbody tr th:only-of-type {\n",
       "        vertical-align: middle;\n",
       "    }\n",
       "\n",
       "    .dataframe tbody tr th {\n",
       "        vertical-align: top;\n",
       "    }\n",
       "\n",
       "    .dataframe thead th {\n",
       "        text-align: right;\n",
       "    }\n",
       "</style>\n",
       "<table border=\"1\" class=\"dataframe\">\n",
       "  <thead>\n",
       "    <tr style=\"text-align: right;\">\n",
       "      <th></th>\n",
       "      <th>location</th>\n",
       "      <th>country</th>\n",
       "      <th>latitude</th>\n",
       "      <th>longitude</th>\n",
       "      <th>generationtime_ms</th>\n",
       "      <th>elevation</th>\n",
       "      <th>Date</th>\n",
       "      <th>year</th>\n",
       "      <th>month</th>\n",
       "      <th>day</th>\n",
       "      <th>...</th>\n",
       "      <th>RH</th>\n",
       "      <th>Dew_Point</th>\n",
       "      <th>snowfall</th>\n",
       "      <th>Pressure</th>\n",
       "      <th>wind_speed</th>\n",
       "      <th>wind_direction</th>\n",
       "      <th>wind_gusts</th>\n",
       "      <th>sunshine_duration</th>\n",
       "      <th>direct_radiation</th>\n",
       "      <th>AQI</th>\n",
       "    </tr>\n",
       "  </thead>\n",
       "  <tbody>\n",
       "    <tr>\n",
       "      <th>0</th>\n",
       "      <td>Amsterdam</td>\n",
       "      <td>Netherlands</td>\n",
       "      <td>52.4</td>\n",
       "      <td>4.9</td>\n",
       "      <td>104.943037</td>\n",
       "      <td>14</td>\n",
       "      <td>2021-01-01</td>\n",
       "      <td>2021</td>\n",
       "      <td>1</td>\n",
       "      <td>1</td>\n",
       "      <td>...</td>\n",
       "      <td>92.208333</td>\n",
       "      <td>1.266667</td>\n",
       "      <td>0.0</td>\n",
       "      <td>1006.029167</td>\n",
       "      <td>7.208333</td>\n",
       "      <td>243.25</td>\n",
       "      <td>11.1875</td>\n",
       "      <td>890.83625</td>\n",
       "      <td>16.208333</td>\n",
       "      <td>65.125</td>\n",
       "    </tr>\n",
       "  </tbody>\n",
       "</table>\n",
       "<p>1 rows × 27 columns</p>\n",
       "</div>"
      ],
      "text/plain": [
       "    location      country  latitude  longitude  generationtime_ms  elevation  \\\n",
       "0  Amsterdam  Netherlands      52.4        4.9         104.943037         14   \n",
       "\n",
       "         Date  year  month  day  ...         RH  Dew_Point  snowfall  \\\n",
       "0  2021-01-01  2021      1    1  ...  92.208333   1.266667       0.0   \n",
       "\n",
       "      Pressure  wind_speed  wind_direction  wind_gusts  sunshine_duration  \\\n",
       "0  1006.029167    7.208333          243.25     11.1875          890.83625   \n",
       "\n",
       "   direct_radiation     AQI  \n",
       "0         16.208333  65.125  \n",
       "\n",
       "[1 rows x 27 columns]"
      ]
     },
     "execution_count": 54,
     "metadata": {},
     "output_type": "execute_result"
    }
   ],
   "source": [
    "df.head(1)"
   ]
  },
  {
   "cell_type": "code",
   "execution_count": 55,
   "id": "ed7fb410",
   "metadata": {},
   "outputs": [
    {
     "name": "stdout",
     "output_type": "stream",
     "text": [
      "Amsterdam\n"
     ]
    },
    {
     "name": "stderr",
     "output_type": "stream",
     "text": [
      "C:\\Users\\HP\\AppData\\Local\\Temp\\ipykernel_20712\\2764872612.py:10: SettingWithCopyWarning: \n",
      "A value is trying to be set on a copy of a slice from a DataFrame\n",
      "\n",
      "See the caveats in the documentation: https://pandas.pydata.org/pandas-docs/stable/user_guide/indexing.html#returning-a-view-versus-a-copy\n",
      "  city_df.drop(columns=['location',\n"
     ]
    },
    {
     "name": "stdout",
     "output_type": "stream",
     "text": [
      "['Netherlands', 'Amsterdam', 0.7617647895335631, 1.0879977286870095, 0.9827678684101576, 3.263698220397561, 'fold_1', 'StandardScaler', 'ML', 'RandomForestRegressor']\n",
      "['Netherlands', 'Amsterdam', 2.5993458475540385, 3.4096510494075236, 0.8307600476821946, 10.143414510574567, 'fold_1', 'StandardScaler', 'ML', 'KNeighborsRegressor']\n",
      "['Netherlands', 'Amsterdam', 2.31795066963966, 2.902884021113702, 0.8773288618921631, 8.954984270450911, 'fold_1', 'StandardScaler', 'ML', 'LinearRegression']\n",
      "['Netherlands', 'Amsterdam', 1.0878839590443687, 1.6011659692642957, 0.9626787890061967, 4.5904089886939845, 'fold_1', 'StandardScaler', 'ML', 'DecisionTreeRegressor']\n",
      "['Netherlands', 'Amsterdam', 0.7399923896499243, 1.0890858496136657, 0.9881107588741659, 3.1110451180080942, 'fold_2', 'StandardScaler', 'ML', 'RandomForestRegressor']\n",
      "['Netherlands', 'Amsterdam', 2.438784246575342, 3.301756867387334, 0.8907251839634848, 9.207008939275827, 'fold_2', 'StandardScaler', 'ML', 'KNeighborsRegressor']\n",
      "['Netherlands', 'Amsterdam', 2.425111743715248, 3.0800056590688007, 0.9049104190923744, 9.368286539355912, 'fold_2', 'StandardScaler', 'ML', 'LinearRegression']\n",
      "['Netherlands', 'Amsterdam', 1.0425228310502284, 1.5862071372276008, 0.9747797316209492, 4.296426022598787, 'fold_2', 'StandardScaler', 'ML', 'DecisionTreeRegressor']\n",
      "['Netherlands', 'Amsterdam', 0.691180555555557, 0.9684457159204096, 0.9881690478617162, 3.0343163625803475, 'fold_3', 'StandardScaler', 'ML', 'RandomForestRegressor']\n",
      "['Netherlands', 'Amsterdam', 2.6009132420091325, 3.5600852653625368, 0.84012154895593, 9.70660532192916, 'fold_3', 'StandardScaler', 'ML', 'KNeighborsRegressor']\n",
      "['Netherlands', 'Amsterdam', 2.322779569642577, 2.9053718515146367, 0.893518887003797, 8.88736520756396, 'fold_3', 'StandardScaler', 'ML', 'LinearRegression']\n",
      "['Netherlands', 'Amsterdam', 1.078909817351598, 1.6084787564084737, 0.9673637845363878, 4.590267525995435, 'fold_3', 'StandardScaler', 'ML', 'DecisionTreeRegressor']\n",
      "['Netherlands', 'Amsterdam', 0.7916309931506886, 1.1286808868958125, 0.97568509787312, 3.4471811806219055, 'fold_4', 'StandardScaler', 'ML', 'RandomForestRegressor']\n",
      "['Netherlands', 'Amsterdam', 2.44486301369863, 3.288406208474407, 0.7936040822645277, 10.06402580115204, 'fold_4', 'StandardScaler', 'ML', 'KNeighborsRegressor']\n",
      "['Netherlands', 'Amsterdam', 2.5612224594940844, 3.0894856863030715, 0.8178192191571905, 10.73641406601413, 'fold_4', 'StandardScaler', 'ML', 'LinearRegression']\n",
      "['Netherlands', 'Amsterdam', 0.9347888127853881, 1.382084024218499, 0.9635414763751439, 4.1620666214740725, 'fold_4', 'StandardScaler', 'ML', 'DecisionTreeRegressor']\n",
      "['Netherlands', 'Amsterdam', 1.2733485540334848, 1.8890336820707345, 0.9543528697190287, 4.7727211388679605, 'fold_5', 'StandardScaler', 'ML', 'RandomForestRegressor']\n",
      "['Netherlands', 'Amsterdam', 3.64962899543379, 5.2380272036255064, 0.6490303393838062, 11.69472781639209, 'fold_5', 'StandardScaler', 'ML', 'KNeighborsRegressor']\n",
      "['Netherlands', 'Amsterdam', 2.565505639198943, 3.201866533462148, 0.8688583854389582, 9.520777408042708, 'fold_5', 'StandardScaler', 'ML', 'LinearRegression']\n",
      "['Netherlands', 'Amsterdam', 1.4410673515981733, 2.0574635245541106, 0.9458500118663907, 5.5181718091918945, 'fold_5', 'StandardScaler', 'ML', 'DecisionTreeRegressor']\n",
      "Athens\n"
     ]
    },
    {
     "name": "stderr",
     "output_type": "stream",
     "text": [
      "C:\\Users\\HP\\AppData\\Local\\Temp\\ipykernel_20712\\2764872612.py:10: SettingWithCopyWarning: \n",
      "A value is trying to be set on a copy of a slice from a DataFrame\n",
      "\n",
      "See the caveats in the documentation: https://pandas.pydata.org/pandas-docs/stable/user_guide/indexing.html#returning-a-view-versus-a-copy\n",
      "  city_df.drop(columns=['location',\n"
     ]
    },
    {
     "name": "stdout",
     "output_type": "stream",
     "text": [
      "['Greece', 'Athens', 1.3789723170269264, 2.2436498460155825, 0.9523691813055851, 3.3938151647358112, 'fold_1', 'StandardScaler', 'ML', 'RandomForestRegressor']\n",
      "['Greece', 'Athens', 3.6675199089874857, 4.688694052191397, 0.7919912153905061, 9.12758977878819, 'fold_1', 'StandardScaler', 'ML', 'KNeighborsRegressor']\n",
      "['Greece', 'Athens', 3.47995412811465, 4.525823747354683, 0.8061913482910916, 8.890864577189092, 'fold_1', 'StandardScaler', 'ML', 'LinearRegression']\n",
      "['Greece', 'Athens', 1.6572810011376562, 2.3628375984978813, 0.9471742547900404, 4.281259386298084, 'fold_1', 'StandardScaler', 'ML', 'DecisionTreeRegressor']\n",
      "['Greece', 'Athens', 0.8402216514459677, 1.2187452026513614, 0.9809853142615715, 2.6226994817229494, 'fold_2', 'StandardScaler', 'ML', 'RandomForestRegressor']\n",
      "['Greece', 'Athens', 3.131021689497717, 4.140431934917714, 0.7805403850257303, 9.107808004432414, 'fold_2', 'StandardScaler', 'ML', 'KNeighborsRegressor']\n",
      "['Greece', 'Athens', 2.301449958010385, 2.8212398484780796, 0.8981072385433211, 6.7651318488967505, 'fold_2', 'StandardScaler', 'ML', 'LinearRegression']\n",
      "['Greece', 'Athens', 1.2809646118721456, 2.1111344239380094, 0.9429448188715266, 4.053275774003513, 'fold_2', 'StandardScaler', 'ML', 'DecisionTreeRegressor']\n",
      "['Greece', 'Athens', 0.8794206621004587, 1.3431862572535163, 0.9814270764260871, 2.7282350329571536, 'fold_3', 'StandardScaler', 'ML', 'RandomForestRegressor']\n",
      "['Greece', 'Athens', 3.250713470319635, 4.53891157375346, 0.7879143736031423, 9.02933682452613, 'fold_3', 'StandardScaler', 'ML', 'KNeighborsRegressor']\n",
      "['Greece', 'Athens', 2.689624413811319, 3.3850915703008724, 0.8820362323968881, 7.817012375479243, 'fold_3', 'StandardScaler', 'ML', 'LinearRegression']\n",
      "['Greece', 'Athens', 1.4302226027397258, 2.195503406369947, 0.9503777990882216, 4.370298468033277, 'fold_3', 'StandardScaler', 'ML', 'DecisionTreeRegressor']\n",
      "['Greece', 'Athens', 1.2893826103500758, 1.9457115955998003, 0.9465943350352393, 3.8981985277296007, 'fold_4', 'StandardScaler', 'ML', 'RandomForestRegressor']\n",
      "['Greece', 'Athens', 2.8619863013698637, 3.8130990808601632, 0.7948901234409984, 8.53603680895592, 'fold_4', 'StandardScaler', 'ML', 'KNeighborsRegressor']\n",
      "['Greece', 'Athens', 2.965300642686925, 3.7208474999228476, 0.8046946526962243, 8.558750053519805, 'fold_4', 'StandardScaler', 'ML', 'LinearRegression']\n",
      "['Greece', 'Athens', 1.666381278538813, 2.4286943841743325, 0.9167898835273546, 5.187187490819345, 'fold_4', 'StandardScaler', 'ML', 'DecisionTreeRegressor']\n",
      "['Greece', 'Athens', 0.9776346080669677, 1.5279450291347654, 0.9761110462791598, 3.033877643427469, 'fold_5', 'StandardScaler', 'ML', 'RandomForestRegressor']\n",
      "['Greece', 'Athens', 3.1823630136986303, 4.42592201394421, 0.7995577893815424, 8.697466826978202, 'fold_5', 'StandardScaler', 'ML', 'KNeighborsRegressor']\n",
      "['Greece', 'Athens', 3.4447375102600146, 4.417070266244971, 0.8003587477475144, 9.974758343991747, 'fold_5', 'StandardScaler', 'ML', 'LinearRegression']\n",
      "['Greece', 'Athens', 1.1940639269406392, 1.7742664143189466, 0.9677878781889421, 3.7496376404127716, 'fold_5', 'StandardScaler', 'ML', 'DecisionTreeRegressor']\n",
      "Barcelona\n"
     ]
    },
    {
     "name": "stderr",
     "output_type": "stream",
     "text": [
      "C:\\Users\\HP\\AppData\\Local\\Temp\\ipykernel_20712\\2764872612.py:10: SettingWithCopyWarning: \n",
      "A value is trying to be set on a copy of a slice from a DataFrame\n",
      "\n",
      "See the caveats in the documentation: https://pandas.pydata.org/pandas-docs/stable/user_guide/indexing.html#returning-a-view-versus-a-copy\n",
      "  city_df.drop(columns=['location',\n"
     ]
    },
    {
     "name": "stdout",
     "output_type": "stream",
     "text": [
      "['Spain', 'Barcelona', 0.6748540007584382, 0.8974840064421261, 0.989646817030446, 2.31948534970784, 'fold_1', 'StandardScaler', 'ML', 'RandomForestRegressor']\n",
      "['Spain', 'Barcelona', 3.41103526734926, 4.38142031212026, 0.7532539052317845, 11.246432901718032, 'fold_1', 'StandardScaler', 'ML', 'KNeighborsRegressor']\n",
      "['Spain', 'Barcelona', 2.0024243507123995, 2.6040577903643216, 0.9128391033382383, 6.6673596377442035, 'fold_1', 'StandardScaler', 'ML', 'LinearRegression']\n",
      "['Spain', 'Barcelona', 0.9311717861205917, 1.2969290761030114, 0.9783801385206994, 3.240309880919818, 'fold_1', 'StandardScaler', 'ML', 'DecisionTreeRegressor']\n",
      "['Spain', 'Barcelona', 0.7542180365296814, 1.2510024098299193, 0.9879053622028988, 2.4005136998069854, 'fold_2', 'StandardScaler', 'ML', 'RandomForestRegressor']\n",
      "['Spain', 'Barcelona', 3.653710045662101, 4.817156047882394, 0.820667912178735, 10.16974903937093, 'fold_2', 'StandardScaler', 'ML', 'KNeighborsRegressor']\n",
      "['Spain', 'Barcelona', 2.4799992904033785, 3.118034681750394, 0.9248656631893046, 7.166916466323263, 'fold_2', 'StandardScaler', 'ML', 'LinearRegression']\n",
      "['Spain', 'Barcelona', 1.034674657534247, 1.6753963018536362, 0.9783073964474501, 3.346190505838965, 'fold_2', 'StandardScaler', 'ML', 'DecisionTreeRegressor']\n",
      "['Spain', 'Barcelona', 0.7676189117199383, 1.842999188459411, 0.9788349655180926, 2.3626468629440462, 'fold_3', 'StandardScaler', 'ML', 'RandomForestRegressor']\n",
      "['Spain', 'Barcelona', 3.213470319634702, 4.204009092131883, 0.8898724479667047, 9.307740723488697, 'fold_3', 'StandardScaler', 'ML', 'KNeighborsRegressor']\n",
      "['Spain', 'Barcelona', 2.55557253101345, 3.5205156244856948, 0.9227708518340393, 7.705207876462553, 'fold_3', 'StandardScaler', 'ML', 'LinearRegression']\n",
      "['Spain', 'Barcelona', 0.9195205479452054, 1.9795346329412122, 0.9755828539400295, 2.891642546063745, 'fold_3', 'StandardScaler', 'ML', 'DecisionTreeRegressor']\n",
      "['Spain', 'Barcelona', 0.7078358066971107, 1.221880413279331, 0.9912964696117251, 2.2602101225769173, 'fold_4', 'StandardScaler', 'ML', 'RandomForestRegressor']\n",
      "['Spain', 'Barcelona', 3.407049086757991, 4.584215175647434, 0.8774909893109551, 9.840410490277351, 'fold_4', 'StandardScaler', 'ML', 'KNeighborsRegressor']\n",
      "['Spain', 'Barcelona', 2.6489002620217788, 3.129039902361371, 0.9429231171907801, 8.130221666074307, 'fold_4', 'StandardScaler', 'ML', 'LinearRegression']\n",
      "['Spain', 'Barcelona', 0.9524828767123291, 1.6008386280840141, 0.9850606000471752, 2.975083722065403, 'fold_4', 'StandardScaler', 'ML', 'DecisionTreeRegressor']\n",
      "['Spain', 'Barcelona', 1.113287195585996, 1.5060423119162742, 0.9736099077808947, 3.864828124829395, 'fold_5', 'StandardScaler', 'ML', 'RandomForestRegressor']\n",
      "['Spain', 'Barcelona', 2.8926940639269407, 4.235644346368015, 0.7912600696428083, 8.65402557275578, 'fold_5', 'StandardScaler', 'ML', 'KNeighborsRegressor']\n",
      "['Spain', 'Barcelona', 2.8564390785166096, 3.589890211167247, 0.8500560681939036, 9.98387531061205, 'fold_5', 'StandardScaler', 'ML', 'LinearRegression']\n",
      "['Spain', 'Barcelona', 1.2753995433789957, 1.70847254138237, 0.9660388359739711, 4.433669674367565, 'fold_5', 'StandardScaler', 'ML', 'DecisionTreeRegressor']\n",
      "Berlin\n"
     ]
    },
    {
     "name": "stderr",
     "output_type": "stream",
     "text": [
      "C:\\Users\\HP\\AppData\\Local\\Temp\\ipykernel_20712\\2764872612.py:10: SettingWithCopyWarning: \n",
      "A value is trying to be set on a copy of a slice from a DataFrame\n",
      "\n",
      "See the caveats in the documentation: https://pandas.pydata.org/pandas-docs/stable/user_guide/indexing.html#returning-a-view-versus-a-copy\n",
      "  city_df.drop(columns=['location',\n"
     ]
    },
    {
     "name": "stdout",
     "output_type": "stream",
     "text": [
      "['Germany', 'Berlin', 0.6568302047781551, 1.0137522433451223, 0.989170222961839, 2.5641076743801867, 'fold_1', 'StandardScaler', 'ML', 'RandomForestRegressor']\n",
      "['Germany', 'Berlin', 2.7749431171786116, 3.6494566831640127, 0.8596500425240299, 10.224754660781183, 'fold_1', 'StandardScaler', 'ML', 'KNeighborsRegressor']\n",
      "['Germany', 'Berlin', 2.73087758989317, 3.7495373393211935, 0.8518467357738209, 9.73550742416656, 'fold_1', 'StandardScaler', 'ML', 'LinearRegression']\n",
      "['Germany', 'Berlin', 0.8620591581342436, 1.3187214852679252, 0.9816742388039804, 3.423757872909864, 'fold_1', 'StandardScaler', 'ML', 'DecisionTreeRegressor']\n",
      "['Germany', 'Berlin', 0.49566971080669847, 0.8728478907917345, 0.9933683404521927, 1.9470377272136006, 'fold_2', 'StandardScaler', 'ML', 'RandomForestRegressor']\n",
      "['Germany', 'Berlin', 2.8160388127853873, 4.022635961170671, 0.8591468536949897, 8.94537504845127, 'fold_2', 'StandardScaler', 'ML', 'KNeighborsRegressor']\n",
      "['Germany', 'Berlin', 2.8804626674815874, 3.599037583027963, 0.8872496619682066, 9.888549201094689, 'fold_2', 'StandardScaler', 'ML', 'LinearRegression']\n",
      "['Germany', 'Berlin', 0.7176084474885842, 1.2302303655344817, 0.9868259904530755, 2.794629305423026, 'fold_2', 'StandardScaler', 'ML', 'DecisionTreeRegressor']\n",
      "['Germany', 'Berlin', 0.5661035007610346, 0.861930129853064, 0.993899841989462, 2.4520288796975676, 'fold_3', 'StandardScaler', 'ML', 'RandomForestRegressor']\n",
      "['Germany', 'Berlin', 3.0031392694063928, 4.050186907294312, 0.8653063596137817, 10.973844660007243, 'fold_3', 'StandardScaler', 'ML', 'KNeighborsRegressor']\n",
      "['Germany', 'Berlin', 2.7114168081923626, 3.6268841837858234, 0.8919899082008238, 9.28687857376468, 'fold_3', 'StandardScaler', 'ML', 'LinearRegression']\n",
      "['Germany', 'Berlin', 0.7896689497716897, 1.253382030531659, 0.9871007669852285, 3.3604482884536067, 'fold_3', 'StandardScaler', 'ML', 'DecisionTreeRegressor']\n",
      "['Germany', 'Berlin', 0.6269002092846266, 1.0163906570938999, 0.9830075806183531, 2.6507922637016503, 'fold_4', 'StandardScaler', 'ML', 'RandomForestRegressor']\n",
      "['Germany', 'Berlin', 2.8874429223744293, 3.659091841047127, 0.7797679557984145, 12.134072701492341, 'fold_4', 'StandardScaler', 'ML', 'KNeighborsRegressor']\n",
      "['Germany', 'Berlin', 2.374735535380699, 2.9268939242290903, 0.8590880399477799, 9.933002591692853, 'fold_4', 'StandardScaler', 'ML', 'LinearRegression']\n",
      "['Germany', 'Berlin', 0.8324771689497712, 1.2773454864008458, 0.9731619693169671, 3.620912878823975, 'fold_4', 'StandardScaler', 'ML', 'DecisionTreeRegressor']\n",
      "['Germany', 'Berlin', 0.469845890410962, 0.7923736049763573, 0.990187714572806, 1.8181407027755256, 'fold_5', 'StandardScaler', 'ML', 'RandomForestRegressor']\n",
      "['Germany', 'Berlin', 2.974286529680365, 3.8219539942907317, 0.771713051707625, 10.52121610920756, 'fold_5', 'StandardScaler', 'ML', 'KNeighborsRegressor']\n",
      "['Germany', 'Berlin', 3.63319001490893, 4.3274569908068985, 0.7073316945792816, 13.919253021519099, 'fold_5', 'StandardScaler', 'ML', 'LinearRegression']\n",
      "['Germany', 'Berlin', 0.6912100456621005, 1.1891535991384745, 0.9779003150865175, 2.7009915224281915, 'fold_5', 'StandardScaler', 'ML', 'DecisionTreeRegressor']\n",
      "Bruges\n"
     ]
    },
    {
     "name": "stderr",
     "output_type": "stream",
     "text": [
      "C:\\Users\\HP\\AppData\\Local\\Temp\\ipykernel_20712\\2764872612.py:10: SettingWithCopyWarning: \n",
      "A value is trying to be set on a copy of a slice from a DataFrame\n",
      "\n",
      "See the caveats in the documentation: https://pandas.pydata.org/pandas-docs/stable/user_guide/indexing.html#returning-a-view-versus-a-copy\n",
      "  city_df.drop(columns=['location',\n"
     ]
    },
    {
     "name": "stdout",
     "output_type": "stream",
     "text": [
      "['Belgium', 'Bruges', 0.6638296359499404, 1.0660207679799716, 0.9880760242003086, 2.355772427839381, 'fold_1', 'StandardScaler', 'ML', 'RandomForestRegressor']\n",
      "['Belgium', 'Bruges', 3.2451649601820254, 4.526575081465635, 0.7850045784859364, 11.240963498174384, 'fold_1', 'StandardScaler', 'ML', 'KNeighborsRegressor']\n",
      "['Belgium', 'Bruges', 2.8335051687924233, 3.6297923911979857, 0.8617537605272284, 10.38880104258913, 'fold_1', 'StandardScaler', 'ML', 'LinearRegression']\n",
      "['Belgium', 'Bruges', 0.9431171786120591, 1.6132032203853492, 0.972693381972062, 3.320199836597383, 'fold_1', 'StandardScaler', 'ML', 'DecisionTreeRegressor']\n",
      "['Belgium', 'Bruges', 0.5708599695585977, 0.942224983269789, 0.9936242405365913, 2.082368868545098, 'fold_2', 'StandardScaler', 'ML', 'RandomForestRegressor']\n",
      "['Belgium', 'Bruges', 2.765724885844749, 3.94041791088266, 0.8884916827044557, 9.41045201888231, 'fold_2', 'StandardScaler', 'ML', 'KNeighborsRegressor']\n",
      "['Belgium', 'Bruges', 2.8493907307523045, 3.572100978744939, 0.9083631508481034, 9.718483065343216, 'fold_2', 'StandardScaler', 'ML', 'LinearRegression']\n",
      "['Belgium', 'Bruges', 0.9202340182648403, 1.6401410145364597, 0.9806809809236563, 3.261495552003076, 'fold_2', 'StandardScaler', 'ML', 'DecisionTreeRegressor']\n",
      "['Belgium', 'Bruges', 0.5563769977168932, 0.9709608595974517, 0.9920264489178395, 2.1160241150865913, 'fold_3', 'StandardScaler', 'ML', 'RandomForestRegressor']\n",
      "['Belgium', 'Bruges', 3.015125570776256, 4.0769068686538965, 0.8594244098377846, 10.530906485135969, 'fold_3', 'StandardScaler', 'ML', 'KNeighborsRegressor']\n",
      "['Belgium', 'Bruges', 2.8207241341890965, 3.6110059849660763, 0.8897179703091318, 9.996518098972576, 'fold_3', 'StandardScaler', 'ML', 'LinearRegression']\n",
      "['Belgium', 'Bruges', 0.7632705479452053, 1.3127627119840226, 0.9854245893708901, 2.886668899648152, 'fold_3', 'StandardScaler', 'ML', 'DecisionTreeRegressor']\n",
      "['Belgium', 'Bruges', 0.6651598173515956, 1.2255160961197833, 0.9695270801761318, 2.4661328212725633, 'fold_4', 'StandardScaler', 'ML', 'RandomForestRegressor']\n",
      "['Belgium', 'Bruges', 2.5899543378995435, 3.5798118381841872, 0.7399861814519695, 10.319697529628186, 'fold_4', 'StandardScaler', 'ML', 'KNeighborsRegressor']\n",
      "['Belgium', 'Bruges', 2.7931412161863625, 3.42371446681594, 0.7621675523352291, 11.487739613826701, 'fold_4', 'StandardScaler', 'ML', 'LinearRegression']\n",
      "['Belgium', 'Bruges', 0.807648401826484, 1.6186578614551417, 0.9468398556782346, 2.9864004495236705, 'fold_4', 'StandardScaler', 'ML', 'DecisionTreeRegressor']\n",
      "['Belgium', 'Bruges', 0.5851755136986319, 0.9927107714905892, 0.9897577033324936, 2.087153382773729, 'fold_5', 'StandardScaler', 'ML', 'RandomForestRegressor']\n",
      "['Belgium', 'Bruges', 3.353396118721461, 4.678371120927601, 0.772521045956539, 10.606497110967403, 'fold_5', 'StandardScaler', 'ML', 'KNeighborsRegressor']\n",
      "['Belgium', 'Bruges', 3.0387753408464153, 3.7953863645308457, 0.8502854985375204, 10.82301942072476, 'fold_5', 'StandardScaler', 'ML', 'LinearRegression']\n",
      "['Belgium', 'Bruges', 0.753995433789954, 1.232651684393467, 0.9842081638423237, 2.728021030837094, 'fold_5', 'StandardScaler', 'ML', 'DecisionTreeRegressor']\n",
      "Brussels\n"
     ]
    },
    {
     "name": "stderr",
     "output_type": "stream",
     "text": [
      "C:\\Users\\HP\\AppData\\Local\\Temp\\ipykernel_20712\\2764872612.py:10: SettingWithCopyWarning: \n",
      "A value is trying to be set on a copy of a slice from a DataFrame\n",
      "\n",
      "See the caveats in the documentation: https://pandas.pydata.org/pandas-docs/stable/user_guide/indexing.html#returning-a-view-versus-a-copy\n",
      "  city_df.drop(columns=['location',\n"
     ]
    },
    {
     "name": "stdout",
     "output_type": "stream",
     "text": [
      "['Belgium', 'Brussels', 0.7227014599924171, 1.2809639283000975, 0.9845881954139619, 2.6516880600387522, 'fold_1', 'StandardScaler', 'ML', 'RandomForestRegressor']\n",
      "['Belgium', 'Brussels', 3.1845563139931743, 4.381106524393255, 0.8197200955908939, 10.619800167739417, 'fold_1', 'StandardScaler', 'ML', 'KNeighborsRegressor']\n",
      "['Belgium', 'Brussels', 2.687894973757824, 3.500369344164624, 0.8849179905334963, 9.73124151170392, 'fold_1', 'StandardScaler', 'ML', 'LinearRegression']\n",
      "['Belgium', 'Brussels', 1.1208759954493743, 1.761558475662348, 0.9708543448604919, 4.177470403329096, 'fold_1', 'StandardScaler', 'ML', 'DecisionTreeRegressor']\n",
      "['Belgium', 'Brussels', 0.5736743721461208, 0.8548902567172237, 0.9943869518012945, 2.328497448956283, 'fold_2', 'StandardScaler', 'ML', 'RandomForestRegressor']\n",
      "['Belgium', 'Brussels', 2.947146118721461, 4.1316143754945225, 0.8688955006726728, 10.406383837934195, 'fold_2', 'StandardScaler', 'ML', 'KNeighborsRegressor']\n",
      "['Belgium', 'Brussels', 2.5974801785410553, 3.235900265297521, 0.9195792179805425, 9.233270705383113, 'fold_2', 'StandardScaler', 'ML', 'LinearRegression']\n",
      "['Belgium', 'Brussels', 0.8915525114155253, 1.3560511124151984, 0.985876896061779, 3.573060903067655, 'fold_2', 'StandardScaler', 'ML', 'DecisionTreeRegressor']\n",
      "['Belgium', 'Brussels', 0.6543183980213086, 0.9726915337221522, 0.9924794166507409, 2.773224632776595, 'fold_3', 'StandardScaler', 'ML', 'RandomForestRegressor']\n",
      "['Belgium', 'Brussels', 3.146318493150685, 4.383237976852265, 0.8472816027222488, 11.42256488031242, 'fold_3', 'StandardScaler', 'ML', 'KNeighborsRegressor']\n",
      "['Belgium', 'Brussels', 2.4646683091417074, 3.1073207647792156, 0.9232508752102746, 8.962996466737323, 'fold_3', 'StandardScaler', 'ML', 'LinearRegression']\n",
      "['Belgium', 'Brussels', 0.9206621004566209, 1.4417311662400043, 0.9834777255914743, 3.911926282614004, 'fold_3', 'StandardScaler', 'ML', 'DecisionTreeRegressor']\n",
      "['Belgium', 'Brussels', 0.6774191400304458, 1.0642743701548503, 0.9835116420433018, 2.9318987596544877, 'fold_4', 'StandardScaler', 'ML', 'RandomForestRegressor']\n",
      "['Belgium', 'Brussels', 2.7870719178082193, 3.7090520890333774, 0.7997391454470074, 11.5763686533986, 'fold_4', 'StandardScaler', 'ML', 'KNeighborsRegressor']\n",
      "['Belgium', 'Brussels', 2.6292418783375378, 3.20821735197971, 0.8501703493517434, 11.199700292255754, 'fold_4', 'StandardScaler', 'ML', 'LinearRegression']\n",
      "['Belgium', 'Brussels', 0.973030821917808, 1.57675385847414, 0.9638092148671143, 4.390571195938312, 'fold_4', 'StandardScaler', 'ML', 'DecisionTreeRegressor']\n",
      "['Belgium', 'Brussels', 0.7090824771689497, 1.2209328369053485, 0.9868041224559086, 2.5746604146409653, 'fold_5', 'StandardScaler', 'ML', 'RandomForestRegressor']\n",
      "['Belgium', 'Brussels', 3.9515410958904105, 5.496916944107029, 0.7325189136830365, 12.419123909243678, 'fold_5', 'StandardScaler', 'ML', 'KNeighborsRegressor']\n",
      "['Belgium', 'Brussels', 3.0601349896731387, 3.8631132067845675, 0.8678918537534495, 11.093132052150196, 'fold_5', 'StandardScaler', 'ML', 'LinearRegression']\n",
      "['Belgium', 'Brussels', 0.9524828767123296, 1.5697056075724665, 0.9781882180345559, 3.6691113323478843, 'fold_5', 'StandardScaler', 'ML', 'DecisionTreeRegressor']\n",
      "Budapest\n"
     ]
    },
    {
     "name": "stderr",
     "output_type": "stream",
     "text": [
      "C:\\Users\\HP\\AppData\\Local\\Temp\\ipykernel_20712\\2764872612.py:10: SettingWithCopyWarning: \n",
      "A value is trying to be set on a copy of a slice from a DataFrame\n",
      "\n",
      "See the caveats in the documentation: https://pandas.pydata.org/pandas-docs/stable/user_guide/indexing.html#returning-a-view-versus-a-copy\n",
      "  city_df.drop(columns=['location',\n"
     ]
    },
    {
     "name": "stdout",
     "output_type": "stream",
     "text": [
      "['Hungary', 'Budapest', 0.6873345657944617, 1.0341305756654342, 0.9946916595549044, 2.1106610032456485, 'fold_1', 'StandardScaler', 'ML', 'RandomForestRegressor']\n",
      "['Hungary', 'Budapest', 3.7493458475540398, 5.037825095535968, 0.8740221531658177, 10.023561750116098, 'fold_1', 'StandardScaler', 'ML', 'KNeighborsRegressor']\n",
      "['Hungary', 'Budapest', 3.586633630471134, 4.356503536242488, 0.9057927878306613, 10.988005614065829, 'fold_1', 'StandardScaler', 'ML', 'LinearRegression']\n",
      "['Hungary', 'Budapest', 1.0408134243458473, 1.8118619991758864, 0.9837048544767008, 3.1842045462113915, 'fold_1', 'StandardScaler', 'ML', 'DecisionTreeRegressor']\n",
      "['Hungary', 'Budapest', 0.5405479452054824, 0.7979328139076192, 0.9975003626549418, 1.691967915223, 'fold_2', 'StandardScaler', 'ML', 'RandomForestRegressor']\n",
      "['Hungary', 'Budapest', 3.922888127853882, 5.125173689375896, 0.8968755773756312, 11.447000353772841, 'fold_2', 'StandardScaler', 'ML', 'KNeighborsRegressor']\n",
      "['Hungary', 'Budapest', 2.7684748233845404, 3.4985489576900695, 0.9519470266538629, 7.8048305068411175, 'fold_2', 'StandardScaler', 'ML', 'LinearRegression']\n",
      "['Hungary', 'Budapest', 0.8033675799086757, 1.4816988262531425, 0.9913808541894237, 2.472467298754918, 'fold_2', 'StandardScaler', 'ML', 'DecisionTreeRegressor']\n",
      "['Hungary', 'Budapest', 0.5537262176560133, 0.8376387462184709, 0.9968337424810163, 1.9806132097187, 'fold_3', 'StandardScaler', 'ML', 'RandomForestRegressor']\n",
      "['Hungary', 'Budapest', 4.549885844748858, 5.928772505084605, 0.8413784130921668, 12.411377503700143, 'fold_3', 'StandardScaler', 'ML', 'KNeighborsRegressor']\n",
      "['Hungary', 'Budapest', 2.3664634221171963, 2.9579719684701753, 0.9605160288344666, 6.484395441279814, 'fold_3', 'StandardScaler', 'ML', 'LinearRegression']\n",
      "['Hungary', 'Budapest', 0.8083618721461188, 1.2965481664871958, 0.9924140490775166, 2.7822724485918915, 'fold_3', 'StandardScaler', 'ML', 'DecisionTreeRegressor']\n",
      "['Hungary', 'Budapest', 0.7481877853881281, 1.223466203160461, 0.9927188334659942, 2.315809441374977, 'fold_4', 'StandardScaler', 'ML', 'RandomForestRegressor']\n",
      "['Hungary', 'Budapest', 4.307676940639269, 5.884226396995266, 0.83157918745394, 12.068442891882095, 'fold_4', 'StandardScaler', 'ML', 'KNeighborsRegressor']\n",
      "['Hungary', 'Budapest', 2.8680839126675175, 3.4199002791868742, 0.9431089570286597, 9.248830123142792, 'fold_4', 'StandardScaler', 'ML', 'LinearRegression']\n",
      "['Hungary', 'Budapest', 1.0643550228310499, 1.6195740550722009, 0.9872409413958281, 3.4072318946712277, 'fold_4', 'StandardScaler', 'ML', 'DecisionTreeRegressor']\n",
      "['Hungary', 'Budapest', 0.7596461187214604, 2.0090730560226007, 0.9816652454358925, 2.0347017896875568, 'fold_5', 'StandardScaler', 'ML', 'RandomForestRegressor']\n",
      "['Hungary', 'Budapest', 4.105194063926941, 6.055597935980613, 0.833429646790547, 11.541425108199412, 'fold_5', 'StandardScaler', 'ML', 'KNeighborsRegressor']\n",
      "['Hungary', 'Budapest', 4.162498499972199, 5.078467675341981, 0.8828481834638586, 13.470273326452114, 'fold_5', 'StandardScaler', 'ML', 'LinearRegression']\n",
      "['Hungary', 'Budapest', 1.029965753424657, 2.0549175112227696, 0.9808189477576188, 3.0335865422489454, 'fold_5', 'StandardScaler', 'ML', 'DecisionTreeRegressor']\n",
      "Cluj-Napoca\n"
     ]
    },
    {
     "name": "stderr",
     "output_type": "stream",
     "text": [
      "C:\\Users\\HP\\AppData\\Local\\Temp\\ipykernel_20712\\2764872612.py:10: SettingWithCopyWarning: \n",
      "A value is trying to be set on a copy of a slice from a DataFrame\n",
      "\n",
      "See the caveats in the documentation: https://pandas.pydata.org/pandas-docs/stable/user_guide/indexing.html#returning-a-view-versus-a-copy\n",
      "  city_df.drop(columns=['location',\n"
     ]
    },
    {
     "name": "stdout",
     "output_type": "stream",
     "text": [
      "['Romania', 'Cluj-Napoca', 0.4775530906332938, 0.6940766457754406, 0.9971668710874199, 1.744375977174348, 'fold_1', 'StandardScaler', 'ML', 'RandomForestRegressor']\n",
      "['Romania', 'Cluj-Napoca', 3.6372582480091022, 4.967789975359977, 0.8548630719547667, 11.11692703514298, 'fold_1', 'StandardScaler', 'ML', 'KNeighborsRegressor']\n",
      "['Romania', 'Cluj-Napoca', 2.544148679892903, 2.973478274018206, 0.9480026737557559, 8.295974671568278, 'fold_1', 'StandardScaler', 'ML', 'LinearRegression']\n",
      "['Romania', 'Cluj-Napoca', 0.6786120591581342, 0.9797738840469504, 0.9943544898661663, 2.492546248008372, 'fold_1', 'StandardScaler', 'ML', 'DecisionTreeRegressor']\n",
      "['Romania', 'Cluj-Napoca', 0.33046518264840574, 0.48426725648764696, 0.9984852450693984, 1.2695510834039694, 'fold_2', 'StandardScaler', 'ML', 'RandomForestRegressor']\n",
      "['Romania', 'Cluj-Napoca', 3.7676940639269403, 5.339417815675232, 0.8158549807899561, 11.404662873553058, 'fold_2', 'StandardScaler', 'ML', 'KNeighborsRegressor']\n",
      "['Romania', 'Cluj-Napoca', 2.5845840703416876, 3.3182312098748716, 0.9288810310860892, 8.450137903164528, 'fold_2', 'StandardScaler', 'ML', 'LinearRegression']\n",
      "['Romania', 'Cluj-Napoca', 0.4987157534246575, 0.7570264781766741, 0.9962983589408858, 1.8674170838500037, 'fold_2', 'StandardScaler', 'ML', 'DecisionTreeRegressor']\n",
      "['Romania', 'Cluj-Napoca', 0.37595224505327285, 0.5543921819484745, 0.9985069037390953, 1.5151858522652226, 'fold_3', 'StandardScaler', 'ML', 'RandomForestRegressor']\n",
      "['Romania', 'Cluj-Napoca', 4.105222602739726, 5.421560728119812, 0.8572085292052698, 12.53000045733084, 'fold_3', 'StandardScaler', 'ML', 'KNeighborsRegressor']\n",
      "['Romania', 'Cluj-Napoca', 1.9310095604314301, 2.396139260058097, 0.9721081241493554, 6.5410627831512675, 'fold_3', 'StandardScaler', 'ML', 'LinearRegression']\n",
      "['Romania', 'Cluj-Napoca', 0.578767123287671, 0.8655790396147514, 0.9963602875354733, 2.2593692306736, 'fold_3', 'StandardScaler', 'ML', 'DecisionTreeRegressor']\n",
      "['Romania', 'Cluj-Napoca', 0.5084498668188757, 0.7902878452521667, 0.9968176956240897, 1.7810753138546915, 'fold_4', 'StandardScaler', 'ML', 'RandomForestRegressor']\n",
      "['Romania', 'Cluj-Napoca', 3.837813926940639, 5.249685452090478, 0.8595771847277305, 11.50454672906954, 'fold_4', 'StandardScaler', 'ML', 'KNeighborsRegressor']\n",
      "['Romania', 'Cluj-Napoca', 2.425458654944999, 2.941364515688302, 0.9559172368482387, 7.927752427645244, 'fold_4', 'StandardScaler', 'ML', 'LinearRegression']\n",
      "['Romania', 'Cluj-Napoca', 0.7010559360730595, 1.2087933111272067, 0.9925548199084138, 2.4792174585348397, 'fold_4', 'StandardScaler', 'ML', 'DecisionTreeRegressor']\n",
      "['Romania', 'Cluj-Napoca', 0.5012656963470327, 1.6868227470380697, 0.9842133368905508, 1.4433301653670647, 'fold_5', 'StandardScaler', 'ML', 'RandomForestRegressor']\n",
      "['Romania', 'Cluj-Napoca', 3.1602739726027402, 4.669866503262731, 0.8790069639260921, 8.413846491637946, 'fold_5', 'StandardScaler', 'ML', 'KNeighborsRegressor']\n",
      "['Romania', 'Cluj-Napoca', 3.867634775884422, 5.179233102391423, 0.8511727836134707, 13.50199663197576, 'fold_5', 'StandardScaler', 'ML', 'LinearRegression']\n",
      "['Romania', 'Cluj-Napoca', 0.750713470319635, 1.8353413012737816, 0.9813110406716644, 2.346382014030802, 'fold_5', 'StandardScaler', 'ML', 'DecisionTreeRegressor']\n",
      "Copenhagen\n"
     ]
    },
    {
     "name": "stderr",
     "output_type": "stream",
     "text": [
      "C:\\Users\\HP\\AppData\\Local\\Temp\\ipykernel_20712\\2764872612.py:10: SettingWithCopyWarning: \n",
      "A value is trying to be set on a copy of a slice from a DataFrame\n",
      "\n",
      "See the caveats in the documentation: https://pandas.pydata.org/pandas-docs/stable/user_guide/indexing.html#returning-a-view-versus-a-copy\n",
      "  city_df.drop(columns=['location',\n"
     ]
    },
    {
     "name": "stdout",
     "output_type": "stream",
     "text": [
      "['Denmark', 'Copenhagen', 0.3321525407660216, 0.7575738220013423, 0.984038454900487, 1.4334162182906205, 'fold_1', 'StandardScaler', 'ML', 'RandomForestRegressor']\n",
      "['Denmark', 'Copenhagen', 2.0953640500568826, 2.7839777462098603, 0.7844457799270674, 9.605774934413375, 'fold_1', 'StandardScaler', 'ML', 'KNeighborsRegressor']\n",
      "['Denmark', 'Copenhagen', 2.1473883433900816, 2.7523153494246184, 0.7893209286838168, 8.476425379158457, 'fold_1', 'StandardScaler', 'ML', 'LinearRegression']\n",
      "['Denmark', 'Copenhagen', 0.47226962457337923, 1.0621646451512017, 0.968623196778156, 2.0138624567710828, 'fold_1', 'StandardScaler', 'ML', 'DecisionTreeRegressor']\n",
      "['Denmark', 'Copenhagen', 0.531806982496192, 1.896460497143081, 0.9353530426393055, 1.7502155923459513, 'fold_2', 'StandardScaler', 'ML', 'RandomForestRegressor']\n",
      "['Denmark', 'Copenhagen', 2.6155821917808217, 4.349207292316301, 0.6599986019961164, 8.748651659627528, 'fold_2', 'StandardScaler', 'ML', 'KNeighborsRegressor']\n",
      "['Denmark', 'Copenhagen', 2.253654256849454, 3.3564710186672904, 0.7974994109099258, 8.038790563620557, 'fold_2', 'StandardScaler', 'ML', 'LinearRegression']\n",
      "['Denmark', 'Copenhagen', 0.6984874429223744, 2.38416106463378, 0.8978280527982385, 2.3693807304850396, 'fold_2', 'StandardScaler', 'ML', 'DecisionTreeRegressor']\n",
      "['Denmark', 'Copenhagen', 0.30810121765601006, 0.5409394234522319, 0.991827568187978, 1.371248186369477, 'fold_3', 'StandardScaler', 'ML', 'RandomForestRegressor']\n",
      "['Denmark', 'Copenhagen', 2.2927511415525115, 3.0050079490697863, 0.7477998802865018, 9.6805942952274, 'fold_3', 'StandardScaler', 'ML', 'KNeighborsRegressor']\n",
      "['Denmark', 'Copenhagen', 1.994956921902849, 2.6179397252603285, 0.808586164973478, 8.44008638807666, 'fold_3', 'StandardScaler', 'ML', 'LinearRegression']\n",
      "['Denmark', 'Copenhagen', 0.4452054794520548, 0.9341422619714929, 0.9756286223535701, 2.0337485283239283, 'fold_3', 'StandardScaler', 'ML', 'DecisionTreeRegressor']\n",
      "['Denmark', 'Copenhagen', 0.44981687595129305, 0.9078727315704188, 0.9778422896438093, 2.337893742901314, 'fold_4', 'StandardScaler', 'ML', 'RandomForestRegressor']\n",
      "['Denmark', 'Copenhagen', 2.282848173515981, 3.0445096412196575, 0.7508220294642571, 10.838462671813492, 'fold_4', 'StandardScaler', 'ML', 'KNeighborsRegressor']\n",
      "['Denmark', 'Copenhagen', 2.094492967973352, 2.7839092537411725, 0.7916540387534138, 9.037626144781115, 'fold_4', 'StandardScaler', 'ML', 'LinearRegression']\n",
      "['Denmark', 'Copenhagen', 0.4950057077625569, 1.1524404776013393, 0.9642964052478067, 2.3357236634084058, 'fold_4', 'StandardScaler', 'ML', 'DecisionTreeRegressor']\n",
      "['Denmark', 'Copenhagen', 0.29311976788432204, 0.6041253488710334, 0.983336258272574, 1.2365076471621277, 'fold_5', 'StandardScaler', 'ML', 'RandomForestRegressor']\n",
      "['Denmark', 'Copenhagen', 2.037214611872146, 2.6108545629173294, 0.6887683405286615, 7.894559645736175, 'fold_5', 'StandardScaler', 'ML', 'KNeighborsRegressor']\n",
      "['Denmark', 'Copenhagen', 2.173238109889883, 2.791574028289332, 0.6441911825847484, 8.342554340615118, 'fold_5', 'StandardScaler', 'ML', 'LinearRegression']\n",
      "['Denmark', 'Copenhagen', 0.41395547945205485, 0.851978207725031, 0.9668582542998166, 1.7467402771475644, 'fold_5', 'StandardScaler', 'ML', 'DecisionTreeRegressor']\n",
      "Frankfurt Airport\n"
     ]
    },
    {
     "name": "stderr",
     "output_type": "stream",
     "text": [
      "C:\\Users\\HP\\AppData\\Local\\Temp\\ipykernel_20712\\2764872612.py:10: SettingWithCopyWarning: \n",
      "A value is trying to be set on a copy of a slice from a DataFrame\n",
      "\n",
      "See the caveats in the documentation: https://pandas.pydata.org/pandas-docs/stable/user_guide/indexing.html#returning-a-view-versus-a-copy\n",
      "  city_df.drop(columns=['location',\n"
     ]
    },
    {
     "name": "stdout",
     "output_type": "stream",
     "text": [
      "['Germany', 'Frankfurt Airport', 0.8256484641638222, 1.1709209176252864, 0.9798119090382806, 3.5504312431988456, 'fold_1', 'StandardScaler', 'ML', 'RandomForestRegressor']\n",
      "['Germany', 'Frankfurt Airport', 2.678555176336746, 3.511745150314646, 0.8184124342809352, 11.094484350929369, 'fold_1', 'StandardScaler', 'ML', 'KNeighborsRegressor']\n",
      "['Germany', 'Frankfurt Airport', 2.529975569888533, 3.907791629828556, 0.7751448076631905, 9.753071611077777, 'fold_1', 'StandardScaler', 'ML', 'LinearRegression']\n",
      "['Germany', 'Frankfurt Airport', 1.235637087599545, 1.715991878930427, 0.9566418662828414, 5.499227077415269, 'fold_1', 'StandardScaler', 'ML', 'DecisionTreeRegressor']\n",
      "['Germany', 'Frankfurt Airport', 0.6914293188736661, 1.0235749249413295, 0.9824985395247968, 2.825945223902913, 'fold_2', 'StandardScaler', 'ML', 'RandomForestRegressor']\n",
      "['Germany', 'Frankfurt Airport', 2.7393264840182647, 3.938061706449656, 0.7409401862398082, 9.980482914955664, 'fold_2', 'StandardScaler', 'ML', 'KNeighborsRegressor']\n",
      "['Germany', 'Frankfurt Airport', 2.4989566012972664, 3.000620488395789, 0.8495967725307315, 9.53607486218283, 'fold_2', 'StandardScaler', 'ML', 'LinearRegression']\n",
      "['Germany', 'Frankfurt Airport', 1.0563641552511414, 1.6754317891172943, 0.9531091054646157, 4.27478979088896, 'fold_2', 'StandardScaler', 'ML', 'DecisionTreeRegressor']\n",
      "['Germany', 'Frankfurt Airport', 0.9822207952815825, 1.4140144635035026, 0.9757318204201999, 4.860381853159321, 'fold_3', 'StandardScaler', 'ML', 'RandomForestRegressor']\n",
      "['Germany', 'Frankfurt Airport', 2.493892694063927, 3.4774339121533595, 0.8532266297820849, 10.328763430867163, 'fold_3', 'StandardScaler', 'ML', 'KNeighborsRegressor']\n",
      "['Germany', 'Frankfurt Airport', 2.3547439384196567, 3.041623852059411, 0.8877101486444533, 9.62527520513493, 'fold_3', 'StandardScaler', 'ML', 'LinearRegression']\n",
      "['Germany', 'Frankfurt Airport', 1.2789668949771689, 1.815374564060723, 0.9599998160396033, 5.990745437632074, 'fold_3', 'StandardScaler', 'ML', 'DecisionTreeRegressor']\n",
      "['Germany', 'Frankfurt Airport', 0.9626640981735173, 1.455163973767927, 0.9668080720070729, 3.997029183313297, 'fold_4', 'StandardScaler', 'ML', 'RandomForestRegressor']\n",
      "['Germany', 'Frankfurt Airport', 2.366438356164383, 3.1522854469119355, 0.8442386561843668, 9.75931646530138, 'fold_4', 'StandardScaler', 'ML', 'KNeighborsRegressor']\n",
      "['Germany', 'Frankfurt Airport', 2.409691361425513, 2.938120689575941, 0.8646843979475696, 10.070420270268922, 'fold_4', 'StandardScaler', 'ML', 'LinearRegression']\n",
      "['Germany', 'Frankfurt Airport', 1.3722888127853883, 1.9599645275849182, 0.9397849523893098, 5.8460346311377975, 'fold_4', 'StandardScaler', 'ML', 'DecisionTreeRegressor']\n",
      "['Germany', 'Frankfurt Airport', 0.7323925038051766, 1.0421134047114138, 0.9900888346125878, 2.848098859100646, 'fold_5', 'StandardScaler', 'ML', 'RandomForestRegressor']\n",
      "['Germany', 'Frankfurt Airport', 2.8924372146118724, 3.971629225915112, 0.8560432098585525, 9.832942477021575, 'fold_5', 'StandardScaler', 'ML', 'KNeighborsRegressor']\n",
      "['Germany', 'Frankfurt Airport', 2.467062732083999, 3.268486218701858, 0.9025037133478939, 8.563029977867263, 'fold_5', 'StandardScaler', 'ML', 'LinearRegression']\n",
      "['Germany', 'Frankfurt Airport', 1.0917522831050226, 1.591518960250596, 0.9768836962512553, 4.2315474916194065, 'fold_5', 'StandardScaler', 'ML', 'DecisionTreeRegressor']\n",
      "Ghent\n"
     ]
    },
    {
     "name": "stderr",
     "output_type": "stream",
     "text": [
      "C:\\Users\\HP\\AppData\\Local\\Temp\\ipykernel_20712\\2764872612.py:10: SettingWithCopyWarning: \n",
      "A value is trying to be set on a copy of a slice from a DataFrame\n",
      "\n",
      "See the caveats in the documentation: https://pandas.pydata.org/pandas-docs/stable/user_guide/indexing.html#returning-a-view-versus-a-copy\n",
      "  city_df.drop(columns=['location',\n"
     ]
    },
    {
     "name": "stdout",
     "output_type": "stream",
     "text": [
      "['Belgium', 'Ghent', 0.7484091770951884, 1.3628315886257936, 0.9849737699091187, 2.62607969999417, 'fold_1', 'StandardScaler', 'ML', 'RandomForestRegressor']\n",
      "['Belgium', 'Ghent', 3.4290955631399314, 4.609556614513401, 0.8280968010077685, 11.727106227655643, 'fold_1', 'StandardScaler', 'ML', 'KNeighborsRegressor']\n",
      "['Belgium', 'Ghent', 2.4424744155876374, 3.2370067077781464, 0.9152279177778483, 8.757696917748545, 'fold_1', 'StandardScaler', 'ML', 'LinearRegression']\n",
      "['Belgium', 'Ghent', 1.043515358361775, 1.6553906094261446, 0.9778299523547499, 3.770523196819454, 'fold_1', 'StandardScaler', 'ML', 'DecisionTreeRegressor']\n",
      "['Belgium', 'Ghent', 0.6343450342465757, 0.9227253105525222, 0.9945894992092474, 2.444475179234143, 'fold_2', 'StandardScaler', 'ML', 'RandomForestRegressor']\n",
      "['Belgium', 'Ghent', 3.0632134703196354, 4.171665295024741, 0.8894111070510987, 10.48840567198265, 'fold_2', 'StandardScaler', 'ML', 'KNeighborsRegressor']\n",
      "['Belgium', 'Ghent', 2.520141036772253, 3.1728435477389407, 0.9360280022893268, 8.63220457737878, 'fold_2', 'StandardScaler', 'ML', 'LinearRegression']\n",
      "['Belgium', 'Ghent', 0.8901255707762555, 1.4100705963738094, 0.9873650272166452, 3.4475081957512366, 'fold_2', 'StandardScaler', 'ML', 'DecisionTreeRegressor']\n",
      "['Belgium', 'Ghent', 0.5966105403348593, 0.9460497256050989, 0.9942239424331463, 2.3353079582042846, 'fold_3', 'StandardScaler', 'ML', 'RandomForestRegressor']\n",
      "['Belgium', 'Ghent', 3.059075342465754, 4.165308511526466, 0.8880309657521649, 10.657794453943367, 'fold_3', 'StandardScaler', 'ML', 'KNeighborsRegressor']\n",
      "['Belgium', 'Ghent', 2.704212365029813, 3.379954251849264, 0.9262732263918764, 9.447998222100024, 'fold_3', 'StandardScaler', 'ML', 'LinearRegression']\n",
      "['Belgium', 'Ghent', 0.7448630136986302, 1.1687135501279449, 0.9911850522295835, 2.9428569547007104, 'fold_3', 'StandardScaler', 'ML', 'DecisionTreeRegressor']\n",
      "['Belgium', 'Ghent', 0.7483552130898039, 1.2468735192816385, 0.976588631572049, 3.0079495756300347, 'fold_4', 'StandardScaler', 'ML', 'RandomForestRegressor']\n",
      "['Belgium', 'Ghent', 2.8086472602739727, 3.6040311954902626, 0.8044044007653873, 11.640369752512017, 'fold_4', 'StandardScaler', 'ML', 'KNeighborsRegressor']\n",
      "['Belgium', 'Ghent', 2.8195603906180997, 3.3366244110669703, 0.8323526696791518, 11.652396633066182, 'fold_4', 'StandardScaler', 'ML', 'LinearRegression']\n",
      "['Belgium', 'Ghent', 0.9339326484018267, 1.5309757504539163, 0.9647045583953274, 3.822738175061989, 'fold_4', 'StandardScaler', 'ML', 'DecisionTreeRegressor']\n",
      "['Belgium', 'Ghent', 0.6332819634703218, 1.1039299224243335, 0.9902374949728815, 2.2334187702917, 'fold_5', 'StandardScaler', 'ML', 'RandomForestRegressor']\n",
      "['Belgium', 'Ghent', 4.435102739726027, 6.289487625016518, 0.6831098106522746, 13.11416033027831, 'fold_5', 'StandardScaler', 'ML', 'KNeighborsRegressor']\n",
      "['Belgium', 'Ghent', 3.0657036218629434, 3.7552584788062937, 0.8870313520944849, 11.005246748580262, 'fold_5', 'StandardScaler', 'ML', 'LinearRegression']\n",
      "['Belgium', 'Ghent', 0.9132420091324202, 1.614656519920307, 0.9791148037137147, 3.1742968653618564, 'fold_5', 'StandardScaler', 'ML', 'DecisionTreeRegressor']\n",
      "Graz Airport\n"
     ]
    },
    {
     "name": "stderr",
     "output_type": "stream",
     "text": [
      "C:\\Users\\HP\\AppData\\Local\\Temp\\ipykernel_20712\\2764872612.py:10: SettingWithCopyWarning: \n",
      "A value is trying to be set on a copy of a slice from a DataFrame\n",
      "\n",
      "See the caveats in the documentation: https://pandas.pydata.org/pandas-docs/stable/user_guide/indexing.html#returning-a-view-versus-a-copy\n",
      "  city_df.drop(columns=['location',\n"
     ]
    },
    {
     "name": "stdout",
     "output_type": "stream",
     "text": [
      "['Austria', 'Graz Airport', 0.4899179939324974, 0.7584404336834785, 0.9946101161985176, 1.6419775892444557, 'fold_1', 'StandardScaler', 'ML', 'RandomForestRegressor']\n",
      "['Austria', 'Graz Airport', 3.011717861205916, 4.068738631793528, 0.8448842019137426, 9.79057397208266, 'fold_1', 'StandardScaler', 'ML', 'KNeighborsRegressor']\n",
      "['Austria', 'Graz Airport', 2.907005339095311, 3.7294659583300294, 0.8696743974709069, 9.363462739151638, 'fold_1', 'StandardScaler', 'ML', 'LinearRegression']\n",
      "['Austria', 'Graz Airport', 0.7357792946530147, 1.5703806762486698, 0.9768928527514759, 2.441497350100494, 'fold_1', 'StandardScaler', 'ML', 'DecisionTreeRegressor']\n",
      "['Austria', 'Graz Airport', 0.4184051560121777, 0.7562041761714982, 0.995663742190768, 1.3425803770033944, 'fold_2', 'StandardScaler', 'ML', 'RandomForestRegressor']\n",
      "['Austria', 'Graz Airport', 3.8525970319634695, 5.382548392489247, 0.7803087103594621, 10.568465487186268, 'fold_2', 'StandardScaler', 'ML', 'KNeighborsRegressor']\n",
      "['Austria', 'Graz Airport', 3.0502615707788387, 3.706633834829992, 0.8958171284426883, 8.986047862487228, 'fold_2', 'StandardScaler', 'ML', 'LinearRegression']\n",
      "['Austria', 'Graz Airport', 0.5082762557077625, 0.8621032606152644, 0.9943642005877534, 1.674292125694799, 'fold_2', 'StandardScaler', 'ML', 'DecisionTreeRegressor']\n",
      "['Austria', 'Graz Airport', 0.40497383942161347, 0.6553984543995849, 0.9973638271490646, 1.5489185156117924, 'fold_3', 'StandardScaler', 'ML', 'RandomForestRegressor']\n",
      "['Austria', 'Graz Airport', 3.726855022831051, 5.048077243520041, 0.8436078173992848, 10.957863742394276, 'fold_3', 'StandardScaler', 'ML', 'KNeighborsRegressor']\n",
      "['Austria', 'Graz Airport', 2.4885421483750303, 3.144698270346041, 0.9393094573116937, 7.831346563386556, 'fold_3', 'StandardScaler', 'ML', 'LinearRegression']\n",
      "['Austria', 'Graz Airport', 0.5633561643835612, 0.8963210151796417, 0.9950695084891389, 2.0939891563226993, 'fold_3', 'StandardScaler', 'ML', 'DecisionTreeRegressor']\n",
      "['Austria', 'Graz Airport', 0.4893260083713872, 0.810592168657837, 0.9959186467396305, 1.7575828114873502, 'fold_4', 'StandardScaler', 'ML', 'RandomForestRegressor']\n",
      "['Austria', 'Graz Airport', 3.610445205479453, 4.903397658735786, 0.8506539948555523, 11.16556660254287, 'fold_4', 'StandardScaler', 'ML', 'KNeighborsRegressor']\n",
      "['Austria', 'Graz Airport', 2.665576326785548, 3.2300367668438503, 0.9351941350937033, 8.955568010085702, 'fold_4', 'StandardScaler', 'ML', 'LinearRegression']\n",
      "['Austria', 'Graz Airport', 0.6556792237442922, 1.043363344244292, 0.9932380722012323, 2.3137435439589953, 'fold_4', 'StandardScaler', 'ML', 'DecisionTreeRegressor']\n",
      "['Austria', 'Graz Airport', 0.4938945966514462, 1.2403756014867486, 0.9900210816450892, 1.572107152713567, 'fold_5', 'StandardScaler', 'ML', 'RandomForestRegressor']\n",
      "['Austria', 'Graz Airport', 3.129708904109589, 4.449770534546896, 0.8715742025257271, 9.01588935634789, 'fold_5', 'StandardScaler', 'ML', 'KNeighborsRegressor']\n",
      "['Austria', 'Graz Airport', 3.2309804603388876, 4.115745050300532, 0.8901313043735994, 10.746349728467175, 'fold_5', 'StandardScaler', 'ML', 'LinearRegression']\n",
      "['Austria', 'Graz Airport', 0.6609589041095895, 1.363645696372749, 0.9879390884695176, 2.154005859364418, 'fold_5', 'StandardScaler', 'ML', 'DecisionTreeRegressor']\n",
      "Helsinki\n"
     ]
    },
    {
     "name": "stderr",
     "output_type": "stream",
     "text": [
      "C:\\Users\\HP\\AppData\\Local\\Temp\\ipykernel_20712\\2764872612.py:10: SettingWithCopyWarning: \n",
      "A value is trying to be set on a copy of a slice from a DataFrame\n",
      "\n",
      "See the caveats in the documentation: https://pandas.pydata.org/pandas-docs/stable/user_guide/indexing.html#returning-a-view-versus-a-copy\n",
      "  city_df.drop(columns=['location',\n"
     ]
    },
    {
     "name": "stdout",
     "output_type": "stream",
     "text": [
      "['Finland', 'Helsinki', 0.44031427758816494, 0.97781076181756, 0.9701158439827839, 2.1030786732101365, 'fold_1', 'StandardScaler', 'ML', 'RandomForestRegressor']\n",
      "['Finland', 'Helsinki', 2.373691695108077, 3.120911014630798, 0.6955653078385473, 11.692771475903236, 'fold_1', 'StandardScaler', 'ML', 'KNeighborsRegressor']\n",
      "['Finland', 'Helsinki', 1.5565510278493195, 2.0224767412609275, 0.8721506744848228, 7.1187588090172085, 'fold_1', 'StandardScaler', 'ML', 'LinearRegression']\n",
      "['Finland', 'Helsinki', 0.6658134243458471, 1.6019946918747396, 0.9197853828689694, 3.320100319730785, 'fold_1', 'StandardScaler', 'ML', 'DecisionTreeRegressor']\n",
      "['Finland', 'Helsinki', 0.4182714992389637, 1.7119558828917447, 0.8969839325891391, 1.8973324821243653, 'fold_2', 'StandardScaler', 'ML', 'RandomForestRegressor']\n",
      "['Finland', 'Helsinki', 1.9561358447488582, 2.937635283001631, 0.6966698492841842, 8.774618455922319, 'fold_2', 'StandardScaler', 'ML', 'KNeighborsRegressor']\n",
      "['Finland', 'Helsinki', 1.2910022293586423, 2.411341738166228, 0.7956204886960094, 5.738815735814925, 'fold_2', 'StandardScaler', 'ML', 'LinearRegression']\n",
      "['Finland', 'Helsinki', 0.49472031963470325, 1.7238806258266421, 0.8955438037573422, 2.2808586447356727, 'fold_2', 'StandardScaler', 'ML', 'DecisionTreeRegressor']\n",
      "['Finland', 'Helsinki', 0.38968797564688207, 0.708196599170973, 0.9876250582047936, 2.0049760650943744, 'fold_3', 'StandardScaler', 'ML', 'RandomForestRegressor']\n",
      "['Finland', 'Helsinki', 2.2781107305936072, 2.9066981066462896, 0.7915339456297191, 11.544540619051963, 'fold_3', 'StandardScaler', 'ML', 'KNeighborsRegressor']\n",
      "['Finland', 'Helsinki', 1.5006218871695316, 2.419221468923554, 0.8555934983801752, 7.023440278716983, 'fold_3', 'StandardScaler', 'ML', 'LinearRegression']\n",
      "['Finland', 'Helsinki', 0.8087899543378996, 2.5283965656721827, 0.8422657973960668, 4.087258765023156, 'fold_3', 'StandardScaler', 'ML', 'DecisionTreeRegressor']\n",
      "['Finland', 'Helsinki', 0.3841433599695597, 0.6964948565924256, 0.9781237144575928, 2.0240833270160072, 'fold_4', 'StandardScaler', 'ML', 'RandomForestRegressor']\n",
      "['Finland', 'Helsinki', 1.9650970319634702, 2.422427543514329, 0.7353698348227276, 10.185847139432605, 'fold_4', 'StandardScaler', 'ML', 'KNeighborsRegressor']\n",
      "['Finland', 'Helsinki', 1.4416804990184273, 2.0215540044796056, 0.8157071647149963, 7.163164707491074, 'fold_4', 'StandardScaler', 'ML', 'LinearRegression']\n",
      "['Finland', 'Helsinki', 0.4472031963470318, 0.8690477586699795, 0.9659415371018379, 2.4069092816412385, 'fold_4', 'StandardScaler', 'ML', 'DecisionTreeRegressor']\n",
      "['Finland', 'Helsinki', 0.30375761035007415, 0.7923578961318762, 0.9711534231091719, 1.359416365241596, 'fold_5', 'StandardScaler', 'ML', 'RandomForestRegressor']\n",
      "['Finland', 'Helsinki', 2.6468607305936067, 3.2692318957173474, 0.5089305025731581, 10.41718291735052, 'fold_5', 'StandardScaler', 'ML', 'KNeighborsRegressor']\n",
      "['Finland', 'Helsinki', 1.470637347801783, 1.749019589562272, 0.8594467631266578, 6.063891581642561, 'fold_5', 'StandardScaler', 'ML', 'LinearRegression']\n",
      "['Finland', 'Helsinki', 0.3909817351598172, 1.1477386607958888, 0.9394746198609135, 1.7278430911897877, 'fold_5', 'StandardScaler', 'ML', 'DecisionTreeRegressor']\n",
      "Isle of Man\n"
     ]
    },
    {
     "name": "stderr",
     "output_type": "stream",
     "text": [
      "C:\\Users\\HP\\AppData\\Local\\Temp\\ipykernel_20712\\2764872612.py:10: SettingWithCopyWarning: \n",
      "A value is trying to be set on a copy of a slice from a DataFrame\n",
      "\n",
      "See the caveats in the documentation: https://pandas.pydata.org/pandas-docs/stable/user_guide/indexing.html#returning-a-view-versus-a-copy\n",
      "  city_df.drop(columns=['location',\n"
     ]
    },
    {
     "name": "stdout",
     "output_type": "stream",
     "text": [
      "['UK', 'Isle of Man', 0.1894112627986339, 0.7962831590856271, 0.9740375741873162, 0.6358568551017794, 'fold_1', 'StandardScaler', 'ML', 'RandomForestRegressor']\n",
      "['UK', 'Isle of Man', 2.0555460750853247, 2.7196162108083874, 0.697151484306591, 8.109699329730782, 'fold_1', 'StandardScaler', 'ML', 'KNeighborsRegressor']\n",
      "['UK', 'Isle of Man', 0.9148892302606196, 1.826955677210368, 0.8633321917598066, 3.2327175085105075, 'fold_1', 'StandardScaler', 'ML', 'LinearRegression']\n",
      "['UK', 'Isle of Man', 0.18686006825938534, 0.8423150781843277, 0.9709491156759121, 0.620927728182419, 'fold_1', 'StandardScaler', 'ML', 'DecisionTreeRegressor']\n",
      "['UK', 'Isle of Man', 0.2892470509893436, 1.5387183050581572, 0.9092014636526129, 1.0310612108379749, 'fold_2', 'StandardScaler', 'ML', 'RandomForestRegressor']\n",
      "['UK', 'Isle of Man', 1.855764840182648, 2.9954750088958058, 0.6558941875883562, 7.082435018048121, 'fold_2', 'StandardScaler', 'ML', 'KNeighborsRegressor']\n",
      "['UK', 'Isle of Man', 0.8294707777203624, 2.2066654182025456, 0.8132616207068832, 2.9106450320981323, 'fold_2', 'StandardScaler', 'ML', 'LinearRegression']\n",
      "['UK', 'Isle of Man', 0.31392694063926935, 1.546864309919552, 0.9082375404127826, 1.154710990158973, 'fold_2', 'StandardScaler', 'ML', 'DecisionTreeRegressor']\n",
      "['UK', 'Isle of Man', 0.15088089802131044, 0.7236995615089872, 0.9757883882393121, 0.5656678877431822, 'fold_3', 'StandardScaler', 'ML', 'RandomForestRegressor']\n",
      "['UK', 'Isle of Man', 1.6384988584474887, 2.100243641642987, 0.7960862837957798, 6.332703735979951, 'fold_3', 'StandardScaler', 'ML', 'KNeighborsRegressor']\n",
      "['UK', 'Isle of Man', 0.8566003604900086, 1.1884508102223554, 0.9347065668689114, 3.3118234407389155, 'fold_3', 'StandardScaler', 'ML', 'LinearRegression']\n",
      "['UK', 'Isle of Man', 0.19934360730593603, 1.2115544179633257, 0.9321432690235147, 0.7495337165825077, 'fold_3', 'StandardScaler', 'ML', 'DecisionTreeRegressor']\n",
      "['UK', 'Isle of Man', 0.3131302321156774, 1.7725351585913107, 0.9052682184816733, 0.9008120187078885, 'fold_4', 'StandardScaler', 'ML', 'RandomForestRegressor']\n",
      "['UK', 'Isle of Man', 2.056050228310503, 3.076837768015229, 0.7145597691660235, 7.969870341145964, 'fold_4', 'StandardScaler', 'ML', 'KNeighborsRegressor']\n",
      "['UK', 'Isle of Man', 0.7419290034049676, 1.8382768201566784, 0.8981108802822955, 2.6036685793229664, 'fold_4', 'StandardScaler', 'ML', 'LinearRegression']\n",
      "['UK', 'Isle of Man', 0.361158675799087, 2.175508008081512, 0.8572988868982516, 1.2916770371989272, 'fold_4', 'StandardScaler', 'ML', 'DecisionTreeRegressor']\n",
      "['UK', 'Isle of Man', 0.114136225266363, 0.514938008756724, 0.9850701575524395, 0.40893930451339316, 'fold_5', 'StandardScaler', 'ML', 'RandomForestRegressor']\n",
      "['UK', 'Isle of Man', 1.7040239726027397, 2.111037541025617, 0.7490788673910935, 6.044928764172706, 'fold_5', 'StandardScaler', 'ML', 'KNeighborsRegressor']\n",
      "['UK', 'Isle of Man', 0.8761345995550263, 1.5059320753383898, 0.8723102333579262, 3.0394292719334133, 'fold_5', 'StandardScaler', 'ML', 'LinearRegression']\n",
      "['UK', 'Isle of Man', 0.1903538812785388, 0.8875620329039898, 0.9556449821289397, 0.6446263684482891, 'fold_5', 'StandardScaler', 'ML', 'DecisionTreeRegressor']\n",
      "Istanbul Airport\n"
     ]
    },
    {
     "name": "stderr",
     "output_type": "stream",
     "text": [
      "C:\\Users\\HP\\AppData\\Local\\Temp\\ipykernel_20712\\2764872612.py:10: SettingWithCopyWarning: \n",
      "A value is trying to be set on a copy of a slice from a DataFrame\n",
      "\n",
      "See the caveats in the documentation: https://pandas.pydata.org/pandas-docs/stable/user_guide/indexing.html#returning-a-view-versus-a-copy\n",
      "  city_df.drop(columns=['location',\n"
     ]
    },
    {
     "name": "stdout",
     "output_type": "stream",
     "text": [
      "['Turkey', 'Istanbul Airport', 0.7653716344330687, 1.2588747088433478, 0.9812566487460513, 2.5169641156811284, 'fold_1', 'StandardScaler', 'ML', 'RandomForestRegressor']\n",
      "['Turkey', 'Istanbul Airport', 2.9646757679180884, 3.8654390165014885, 0.8232823698306415, 10.413620169348196, 'fold_1', 'StandardScaler', 'ML', 'KNeighborsRegressor']\n",
      "['Turkey', 'Istanbul Airport', 3.348160882119196, 4.031930035727246, 0.8077314718427143, 11.355589500937628, 'fold_1', 'StandardScaler', 'ML', 'LinearRegression']\n",
      "['Turkey', 'Istanbul Airport', 0.9498009101251421, 1.5743996062665802, 0.9706834965011647, 3.32811873194503, 'fold_1', 'StandardScaler', 'ML', 'DecisionTreeRegressor']\n",
      "['Turkey', 'Istanbul Airport', 0.580753900304416, 1.2019393836642145, 0.9830608668050352, 1.9997587320116177, 'fold_2', 'StandardScaler', 'ML', 'RandomForestRegressor']\n",
      "['Turkey', 'Istanbul Airport', 3.220148401826484, 4.4650806706865, 0.7662322102283696, 10.60152980015757, 'fold_2', 'StandardScaler', 'ML', 'KNeighborsRegressor']\n",
      "['Turkey', 'Istanbul Airport', 2.911713842257848, 3.614949237115452, 0.8467747080600811, 9.737018816347625, 'fold_2', 'StandardScaler', 'ML', 'LinearRegression']\n",
      "['Turkey', 'Istanbul Airport', 0.6662385844748865, 1.2267215057165661, 0.9823551484357262, 2.2756037432915632, 'fold_2', 'StandardScaler', 'ML', 'DecisionTreeRegressor']\n",
      "['Turkey', 'Istanbul Airport', 0.48169520547945177, 0.7622999538487972, 0.9920641981055529, 1.6956797922145332, 'fold_3', 'StandardScaler', 'ML', 'RandomForestRegressor']\n",
      "['Turkey', 'Istanbul Airport', 2.7807077625570775, 3.8097233007942872, 0.8017898459512304, 9.589818983209698, 'fold_3', 'StandardScaler', 'ML', 'KNeighborsRegressor']\n",
      "['Turkey', 'Istanbul Airport', 3.0598697355565414, 4.079028443737252, 0.7727768907591475, 9.908368758640016, 'fold_3', 'StandardScaler', 'ML', 'LinearRegression']\n",
      "['Turkey', 'Istanbul Airport', 0.8230593607305935, 1.4306197433546421, 0.9720496365657797, 2.8789766646046444, 'fold_3', 'StandardScaler', 'ML', 'DecisionTreeRegressor']\n",
      "['Turkey', 'Istanbul Airport', 0.5297393455098913, 1.0253634997182282, 0.9873925850505493, 1.8482585985028512, 'fold_4', 'StandardScaler', 'ML', 'RandomForestRegressor']\n",
      "['Turkey', 'Istanbul Airport', 2.4298801369863012, 3.6188451856289, 0.8429599775968908, 8.209769704461243, 'fold_4', 'StandardScaler', 'ML', 'KNeighborsRegressor']\n",
      "['Turkey', 'Istanbul Airport', 2.88911777871628, 3.5967866216911806, 0.8448686084485308, 9.50957014171694, 'fold_4', 'StandardScaler', 'ML', 'LinearRegression']\n",
      "['Turkey', 'Istanbul Airport', 0.6954908675799089, 1.3296807132115434, 0.9787985736929874, 2.4186439184731867, 'fold_4', 'StandardScaler', 'ML', 'DecisionTreeRegressor']\n",
      "['Turkey', 'Istanbul Airport', 0.7121513508371393, 1.6817241476764917, 0.9730495967376331, 1.7985526570569041, 'fold_5', 'StandardScaler', 'ML', 'RandomForestRegressor']\n",
      "['Turkey', 'Istanbul Airport', 3.1504851598173516, 4.507561796209947, 0.8063849439210469, 8.260957888458112, 'fold_5', 'StandardScaler', 'ML', 'KNeighborsRegressor']\n",
      "['Turkey', 'Istanbul Airport', 3.85564371746182, 4.541789120508273, 0.8034334212261406, 11.184031743192687, 'fold_5', 'StandardScaler', 'ML', 'LinearRegression']\n",
      "['Turkey', 'Istanbul Airport', 0.8568778538812782, 1.8593509177226122, 0.9670558374222831, 2.1801769370191733, 'fold_5', 'StandardScaler', 'ML', 'DecisionTreeRegressor']\n",
      "Limerick\n"
     ]
    },
    {
     "name": "stderr",
     "output_type": "stream",
     "text": [
      "C:\\Users\\HP\\AppData\\Local\\Temp\\ipykernel_20712\\2764872612.py:10: SettingWithCopyWarning: \n",
      "A value is trying to be set on a copy of a slice from a DataFrame\n",
      "\n",
      "See the caveats in the documentation: https://pandas.pydata.org/pandas-docs/stable/user_guide/indexing.html#returning-a-view-versus-a-copy\n",
      "  city_df.drop(columns=['location',\n"
     ]
    },
    {
     "name": "stdout",
     "output_type": "stream",
     "text": [
      "['Ireland', 'Limerick', 0.5291628744785767, 1.9424594967326705, 0.9072868050240323, 1.873320263452892, 'fold_1', 'StandardScaler', 'ML', 'RandomForestRegressor']\n",
      "['Ireland', 'Limerick', 2.239078498293515, 3.868566257920709, 0.6322627002014924, 9.290493809175706, 'fold_1', 'StandardScaler', 'ML', 'KNeighborsRegressor']\n",
      "['Ireland', 'Limerick', 1.632683337985388, 2.8329652736356787, 0.8027940083902763, 6.575878690386788, 'fold_1', 'StandardScaler', 'ML', 'LinearRegression']\n",
      "['Ireland', 'Limerick', 0.4938850967007966, 1.3426222051141308, 0.9557059639427504, 2.0112232727428587, 'fold_1', 'StandardScaler', 'ML', 'DecisionTreeRegressor']\n",
      "['Ireland', 'Limerick', 0.4788988774733635, 2.1257431146523587, 0.8914799917541945, 1.631110908274511, 'fold_2', 'StandardScaler', 'ML', 'RandomForestRegressor']\n",
      "['Ireland', 'Limerick', 2.1838184931506848, 3.2860676834196862, 0.740676864081606, 8.60496081619044, 'fold_2', 'StandardScaler', 'ML', 'KNeighborsRegressor']\n",
      "['Ireland', 'Limerick', 1.3905447520502967, 2.1890274271232317, 0.8849224354648091, 5.3881387341856115, 'fold_2', 'StandardScaler', 'ML', 'LinearRegression']\n",
      "['Ireland', 'Limerick', 0.5803367579908674, 2.276724585513158, 0.875517227998349, 2.0697544798420378, 'fold_2', 'StandardScaler', 'ML', 'DecisionTreeRegressor']\n",
      "['Ireland', 'Limerick', 0.2840120814307453, 0.5591052910870574, 0.9841959471442187, 1.2690632119078253, 'fold_3', 'StandardScaler', 'ML', 'RandomForestRegressor']\n",
      "['Ireland', 'Limerick', 1.5968607305936076, 2.009120660768825, 0.7959233537654624, 7.184567626844762, 'fold_3', 'StandardScaler', 'ML', 'KNeighborsRegressor']\n",
      "['Ireland', 'Limerick', 1.7837043921873859, 2.315912361391152, 0.7288400715191479, 7.680087673091958, 'fold_3', 'StandardScaler', 'ML', 'LinearRegression']\n",
      "['Ireland', 'Limerick', 0.39668949771689416, 0.862820209458979, 0.9623624030924042, 1.7680492974297053, 'fold_3', 'StandardScaler', 'ML', 'DecisionTreeRegressor']\n",
      "['Ireland', 'Limerick', 0.37910340563166084, 0.9751589667592758, 0.9667391393177276, 1.564649379786891, 'fold_4', 'StandardScaler', 'ML', 'RandomForestRegressor']\n",
      "['Ireland', 'Limerick', 1.8944063926940642, 2.6439893531160776, 0.7554869460053217, 8.406667019457187, 'fold_4', 'StandardScaler', 'ML', 'KNeighborsRegressor']\n",
      "['Ireland', 'Limerick', 1.7492045820223574, 2.539834163252619, 0.7743718059595563, 7.284827004238398, 'fold_4', 'StandardScaler', 'ML', 'LinearRegression']\n",
      "['Ireland', 'Limerick', 0.4362157534246575, 1.0912322892291615, 0.9583498027625762, 1.8377382617739857, 'fold_4', 'StandardScaler', 'ML', 'DecisionTreeRegressor']\n",
      "['Ireland', 'Limerick', 0.19388936453576883, 0.4178022452823922, 0.9914623571671513, 0.780273504941515, 'fold_5', 'StandardScaler', 'ML', 'RandomForestRegressor']\n",
      "['Ireland', 'Limerick', 1.832077625570776, 2.4349974957716074, 0.7100030160810296, 7.3061833674531975, 'fold_5', 'StandardScaler', 'ML', 'KNeighborsRegressor']\n",
      "['Ireland', 'Limerick', 2.0573176767188825, 2.4189524540037612, 0.7138122056741911, 8.105859015629335, 'fold_5', 'StandardScaler', 'ML', 'LinearRegression']\n",
      "['Ireland', 'Limerick', 0.28938356164383555, 0.7702739238791735, 0.9709807064895172, 1.1715420612101937, 'fold_5', 'StandardScaler', 'ML', 'DecisionTreeRegressor']\n",
      "London\n"
     ]
    },
    {
     "name": "stderr",
     "output_type": "stream",
     "text": [
      "C:\\Users\\HP\\AppData\\Local\\Temp\\ipykernel_20712\\2764872612.py:10: SettingWithCopyWarning: \n",
      "A value is trying to be set on a copy of a slice from a DataFrame\n",
      "\n",
      "See the caveats in the documentation: https://pandas.pydata.org/pandas-docs/stable/user_guide/indexing.html#returning-a-view-versus-a-copy\n",
      "  city_df.drop(columns=['location',\n"
     ]
    },
    {
     "name": "stdout",
     "output_type": "stream",
     "text": [
      "['UK', 'London', 0.737243079256734, 1.031342551954003, 0.9887782593810216, 3.1959462821361617, 'fold_1', 'StandardScaler', 'ML', 'RandomForestRegressor']\n",
      "['UK', 'London', 2.6092150170648463, 3.562579726536049, 0.8660990873058064, 10.484742525033889, 'fold_1', 'StandardScaler', 'ML', 'KNeighborsRegressor']\n",
      "['UK', 'London', 2.2284948255906136, 2.9178118152700105, 0.9101808563529681, 8.923977141983316, 'fold_1', 'StandardScaler', 'ML', 'LinearRegression']\n",
      "['UK', 'London', 1.1449089874857794, 1.5992942158973298, 0.9730157043770685, 4.944707162945894, 'fold_1', 'StandardScaler', 'ML', 'DecisionTreeRegressor']\n",
      "['UK', 'London', 0.5679475837138509, 0.822647988807372, 0.9926300563393738, 2.4530785686709167, 'fold_2', 'StandardScaler', 'ML', 'RandomForestRegressor']\n",
      "['UK', 'London', 2.339583333333333, 3.2652044168692047, 0.8838934186259622, 8.917062460023406, 'fold_2', 'StandardScaler', 'ML', 'KNeighborsRegressor']\n",
      "['UK', 'London', 1.9628889973843602, 2.5496540962073557, 0.9292056469420908, 7.465095506992128, 'fold_2', 'StandardScaler', 'ML', 'LinearRegression']\n",
      "['UK', 'London', 0.8912671232876718, 1.3460041135971301, 0.98026991929756, 3.7445437572078113, 'fold_2', 'StandardScaler', 'ML', 'DecisionTreeRegressor']\n",
      "['UK', 'London', 0.6472345890410974, 0.8946298314997472, 0.9893763199392371, 2.9579618297138635, 'fold_3', 'StandardScaler', 'ML', 'RandomForestRegressor']\n",
      "['UK', 'London', 2.355450913242009, 3.2076591164320796, 0.8634270628503783, 9.318156233895582, 'fold_3', 'StandardScaler', 'ML', 'KNeighborsRegressor']\n",
      "['UK', 'London', 2.013682888535932, 2.5549393175104247, 0.9133538218881035, 8.04830749931858, 'fold_3', 'StandardScaler', 'ML', 'LinearRegression']\n",
      "['UK', 'London', 0.9118150684931505, 1.382567903160389, 0.9746276220232513, 4.1504589902626465, 'fold_3', 'StandardScaler', 'ML', 'DecisionTreeRegressor']\n",
      "['UK', 'London', 0.747365867579911, 1.1931879710671844, 0.978024416063042, 3.3667645316407904, 'fold_4', 'StandardScaler', 'ML', 'RandomForestRegressor']\n",
      "['UK', 'London', 2.5537671232876713, 3.482976579904663, 0.8127491492544275, 11.198551403949228, 'fold_4', 'StandardScaler', 'ML', 'KNeighborsRegressor']\n",
      "['UK', 'London', 2.314518073283531, 2.8480711017336025, 0.8747942293906872, 10.225558592433986, 'fold_4', 'StandardScaler', 'ML', 'LinearRegression']\n",
      "['UK', 'London', 0.9678938356164382, 1.550037821137233, 0.9629142316349921, 4.3230324769089, 'fold_4', 'StandardScaler', 'ML', 'DecisionTreeRegressor']\n",
      "['UK', 'London', 0.7459351217656032, 1.1996687055234998, 0.9816012861353284, 2.8941127156684754, 'fold_5', 'StandardScaler', 'ML', 'RandomForestRegressor']\n",
      "['UK', 'London', 2.9785958904109586, 3.8060332347495676, 0.8148132295715419, 10.544537701545064, 'fold_5', 'StandardScaler', 'ML', 'KNeighborsRegressor']\n",
      "['UK', 'London', 2.5742147202446035, 3.312524670389374, 0.8597241050593663, 9.466327268734466, 'fold_5', 'StandardScaler', 'ML', 'LinearRegression']\n",
      "['UK', 'London', 0.9596175799086756, 1.4359274371089625, 0.9736409476207195, 3.799472270858844, 'fold_5', 'StandardScaler', 'ML', 'DecisionTreeRegressor']\n",
      "Lyon\n"
     ]
    },
    {
     "name": "stderr",
     "output_type": "stream",
     "text": [
      "C:\\Users\\HP\\AppData\\Local\\Temp\\ipykernel_20712\\2764872612.py:10: SettingWithCopyWarning: \n",
      "A value is trying to be set on a copy of a slice from a DataFrame\n",
      "\n",
      "See the caveats in the documentation: https://pandas.pydata.org/pandas-docs/stable/user_guide/indexing.html#returning-a-view-versus-a-copy\n",
      "  city_df.drop(columns=['location',\n"
     ]
    },
    {
     "name": "stdout",
     "output_type": "stream",
     "text": [
      "['France', 'Lyon', 0.8443344709897594, 1.374000995811254, 0.9849303719722162, 3.1920817457740425, 'fold_1', 'StandardScaler', 'ML', 'RandomForestRegressor']\n",
      "['France', 'Lyon', 3.258532423208191, 4.65611348399947, 0.8269484269905414, 11.495415599725725, 'fold_1', 'StandardScaler', 'ML', 'KNeighborsRegressor']\n",
      "['France', 'Lyon', 3.011330575773073, 3.7831694437419743, 0.88575425762232, 10.855704274876526, 'fold_1', 'StandardScaler', 'ML', 'LinearRegression']\n",
      "['France', 'Lyon', 1.0530432309442543, 1.6563084693209102, 0.9781016757202604, 4.190197695702353, 'fold_1', 'StandardScaler', 'ML', 'DecisionTreeRegressor']\n",
      "['France', 'Lyon', 0.6311172945205471, 1.1213251580839045, 0.9931818015774202, 2.1419068909050187, 'fold_2', 'StandardScaler', 'ML', 'RandomForestRegressor']\n",
      "['France', 'Lyon', 3.7636415525114155, 5.856566014915431, 0.8140087172653342, 11.150446581971403, 'fold_2', 'StandardScaler', 'ML', 'KNeighborsRegressor']\n",
      "['France', 'Lyon', 3.49294515369453, 4.2366749781807185, 0.9026677418448062, 10.913853034104209, 'fold_2', 'StandardScaler', 'ML', 'LinearRegression']\n",
      "['France', 'Lyon', 0.864155251141553, 1.6404110582040814, 0.9854080988088662, 2.8714957735382582, 'fold_2', 'StandardScaler', 'ML', 'DecisionTreeRegressor']\n",
      "['France', 'Lyon', 0.6161601027397222, 0.9105142362778436, 0.9948416543469092, 2.635497064900583, 'fold_3', 'StandardScaler', 'ML', 'RandomForestRegressor']\n",
      "['France', 'Lyon', 3.2507420091324204, 4.58830168655232, 0.8690091711327927, 11.772112092759963, 'fold_3', 'StandardScaler', 'ML', 'KNeighborsRegressor']\n",
      "['France', 'Lyon', 2.420812383813652, 3.0045254824271503, 0.9438320281181954, 9.17728352004598, 'fold_3', 'StandardScaler', 'ML', 'LinearRegression']\n",
      "['France', 'Lyon', 0.8458904109589035, 1.2091695264450757, 0.9909027245178497, 3.6645145907990617, 'fold_3', 'StandardScaler', 'ML', 'DecisionTreeRegressor']\n",
      "['France', 'Lyon', 0.7567456240487067, 1.2410682459427578, 0.9885407237851394, 3.1116345031063934, 'fold_4', 'StandardScaler', 'ML', 'RandomForestRegressor']\n",
      "['France', 'Lyon', 3.3455764840182654, 4.281557256858714, 0.8636141318765842, 12.683647640035478, 'fold_4', 'StandardScaler', 'ML', 'KNeighborsRegressor']\n",
      "['France', 'Lyon', 3.288282592357875, 3.9584035062181773, 0.8834248493592038, 12.581094593887245, 'fold_4', 'StandardScaler', 'ML', 'LinearRegression']\n",
      "['France', 'Lyon', 0.9984303652968035, 1.6096500897211856, 0.9807234718733385, 4.00449699013208, 'fold_4', 'StandardScaler', 'ML', 'DecisionTreeRegressor']\n",
      "['France', 'Lyon', 0.5626246194824943, 0.9631271200541329, 0.9939362558527015, 2.009466674313496, 'fold_5', 'StandardScaler', 'ML', 'RandomForestRegressor']\n",
      "['France', 'Lyon', 3.490496575342465, 4.748888884103485, 0.8525795745324967, 10.793698752503913, 'fold_5', 'StandardScaler', 'ML', 'KNeighborsRegressor']\n",
      "['France', 'Lyon', 3.564343610192241, 4.343889300996433, 0.8766522752931138, 12.466435882639496, 'fold_5', 'StandardScaler', 'ML', 'LinearRegression']\n",
      "['France', 'Lyon', 0.789383561643836, 1.304518840949679, 0.9888756573816566, 2.7947826582887454, 'fold_5', 'StandardScaler', 'ML', 'DecisionTreeRegressor']\n",
      "Madrid\n"
     ]
    },
    {
     "name": "stderr",
     "output_type": "stream",
     "text": [
      "C:\\Users\\HP\\AppData\\Local\\Temp\\ipykernel_20712\\2764872612.py:10: SettingWithCopyWarning: \n",
      "A value is trying to be set on a copy of a slice from a DataFrame\n",
      "\n",
      "See the caveats in the documentation: https://pandas.pydata.org/pandas-docs/stable/user_guide/indexing.html#returning-a-view-versus-a-copy\n",
      "  city_df.drop(columns=['location',\n"
     ]
    },
    {
     "name": "stdout",
     "output_type": "stream",
     "text": [
      "['Spain', 'Madrid', 1.0260366894197952, 1.7247537689084143, 0.9759408245639243, 3.549104274507771, 'fold_1', 'StandardScaler', 'ML', 'RandomForestRegressor']\n",
      "['Spain', 'Madrid', 2.865813424345848, 4.585420457668672, 0.8299467790796049, 9.367978741790992, 'fold_1', 'StandardScaler', 'ML', 'KNeighborsRegressor']\n",
      "['Spain', 'Madrid', 3.1257235532466026, 3.9764518319615587, 0.8721154776121243, 10.662463015639863, 'fold_1', 'StandardScaler', 'ML', 'LinearRegression']\n",
      "['Spain', 'Madrid', 1.427758816837315, 2.1634153429591207, 0.9621464735725647, 4.900037838764757, 'fold_1', 'StandardScaler', 'ML', 'DecisionTreeRegressor']\n",
      "['Spain', 'Madrid', 1.1259270357686455, 3.321495950683423, 0.8859764537917947, 3.390613653614105, 'fold_2', 'StandardScaler', 'ML', 'RandomForestRegressor']\n",
      "['Spain', 'Madrid', 2.5598458904109584, 4.169942006037237, 0.8202838446855497, 8.89124323077588, 'fold_2', 'StandardScaler', 'ML', 'KNeighborsRegressor']\n",
      "['Spain', 'Madrid', 2.558096425016209, 3.868530238026084, 0.8453253718016707, 8.660852388974769, 'fold_2', 'StandardScaler', 'ML', 'LinearRegression']\n",
      "['Spain', 'Madrid', 1.7059075342465757, 4.305363528024956, 0.8084215108224868, 5.181765957511484, 'fold_2', 'StandardScaler', 'ML', 'DecisionTreeRegressor']\n",
      "['Spain', 'Madrid', 0.9763503614916299, 1.465484189949949, 0.9628912649788918, 3.5981811734503344, 'fold_3', 'StandardScaler', 'ML', 'RandomForestRegressor']\n",
      "['Spain', 'Madrid', 2.524229452054794, 3.25677153562173, 0.8167312311387781, 9.16020043310224, 'fold_3', 'StandardScaler', 'ML', 'KNeighborsRegressor']\n",
      "['Spain', 'Madrid', 2.604581467524749, 3.336251986463492, 0.8076768489501488, 9.648424016460739, 'fold_3', 'StandardScaler', 'ML', 'LinearRegression']\n",
      "['Spain', 'Madrid', 1.446917808219178, 2.4659785539031973, 0.8949266773614909, 5.426394839027758, 'fold_3', 'StandardScaler', 'ML', 'DecisionTreeRegressor']\n",
      "['Spain', 'Madrid', 0.8977026255707722, 1.5114217721128766, 0.9788986154131448, 2.8781675984286674, 'fold_4', 'StandardScaler', 'ML', 'RandomForestRegressor']\n",
      "['Spain', 'Madrid', 3.6695490867579914, 5.436932037028453, 0.7269467101553881, 10.434368837225568, 'fold_4', 'StandardScaler', 'ML', 'KNeighborsRegressor']\n",
      "['Spain', 'Madrid', 3.109032483763475, 4.186287315667696, 0.8381183328007077, 9.52570066886821, 'fold_4', 'StandardScaler', 'ML', 'LinearRegression']\n",
      "['Spain', 'Madrid', 1.4203767123287676, 2.2827998868582147, 0.9518634135386325, 4.746202700099132, 'fold_4', 'StandardScaler', 'ML', 'DecisionTreeRegressor']\n",
      "['Spain', 'Madrid', 0.6876065449010673, 1.0868446782509074, 0.9841983065963423, 2.42460971399703, 'fold_5', 'StandardScaler', 'ML', 'RandomForestRegressor']\n",
      "['Spain', 'Madrid', 3.128396118721461, 4.337785598043851, 0.7482874729836726, 10.47939380098037, 'fold_5', 'StandardScaler', 'ML', 'KNeighborsRegressor']\n",
      "['Spain', 'Madrid', 3.3627341779695508, 3.9480626362022897, 0.7914852733926807, 11.728159798271474, 'fold_5', 'StandardScaler', 'ML', 'LinearRegression']\n",
      "['Spain', 'Madrid', 0.9835901826484019, 1.564139170639677, 0.9672720013177446, 3.578247213587031, 'fold_5', 'StandardScaler', 'ML', 'DecisionTreeRegressor']\n",
      "Marseille\n"
     ]
    },
    {
     "name": "stderr",
     "output_type": "stream",
     "text": [
      "C:\\Users\\HP\\AppData\\Local\\Temp\\ipykernel_20712\\2764872612.py:10: SettingWithCopyWarning: \n",
      "A value is trying to be set on a copy of a slice from a DataFrame\n",
      "\n",
      "See the caveats in the documentation: https://pandas.pydata.org/pandas-docs/stable/user_guide/indexing.html#returning-a-view-versus-a-copy\n",
      "  city_df.drop(columns=['location',\n"
     ]
    },
    {
     "name": "stdout",
     "output_type": "stream",
     "text": [
      "['France', 'Marseille', 0.5877934205536596, 1.4044131034386897, 0.9596569713843982, 1.8058561485724403, 'fold_1', 'StandardScaler', 'ML', 'RandomForestRegressor']\n",
      "['France', 'Marseille', 2.8873151308304887, 3.7796095600262656, 0.7078051008518671, 9.78469261322281, 'fold_1', 'StandardScaler', 'ML', 'KNeighborsRegressor']\n",
      "['France', 'Marseille', 2.630553822910162, 3.2382623063004887, 0.7855120976916657, 8.64656950420066, 'fold_1', 'StandardScaler', 'ML', 'LinearRegression']\n",
      "['France', 'Marseille', 0.6915529010238906, 1.5200573276966438, 0.9527394591738566, 2.251673596308651, 'fold_1', 'StandardScaler', 'ML', 'DecisionTreeRegressor']\n",
      "['France', 'Marseille', 0.537613679604261, 0.8285659850172865, 0.9908589697172051, 1.7661600272912845, 'fold_2', 'StandardScaler', 'ML', 'RandomForestRegressor']\n",
      "['France', 'Marseille', 2.6224029680365297, 3.5049702763544017, 0.8364277507167316, 8.125926557906801, 'fold_2', 'StandardScaler', 'ML', 'KNeighborsRegressor']\n",
      "['France', 'Marseille', 3.3244216277103766, 4.616422352316466, 0.716239449875355, 9.781200936236703, 'fold_2', 'StandardScaler', 'ML', 'LinearRegression']\n",
      "['France', 'Marseille', 0.7458618721461187, 1.2547308687092753, 0.9790375465006627, 2.421280863931221, 'fold_2', 'StandardScaler', 'ML', 'DecisionTreeRegressor']\n",
      "['France', 'Marseille', 0.6239835426179617, 1.3753589197474285, 0.9774289466425661, 2.0241472735920323, 'fold_3', 'StandardScaler', 'ML', 'RandomForestRegressor']\n",
      "['France', 'Marseille', 2.8680079908675795, 4.036472707663314, 0.8055876851298014, 9.458819158352576, 'fold_3', 'StandardScaler', 'ML', 'KNeighborsRegressor']\n",
      "['France', 'Marseille', 2.7439975521010203, 3.518067583763831, 0.8523178225259322, 9.066305722052242, 'fold_3', 'StandardScaler', 'ML', 'LinearRegression']\n",
      "['France', 'Marseille', 0.8107876712328769, 1.8470326690032575, 0.9592930199168497, 2.8188511976832866, 'fold_3', 'StandardScaler', 'ML', 'DecisionTreeRegressor']\n",
      "['France', 'Marseille', 0.4718378995433781, 0.9017076063170786, 0.9852904351439753, 1.7444251789432141, 'fold_4', 'StandardScaler', 'ML', 'RandomForestRegressor']\n",
      "['France', 'Marseille', 2.729708904109589, 3.501972665165262, 0.7781324115918467, 10.062051105032284, 'fold_4', 'StandardScaler', 'ML', 'KNeighborsRegressor']\n",
      "['France', 'Marseille', 2.5577390743536337, 3.111600133710153, 0.8248396025013385, 9.195423520763926, 'fold_4', 'StandardScaler', 'ML', 'LinearRegression']\n",
      "['France', 'Marseille', 0.6643835616438353, 1.1608834155133765, 0.9756193335556794, 2.5478428603166385, 'fold_4', 'StandardScaler', 'ML', 'DecisionTreeRegressor']\n",
      "['France', 'Marseille', 0.33263984018265064, 0.5991481576089476, 0.9881151929031462, 1.1859588696597654, 'fold_5', 'StandardScaler', 'ML', 'RandomForestRegressor']\n",
      "['France', 'Marseille', 2.6653538812785387, 3.334333326029588, 0.6319204350528387, 8.770944526093388, 'fold_5', 'StandardScaler', 'ML', 'KNeighborsRegressor']\n",
      "['France', 'Marseille', 2.8034314965550102, 3.3568070497681948, 0.6269419310597169, 9.273693363422266, 'fold_5', 'StandardScaler', 'ML', 'LinearRegression']\n",
      "['France', 'Marseille', 0.35816210045662095, 0.6987584799070483, 0.9838349198067964, 1.2821571243684269, 'fold_5', 'StandardScaler', 'ML', 'DecisionTreeRegressor']\n",
      "Milan\n"
     ]
    },
    {
     "name": "stderr",
     "output_type": "stream",
     "text": [
      "C:\\Users\\HP\\AppData\\Local\\Temp\\ipykernel_20712\\2764872612.py:10: SettingWithCopyWarning: \n",
      "A value is trying to be set on a copy of a slice from a DataFrame\n",
      "\n",
      "See the caveats in the documentation: https://pandas.pydata.org/pandas-docs/stable/user_guide/indexing.html#returning-a-view-versus-a-copy\n",
      "  city_df.drop(columns=['location',\n"
     ]
    },
    {
     "name": "stdout",
     "output_type": "stream",
     "text": [
      "['Italy', 'Milan', 0.7773103905953711, 1.313798816674223, 0.9956538865028077, 2.046458182429079, 'fold_1', 'StandardScaler', 'ML', 'RandomForestRegressor']\n",
      "['Italy', 'Milan', 5.907935153583616, 7.742683112489642, 0.8490523691609497, 13.153202228116227, 'fold_1', 'StandardScaler', 'ML', 'KNeighborsRegressor']\n",
      "['Italy', 'Milan', 3.0904856009587993, 3.821372136556731, 0.9632309849713621, 7.620757694983257, 'fold_1', 'StandardScaler', 'ML', 'LinearRegression']\n",
      "['Italy', 'Milan', 1.0794937428896472, 1.7079066588896807, 0.9926553417208247, 2.889651496628599, 'fold_1', 'StandardScaler', 'ML', 'DecisionTreeRegressor']\n",
      "['Italy', 'Milan', 0.5367361111111075, 0.9080439765575776, 0.9979269454355432, 1.4768813689739915, 'fold_2', 'StandardScaler', 'ML', 'RandomForestRegressor']\n",
      "['Italy', 'Milan', 5.505336757990869, 7.874525712928803, 0.8441001202117855, 10.767776141661734, 'fold_2', 'StandardScaler', 'ML', 'KNeighborsRegressor']\n",
      "['Italy', 'Milan', 3.1315448030899407, 4.056103216046289, 0.9586367204248075, 6.965403709380437, 'fold_2', 'StandardScaler', 'ML', 'LinearRegression']\n",
      "['Italy', 'Milan', 0.8644406392694067, 1.4473329405466722, 0.9947333572203387, 2.334331046015372, 'fold_2', 'StandardScaler', 'ML', 'DecisionTreeRegressor']\n",
      "['Italy', 'Milan', 0.5596142503805169, 0.9093299993863685, 0.9977754740207744, 1.9105468277867372, 'fold_3', 'StandardScaler', 'ML', 'RandomForestRegressor']\n",
      "['Italy', 'Milan', 5.418350456621004, 7.279915694369221, 0.8574237643905516, 14.941946059937724, 'fold_3', 'StandardScaler', 'ML', 'KNeighborsRegressor']\n",
      "['Italy', 'Milan', 2.6485179281405373, 3.1999875820833568, 0.9724519393748365, 6.854019636052682, 'fold_3', 'StandardScaler', 'ML', 'LinearRegression']\n",
      "['Italy', 'Milan', 0.8640125570776256, 1.4709520112002916, 0.9941790823818303, 2.830834642010025, 'fold_3', 'StandardScaler', 'ML', 'DecisionTreeRegressor']\n",
      "['Italy', 'Milan', 1.1044815449010772, 3.1142915112241, 0.9843418147276289, 2.1946468846418354, 'fold_4', 'StandardScaler', 'ML', 'RandomForestRegressor']\n",
      "['Italy', 'Milan', 7.413727168949772, 10.985002045043244, 0.8051846434324182, 15.030242805651014, 'fold_4', 'StandardScaler', 'ML', 'KNeighborsRegressor']\n",
      "['Italy', 'Milan', 3.190959940708906, 3.9010472885080536, 0.9754311214660023, 7.821608190513353, 'fold_4', 'StandardScaler', 'ML', 'LinearRegression']\n",
      "['Italy', 'Milan', 1.2168949771689495, 2.5833793632664546, 0.9892254466603811, 2.8411936507529356, 'fold_4', 'StandardScaler', 'ML', 'DecisionTreeRegressor']\n",
      "['Italy', 'Milan', 0.6876198630136979, 1.080054391322274, 0.997666567455209, 1.935966023515578, 'fold_5', 'StandardScaler', 'ML', 'RandomForestRegressor']\n",
      "['Italy', 'Milan', 5.977825342465752, 8.400366933734803, 0.8588436206467428, 12.48494217688162, 'fold_5', 'StandardScaler', 'ML', 'KNeighborsRegressor']\n",
      "['Italy', 'Milan', 3.442438647317611, 4.474901000656667, 0.9599436973079788, 9.666775469826325, 'fold_5', 'StandardScaler', 'ML', 'LinearRegression']\n",
      "['Italy', 'Milan', 0.9098173515981738, 1.3880272251024375, 0.9961461042210829, 2.67472053870648, 'fold_5', 'StandardScaler', 'ML', 'DecisionTreeRegressor']\n",
      "Moscow\n"
     ]
    },
    {
     "name": "stderr",
     "output_type": "stream",
     "text": [
      "C:\\Users\\HP\\AppData\\Local\\Temp\\ipykernel_20712\\2764872612.py:10: SettingWithCopyWarning: \n",
      "A value is trying to be set on a copy of a slice from a DataFrame\n",
      "\n",
      "See the caveats in the documentation: https://pandas.pydata.org/pandas-docs/stable/user_guide/indexing.html#returning-a-view-versus-a-copy\n",
      "  city_df.drop(columns=['location',\n"
     ]
    },
    {
     "name": "stdout",
     "output_type": "stream",
     "text": [
      "['Russia', 'Moscow', 0.37862722791051084, 2.4043168100620744, 0.985262640964696, 0.843285925642328, 'fold_1', 'StandardScaler', 'ML', 'RandomForestRegressor']\n",
      "['Russia', 'Moscow', 6.057650739476677, 8.095725477018199, 0.8329110136831732, 11.92045244870981, 'fold_1', 'StandardScaler', 'ML', 'KNeighborsRegressor']\n",
      "['Russia', 'Moscow', 0.696942497872909, 0.8981425785051174, 0.9979435088280684, 1.8974039409326644, 'fold_1', 'StandardScaler', 'ML', 'LinearRegression']\n",
      "['Russia', 'Moscow', 0.5051194539249145, 2.155993994931633, 0.9881496446885394, 1.276944959851035, 'fold_1', 'StandardScaler', 'ML', 'DecisionTreeRegressor']\n",
      "['Russia', 'Moscow', 0.4297702625570729, 0.8899039847039159, 0.9974142799236004, 1.622728957044515, 'fold_2', 'StandardScaler', 'ML', 'RandomForestRegressor']\n",
      "['Russia', 'Moscow', 5.150742009132421, 6.545422386962074, 0.8601151892234603, 14.114214183259758, 'fold_2', 'StandardScaler', 'ML', 'KNeighborsRegressor']\n",
      "['Russia', 'Moscow', 0.8589232668498715, 1.7946278439298105, 0.9894841590741753, 3.1895586465948735, 'fold_2', 'StandardScaler', 'ML', 'LinearRegression']\n",
      "['Russia', 'Moscow', 0.5913242009132417, 1.1652286473515943, 0.9955667980945619, 2.3053819584692388, 'fold_2', 'StandardScaler', 'ML', 'DecisionTreeRegressor']\n",
      "['Russia', 'Moscow', 0.23333904109589165, 0.6202804970320395, 0.9987867808938318, 0.848653389207995, 'fold_3', 'StandardScaler', 'ML', 'RandomForestRegressor']\n",
      "['Russia', 'Moscow', 5.267836757990868, 6.747424479752964, 0.8564381475754168, 12.472758860787161, 'fold_3', 'StandardScaler', 'ML', 'KNeighborsRegressor']\n",
      "['Russia', 'Moscow', 0.5540426688977952, 0.8856651181458267, 0.997526556072791, 1.6614628310725525, 'fold_3', 'StandardScaler', 'ML', 'LinearRegression']\n",
      "['Russia', 'Moscow', 0.31249999999999994, 0.9654355154016168, 0.997060932699366, 0.9891216329550877, 'fold_3', 'StandardScaler', 'ML', 'DecisionTreeRegressor']\n",
      "['Russia', 'Moscow', 0.24625380517503329, 0.5191102213137005, 0.9991985938501803, 0.9165394230358415, 'fold_4', 'StandardScaler', 'ML', 'RandomForestRegressor']\n",
      "['Russia', 'Moscow', 5.106678082191781, 6.447844185051558, 0.8763589802527103, 13.611838728393558, 'fold_4', 'StandardScaler', 'ML', 'KNeighborsRegressor']\n",
      "['Russia', 'Moscow', 0.506856385125602, 0.7013464409349749, 0.9985371536743188, 1.6005857924585678, 'fold_4', 'StandardScaler', 'ML', 'LinearRegression']\n",
      "['Russia', 'Moscow', 0.377140410958904, 0.7694437060752871, 0.9982392925032513, 1.3330634824190308, 'fold_4', 'StandardScaler', 'ML', 'DecisionTreeRegressor']\n",
      "['Russia', 'Moscow', 0.3464278919330288, 1.0171039097404133, 0.9971062906840589, 0.8196755051938701, 'fold_5', 'StandardScaler', 'ML', 'RandomForestRegressor']\n",
      "['Russia', 'Moscow', 5.654651826484018, 7.683070830582477, 0.8348821865339011, 11.435963913759716, 'fold_5', 'StandardScaler', 'ML', 'KNeighborsRegressor']\n",
      "['Russia', 'Moscow', 0.679989821015592, 0.980015794926902, 0.9973134779742877, 1.9089009269377832, 'fold_5', 'StandardScaler', 'ML', 'LinearRegression']\n",
      "['Russia', 'Moscow', 0.39711757990867563, 1.0713770984048068, 0.9967892316564676, 1.0174112229881311, 'fold_5', 'StandardScaler', 'ML', 'DecisionTreeRegressor']\n",
      "Munich\n"
     ]
    },
    {
     "name": "stderr",
     "output_type": "stream",
     "text": [
      "C:\\Users\\HP\\AppData\\Local\\Temp\\ipykernel_20712\\2764872612.py:10: SettingWithCopyWarning: \n",
      "A value is trying to be set on a copy of a slice from a DataFrame\n",
      "\n",
      "See the caveats in the documentation: https://pandas.pydata.org/pandas-docs/stable/user_guide/indexing.html#returning-a-view-versus-a-copy\n",
      "  city_df.drop(columns=['location',\n"
     ]
    },
    {
     "name": "stdout",
     "output_type": "stream",
     "text": [
      "['Germany', 'Munich', 0.9719368600682587, 1.7453420945215088, 0.9288509519509346, 3.4438123781419527, 'fold_1', 'StandardScaler', 'ML', 'RandomForestRegressor']\n",
      "['Germany', 'Munich', 2.433759954493743, 3.0928645769318845, 0.7765760238588639, 9.124957575431248, 'fold_1', 'StandardScaler', 'ML', 'KNeighborsRegressor']\n",
      "['Germany', 'Munich', 2.437298727000625, 4.193159674425857, 0.5893320896107556, 8.771115931777615, 'fold_1', 'StandardScaler', 'ML', 'LinearRegression']\n",
      "['Germany', 'Munich', 1.2677758816837315, 2.076748695462007, 0.8992660509184426, 4.796640562715822, 'fold_1', 'StandardScaler', 'ML', 'DecisionTreeRegressor']\n",
      "['Germany', 'Munich', 0.6948630136986305, 1.0695180414099623, 0.9806522064066511, 3.216718994982314, 'fold_2', 'StandardScaler', 'ML', 'RandomForestRegressor']\n",
      "['Germany', 'Munich', 2.6691780821917805, 4.016483469362863, 0.7271354080781148, 10.759920820474795, 'fold_2', 'StandardScaler', 'ML', 'KNeighborsRegressor']\n",
      "['Germany', 'Munich', 2.168829538016761, 2.713379701483187, 0.8754693201100854, 8.718459730351622, 'fold_2', 'StandardScaler', 'ML', 'LinearRegression']\n",
      "['Germany', 'Munich', 1.033961187214612, 1.587859278727525, 0.9573539081387711, 4.502063328719941, 'fold_2', 'StandardScaler', 'ML', 'DecisionTreeRegressor']\n",
      "['Germany', 'Munich', 0.6451950152207004, 0.9355192804931868, 0.9857285368154607, 3.0208860098823296, 'fold_3', 'StandardScaler', 'ML', 'RandomForestRegressor']\n",
      "['Germany', 'Munich', 2.7504566210045667, 3.884697751074, 0.7539193388775622, 11.558670775331874, 'fold_3', 'StandardScaler', 'ML', 'KNeighborsRegressor']\n",
      "['Germany', 'Munich', 2.27517291185832, 2.9256105585786707, 0.8604287249553908, 8.996959634223058, 'fold_3', 'StandardScaler', 'ML', 'LinearRegression']\n",
      "['Germany', 'Munich', 0.9658961187214613, 1.3900368638553124, 0.9684923761243396, 4.379557744577769, 'fold_3', 'StandardScaler', 'ML', 'DecisionTreeRegressor']\n",
      "['Germany', 'Munich', 0.7724167617960448, 1.199840146594904, 0.9793030975676883, 2.8242083236974156, 'fold_4', 'StandardScaler', 'ML', 'RandomForestRegressor']\n",
      "['Germany', 'Munich', 2.8480022831050227, 3.9052974866076604, 0.7807362600379665, 10.337823093860969, 'fold_4', 'StandardScaler', 'ML', 'KNeighborsRegressor']\n",
      "['Germany', 'Munich', 2.486865079019837, 3.1307948388914606, 0.8590815712415362, 9.712749563073892, 'fold_4', 'StandardScaler', 'ML', 'LinearRegression']\n",
      "['Germany', 'Munich', 1.0245433789954335, 1.6695465985556854, 0.9599266486708558, 3.743370712998781, 'fold_4', 'StandardScaler', 'ML', 'DecisionTreeRegressor']\n",
      "['Germany', 'Munich', 0.5065957952815837, 0.7753559311334857, 0.9921944308230158, 1.757333576673286, 'fold_5', 'StandardScaler', 'ML', 'RandomForestRegressor']\n",
      "['Germany', 'Munich', 3.1027111872146107, 4.401666691520611, 0.7484428552122637, 9.722759039424531, 'fold_5', 'StandardScaler', 'ML', 'KNeighborsRegressor']\n",
      "['Germany', 'Munich', 3.326537037079211, 4.341653208278289, 0.7552556852287857, 11.047769896782617, 'fold_5', 'StandardScaler', 'ML', 'LinearRegression']\n",
      "['Germany', 'Munich', 0.7455764840182646, 1.3611166926701945, 0.9759456807529671, 2.751168775266679, 'fold_5', 'StandardScaler', 'ML', 'DecisionTreeRegressor']\n",
      "Nice\n"
     ]
    },
    {
     "name": "stderr",
     "output_type": "stream",
     "text": [
      "C:\\Users\\HP\\AppData\\Local\\Temp\\ipykernel_20712\\2764872612.py:10: SettingWithCopyWarning: \n",
      "A value is trying to be set on a copy of a slice from a DataFrame\n",
      "\n",
      "See the caveats in the documentation: https://pandas.pydata.org/pandas-docs/stable/user_guide/indexing.html#returning-a-view-versus-a-copy\n",
      "  city_df.drop(columns=['location',\n"
     ]
    },
    {
     "name": "stdout",
     "output_type": "stream",
     "text": [
      "['France', 'Nice', 0.5231925483503956, 1.7127944265426693, 0.953422420352428, 1.3656445352740174, 'fold_1', 'StandardScaler', 'ML', 'RandomForestRegressor']\n",
      "['France', 'Nice', 2.877673492605233, 4.008595151324254, 0.7448762859723095, 9.11843329370493, 'fold_1', 'StandardScaler', 'ML', 'KNeighborsRegressor']\n",
      "['France', 'Nice', 1.9966368831957575, 3.514677872481626, 0.8038729530198364, 5.847868226958954, 'fold_1', 'StandardScaler', 'ML', 'LinearRegression']\n",
      "['France', 'Nice', 0.513509670079636, 1.5641823517911557, 0.9611544568643396, 1.5242702298255686, 'fold_1', 'StandardScaler', 'ML', 'DecisionTreeRegressor']\n",
      "['France', 'Nice', 0.44547945205479483, 0.9080808927469376, 0.986971192129384, 1.4695721252466756, 'fold_2', 'StandardScaler', 'ML', 'RandomForestRegressor']\n",
      "['France', 'Nice', 3.0101883561643836, 4.0513620295081045, 0.7406670433527355, 9.73744621957573, 'fold_2', 'StandardScaler', 'ML', 'KNeighborsRegressor']\n",
      "['France', 'Nice', 2.4880836076265176, 3.4308233630432627, 0.8140259614140126, 8.049025877171971, 'fold_2', 'StandardScaler', 'ML', 'LinearRegression']\n",
      "['France', 'Nice', 0.8443207762557082, 2.136224997359948, 0.927897621730662, 2.644879866387569, 'fold_2', 'StandardScaler', 'ML', 'DecisionTreeRegressor']\n",
      "['France', 'Nice', 0.4006321347031964, 1.022018508700171, 0.9734829789189893, 1.4526884294588394, 'fold_3', 'StandardScaler', 'ML', 'RandomForestRegressor']\n",
      "['France', 'Nice', 2.438013698630137, 3.1682249530486692, 0.7451766432121386, 9.170588752921281, 'fold_3', 'StandardScaler', 'ML', 'KNeighborsRegressor']\n",
      "['France', 'Nice', 1.9317256106902403, 2.585213016924599, 0.8303320236354842, 7.09074216256989, 'fold_3', 'StandardScaler', 'ML', 'LinearRegression']\n",
      "['France', 'Nice', 0.5222602739726026, 1.1686626761100587, 0.9653274677955407, 1.9593117276843652, 'fold_3', 'StandardScaler', 'ML', 'DecisionTreeRegressor']\n",
      "['France', 'Nice', 0.31336615296803494, 0.5789856655247322, 0.9948217386158186, 1.3139586789909528, 'fold_4', 'StandardScaler', 'ML', 'RandomForestRegressor']\n",
      "['France', 'Nice', 2.733761415525114, 3.264208455322995, 0.8354097457271813, 11.186127133502291, 'fold_4', 'StandardScaler', 'ML', 'KNeighborsRegressor']\n",
      "['France', 'Nice', 1.896500224111596, 2.3359354585310834, 0.9157111703677344, 7.300635774453874, 'fold_4', 'StandardScaler', 'ML', 'LinearRegression']\n",
      "['France', 'Nice', 0.4651826484018263, 1.043309207272078, 0.9831858690467142, 1.7626760677268853, 'fold_4', 'StandardScaler', 'ML', 'DecisionTreeRegressor']\n",
      "['France', 'Nice', 0.1842812975646846, 0.4309175240351817, 0.9948662031987673, 0.6153622604103867, 'fold_5', 'StandardScaler', 'ML', 'RandomForestRegressor']\n",
      "['France', 'Nice', 2.8876141552511414, 3.557497789895892, 0.6501034653258808, 9.700023734817693, 'fold_5', 'StandardScaler', 'ML', 'KNeighborsRegressor']\n",
      "['France', 'Nice', 2.165923525061359, 2.5731253044876445, 0.8169489455758839, 7.417397668805616, 'fold_5', 'StandardScaler', 'ML', 'LinearRegression']\n",
      "['France', 'Nice', 0.25656392694063923, 0.5332593056500793, 0.9921381048219304, 0.8807723644315651, 'fold_5', 'StandardScaler', 'ML', 'DecisionTreeRegressor']\n",
      "Nicosia\n"
     ]
    },
    {
     "name": "stderr",
     "output_type": "stream",
     "text": [
      "C:\\Users\\HP\\AppData\\Local\\Temp\\ipykernel_20712\\2764872612.py:10: SettingWithCopyWarning: \n",
      "A value is trying to be set on a copy of a slice from a DataFrame\n",
      "\n",
      "See the caveats in the documentation: https://pandas.pydata.org/pandas-docs/stable/user_guide/indexing.html#returning-a-view-versus-a-copy\n",
      "  city_df.drop(columns=['location',\n"
     ]
    },
    {
     "name": "stdout",
     "output_type": "stream",
     "text": [
      "['Cyprus', 'Nicosia', 0.46389931740614165, 0.9302193663818876, 0.9907627814099167, 1.1398576248889147, 'fold_1', 'StandardScaler', 'ML', 'RandomForestRegressor']\n",
      "['Cyprus', 'Nicosia', 3.055574516496018, 3.836960741065685, 0.8428388571323193, 7.90311735045286, 'fold_1', 'StandardScaler', 'ML', 'KNeighborsRegressor']\n",
      "['Cyprus', 'Nicosia', 4.235456505176869, 5.408331529097884, 0.6877538596293611, 10.622135020996847, 'fold_1', 'StandardScaler', 'ML', 'LinearRegression']\n",
      "['Cyprus', 'Nicosia', 0.6274175199089876, 1.4041852969330173, 0.9789515892782406, 1.534770829639661, 'fold_1', 'StandardScaler', 'ML', 'DecisionTreeRegressor']\n",
      "['Cyprus', 'Nicosia', 0.49934836377473224, 1.267461728976429, 0.9815796992326284, 1.328381240207604, 'fold_2', 'StandardScaler', 'ML', 'RandomForestRegressor']\n",
      "['Cyprus', 'Nicosia', 2.7218607305936073, 3.7951659802110895, 0.8348462054379268, 7.526997801133556, 'fold_2', 'StandardScaler', 'ML', 'KNeighborsRegressor']\n",
      "['Cyprus', 'Nicosia', 3.5021954663646055, 4.41579029468173, 0.7764143693430969, 9.238334984185835, 'fold_2', 'StandardScaler', 'ML', 'LinearRegression']\n",
      "['Cyprus', 'Nicosia', 0.6212899543378995, 1.4860382064366127, 0.9746786440358249, 1.6879516019519536, 'fold_2', 'StandardScaler', 'ML', 'DecisionTreeRegressor']\n",
      "['Cyprus', 'Nicosia', 0.3615734398782339, 0.7187903042214703, 0.9904377292931782, 1.005305793249555, 'fold_3', 'StandardScaler', 'ML', 'RandomForestRegressor']\n",
      "['Cyprus', 'Nicosia', 2.5433219178082185, 3.763352180530436, 0.7378762706565309, 7.149779062616155, 'fold_3', 'StandardScaler', 'ML', 'KNeighborsRegressor']\n",
      "['Cyprus', 'Nicosia', 2.7256022975734844, 3.359258054086803, 0.7911457351831885, 8.247265708202098, 'fold_3', 'StandardScaler', 'ML', 'LinearRegression']\n",
      "['Cyprus', 'Nicosia', 0.4820205479452054, 1.036442378723488, 0.9801186011215198, 1.4212046800496487, 'fold_3', 'StandardScaler', 'ML', 'DecisionTreeRegressor']\n",
      "['Cyprus', 'Nicosia', 0.34864012557078033, 0.6604596710967097, 0.9947946440515224, 1.0947609209444438, 'fold_4', 'StandardScaler', 'ML', 'RandomForestRegressor']\n",
      "['Cyprus', 'Nicosia', 3.132334474885844, 4.086904685305642, 0.800681852073041, 9.141300025808919, 'fold_4', 'StandardScaler', 'ML', 'KNeighborsRegressor']\n",
      "['Cyprus', 'Nicosia', 2.588761157196636, 3.2672268688008717, 0.8726155522938469, 7.562528608440605, 'fold_4', 'StandardScaler', 'ML', 'LinearRegression']\n",
      "['Cyprus', 'Nicosia', 0.5707762557077627, 1.0400329654651268, 0.9870922057274324, 1.779051414075776, 'fold_4', 'StandardScaler', 'ML', 'DecisionTreeRegressor']\n",
      "['Cyprus', 'Nicosia', 0.57919710806697, 1.6021089546816152, 0.9668922761892343, 1.3473951376337117, 'fold_5', 'StandardScaler', 'ML', 'RandomForestRegressor']\n",
      "['Cyprus', 'Nicosia', 2.4142694063926946, 3.215184303074978, 0.8666610675393849, 6.581479609689948, 'fold_5', 'StandardScaler', 'ML', 'KNeighborsRegressor']\n",
      "['Cyprus', 'Nicosia', 2.591939709377505, 3.4899805932073864, 0.8428945496832051, 7.205421845281551, 'fold_5', 'StandardScaler', 'ML', 'LinearRegression']\n",
      "['Cyprus', 'Nicosia', 0.7681221461187212, 1.9607955351125996, 0.9504082028884352, 1.8226403736985346, 'fold_5', 'StandardScaler', 'ML', 'DecisionTreeRegressor']\n",
      "Oslo\n"
     ]
    },
    {
     "name": "stderr",
     "output_type": "stream",
     "text": [
      "C:\\Users\\HP\\AppData\\Local\\Temp\\ipykernel_20712\\2764872612.py:10: SettingWithCopyWarning: \n",
      "A value is trying to be set on a copy of a slice from a DataFrame\n",
      "\n",
      "See the caveats in the documentation: https://pandas.pydata.org/pandas-docs/stable/user_guide/indexing.html#returning-a-view-versus-a-copy\n",
      "  city_df.drop(columns=['location',\n"
     ]
    },
    {
     "name": "stdout",
     "output_type": "stream",
     "text": [
      "['Norway', 'Oslo', 0.5189192263936255, 0.8296840390433723, 0.9863880383343219, 2.30398208935567, 'fold_1', 'StandardScaler', 'ML', 'RandomForestRegressor']\n",
      "['Norway', 'Oslo', 2.1440841865756544, 3.084833368168645, 0.8118264118315737, 8.817871352078587, 'fold_1', 'StandardScaler', 'ML', 'KNeighborsRegressor']\n",
      "['Norway', 'Oslo', 2.571446453342541, 3.187463301112706, 0.7990973650347979, 10.595901858020818, 'fold_1', 'StandardScaler', 'ML', 'LinearRegression']\n",
      "['Norway', 'Oslo', 0.6868600682593856, 1.1131794836236932, 0.9754966404099227, 3.099729548959983, 'fold_1', 'StandardScaler', 'ML', 'DecisionTreeRegressor']\n",
      "['Norway', 'Oslo', 0.3658775684931485, 0.747685600980943, 0.989519061772431, 1.5416463891584409, 'fold_2', 'StandardScaler', 'ML', 'RandomForestRegressor']\n",
      "['Norway', 'Oslo', 2.37568493150685, 3.1521252736030445, 0.81371878342683, 9.13861888702684, 'fold_2', 'StandardScaler', 'ML', 'KNeighborsRegressor']\n",
      "['Norway', 'Oslo', 2.342537389217369, 3.082215465197895, 0.8218900762542902, 8.924338890904787, 'fold_2', 'StandardScaler', 'ML', 'LinearRegression']\n",
      "['Norway', 'Oslo', 0.47502853881278534, 0.8669620204929211, 0.9859083362294456, 2.0310364104600764, 'fold_2', 'StandardScaler', 'ML', 'DecisionTreeRegressor']\n",
      "['Norway', 'Oslo', 0.5473934550989342, 0.8437026014553717, 0.9861162287285405, 2.621280136930241, 'fold_3', 'StandardScaler', 'ML', 'RandomForestRegressor']\n",
      "['Norway', 'Oslo', 2.533162100456621, 3.2422669532589112, 0.7949658446723115, 11.288120974087281, 'fold_3', 'StandardScaler', 'ML', 'KNeighborsRegressor']\n",
      "['Norway', 'Oslo', 2.093513521878056, 2.628416091211395, 0.8652536814772926, 9.136604095362483, 'fold_3', 'StandardScaler', 'ML', 'LinearRegression']\n",
      "['Norway', 'Oslo', 0.7385844748858447, 1.1873623047621844, 0.9725023747856877, 3.5549440986715553, 'fold_3', 'StandardScaler', 'ML', 'DecisionTreeRegressor']\n",
      "['Norway', 'Oslo', 0.5368773782343974, 0.8506350336086542, 0.9856342128956389, 2.835539797684792, 'fold_4', 'StandardScaler', 'ML', 'RandomForestRegressor']\n",
      "['Norway', 'Oslo', 2.289098173515982, 3.124665202765882, 0.8061571093509883, 10.97741407309438, 'fold_4', 'StandardScaler', 'ML', 'KNeighborsRegressor']\n",
      "['Norway', 'Oslo', 2.1880769134832514, 2.7952218842856538, 0.8448772586089028, 9.999919460388686, 'fold_4', 'StandardScaler', 'ML', 'LinearRegression']\n",
      "['Norway', 'Oslo', 0.7408675799086754, 1.2027702201315558, 0.9712784264978376, 3.824438865781087, 'fold_4', 'StandardScaler', 'ML', 'DecisionTreeRegressor']\n",
      "['Norway', 'Oslo', 0.48551560121765713, 0.846374234482848, 0.9749854720500224, 2.146801449528759, 'fold_5', 'StandardScaler', 'ML', 'RandomForestRegressor']\n",
      "['Norway', 'Oslo', 2.6309360730593605, 3.4627671418301884, 0.5812893384356814, 10.212067848402905, 'fold_5', 'StandardScaler', 'ML', 'KNeighborsRegressor']\n",
      "['Norway', 'Oslo', 2.3670576701384354, 2.9516801784699513, 0.6957671951200379, 9.59311345187348, 'fold_5', 'StandardScaler', 'ML', 'LinearRegression']\n",
      "['Norway', 'Oslo', 0.7455764840182648, 1.342503337495745, 0.9370641369990722, 3.2706986225897094, 'fold_5', 'StandardScaler', 'ML', 'DecisionTreeRegressor']\n",
      "Paris\n"
     ]
    },
    {
     "name": "stderr",
     "output_type": "stream",
     "text": [
      "C:\\Users\\HP\\AppData\\Local\\Temp\\ipykernel_20712\\2764872612.py:10: SettingWithCopyWarning: \n",
      "A value is trying to be set on a copy of a slice from a DataFrame\n",
      "\n",
      "See the caveats in the documentation: https://pandas.pydata.org/pandas-docs/stable/user_guide/indexing.html#returning-a-view-versus-a-copy\n",
      "  city_df.drop(columns=['location',\n"
     ]
    },
    {
     "name": "stdout",
     "output_type": "stream",
     "text": [
      "['France', 'Paris', 0.7369434963974222, 1.0465408394502997, 0.9910684515518577, 2.8409891993616645, 'fold_1', 'StandardScaler', 'ML', 'RandomForestRegressor']\n",
      "['France', 'Paris', 2.988993174061433, 4.090736045923926, 0.8635362465584688, 10.059423374865997, 'fold_1', 'StandardScaler', 'ML', 'KNeighborsRegressor']\n",
      "['France', 'Paris', 2.7249234396238537, 3.3727449325745233, 0.9072355884347462, 9.682711320543754, 'fold_1', 'StandardScaler', 'ML', 'LinearRegression']\n",
      "['France', 'Paris', 1.184869169510808, 1.7169946780080383, 0.975959012911658, 4.644735577541202, 'fold_1', 'StandardScaler', 'ML', 'DecisionTreeRegressor']\n",
      "['France', 'Paris', 0.6865967465753443, 0.9899778394319112, 0.9938836423513662, 2.58184806305526, 'fold_2', 'StandardScaler', 'ML', 'RandomForestRegressor']\n",
      "['France', 'Paris', 2.8158961187214606, 3.9739488010592035, 0.901443230124726, 8.881671952353502, 'fold_2', 'StandardScaler', 'ML', 'KNeighborsRegressor']\n",
      "['France', 'Paris', 2.564051875682474, 3.1364647076244014, 0.9386064514223376, 8.69020952993484, 'fold_2', 'StandardScaler', 'ML', 'LinearRegression']\n",
      "['France', 'Paris', 1.1479737442922375, 1.6992236089719541, 0.9819804893260029, 4.356122068083156, 'fold_2', 'StandardScaler', 'ML', 'DecisionTreeRegressor']\n",
      "['France', 'Paris', 0.7469948630136989, 1.1198761091956317, 0.9910036660704721, 3.17690659903995, 'fold_3', 'StandardScaler', 'ML', 'RandomForestRegressor']\n",
      "['France', 'Paris', 2.8381278538812795, 3.775682349854331, 0.8977374760563314, 10.327523207522898, 'fold_3', 'StandardScaler', 'ML', 'KNeighborsRegressor']\n",
      "['France', 'Paris', 2.428483985272146, 2.995096464786171, 0.935650194744446, 8.8936621946829, 'fold_3', 'StandardScaler', 'ML', 'LinearRegression']\n",
      "['France', 'Paris', 1.072060502283105, 1.5079401244577888, 0.9836885036712515, 4.454549967828184, 'fold_3', 'StandardScaler', 'ML', 'DecisionTreeRegressor']\n",
      "['France', 'Paris', 0.7514721270928482, 1.147602083747067, 0.9829578389912543, 3.057999113510894, 'fold_4', 'StandardScaler', 'ML', 'RandomForestRegressor']\n",
      "['France', 'Paris', 2.8828767123287675, 3.928231250962067, 0.8003192954048479, 10.853614364924253, 'fold_4', 'StandardScaler', 'ML', 'KNeighborsRegressor']\n",
      "['France', 'Paris', 2.50698236282576, 3.0997395045575833, 0.8756652847240853, 9.843416898368094, 'fold_4', 'StandardScaler', 'ML', 'LinearRegression']\n",
      "['France', 'Paris', 0.9888698630136986, 1.4895149783147699, 0.971290094875871, 3.9904873661884483, 'fold_4', 'StandardScaler', 'ML', 'DecisionTreeRegressor']\n",
      "['France', 'Paris', 0.6437913812785381, 1.0453214356058134, 0.9910964876194934, 2.4017422251633747, 'fold_5', 'StandardScaler', 'ML', 'RandomForestRegressor']\n",
      "['France', 'Paris', 3.274600456621004, 4.580600316333096, 0.8290352986531129, 10.64233595010578, 'fold_5', 'StandardScaler', 'ML', 'KNeighborsRegressor']\n",
      "['France', 'Paris', 2.6597933679805923, 3.28058202004096, 0.9123072973380845, 9.921479369860801, 'fold_5', 'StandardScaler', 'ML', 'LinearRegression']\n",
      "['France', 'Paris', 0.9797374429223745, 1.4717500894251656, 0.9823506060839978, 3.7722780393921838, 'fold_5', 'StandardScaler', 'ML', 'DecisionTreeRegressor']\n",
      "Poznan\n"
     ]
    },
    {
     "name": "stderr",
     "output_type": "stream",
     "text": [
      "C:\\Users\\HP\\AppData\\Local\\Temp\\ipykernel_20712\\2764872612.py:10: SettingWithCopyWarning: \n",
      "A value is trying to be set on a copy of a slice from a DataFrame\n",
      "\n",
      "See the caveats in the documentation: https://pandas.pydata.org/pandas-docs/stable/user_guide/indexing.html#returning-a-view-versus-a-copy\n",
      "  city_df.drop(columns=['location',\n"
     ]
    },
    {
     "name": "stdout",
     "output_type": "stream",
     "text": [
      "['Poland', 'Poznan', 0.7308722032612759, 1.1831850562766772, 0.9957304848430736, 2.3724335078228553, 'fold_1', 'StandardScaler', 'ML', 'RandomForestRegressor']\n",
      "['Poland', 'Poznan', 4.589988623435722, 6.396777087749164, 0.875205443579916, 12.077433645461767, 'fold_1', 'StandardScaler', 'ML', 'KNeighborsRegressor']\n",
      "['Poland', 'Poznan', 2.1860421304488553, 2.682749226390789, 0.9780500586287936, 7.007125354531489, 'fold_1', 'StandardScaler', 'ML', 'LinearRegression']\n",
      "['Poland', 'Poznan', 0.8499715585893063, 1.3376569723132719, 0.994542889810413, 2.940144312979431, 'fold_1', 'StandardScaler', 'ML', 'DecisionTreeRegressor']\n",
      "['Poland', 'Poznan', 0.4240938926940632, 0.6869057214560166, 0.9985478733616695, 1.482204223820097, 'fold_2', 'StandardScaler', 'ML', 'RandomForestRegressor']\n",
      "['Poland', 'Poznan', 4.085302511415525, 5.562399268836362, 0.9047786041746281, 11.965707305607877, 'fold_2', 'StandardScaler', 'ML', 'KNeighborsRegressor']\n",
      "['Poland', 'Poznan', 2.3803107900456895, 2.9282348496236112, 0.9736110545877277, 7.485478224322725, 'fold_2', 'StandardScaler', 'ML', 'LinearRegression']\n",
      "['Poland', 'Poznan', 0.5968892694063935, 0.9667125491000518, 0.9971238936734369, 2.1631878553532986, 'fold_2', 'StandardScaler', 'ML', 'DecisionTreeRegressor']\n",
      "['Poland', 'Poznan', 0.3914654680365329, 0.6512117858913646, 0.9984938029924453, 1.4466946717067335, 'fold_3', 'StandardScaler', 'ML', 'RandomForestRegressor']\n",
      "['Poland', 'Poznan', 4.782391552511415, 6.193583828541597, 0.8637547668226004, 13.278899002555308, 'fold_3', 'StandardScaler', 'ML', 'KNeighborsRegressor']\n",
      "['Poland', 'Poznan', 2.539699010184924, 3.1513346243731726, 0.9647283059443781, 6.887578658021296, 'fold_3', 'StandardScaler', 'ML', 'LinearRegression']\n",
      "['Poland', 'Poznan', 0.6462614155251141, 1.1244317226984721, 0.995509409477031, 2.361505572814825, 'fold_3', 'StandardScaler', 'ML', 'DecisionTreeRegressor']\n",
      "['Poland', 'Poznan', 0.5093069824961992, 0.8556250164455463, 0.9971512979878701, 1.7486760967283066, 'fold_4', 'StandardScaler', 'ML', 'RandomForestRegressor']\n",
      "['Poland', 'Poznan', 4.701826484018265, 6.656571587582366, 0.8275825218663764, 13.763851052524897, 'fold_4', 'StandardScaler', 'ML', 'KNeighborsRegressor']\n",
      "['Poland', 'Poznan', 2.579572990830454, 3.1614198994483873, 0.9611094182260785, 8.664783347444757, 'fold_4', 'StandardScaler', 'ML', 'LinearRegression']\n",
      "['Poland', 'Poznan', 0.6609589041095894, 1.0863093562626656, 0.9954081561097897, 2.215899239437714, 'fold_4', 'StandardScaler', 'ML', 'DecisionTreeRegressor']\n",
      "['Poland', 'Poznan', 0.44085331050228455, 0.8333134401164417, 0.9967330831364101, 1.3810112093802753, 'fold_5', 'StandardScaler', 'ML', 'RandomForestRegressor']\n",
      "['Poland', 'Poznan', 3.8244006849315073, 5.442780462315095, 0.8606320396515961, 10.380789086159695, 'fold_5', 'StandardScaler', 'ML', 'KNeighborsRegressor']\n",
      "['Poland', 'Poznan', 4.169890879939688, 5.280327410840236, 0.8688274340443338, 14.147404819153703, 'fold_5', 'StandardScaler', 'ML', 'LinearRegression']\n",
      "['Poland', 'Poznan', 0.7061929223744293, 1.3711006526216392, 0.9911557708792194, 2.138684520661049, 'fold_5', 'StandardScaler', 'ML', 'DecisionTreeRegressor']\n",
      "Prague\n"
     ]
    },
    {
     "name": "stderr",
     "output_type": "stream",
     "text": [
      "C:\\Users\\HP\\AppData\\Local\\Temp\\ipykernel_20712\\2764872612.py:10: SettingWithCopyWarning: \n",
      "A value is trying to be set on a copy of a slice from a DataFrame\n",
      "\n",
      "See the caveats in the documentation: https://pandas.pydata.org/pandas-docs/stable/user_guide/indexing.html#returning-a-view-versus-a-copy\n",
      "  city_df.drop(columns=['location',\n"
     ]
    },
    {
     "name": "stdout",
     "output_type": "stream",
     "text": [
      "['Czech Republic', 'Prague', 0.6511945392491465, 0.9625987622803384, 0.9944321500895491, 2.4095240861155798, 'fold_1', 'StandardScaler', 'ML', 'RandomForestRegressor']\n",
      "['Czech Republic', 'Prague', 2.976877133105802, 4.10292249842258, 0.8988458863763731, 9.905465011149406, 'fold_1', 'StandardScaler', 'ML', 'KNeighborsRegressor']\n",
      "['Czech Republic', 'Prague', 2.7931355535605373, 3.6507936652534254, 0.9199112531243292, 9.281696377318124, 'fold_1', 'StandardScaler', 'ML', 'LinearRegression']\n",
      "['Czech Republic', 'Prague', 0.8448521046643914, 1.2339148038940393, 0.9908511339031463, 3.020673683545934, 'fold_1', 'StandardScaler', 'ML', 'DecisionTreeRegressor']\n",
      "['Czech Republic', 'Prague', 0.5145528919330267, 0.8972320005410501, 0.9950716280541599, 1.877861098439599, 'fold_2', 'StandardScaler', 'ML', 'RandomForestRegressor']\n",
      "['Czech Republic', 'Prague', 3.6282534246575335, 5.041148035515495, 0.8444203216976066, 10.406962913169556, 'fold_2', 'StandardScaler', 'ML', 'KNeighborsRegressor']\n",
      "['Czech Republic', 'Prague', 2.907034460173676, 3.4661027753221614, 0.9264509886062758, 9.296901834204158, 'fold_2', 'StandardScaler', 'ML', 'LinearRegression']\n",
      "['Czech Republic', 'Prague', 0.8052226027397261, 1.31814579004767, 0.9893629583138167, 2.832713834620077, 'fold_2', 'StandardScaler', 'ML', 'DecisionTreeRegressor']\n",
      "['Czech Republic', 'Prague', 0.4946356544901058, 0.7190648486131664, 0.9963416361566089, 1.9297098887394417, 'fold_3', 'StandardScaler', 'ML', 'RandomForestRegressor']\n",
      "['Czech Republic', 'Prague', 3.343892694063927, 4.532051790974267, 0.8546749413589071, 11.417913152681855, 'fold_3', 'StandardScaler', 'ML', 'KNeighborsRegressor']\n",
      "['Czech Republic', 'Prague', 2.3899718856927077, 3.0592776660472647, 0.933780092336767, 8.034122954440733, 'fold_3', 'StandardScaler', 'ML', 'LinearRegression']\n",
      "['Czech Republic', 'Prague', 0.7508561643835612, 1.2158774884712196, 0.9895400306028102, 2.888299411258882, 'fold_3', 'StandardScaler', 'ML', 'DecisionTreeRegressor']\n",
      "['Czech Republic', 'Prague', 0.5991286149162867, 0.9650520404445063, 0.9934707358053377, 2.1801968737652646, 'fold_4', 'StandardScaler', 'ML', 'RandomForestRegressor']\n",
      "['Czech Republic', 'Prague', 3.3893264840182646, 4.9195200585570245, 0.8303287549868857, 11.088551909393933, 'fold_4', 'StandardScaler', 'ML', 'KNeighborsRegressor']\n",
      "['Czech Republic', 'Prague', 3.282863181710925, 3.8195763650104437, 0.8977194228707187, 12.10811742876865, 'fold_4', 'StandardScaler', 'ML', 'LinearRegression']\n",
      "['Czech Republic', 'Prague', 0.7932363013698627, 1.2487698475057658, 0.989067296175469, 2.9484587863231324, 'fold_4', 'StandardScaler', 'ML', 'DecisionTreeRegressor']\n",
      "['Czech Republic', 'Prague', 0.43363299086757956, 0.6660200008493506, 0.9961736378724386, 1.5146773712781867, 'fold_5', 'StandardScaler', 'ML', 'RandomForestRegressor']\n",
      "['Czech Republic', 'Prague', 3.1773972602739726, 4.613647468156424, 0.8163883049174275, 9.755555135458536, 'fold_5', 'StandardScaler', 'ML', 'KNeighborsRegressor']\n",
      "['Czech Republic', 'Prague', 3.972556147989721, 4.829141662251828, 0.7988354650130322, 13.695680635890174, 'fold_5', 'StandardScaler', 'ML', 'LinearRegression']\n",
      "['Czech Republic', 'Prague', 0.576055936073059, 0.943505624463477, 0.9923210734518848, 1.9572192083830864, 'fold_5', 'StandardScaler', 'ML', 'DecisionTreeRegressor']\n",
      "Reykjavik Airport\n"
     ]
    },
    {
     "name": "stderr",
     "output_type": "stream",
     "text": [
      "C:\\Users\\HP\\AppData\\Local\\Temp\\ipykernel_20712\\2764872612.py:10: SettingWithCopyWarning: \n",
      "A value is trying to be set on a copy of a slice from a DataFrame\n",
      "\n",
      "See the caveats in the documentation: https://pandas.pydata.org/pandas-docs/stable/user_guide/indexing.html#returning-a-view-versus-a-copy\n",
      "  city_df.drop(columns=['location',\n"
     ]
    },
    {
     "name": "stdout",
     "output_type": "stream",
     "text": [
      "['Iceland', 'Reykjavik Airport', 0.22471795601061975, 1.0219329631607115, 0.9255966467630123, 0.8366742889165616, 'fold_1', 'StandardScaler', 'ML', 'RandomForestRegressor']\n",
      "['Iceland', 'Reykjavik Airport', 2.2741183162684866, 2.8245056718798796, 0.43162810381730765, 8.883789786654276, 'fold_1', 'StandardScaler', 'ML', 'KNeighborsRegressor']\n",
      "['Iceland', 'Reykjavik Airport', 0.32289792861492767, 0.8508816248854874, 0.9484194482716198, 1.2333947503013218, 'fold_1', 'StandardScaler', 'ML', 'LinearRegression']\n",
      "['Iceland', 'Reykjavik Airport', 0.130972696245734, 0.7266503387651145, 0.9623817443156474, 0.5065113857479417, 'fold_1', 'StandardScaler', 'ML', 'DecisionTreeRegressor']\n",
      "['Iceland', 'Reykjavik Airport', 0.10971033105022966, 1.112346998253807, 0.9488345991720231, 0.8505251124145969, 'fold_2', 'StandardScaler', 'ML', 'RandomForestRegressor']\n",
      "['Iceland', 'Reykjavik Airport', 1.7057648401826486, 2.2930669238047074, 0.7825650933815032, 6.797472349483161, 'fold_2', 'StandardScaler', 'ML', 'KNeighborsRegressor']\n",
      "['Iceland', 'Reykjavik Airport', 0.2815261351504091, 1.1936722572174152, 0.9410795565219252, 1.5273373325176622, 'fold_2', 'StandardScaler', 'ML', 'LinearRegression']\n",
      "['Iceland', 'Reykjavik Airport', 0.12856735159817387, 1.1367217636521378, 0.9465676646074781, 0.9229242311152139, 'fold_2', 'StandardScaler', 'ML', 'DecisionTreeRegressor']\n",
      "['Iceland', 'Reykjavik Airport', 0.19346794140030218, 0.6257222488973808, 0.9883015235469275, 0.8827793638292901, 'fold_3', 'StandardScaler', 'ML', 'RandomForestRegressor']\n",
      "['Iceland', 'Reykjavik Airport', 1.9189783105022833, 2.423440504608263, 0.8245187033719105, 7.8214171330210815, 'fold_3', 'StandardScaler', 'ML', 'KNeighborsRegressor']\n",
      "['Iceland', 'Reykjavik Airport', 0.23232412798994811, 0.3248954726997974, 0.9968460599828178, 0.9654174372179383, 'fold_3', 'StandardScaler', 'ML', 'LinearRegression']\n",
      "['Iceland', 'Reykjavik Airport', 0.24257990867579912, 1.2324973255688005, 0.9546123098571015, 1.0757748041571054, 'fold_3', 'StandardScaler', 'ML', 'DecisionTreeRegressor']\n",
      "['Iceland', 'Reykjavik Airport', 0.15443493150684973, 0.49168871052428464, 0.9885628543986561, 0.7396994563967825, 'fold_4', 'StandardScaler', 'ML', 'RandomForestRegressor']\n",
      "['Iceland', 'Reykjavik Airport', 1.7577625570776254, 2.244644607505394, 0.7616405606902225, 7.813217197145092, 'fold_4', 'StandardScaler', 'ML', 'KNeighborsRegressor']\n",
      "['Iceland', 'Reykjavik Airport', 0.28816567079789146, 0.4490247923778399, 0.99046154977069, 1.2751588701523373, 'fold_4', 'StandardScaler', 'ML', 'LinearRegression']\n",
      "['Iceland', 'Reykjavik Airport', 0.20448059360730597, 1.1475858329169628, 0.9376972046202411, 0.9512810315435595, 'fold_4', 'StandardScaler', 'ML', 'DecisionTreeRegressor']\n",
      "['Iceland', 'Reykjavik Airport', 0.08893455098934352, 0.33801838290019465, 0.9961408795628388, 0.4105024989515531, 'fold_5', 'StandardScaler', 'ML', 'RandomForestRegressor']\n",
      "['Iceland', 'Reykjavik Airport', 1.9734589041095891, 2.472333595904249, 0.7935466977774446, 7.896401683221417, 'fold_5', 'StandardScaler', 'ML', 'KNeighborsRegressor']\n",
      "['Iceland', 'Reykjavik Airport', 0.2882907692400309, 0.5453185860995362, 0.9899559632521673, 1.1659369543316331, 'fold_5', 'StandardScaler', 'ML', 'LinearRegression']\n",
      "['Iceland', 'Reykjavik Airport', 0.11800799086757992, 0.5446713729306016, 0.9899797907004488, 0.5630833905814188, 'fold_5', 'StandardScaler', 'ML', 'DecisionTreeRegressor']\n",
      "Rome\n"
     ]
    },
    {
     "name": "stderr",
     "output_type": "stream",
     "text": [
      "C:\\Users\\HP\\AppData\\Local\\Temp\\ipykernel_20712\\2764872612.py:10: SettingWithCopyWarning: \n",
      "A value is trying to be set on a copy of a slice from a DataFrame\n",
      "\n",
      "See the caveats in the documentation: https://pandas.pydata.org/pandas-docs/stable/user_guide/indexing.html#returning-a-view-versus-a-copy\n",
      "  city_df.drop(columns=['location',\n"
     ]
    },
    {
     "name": "stdout",
     "output_type": "stream",
     "text": [
      "['Italy', 'Rome', 0.8888120970800174, 1.3007366364334523, 0.9845046114288424, 2.8480506880059595, 'fold_1', 'StandardScaler', 'ML', 'RandomForestRegressor']\n",
      "['Italy', 'Rome', 3.4317406143344704, 4.774487903057554, 0.7912255633186127, 10.081897330737393, 'fold_1', 'StandardScaler', 'ML', 'KNeighborsRegressor']\n",
      "['Italy', 'Rome', 2.482917612167135, 3.033808416499865, 0.9157053465451496, 7.805639614285707, 'fold_1', 'StandardScaler', 'ML', 'LinearRegression']\n",
      "['Italy', 'Rome', 1.2883959044368598, 2.1608036319822927, 0.9572383624375065, 4.193573447745213, 'fold_1', 'StandardScaler', 'ML', 'DecisionTreeRegressor']\n",
      "['Italy', 'Rome', 0.648340943683409, 1.0438021897215695, 0.9819659428705548, 2.3389250328802498, 'fold_2', 'StandardScaler', 'ML', 'RandomForestRegressor']\n",
      "['Italy', 'Rome', 2.7290810502283103, 3.5916755064040644, 0.7864737760735238, 9.362548253202215, 'fold_2', 'StandardScaler', 'ML', 'KNeighborsRegressor']\n",
      "['Italy', 'Rome', 2.375165230100118, 2.988612511910915, 0.8521585359841657, 7.8456956173553305, 'fold_2', 'StandardScaler', 'ML', 'LinearRegression']\n",
      "['Italy', 'Rome', 0.9617579908675798, 1.6304170043479589, 0.9559998227288433, 3.5194279123953924, 'fold_2', 'StandardScaler', 'ML', 'DecisionTreeRegressor']\n",
      "['Italy', 'Rome', 0.5228372336377505, 0.7322026787119723, 0.9948417288585071, 2.15352829572787, 'fold_3', 'StandardScaler', 'ML', 'RandomForestRegressor']\n",
      "['Italy', 'Rome', 2.8803367579908676, 3.59408598952169, 0.8757150714163744, 10.56363826927334, 'fold_3', 'StandardScaler', 'ML', 'KNeighborsRegressor']\n",
      "['Italy', 'Rome', 2.461051796728606, 3.0128314723111833, 0.9126644179780004, 8.617588502744354, 'fold_3', 'StandardScaler', 'ML', 'LinearRegression']\n",
      "['Italy', 'Rome', 0.7283105022831051, 1.043582712694302, 0.9895215922916653, 2.9420995439100905, 'fold_3', 'StandardScaler', 'ML', 'DecisionTreeRegressor']\n",
      "['Italy', 'Rome', 0.9041290905631663, 1.7059607009223234, 0.9805556800950751, 2.9981568654327746, 'fold_4', 'StandardScaler', 'ML', 'RandomForestRegressor']\n",
      "['Italy', 'Rome', 3.282819634703197, 4.502749825734346, 0.8645402252763673, 10.003339115852135, 'fold_4', 'StandardScaler', 'ML', 'KNeighborsRegressor']\n",
      "['Italy', 'Rome', 3.2713316109854307, 3.826416995417798, 0.9021773763785367, 10.569309871828732, 'fold_4', 'StandardScaler', 'ML', 'LinearRegression']\n",
      "['Italy', 'Rome', 1.2198915525114156, 2.155244358283236, 0.9689652860578695, 3.957199440601089, 'fold_4', 'StandardScaler', 'ML', 'DecisionTreeRegressor']\n",
      "['Italy', 'Rome', 0.9131735159817357, 2.0019083012251166, 0.9571168516392886, 2.5828425722592754, 'fold_5', 'StandardScaler', 'ML', 'RandomForestRegressor']\n",
      "['Italy', 'Rome', 4.158818493150684, 5.648384863802634, 0.6586130915059912, 11.672846290492568, 'fold_5', 'StandardScaler', 'ML', 'KNeighborsRegressor']\n",
      "['Italy', 'Rome', 4.044565304751138, 5.197011468945147, 0.7109948032267877, 12.927582445037523, 'fold_5', 'StandardScaler', 'ML', 'LinearRegression']\n",
      "['Italy', 'Rome', 1.1132990867579906, 2.047142851547569, 0.9551570061109441, 3.3368149628260997, 'fold_5', 'StandardScaler', 'ML', 'DecisionTreeRegressor']\n",
      "Stockholm\n"
     ]
    },
    {
     "name": "stderr",
     "output_type": "stream",
     "text": [
      "C:\\Users\\HP\\AppData\\Local\\Temp\\ipykernel_20712\\2764872612.py:10: SettingWithCopyWarning: \n",
      "A value is trying to be set on a copy of a slice from a DataFrame\n",
      "\n",
      "See the caveats in the documentation: https://pandas.pydata.org/pandas-docs/stable/user_guide/indexing.html#returning-a-view-versus-a-copy\n",
      "  city_df.drop(columns=['location',\n"
     ]
    },
    {
     "name": "stdout",
     "output_type": "stream",
     "text": [
      "['Sewden', 'Stockholm', 0.5213035646568053, 0.9893671529034207, 0.9699189220071951, 2.2988423474079482, 'fold_1', 'StandardScaler', 'ML', 'RandomForestRegressor']\n",
      "['Sewden', 'Stockholm', 2.2446245733788395, 2.91010618421613, 0.7397467916597154, 10.295343754249833, 'fold_1', 'StandardScaler', 'ML', 'KNeighborsRegressor']\n",
      "['Sewden', 'Stockholm', 1.3094417842970634, 1.767446544863101, 0.9040000524222824, 5.76925620231451, 'fold_1', 'StandardScaler', 'ML', 'LinearRegression']\n",
      "['Sewden', 'Stockholm', 0.6860068259385668, 1.416060065539247, 0.9383771512806782, 2.975037950814416, 'fold_1', 'StandardScaler', 'ML', 'DecisionTreeRegressor']\n",
      "['Sewden', 'Stockholm', 0.7369140030441377, 2.813538838717664, 0.7844369759886947, 2.572023797841097, 'fold_2', 'StandardScaler', 'ML', 'RandomForestRegressor']\n",
      "['Sewden', 'Stockholm', 2.2175799086757984, 3.69366371455568, 0.6284791905435133, 8.738034855664683, 'fold_2', 'StandardScaler', 'ML', 'KNeighborsRegressor']\n",
      "['Sewden', 'Stockholm', 1.5223199316506653, 2.946175123164376, 0.7636337013898027, 6.029831227409874, 'fold_2', 'StandardScaler', 'ML', 'LinearRegression']\n",
      "['Sewden', 'Stockholm', 0.8458904109589038, 2.896047879769567, 0.7716085122390303, 3.178133345193369, 'fold_2', 'StandardScaler', 'ML', 'DecisionTreeRegressor']\n",
      "['Sewden', 'Stockholm', 0.4178486491628605, 0.7379750969861163, 0.9858557072708458, 2.0227121386870626, 'fold_3', 'StandardScaler', 'ML', 'RandomForestRegressor']\n",
      "['Sewden', 'Stockholm', 2.3748858447488583, 3.1395446911263916, 0.7440051894628879, 10.710910023725678, 'fold_3', 'StandardScaler', 'ML', 'KNeighborsRegressor']\n",
      "['Sewden', 'Stockholm', 1.3756626571933888, 1.9497725005545776, 0.9012662336822079, 6.31886552696087, 'fold_3', 'StandardScaler', 'ML', 'LinearRegression']\n",
      "['Sewden', 'Stockholm', 0.5937499999999998, 1.1584865909913886, 0.9651438155523175, 2.9575731239862377, 'fold_3', 'StandardScaler', 'ML', 'DecisionTreeRegressor']\n",
      "['Sewden', 'Stockholm', 0.3596180555555545, 0.6438223771232277, 0.9795382264614303, 1.9218617274817222, 'fold_4', 'StandardScaler', 'ML', 'RandomForestRegressor']\n",
      "['Sewden', 'Stockholm', 2.00550799086758, 2.4651608328641292, 0.7000135372137166, 10.263874400206463, 'fold_4', 'StandardScaler', 'ML', 'KNeighborsRegressor']\n",
      "['Sewden', 'Stockholm', 1.5098292887126044, 2.0262454337795366, 0.7973273072683831, 7.532464611553615, 'fold_4', 'StandardScaler', 'ML', 'LinearRegression']\n",
      "['Sewden', 'Stockholm', 0.5032819634703196, 1.0869413267831445, 0.9416792175195565, 2.554725559353908, 'fold_4', 'StandardScaler', 'ML', 'DecisionTreeRegressor']\n",
      "['Sewden', 'Stockholm', 0.29920424277016544, 0.6864272915840881, 0.9780748768550348, 1.3941686211152229, 'fold_5', 'StandardScaler', 'ML', 'RandomForestRegressor']\n",
      "['Sewden', 'Stockholm', 2.460644977168949, 2.991301562221563, 0.5836358271952149, 9.86522929313414, 'fold_5', 'StandardScaler', 'ML', 'KNeighborsRegressor']\n",
      "['Sewden', 'Stockholm', 1.5066520911870003, 1.78408305267989, 0.8518904397751765, 6.104607090092855, 'fold_5', 'StandardScaler', 'ML', 'LinearRegression']\n",
      "['Sewden', 'Stockholm', 0.3961187214611874, 1.0305975808569456, 0.9505767621040327, 1.917478589009684, 'fold_5', 'StandardScaler', 'ML', 'DecisionTreeRegressor']\n",
      "bern\n"
     ]
    },
    {
     "name": "stderr",
     "output_type": "stream",
     "text": [
      "C:\\Users\\HP\\AppData\\Local\\Temp\\ipykernel_20712\\2764872612.py:10: SettingWithCopyWarning: \n",
      "A value is trying to be set on a copy of a slice from a DataFrame\n",
      "\n",
      "See the caveats in the documentation: https://pandas.pydata.org/pandas-docs/stable/user_guide/indexing.html#returning-a-view-versus-a-copy\n",
      "  city_df.drop(columns=['location',\n"
     ]
    },
    {
     "name": "stdout",
     "output_type": "stream",
     "text": [
      "['Switzerland', 'bern', 0.4774454872961696, 0.836494886604886, 0.9860600524080333, 1.7822508302601459, 'fold_1', 'StandardScaler', 'ML', 'RandomForestRegressor']\n",
      "['Switzerland', 'bern', 2.7244880546075088, 3.410892516734137, 0.7682228446098724, 10.550210823996391, 'fold_1', 'StandardScaler', 'ML', 'KNeighborsRegressor']\n",
      "['Switzerland', 'bern', 2.412684064491519, 3.4355495660352484, 0.7648597382514594, 8.79542335780709, 'fold_1', 'StandardScaler', 'ML', 'LinearRegression']\n",
      "['Switzerland', 'bern', 0.6113481228668945, 1.0053746115723412, 0.9798632031912465, 2.354489320121369, 'fold_1', 'StandardScaler', 'ML', 'DecisionTreeRegressor']\n",
      "['Switzerland', 'bern', 0.43948439878234324, 0.7755775222255764, 0.9919198951292012, 1.6157869490791639, 'fold_2', 'StandardScaler', 'ML', 'RandomForestRegressor']\n",
      "['Switzerland', 'bern', 2.6405821917808208, 3.6020500489019462, 0.8257125742183561, 9.688769605625373, 'fold_2', 'StandardScaler', 'ML', 'KNeighborsRegressor']\n",
      "['Switzerland', 'bern', 2.6120605870894456, 3.2321643077840454, 0.8596690614080471, 9.5462510944581, 'fold_2', 'StandardScaler', 'ML', 'LinearRegression']\n",
      "['Switzerland', 'bern', 0.5850456621004564, 1.0852744288874383, 0.9841785708635321, 2.105318169595408, 'fold_2', 'StandardScaler', 'ML', 'DecisionTreeRegressor']\n",
      "['Switzerland', 'bern', 0.36472460045662025, 0.5832062185398801, 0.9949486781108471, 1.6382940557514238, 'fold_3', 'StandardScaler', 'ML', 'RandomForestRegressor']\n",
      "['Switzerland', 'bern', 2.520547945205479, 3.59824165899536, 0.8077167709160468, 10.02800677741281, 'fold_3', 'StandardScaler', 'ML', 'KNeighborsRegressor']\n",
      "['Switzerland', 'bern', 2.436048058825609, 2.987684797319881, 0.8674345633872944, 10.375088246874997, 'fold_3', 'StandardScaler', 'ML', 'LinearRegression']\n",
      "['Switzerland', 'bern', 0.5065639269406393, 0.8117569193068934, 0.990213830120343, 2.40482530058656, 'fold_3', 'StandardScaler', 'ML', 'DecisionTreeRegressor']\n",
      "['Switzerland', 'bern', 0.4569472983257227, 0.7855732549536029, 0.9893752105130449, 1.9201118682122535, 'fold_4', 'StandardScaler', 'ML', 'RandomForestRegressor']\n",
      "['Switzerland', 'bern', 2.45513698630137, 3.248110620459181, 0.8183612191411245, 10.381311060770622, 'fold_4', 'StandardScaler', 'ML', 'KNeighborsRegressor']\n",
      "['Switzerland', 'bern', 2.1516125499299217, 2.6459201957117346, 0.8794685343412068, 8.71295745373311, 'fold_4', 'StandardScaler', 'ML', 'LinearRegression']\n",
      "['Switzerland', 'bern', 0.6960616438356164, 1.1668908786509744, 0.976557309958298, 2.912652212670434, 'fold_4', 'StandardScaler', 'ML', 'DecisionTreeRegressor']\n",
      "['Switzerland', 'bern', 0.2439949581430732, 0.4198329145945558, 0.9957692771711847, 1.0145549247197183, 'fold_5', 'StandardScaler', 'ML', 'RandomForestRegressor']\n",
      "['Switzerland', 'bern', 2.424571917808219, 3.6524373325790336, 0.6797957054177381, 8.982348488432756, 'fold_5', 'StandardScaler', 'ML', 'KNeighborsRegressor']\n",
      "['Switzerland', 'bern', 2.553820180056813, 3.246362106794668, 0.7470378598721543, 9.773769744957598, 'fold_5', 'StandardScaler', 'ML', 'LinearRegression']\n",
      "['Switzerland', 'bern', 0.3671518264840182, 0.6437216914613324, 0.9900537838373998, 1.5450500422226308, 'fold_5', 'StandardScaler', 'ML', 'DecisionTreeRegressor']\n",
      "luxembourg findel airport\n"
     ]
    },
    {
     "name": "stderr",
     "output_type": "stream",
     "text": [
      "C:\\Users\\HP\\AppData\\Local\\Temp\\ipykernel_20712\\2764872612.py:10: SettingWithCopyWarning: \n",
      "A value is trying to be set on a copy of a slice from a DataFrame\n",
      "\n",
      "See the caveats in the documentation: https://pandas.pydata.org/pandas-docs/stable/user_guide/indexing.html#returning-a-view-versus-a-copy\n",
      "  city_df.drop(columns=['location',\n"
     ]
    },
    {
     "name": "stdout",
     "output_type": "stream",
     "text": [
      "['Luxembourg', 'luxembourg findel airport', 0.4461566173682207, 0.7251162219759576, 0.9903765601826975, 1.890471224166897, 'fold_1', 'StandardScaler', 'ML', 'RandomForestRegressor']\n",
      "['Luxembourg', 'luxembourg findel airport', 2.304436860068259, 2.9061356281090416, 0.8454222967827254, 9.759172867163628, 'fold_1', 'StandardScaler', 'ML', 'KNeighborsRegressor']\n",
      "['Luxembourg', 'luxembourg findel airport', 2.231078527417601, 3.2085503425599935, 0.8115774798601969, 8.61139595537255, 'fold_1', 'StandardScaler', 'ML', 'LinearRegression']\n",
      "['Luxembourg', 'luxembourg findel airport', 0.6217292377701935, 1.093020268242093, 0.9781338902733762, 2.588349221192391, 'fold_1', 'StandardScaler', 'ML', 'DecisionTreeRegressor']\n",
      "['Luxembourg', 'luxembourg findel airport', 0.4268902207001501, 0.6778506151874606, 0.9926427075169914, 1.7776247092551334, 'fold_2', 'StandardScaler', 'ML', 'RandomForestRegressor']\n",
      "['Luxembourg', 'luxembourg findel airport', 2.810416666666667, 4.175311893079379, 0.7208562699647845, 11.07337812073816, 'fold_2', 'StandardScaler', 'ML', 'KNeighborsRegressor']\n",
      "['Luxembourg', 'luxembourg findel airport', 2.1488355102595493, 2.645916978586983, 0.887900814107994, 8.347424479665571, 'fold_2', 'StandardScaler', 'ML', 'LinearRegression']\n",
      "['Luxembourg', 'luxembourg findel airport', 0.5917522831050229, 0.904676539107188, 0.9868950101709697, 2.4892666604887403, 'fold_2', 'StandardScaler', 'ML', 'DecisionTreeRegressor']\n",
      "['Luxembourg', 'luxembourg findel airport', 0.40852121385083884, 0.7213472887799971, 0.9921430534968504, 1.8701712055993667, 'fold_3', 'StandardScaler', 'ML', 'RandomForestRegressor']\n",
      "['Luxembourg', 'luxembourg findel airport', 2.2873287671232876, 3.0751875460991664, 0.8572065775423602, 9.696562523665635, 'fold_3', 'StandardScaler', 'ML', 'KNeighborsRegressor']\n",
      "['Luxembourg', 'luxembourg findel airport', 2.1266928087493446, 2.914432990235881, 0.8717453449100157, 8.399449015734774, 'fold_3', 'StandardScaler', 'ML', 'LinearRegression']\n",
      "['Luxembourg', 'luxembourg findel airport', 0.5914668949771686, 1.0268032037611616, 0.9840801336078782, 2.794314344664658, 'fold_3', 'StandardScaler', 'ML', 'DecisionTreeRegressor']\n",
      "['Luxembourg', 'luxembourg findel airport', 0.43674229452054764, 0.7659160777478781, 0.9888827600745459, 1.8987175874889752, 'fold_4', 'StandardScaler', 'ML', 'RandomForestRegressor']\n",
      "['Luxembourg', 'luxembourg findel airport', 2.301398401826484, 3.075228340694798, 0.8207788156511703, 9.63031625554315, 'fold_4', 'StandardScaler', 'ML', 'KNeighborsRegressor']\n",
      "['Luxembourg', 'luxembourg findel airport', 2.3056893153210063, 2.79537520842739, 0.8519137196611565, 10.107480366322157, 'fold_4', 'StandardScaler', 'ML', 'LinearRegression']\n",
      "['Luxembourg', 'luxembourg findel airport', 0.561929223744292, 0.9685528166288585, 0.9822220687229409, 2.49908717112862, 'fold_4', 'StandardScaler', 'ML', 'DecisionTreeRegressor']\n",
      "['Luxembourg', 'luxembourg findel airport', 0.3540834284627084, 0.6698688348795888, 0.9920625440359317, 1.3321410326827439, 'fold_5', 'StandardScaler', 'ML', 'RandomForestRegressor']\n",
      "['Luxembourg', 'luxembourg findel airport', 2.7573915525114145, 3.8521815818439444, 0.7375084763977863, 10.02580371221385, 'fold_5', 'StandardScaler', 'ML', 'KNeighborsRegressor']\n",
      "['Luxembourg', 'luxembourg findel airport', 2.613781189446814, 3.529866329536176, 0.7795965937421665, 9.515029285031986, 'fold_5', 'StandardScaler', 'ML', 'LinearRegression']\n",
      "['Luxembourg', 'luxembourg findel airport', 0.5142694063926939, 0.9651275437987906, 0.983523263247342, 1.946814702045289, 'fold_5', 'StandardScaler', 'ML', 'DecisionTreeRegressor']\n"
     ]
    }
   ],
   "source": [
    "cv = 5\n",
    "summary_value = []\n",
    "detail_value = []\n",
    "\n",
    "for city_ in df['location'].unique():\n",
    "    city_df = df[df['location'] == city_]\n",
    "    country_ = city_df['country'].unique()[0]\n",
    "    \n",
    "    print(city_)\n",
    "    city_df.drop(columns=['location', \n",
    "                          'country', \n",
    "                          'latitude', \n",
    "                          'longitude', \n",
    "                          'generationtime_ms',\n",
    "                          'elevation',\n",
    "                          'Date'\n",
    "                         ],inplace=True)\n",
    "    \n",
    "    target_col = list(city_df)[-1]\n",
    "    \n",
    "    X_train_list, X_test_list, y_train_list, y_test_list, date_train_list, date_test_list = get_k_fold_operation_data(city_df, cv)\n",
    "    \n",
    "    k_fold = 1\n",
    "    \n",
    "    mae_list = []\n",
    "    rmse_list = []\n",
    "    r_2_list = []\n",
    "    mape_list = []\n",
    "    \n",
    "    for X_train, X_test, y_train, y_test, date_train, date_test in zip(X_train_list, X_test_list, y_train_list, y_test_list, date_train_list, date_test_list):\n",
    "        for _preprocessing_name in ['StandardScaler']: #'RobustScaler', 'MinMaxScaler' , 'StandardScaler'\n",
    "            for method_name in ['ML']: # \n",
    "                for model_name, _ in model_dict.items():\n",
    "                    \n",
    "                    model_object = model_dict[model_name]\n",
    "                \n",
    "                    res = []\n",
    "                    mae, rmse, r_2, mape, y_pred = GBR(X_train, X_test, y_train, y_test, _preprocessing_name, model_object)\n",
    "                    \n",
    "                    res.append(country_)\n",
    "                    res.append(city_)\n",
    "                    res.append(mae)\n",
    "                    res.append(rmse)\n",
    "                    res.append(r_2)\n",
    "                    res.append(mape)\n",
    "                    res.append('fold_' + str(k_fold))\n",
    "                    res.append(_preprocessing_name)\n",
    "                    res.append(method_name)\n",
    "                    res.append(model_name)\n",
    "                    print(res)\n",
    "\n",
    "                    full_output = pd.DataFrame({\n",
    "                        'actual_value' : y_test,\n",
    "                        'predict_value' : y_pred,\n",
    "                        'Fold_number' : ['fold_' + str(k_fold)] * len(y_test),\n",
    "                        'date' : date_test\n",
    "                    })\n",
    "                    full_output['city'] = city_\n",
    "                    full_output['country'] = country_\n",
    "                    full_output['pre-processing name'] = _preprocessing_name\n",
    "                    full_output['method'] = method_name\n",
    "                    full_output['model_name'] = model_name\n",
    "\n",
    "                    summary_value.append(res)\n",
    "                    detail_value.append(full_output)\n",
    "\n",
    "        k_fold = k_fold + 1\n",
    "        \n",
    "        "
   ]
  },
  {
   "cell_type": "code",
   "execution_count": null,
   "id": "0374a64c",
   "metadata": {},
   "outputs": [],
   "source": []
  },
  {
   "cell_type": "code",
   "execution_count": 56,
   "id": "12c83643",
   "metadata": {},
   "outputs": [],
   "source": [
    "summary_df = pd.DataFrame(summary_value,columns=['Country','City','MAE','RMSE','R2','MAPE','K_Fold','pre-processing name','method','model_name'])\n",
    "detail_df = pd.concat(detail_value)\n",
    "summary_df.to_csv('../_output/AQI_ML_Summary_result.csv',index=False)\n",
    "detail_df.to_csv('../_output/AQI_ML_Detail_result.csv',index=False)"
   ]
  },
  {
   "cell_type": "code",
   "execution_count": null,
   "id": "481e3d5b",
   "metadata": {},
   "outputs": [],
   "source": []
  },
  {
   "cell_type": "code",
   "execution_count": null,
   "id": "e3d1ddaa",
   "metadata": {},
   "outputs": [],
   "source": []
  },
  {
   "cell_type": "code",
   "execution_count": null,
   "id": "3accb42e",
   "metadata": {},
   "outputs": [],
   "source": []
  },
  {
   "cell_type": "code",
   "execution_count": null,
   "id": "69e43ea7",
   "metadata": {},
   "outputs": [],
   "source": []
  },
  {
   "cell_type": "code",
   "execution_count": 57,
   "id": "5ec6d4f5",
   "metadata": {},
   "outputs": [
    {
     "name": "stdout",
     "output_type": "stream",
     "text": [
      "Amsterdam\n"
     ]
    },
    {
     "name": "stderr",
     "output_type": "stream",
     "text": [
      "C:\\Users\\HP\\AppData\\Local\\Temp\\ipykernel_20712\\1398935978.py:9: SettingWithCopyWarning: \n",
      "A value is trying to be set on a copy of a slice from a DataFrame\n",
      "\n",
      "See the caveats in the documentation: https://pandas.pydata.org/pandas-docs/stable/user_guide/indexing.html#returning-a-view-versus-a-copy\n",
      "  city_df.drop(columns=['location','country','latitude','longitude','generationtime_ms','elevation','Date'],inplace=True)\n"
     ]
    },
    {
     "name": "stdout",
     "output_type": "stream",
     "text": [
      "\u001b[1m10/10\u001b[0m \u001b[32m━━━━━━━━━━━━━━━━━━━━\u001b[0m\u001b[37m\u001b[0m \u001b[1m0s\u001b[0m 5ms/step \n",
      "['Netherlands', 'Amsterdam', 1.8209370449270137, 2.4580000442427754, 0.9120477816797461, 7.629899198519972, 'fold_1', 'StandardScaler', 'NN']\n",
      "\u001b[1m10/10\u001b[0m \u001b[32m━━━━━━━━━━━━━━━━━━━━\u001b[0m\u001b[37m\u001b[0m \u001b[1m0s\u001b[0m 4ms/step \n",
      "['Netherlands', 'Amsterdam', 1.8137539750364815, 2.365208018763634, 0.943925089402315, 7.605094789016851, 'fold_2', 'StandardScaler', 'NN']\n",
      "\u001b[1m10/10\u001b[0m \u001b[32m━━━━━━━━━━━━━━━━━━━━\u001b[0m\u001b[37m\u001b[0m \u001b[1m0s\u001b[0m 4ms/step \n",
      "['Netherlands', 'Amsterdam', 2.0303707079255955, 2.5618734234031986, 0.9172087443063344, 8.52605276150571, 'fold_3', 'StandardScaler', 'NN']\n",
      "\u001b[1m10/10\u001b[0m \u001b[32m━━━━━━━━━━━━━━━━━━━━\u001b[0m\u001b[37m\u001b[0m \u001b[1m0s\u001b[0m 4ms/step \n",
      "['Netherlands', 'Amsterdam', 1.87775486136136, 2.3709675911058063, 0.892704521845879, 8.304005059576598, 'fold_4', 'StandardScaler', 'NN']\n",
      "\u001b[1m10/10\u001b[0m \u001b[32m━━━━━━━━━━━━━━━━━━━━\u001b[0m\u001b[37m\u001b[0m \u001b[1m0s\u001b[0m 4ms/step \n",
      "['Netherlands', 'Amsterdam', 2.4252667492383155, 2.9034864249722974, 0.8921615402419705, 9.517930910390241, 'fold_5', 'StandardScaler', 'NN']\n",
      "Athens\n"
     ]
    },
    {
     "name": "stderr",
     "output_type": "stream",
     "text": [
      "C:\\Users\\HP\\AppData\\Local\\Temp\\ipykernel_20712\\1398935978.py:9: SettingWithCopyWarning: \n",
      "A value is trying to be set on a copy of a slice from a DataFrame\n",
      "\n",
      "See the caveats in the documentation: https://pandas.pydata.org/pandas-docs/stable/user_guide/indexing.html#returning-a-view-versus-a-copy\n",
      "  city_df.drop(columns=['location','country','latitude','longitude','generationtime_ms','elevation','Date'],inplace=True)\n"
     ]
    },
    {
     "name": "stdout",
     "output_type": "stream",
     "text": [
      "\u001b[1m10/10\u001b[0m \u001b[32m━━━━━━━━━━━━━━━━━━━━\u001b[0m\u001b[37m\u001b[0m \u001b[1m0s\u001b[0m 5ms/step \n",
      "['Greece', 'Athens', 2.12461917907576, 2.7707713259002595, 0.9273594279495038, 5.638936172236034, 'fold_1', 'StandardScaler', 'NN']\n",
      "\u001b[1m10/10\u001b[0m \u001b[32m━━━━━━━━━━━━━━━━━━━━\u001b[0m\u001b[37m\u001b[0m \u001b[1m0s\u001b[0m 5ms/step \n",
      "['Greece', 'Athens', 2.251209522491177, 2.8000049527225874, 0.8996353180309229, 6.831373159780204, 'fold_2', 'StandardScaler', 'NN']\n",
      "\u001b[1m10/10\u001b[0m \u001b[32m━━━━━━━━━━━━━━━━━━━━\u001b[0m\u001b[37m\u001b[0m \u001b[1m0s\u001b[0m 5ms/step \n",
      "['Greece', 'Athens', 3.1702170567969747, 5.933593742158973, 0.637553919014831, 10.170743679309732, 'fold_3', 'StandardScaler', 'NN']\n",
      "\u001b[1m10/10\u001b[0m \u001b[32m━━━━━━━━━━━━━━━━━━━━\u001b[0m\u001b[37m\u001b[0m \u001b[1m0s\u001b[0m 4ms/step \n",
      "['Greece', 'Athens', 2.8351752616499115, 3.5672119654390926, 0.8204901744445623, 8.849871085320347, 'fold_4', 'StandardScaler', 'NN']\n",
      "\u001b[1m10/10\u001b[0m \u001b[32m━━━━━━━━━━━━━━━━━━━━\u001b[0m\u001b[37m\u001b[0m \u001b[1m0s\u001b[0m 5ms/step \n",
      "['Greece', 'Athens', 3.3289201161632804, 3.9667168703366174, 0.838993252926268, 10.49560545950073, 'fold_5', 'StandardScaler', 'NN']\n",
      "Barcelona\n"
     ]
    },
    {
     "name": "stderr",
     "output_type": "stream",
     "text": [
      "C:\\Users\\HP\\AppData\\Local\\Temp\\ipykernel_20712\\1398935978.py:9: SettingWithCopyWarning: \n",
      "A value is trying to be set on a copy of a slice from a DataFrame\n",
      "\n",
      "See the caveats in the documentation: https://pandas.pydata.org/pandas-docs/stable/user_guide/indexing.html#returning-a-view-versus-a-copy\n",
      "  city_df.drop(columns=['location','country','latitude','longitude','generationtime_ms','elevation','Date'],inplace=True)\n"
     ]
    },
    {
     "name": "stdout",
     "output_type": "stream",
     "text": [
      "\u001b[1m10/10\u001b[0m \u001b[32m━━━━━━━━━━━━━━━━━━━━\u001b[0m\u001b[37m\u001b[0m \u001b[1m0s\u001b[0m 5ms/step \n",
      "['Spain', 'Barcelona', 1.9948762995662412, 2.516498250343578, 0.9186020028685651, 6.694064600258365, 'fold_1', 'StandardScaler', 'NN']\n",
      "\u001b[1m10/10\u001b[0m \u001b[32m━━━━━━━━━━━━━━━━━━━━\u001b[0m\u001b[37m\u001b[0m \u001b[1m0s\u001b[0m 5ms/step \n",
      "['Spain', 'Barcelona', 1.688941102049666, 2.213717833044803, 0.9621277505099691, 5.275285425073801, 'fold_2', 'StandardScaler', 'NN']\n",
      "\u001b[1m10/10\u001b[0m \u001b[32m━━━━━━━━━━━━━━━━━━━━\u001b[0m\u001b[37m\u001b[0m \u001b[1m0s\u001b[0m 5ms/step \n",
      "['Spain', 'Barcelona', 2.352654169683586, 5.836244954548313, 0.7877558565602398, 7.718949909887966, 'fold_3', 'StandardScaler', 'NN']\n",
      "\u001b[1m10/10\u001b[0m \u001b[32m━━━━━━━━━━━━━━━━━━━━\u001b[0m\u001b[37m\u001b[0m \u001b[1m0s\u001b[0m 5ms/step \n",
      "['Spain', 'Barcelona', 3.237645105684184, 3.9525595631173114, 0.9089258995727594, 10.552468301172619, 'fold_4', 'StandardScaler', 'NN']\n",
      "\u001b[1m10/10\u001b[0m \u001b[32m━━━━━━━━━━━━━━━━━━━━\u001b[0m\u001b[37m\u001b[0m \u001b[1m0s\u001b[0m 5ms/step \n",
      "['Spain', 'Barcelona', 4.972949311069159, 5.875303788476088, 0.5983690104433657, 16.296348955343912, 'fold_5', 'StandardScaler', 'NN']\n",
      "Berlin\n"
     ]
    },
    {
     "name": "stderr",
     "output_type": "stream",
     "text": [
      "C:\\Users\\HP\\AppData\\Local\\Temp\\ipykernel_20712\\1398935978.py:9: SettingWithCopyWarning: \n",
      "A value is trying to be set on a copy of a slice from a DataFrame\n",
      "\n",
      "See the caveats in the documentation: https://pandas.pydata.org/pandas-docs/stable/user_guide/indexing.html#returning-a-view-versus-a-copy\n",
      "  city_df.drop(columns=['location','country','latitude','longitude','generationtime_ms','elevation','Date'],inplace=True)\n"
     ]
    },
    {
     "name": "stdout",
     "output_type": "stream",
     "text": [
      "\u001b[1m10/10\u001b[0m \u001b[32m━━━━━━━━━━━━━━━━━━━━\u001b[0m\u001b[37m\u001b[0m \u001b[1m0s\u001b[0m 5ms/step \n",
      "['Germany', 'Berlin', 2.082017220463498, 3.0984346932857747, 0.8988326084258591, 7.724230031419752, 'fold_1', 'StandardScaler', 'NN']\n",
      "\u001b[1m10/10\u001b[0m \u001b[32m━━━━━━━━━━━━━━━━━━━━\u001b[0m\u001b[37m\u001b[0m \u001b[1m0s\u001b[0m 5ms/step \n",
      "['Germany', 'Berlin', 1.5114962151061455, 1.8768830354838617, 0.969336656597176, 5.757953637154228, 'fold_2', 'StandardScaler', 'NN']\n",
      "\u001b[1m10/10\u001b[0m \u001b[32m━━━━━━━━━━━━━━━━━━━━\u001b[0m\u001b[37m\u001b[0m \u001b[1m0s\u001b[0m 5ms/step \n",
      "['Germany', 'Berlin', 2.1694158625929316, 2.6984029491937926, 0.9402124763519993, 8.614486040644737, 'fold_3', 'StandardScaler', 'NN']\n",
      "\u001b[1m10/10\u001b[0m \u001b[32m━━━━━━━━━━━━━━━━━━━━\u001b[0m\u001b[37m\u001b[0m \u001b[1m0s\u001b[0m 5ms/step \n",
      "['Germany', 'Berlin', 1.8435530510122915, 2.3771894620444196, 0.9070474127636821, 8.118241519112274, 'fold_4', 'StandardScaler', 'NN']\n",
      "\u001b[1m10/10\u001b[0m \u001b[32m━━━━━━━━━━━━━━━━━━━━\u001b[0m\u001b[37m\u001b[0m \u001b[1m0s\u001b[0m 5ms/step \n",
      "['Germany', 'Berlin', 2.1816553459864236, 2.6201745314368674, 0.8927071913234648, 8.672408300153675, 'fold_5', 'StandardScaler', 'NN']\n",
      "Bruges\n"
     ]
    },
    {
     "name": "stderr",
     "output_type": "stream",
     "text": [
      "C:\\Users\\HP\\AppData\\Local\\Temp\\ipykernel_20712\\1398935978.py:9: SettingWithCopyWarning: \n",
      "A value is trying to be set on a copy of a slice from a DataFrame\n",
      "\n",
      "See the caveats in the documentation: https://pandas.pydata.org/pandas-docs/stable/user_guide/indexing.html#returning-a-view-versus-a-copy\n",
      "  city_df.drop(columns=['location','country','latitude','longitude','generationtime_ms','elevation','Date'],inplace=True)\n"
     ]
    },
    {
     "name": "stdout",
     "output_type": "stream",
     "text": [
      "\u001b[1m10/10\u001b[0m \u001b[32m━━━━━━━━━━━━━━━━━━━━\u001b[0m\u001b[37m\u001b[0m \u001b[1m0s\u001b[0m 5ms/step \n",
      "['Belgium', 'Bruges', 2.266142585849871, 2.925557843012593, 0.9101936319074995, 8.815755659744639, 'fold_1', 'StandardScaler', 'NN']\n",
      "\u001b[1m10/10\u001b[0m \u001b[32m━━━━━━━━━━━━━━━━━━━━\u001b[0m\u001b[37m\u001b[0m \u001b[1m0s\u001b[0m 5ms/step \n",
      "['Belgium', 'Bruges', 1.981584629511724, 2.5554223220210925, 0.9531026760791051, 7.399401773170466, 'fold_2', 'StandardScaler', 'NN']\n",
      "\u001b[1m10/10\u001b[0m \u001b[32m━━━━━━━━━━━━━━━━━━━━\u001b[0m\u001b[37m\u001b[0m \u001b[1m0s\u001b[0m 5ms/step \n",
      "['Belgium', 'Bruges', 1.730328938732408, 2.289313342567209, 0.9556739723634322, 6.71814380209359, 'fold_3', 'StandardScaler', 'NN']\n",
      "\u001b[1m10/10\u001b[0m \u001b[32m━━━━━━━━━━━━━━━━━━━━\u001b[0m\u001b[37m\u001b[0m \u001b[1m0s\u001b[0m 5ms/step \n",
      "['Belgium', 'Bruges', 1.8327987792829399, 2.390998040721559, 0.8840062817980042, 7.49836953510404, 'fold_4', 'StandardScaler', 'NN']\n",
      "\u001b[1m10/10\u001b[0m \u001b[32m━━━━━━━━━━━━━━━━━━━━\u001b[0m\u001b[37m\u001b[0m \u001b[1m0s\u001b[0m 5ms/step \n",
      "['Belgium', 'Bruges', 2.367580156892403, 2.865513090929597, 0.9146592065858345, 9.191741076000294, 'fold_5', 'StandardScaler', 'NN']\n",
      "Brussels\n"
     ]
    },
    {
     "name": "stderr",
     "output_type": "stream",
     "text": [
      "C:\\Users\\HP\\AppData\\Local\\Temp\\ipykernel_20712\\1398935978.py:9: SettingWithCopyWarning: \n",
      "A value is trying to be set on a copy of a slice from a DataFrame\n",
      "\n",
      "See the caveats in the documentation: https://pandas.pydata.org/pandas-docs/stable/user_guide/indexing.html#returning-a-view-versus-a-copy\n",
      "  city_df.drop(columns=['location','country','latitude','longitude','generationtime_ms','elevation','Date'],inplace=True)\n"
     ]
    },
    {
     "name": "stdout",
     "output_type": "stream",
     "text": [
      "\u001b[1m10/10\u001b[0m \u001b[32m━━━━━━━━━━━━━━━━━━━━\u001b[0m\u001b[37m\u001b[0m \u001b[1m0s\u001b[0m 5ms/step \n",
      "['Belgium', 'Brussels', 1.7919978335991387, 2.3746889599569663, 0.9470344898568864, 6.993215239077968, 'fold_1', 'StandardScaler', 'NN']\n",
      "\u001b[1m10/10\u001b[0m \u001b[32m━━━━━━━━━━━━━━━━━━━━\u001b[0m\u001b[37m\u001b[0m \u001b[1m0s\u001b[0m 5ms/step \n",
      "['Belgium', 'Brussels', 1.70396768883483, 2.2913282661765133, 0.9596770161385079, 6.716450238847125, 'fold_2', 'StandardScaler', 'NN']\n",
      "\u001b[1m10/10\u001b[0m \u001b[32m━━━━━━━━━━━━━━━━━━━━\u001b[0m\u001b[37m\u001b[0m \u001b[1m0s\u001b[0m 5ms/step \n",
      "['Belgium', 'Brussels', 1.9151184406454702, 2.5074418680419295, 0.9500238261540552, 7.639415293889602, 'fold_3', 'StandardScaler', 'NN']\n",
      "\u001b[1m10/10\u001b[0m \u001b[32m━━━━━━━━━━━━━━━━━━━━\u001b[0m\u001b[37m\u001b[0m \u001b[1m0s\u001b[0m 5ms/step \n",
      "['Belgium', 'Brussels', 2.092922307584928, 2.7187369524040044, 0.8924019055268756, 8.943006232844489, 'fold_4', 'StandardScaler', 'NN']\n",
      "\u001b[1m10/10\u001b[0m \u001b[32m━━━━━━━━━━━━━━━━━━━━\u001b[0m\u001b[37m\u001b[0m \u001b[1m0s\u001b[0m 5ms/step \n",
      "['Belgium', 'Brussels', 2.3243961138268046, 2.8253703085645867, 0.9293348179577374, 9.212127744781647, 'fold_5', 'StandardScaler', 'NN']\n",
      "Budapest\n"
     ]
    },
    {
     "name": "stderr",
     "output_type": "stream",
     "text": [
      "C:\\Users\\HP\\AppData\\Local\\Temp\\ipykernel_20712\\1398935978.py:9: SettingWithCopyWarning: \n",
      "A value is trying to be set on a copy of a slice from a DataFrame\n",
      "\n",
      "See the caveats in the documentation: https://pandas.pydata.org/pandas-docs/stable/user_guide/indexing.html#returning-a-view-versus-a-copy\n",
      "  city_df.drop(columns=['location','country','latitude','longitude','generationtime_ms','elevation','Date'],inplace=True)\n"
     ]
    },
    {
     "name": "stdout",
     "output_type": "stream",
     "text": [
      "\u001b[1m10/10\u001b[0m \u001b[32m━━━━━━━━━━━━━━━━━━━━\u001b[0m\u001b[37m\u001b[0m \u001b[1m0s\u001b[0m 5ms/step \n",
      "['Hungary', 'Budapest', 3.1213204825426253, 3.8665502794141617, 0.9257912127413721, 9.163273502011918, 'fold_1', 'StandardScaler', 'NN']\n",
      "\u001b[1m10/10\u001b[0m \u001b[32m━━━━━━━━━━━━━━━━━━━━\u001b[0m\u001b[37m\u001b[0m \u001b[1m0s\u001b[0m 5ms/step \n",
      "['Hungary', 'Budapest', 1.9525252890913458, 2.536518424643359, 0.9747407531810797, 5.703437609888505, 'fold_2', 'StandardScaler', 'NN']\n",
      "\u001b[1m10/10\u001b[0m \u001b[32m━━━━━━━━━━━━━━━━━━━━\u001b[0m\u001b[37m\u001b[0m \u001b[1m0s\u001b[0m 5ms/step \n",
      "['Hungary', 'Budapest', 2.0319941381341238, 2.476141309338727, 0.9723316303610726, 6.380885278193609, 'fold_3', 'StandardScaler', 'NN']\n",
      "\u001b[1m10/10\u001b[0m \u001b[32m━━━━━━━━━━━━━━━━━━━━\u001b[0m\u001b[37m\u001b[0m \u001b[1m0s\u001b[0m 5ms/step \n",
      "['Hungary', 'Budapest', 3.7448053828113155, 5.546504798165908, 0.8503572101224128, 11.728249778819675, 'fold_4', 'StandardScaler', 'NN']\n",
      "\u001b[1m10/10\u001b[0m \u001b[32m━━━━━━━━━━━━━━━━━━━━\u001b[0m\u001b[37m\u001b[0m \u001b[1m0s\u001b[0m 4ms/step \n",
      "['Hungary', 'Budapest', 3.2628407151731724, 4.159705894376126, 0.9214024708834312, 9.328171962727374, 'fold_5', 'StandardScaler', 'NN']\n",
      "Cluj-Napoca\n"
     ]
    },
    {
     "name": "stderr",
     "output_type": "stream",
     "text": [
      "C:\\Users\\HP\\AppData\\Local\\Temp\\ipykernel_20712\\1398935978.py:9: SettingWithCopyWarning: \n",
      "A value is trying to be set on a copy of a slice from a DataFrame\n",
      "\n",
      "See the caveats in the documentation: https://pandas.pydata.org/pandas-docs/stable/user_guide/indexing.html#returning-a-view-versus-a-copy\n",
      "  city_df.drop(columns=['location','country','latitude','longitude','generationtime_ms','elevation','Date'],inplace=True)\n"
     ]
    },
    {
     "name": "stdout",
     "output_type": "stream",
     "text": [
      "\u001b[1m10/10\u001b[0m \u001b[32m━━━━━━━━━━━━━━━━━━━━\u001b[0m\u001b[37m\u001b[0m \u001b[1m0s\u001b[0m 5ms/step \n",
      "['Romania', 'Cluj-Napoca', 2.8177165117144445, 3.4747261796929374, 0.9289943927640807, 9.316151761436569, 'fold_1', 'StandardScaler', 'NN']\n",
      "\u001b[1m10/10\u001b[0m \u001b[32m━━━━━━━━━━━━━━━━━━━━\u001b[0m\u001b[37m\u001b[0m \u001b[1m0s\u001b[0m 5ms/step \n",
      "['Romania', 'Cluj-Napoca', 2.0629504695874923, 2.6442996090957336, 0.954835886972636, 7.134955285746003, 'fold_2', 'StandardScaler', 'NN']\n",
      "\u001b[1m10/10\u001b[0m \u001b[32m━━━━━━━━━━━━━━━━━━━━\u001b[0m\u001b[37m\u001b[0m \u001b[1m0s\u001b[0m 4ms/step \n",
      "['Romania', 'Cluj-Napoca', 2.188324291412144, 3.2126369385541085, 0.949860856542902, 7.384100811793711, 'fold_3', 'StandardScaler', 'NN']\n",
      "\u001b[1m10/10\u001b[0m \u001b[32m━━━━━━━━━━━━━━━━━━━━\u001b[0m\u001b[37m\u001b[0m \u001b[1m0s\u001b[0m 5ms/step \n",
      "['Romania', 'Cluj-Napoca', 2.818515195149809, 3.4196348884432037, 0.9404158717719447, 9.494662759974172, 'fold_4', 'StandardScaler', 'NN']\n",
      "\u001b[1m10/10\u001b[0m \u001b[32m━━━━━━━━━━━━━━━━━━━━\u001b[0m\u001b[37m\u001b[0m \u001b[1m0s\u001b[0m 5ms/step \n",
      "['Romania', 'Cluj-Napoca', 2.7906245140180195, 3.499927784785787, 0.9320374586383928, 8.293754690632822, 'fold_5', 'StandardScaler', 'NN']\n",
      "Copenhagen\n"
     ]
    },
    {
     "name": "stderr",
     "output_type": "stream",
     "text": [
      "C:\\Users\\HP\\AppData\\Local\\Temp\\ipykernel_20712\\1398935978.py:9: SettingWithCopyWarning: \n",
      "A value is trying to be set on a copy of a slice from a DataFrame\n",
      "\n",
      "See the caveats in the documentation: https://pandas.pydata.org/pandas-docs/stable/user_guide/indexing.html#returning-a-view-versus-a-copy\n",
      "  city_df.drop(columns=['location','country','latitude','longitude','generationtime_ms','elevation','Date'],inplace=True)\n"
     ]
    },
    {
     "name": "stdout",
     "output_type": "stream",
     "text": [
      "\u001b[1m10/10\u001b[0m \u001b[32m━━━━━━━━━━━━━━━━━━━━\u001b[0m\u001b[37m\u001b[0m \u001b[1m0s\u001b[0m 5ms/step \n",
      "['Denmark', 'Copenhagen', 1.8412533750306221, 2.3580830627544715, 0.8453523913452872, 7.96076882955062, 'fold_1', 'StandardScaler', 'NN']\n",
      "\u001b[1m10/10\u001b[0m \u001b[32m━━━━━━━━━━━━━━━━━━━━\u001b[0m\u001b[37m\u001b[0m \u001b[1m0s\u001b[0m 5ms/step \n",
      "['Denmark', 'Copenhagen', 1.6237764064579794, 2.279536293074193, 0.9065985733452473, 6.415525770632474, 'fold_2', 'StandardScaler', 'NN']\n",
      "\u001b[1m10/10\u001b[0m \u001b[32m━━━━━━━━━━━━━━━━━━━━\u001b[0m\u001b[37m\u001b[0m \u001b[1m0s\u001b[0m 5ms/step \n",
      "['Denmark', 'Copenhagen', 1.5853971803569356, 2.0406115550863975, 0.8837013372301186, 6.803641495544714, 'fold_3', 'StandardScaler', 'NN']\n",
      "\u001b[1m10/10\u001b[0m \u001b[32m━━━━━━━━━━━━━━━━━━━━\u001b[0m\u001b[37m\u001b[0m \u001b[1m0s\u001b[0m 5ms/step \n",
      "['Denmark', 'Copenhagen', 2.22103418062811, 2.8131362305302825, 0.7872564190701424, 10.053242324639095, 'fold_4', 'StandardScaler', 'NN']\n",
      "\u001b[1m10/10\u001b[0m \u001b[32m━━━━━━━━━━━━━━━━━━━━\u001b[0m\u001b[37m\u001b[0m \u001b[1m0s\u001b[0m 5ms/step \n",
      "['Denmark', 'Copenhagen', 2.476517681661807, 2.893502706662641, 0.6177335408069538, 9.89450550401864, 'fold_5', 'StandardScaler', 'NN']\n",
      "Frankfurt Airport\n"
     ]
    },
    {
     "name": "stderr",
     "output_type": "stream",
     "text": [
      "C:\\Users\\HP\\AppData\\Local\\Temp\\ipykernel_20712\\1398935978.py:9: SettingWithCopyWarning: \n",
      "A value is trying to be set on a copy of a slice from a DataFrame\n",
      "\n",
      "See the caveats in the documentation: https://pandas.pydata.org/pandas-docs/stable/user_guide/indexing.html#returning-a-view-versus-a-copy\n",
      "  city_df.drop(columns=['location','country','latitude','longitude','generationtime_ms','elevation','Date'],inplace=True)\n"
     ]
    },
    {
     "name": "stdout",
     "output_type": "stream",
     "text": [
      "\u001b[1m10/10\u001b[0m \u001b[32m━━━━━━━━━━━━━━━━━━━━\u001b[0m\u001b[37m\u001b[0m \u001b[1m0s\u001b[0m 5ms/step \n",
      "['Germany', 'Frankfurt Airport', 1.731967329300847, 2.379586640600803, 0.916623594472707, 7.32397719169587, 'fold_1', 'StandardScaler', 'NN']\n",
      "\u001b[1m10/10\u001b[0m \u001b[32m━━━━━━━━━━━━━━━━━━━━\u001b[0m\u001b[37m\u001b[0m \u001b[1m0s\u001b[0m 5ms/step \n",
      "['Germany', 'Frankfurt Airport', 1.7548127882012496, 2.395186484258812, 0.9041673097919734, 7.344406166032222, 'fold_2', 'StandardScaler', 'NN']\n",
      "\u001b[1m10/10\u001b[0m \u001b[32m━━━━━━━━━━━━━━━━━━━━\u001b[0m\u001b[37m\u001b[0m \u001b[1m0s\u001b[0m 5ms/step \n",
      "['Germany', 'Frankfurt Airport', 1.7326801813900736, 2.2907668044000498, 0.936307065459439, 7.417529310743848, 'fold_3', 'StandardScaler', 'NN']\n",
      "\u001b[1m10/10\u001b[0m \u001b[32m━━━━━━━━━━━━━━━━━━━━\u001b[0m\u001b[37m\u001b[0m \u001b[1m0s\u001b[0m 5ms/step \n",
      "['Germany', 'Frankfurt Airport', 1.6667469484076658, 2.1999256415408976, 0.9241379429295032, 7.1514342085583635, 'fold_4', 'StandardScaler', 'NN']\n",
      "\u001b[1m10/10\u001b[0m \u001b[32m━━━━━━━━━━━━━━━━━━━━\u001b[0m\u001b[37m\u001b[0m \u001b[1m0s\u001b[0m 5ms/step \n",
      "['Germany', 'Frankfurt Airport', 2.675279512797317, 3.241410575977394, 0.9041123117648387, 10.92872746888309, 'fold_5', 'StandardScaler', 'NN']\n",
      "Ghent\n"
     ]
    },
    {
     "name": "stderr",
     "output_type": "stream",
     "text": [
      "C:\\Users\\HP\\AppData\\Local\\Temp\\ipykernel_20712\\1398935978.py:9: SettingWithCopyWarning: \n",
      "A value is trying to be set on a copy of a slice from a DataFrame\n",
      "\n",
      "See the caveats in the documentation: https://pandas.pydata.org/pandas-docs/stable/user_guide/indexing.html#returning-a-view-versus-a-copy\n",
      "  city_df.drop(columns=['location','country','latitude','longitude','generationtime_ms','elevation','Date'],inplace=True)\n"
     ]
    },
    {
     "name": "stdout",
     "output_type": "stream",
     "text": [
      "\u001b[1m10/10\u001b[0m \u001b[32m━━━━━━━━━━━━━━━━━━━━\u001b[0m\u001b[37m\u001b[0m \u001b[1m0s\u001b[0m 5ms/step \n",
      "['Belgium', 'Ghent', 2.4463798384075153, 3.1077520472625055, 0.9218627046550084, 9.322610591321343, 'fold_1', 'StandardScaler', 'NN']\n",
      "\u001b[1m10/10\u001b[0m \u001b[32m━━━━━━━━━━━━━━━━━━━━\u001b[0m\u001b[37m\u001b[0m \u001b[1m0s\u001b[0m 5ms/step \n",
      "['Belgium', 'Ghent', 2.011822820254112, 2.533438180155872, 0.9592138022743376, 7.715158094954094, 'fold_2', 'StandardScaler', 'NN']\n",
      "\u001b[1m10/10\u001b[0m \u001b[32m━━━━━━━━━━━━━━━━━━━━\u001b[0m\u001b[37m\u001b[0m \u001b[1m0s\u001b[0m 5ms/step \n",
      "['Belgium', 'Ghent', 1.717265707172759, 2.238481696525005, 0.9676621844143684, 6.572795140733811, 'fold_3', 'StandardScaler', 'NN']\n",
      "\u001b[1m10/10\u001b[0m \u001b[32m━━━━━━━━━━━━━━━━━━━━\u001b[0m\u001b[37m\u001b[0m \u001b[1m0s\u001b[0m 5ms/step \n",
      "['Belgium', 'Ghent', 2.131825033388181, 2.815327573379543, 0.8806452069760126, 8.850438846888224, 'fold_4', 'StandardScaler', 'NN']\n",
      "\u001b[1m10/10\u001b[0m \u001b[32m━━━━━━━━━━━━━━━━━━━━\u001b[0m\u001b[37m\u001b[0m \u001b[1m0s\u001b[0m 5ms/step \n",
      "['Belgium', 'Ghent', 2.7586438557873043, 3.3389193430477033, 0.9106920508770375, 10.56085262295304, 'fold_5', 'StandardScaler', 'NN']\n",
      "Graz Airport\n"
     ]
    },
    {
     "name": "stderr",
     "output_type": "stream",
     "text": [
      "C:\\Users\\HP\\AppData\\Local\\Temp\\ipykernel_20712\\1398935978.py:9: SettingWithCopyWarning: \n",
      "A value is trying to be set on a copy of a slice from a DataFrame\n",
      "\n",
      "See the caveats in the documentation: https://pandas.pydata.org/pandas-docs/stable/user_guide/indexing.html#returning-a-view-versus-a-copy\n",
      "  city_df.drop(columns=['location','country','latitude','longitude','generationtime_ms','elevation','Date'],inplace=True)\n"
     ]
    },
    {
     "name": "stdout",
     "output_type": "stream",
     "text": [
      "\u001b[1m10/10\u001b[0m \u001b[32m━━━━━━━━━━━━━━━━━━━━\u001b[0m\u001b[37m\u001b[0m \u001b[1m0s\u001b[0m 5ms/step \n",
      "['Austria', 'Graz Airport', 1.9947713888817136, 2.6491554111185156, 0.9342415875184573, 6.507609336637095, 'fold_1', 'StandardScaler', 'NN']\n",
      "\u001b[1m10/10\u001b[0m \u001b[32m━━━━━━━━━━━━━━━━━━━━\u001b[0m\u001b[37m\u001b[0m \u001b[1m0s\u001b[0m 5ms/step \n",
      "['Austria', 'Graz Airport', 1.6270757635978808, 2.1653472399456786, 0.9644457064732466, 4.970427166289293, 'fold_2', 'StandardScaler', 'NN']\n",
      "\u001b[1m10/10\u001b[0m \u001b[32m━━━━━━━━━━━━━━━━━━━━\u001b[0m\u001b[37m\u001b[0m \u001b[1m0s\u001b[0m 4ms/step \n",
      "['Austria', 'Graz Airport', 1.9812608331305792, 2.4892190020241847, 0.9619732444809348, 6.518509676853092, 'fold_3', 'StandardScaler', 'NN']\n",
      "\u001b[1m10/10\u001b[0m \u001b[32m━━━━━━━━━━━━━━━━━━━━\u001b[0m\u001b[37m\u001b[0m \u001b[1m0s\u001b[0m 5ms/step \n",
      "['Austria', 'Graz Airport', 2.160471453514273, 2.7346837737019567, 0.9535470170750369, 7.232605359233868, 'fold_4', 'StandardScaler', 'NN']\n",
      "\u001b[1m10/10\u001b[0m \u001b[32m━━━━━━━━━━━━━━━━━━━━\u001b[0m\u001b[37m\u001b[0m \u001b[1m0s\u001b[0m 5ms/step \n",
      "['Austria', 'Graz Airport', 2.849861145019532, 3.3648958667139652, 0.9265620920001717, 9.524470359357538, 'fold_5', 'StandardScaler', 'NN']\n",
      "Helsinki\n"
     ]
    },
    {
     "name": "stderr",
     "output_type": "stream",
     "text": [
      "C:\\Users\\HP\\AppData\\Local\\Temp\\ipykernel_20712\\1398935978.py:9: SettingWithCopyWarning: \n",
      "A value is trying to be set on a copy of a slice from a DataFrame\n",
      "\n",
      "See the caveats in the documentation: https://pandas.pydata.org/pandas-docs/stable/user_guide/indexing.html#returning-a-view-versus-a-copy\n",
      "  city_df.drop(columns=['location','country','latitude','longitude','generationtime_ms','elevation','Date'],inplace=True)\n"
     ]
    },
    {
     "name": "stdout",
     "output_type": "stream",
     "text": [
      "\u001b[1m10/10\u001b[0m \u001b[32m━━━━━━━━━━━━━━━━━━━━\u001b[0m\u001b[37m\u001b[0m \u001b[1m0s\u001b[0m 5ms/step \n",
      "['Finland', 'Helsinki', 1.8678935455652101, 2.2867298501663496, 0.8365589697116265, 8.821756779530938, 'fold_1', 'StandardScaler', 'NN']\n",
      "\u001b[1m10/10\u001b[0m \u001b[32m━━━━━━━━━━━━━━━━━━━━\u001b[0m\u001b[37m\u001b[0m \u001b[1m0s\u001b[0m 4ms/step \n",
      "['Finland', 'Helsinki', 1.557110138679748, 2.0475193007927643, 0.8526412808218572, 7.332330945023993, 'fold_2', 'StandardScaler', 'NN']\n",
      "\u001b[1m10/10\u001b[0m \u001b[32m━━━━━━━━━━━━━━━━━━━━\u001b[0m\u001b[37m\u001b[0m \u001b[1m0s\u001b[0m 5ms/step \n",
      "['Finland', 'Helsinki', 1.4684498059695168, 1.8656136172828852, 0.9141225980558424, 7.541759698031819, 'fold_3', 'StandardScaler', 'NN']\n",
      "\u001b[1m10/10\u001b[0m \u001b[32m━━━━━━━━━━━━━━━━━━━━\u001b[0m\u001b[37m\u001b[0m \u001b[1m0s\u001b[0m 5ms/step \n",
      "['Finland', 'Helsinki', 1.7353241519840883, 2.1112570834073328, 0.798988920693253, 8.586973406860158, 'fold_4', 'StandardScaler', 'NN']\n",
      "\u001b[1m10/10\u001b[0m \u001b[32m━━━━━━━━━━━━━━━━━━━━\u001b[0m\u001b[37m\u001b[0m \u001b[1m0s\u001b[0m 5ms/step \n",
      "['Finland', 'Helsinki', 1.3951155660359285, 1.689144806299079, 0.8689052594021572, 6.124442384157351, 'fold_5', 'StandardScaler', 'NN']\n",
      "Isle of Man\n"
     ]
    },
    {
     "name": "stderr",
     "output_type": "stream",
     "text": [
      "C:\\Users\\HP\\AppData\\Local\\Temp\\ipykernel_20712\\1398935978.py:9: SettingWithCopyWarning: \n",
      "A value is trying to be set on a copy of a slice from a DataFrame\n",
      "\n",
      "See the caveats in the documentation: https://pandas.pydata.org/pandas-docs/stable/user_guide/indexing.html#returning-a-view-versus-a-copy\n",
      "  city_df.drop(columns=['location','country','latitude','longitude','generationtime_ms','elevation','Date'],inplace=True)\n"
     ]
    },
    {
     "name": "stdout",
     "output_type": "stream",
     "text": [
      "\u001b[1m10/10\u001b[0m \u001b[32m━━━━━━━━━━━━━━━━━━━━\u001b[0m\u001b[37m\u001b[0m \u001b[1m0s\u001b[0m 5ms/step \n",
      "['UK', 'Isle of Man', 2.6496532958793426, 3.223079571225551, 0.5746442950526376, 10.595195452450374, 'fold_1', 'StandardScaler', 'NN']\n",
      "\u001b[1m10/10\u001b[0m \u001b[32m━━━━━━━━━━━━━━━━━━━━\u001b[0m\u001b[37m\u001b[0m \u001b[1m0s\u001b[0m 5ms/step \n",
      "['UK', 'Isle of Man', 2.101976519850291, 2.859486717954655, 0.6864283621039458, 8.008540887924884, 'fold_2', 'StandardScaler', 'NN']\n",
      "\u001b[1m10/10\u001b[0m \u001b[32m━━━━━━━━━━━━━━━━━━━━\u001b[0m\u001b[37m\u001b[0m \u001b[1m0s\u001b[0m 5ms/step \n",
      "['UK', 'Isle of Man', 1.431013045245654, 1.8929426413491457, 0.8343536040200817, 5.586575523516823, 'fold_3', 'StandardScaler', 'NN']\n",
      "\u001b[1m10/10\u001b[0m \u001b[32m━━━━━━━━━━━━━━━━━━━━\u001b[0m\u001b[37m\u001b[0m \u001b[1m0s\u001b[0m 5ms/step \n",
      "['UK', 'Isle of Man', 2.3081436658014445, 2.7077758077736207, 0.7789291934414209, 9.000268026365307, 'fold_4', 'StandardScaler', 'NN']\n",
      "\u001b[1m10/10\u001b[0m \u001b[32m━━━━━━━━━━━━━━━━━━━━\u001b[0m\u001b[37m\u001b[0m \u001b[1m0s\u001b[0m 5ms/step \n",
      "['UK', 'Isle of Man', 1.8717497168066297, 2.3102103711258226, 0.6994972958259857, 6.9129736653026645, 'fold_5', 'StandardScaler', 'NN']\n",
      "Istanbul Airport\n"
     ]
    },
    {
     "name": "stderr",
     "output_type": "stream",
     "text": [
      "C:\\Users\\HP\\AppData\\Local\\Temp\\ipykernel_20712\\1398935978.py:9: SettingWithCopyWarning: \n",
      "A value is trying to be set on a copy of a slice from a DataFrame\n",
      "\n",
      "See the caveats in the documentation: https://pandas.pydata.org/pandas-docs/stable/user_guide/indexing.html#returning-a-view-versus-a-copy\n",
      "  city_df.drop(columns=['location','country','latitude','longitude','generationtime_ms','elevation','Date'],inplace=True)\n"
     ]
    },
    {
     "name": "stdout",
     "output_type": "stream",
     "text": [
      "\u001b[1m10/10\u001b[0m \u001b[32m━━━━━━━━━━━━━━━━━━━━\u001b[0m\u001b[37m\u001b[0m \u001b[1m0s\u001b[0m 5ms/step \n",
      "['Turkey', 'Istanbul Airport', 2.1858109245256894, 2.8661704793556106, 0.9028402778550861, 7.496964625717677, 'fold_1', 'StandardScaler', 'NN']\n",
      "\u001b[1m10/10\u001b[0m \u001b[32m━━━━━━━━━━━━━━━━━━━━\u001b[0m\u001b[37m\u001b[0m \u001b[1m0s\u001b[0m 5ms/step \n",
      "['Turkey', 'Istanbul Airport', 1.7884830993060106, 2.3665895117503166, 0.9343292581621333, 6.476372476952211, 'fold_2', 'StandardScaler', 'NN']\n",
      "\u001b[1m10/10\u001b[0m \u001b[32m━━━━━━━━━━━━━━━━━━━━\u001b[0m\u001b[37m\u001b[0m \u001b[1m0s\u001b[0m 5ms/step \n",
      "['Turkey', 'Istanbul Airport', 1.6808457635853384, 2.124860258295846, 0.9383405312479521, 5.945047472673597, 'fold_3', 'StandardScaler', 'NN']\n",
      "\u001b[1m10/10\u001b[0m \u001b[32m━━━━━━━━━━━━━━━━━━━━\u001b[0m\u001b[37m\u001b[0m \u001b[1m0s\u001b[0m 5ms/step \n",
      "['Turkey', 'Istanbul Airport', 2.5841032174079923, 3.1288090034560363, 0.8826107183115717, 8.696045437022066, 'fold_4', 'StandardScaler', 'NN']\n",
      "\u001b[1m10/10\u001b[0m \u001b[32m━━━━━━━━━━━━━━━━━━━━\u001b[0m\u001b[37m\u001b[0m \u001b[1m0s\u001b[0m 5ms/step \n",
      "['Turkey', 'Istanbul Airport', 1.807079916131007, 2.4413187434605432, 0.9432057042693195, 5.048933053325716, 'fold_5', 'StandardScaler', 'NN']\n",
      "Limerick\n"
     ]
    },
    {
     "name": "stderr",
     "output_type": "stream",
     "text": [
      "C:\\Users\\HP\\AppData\\Local\\Temp\\ipykernel_20712\\1398935978.py:9: SettingWithCopyWarning: \n",
      "A value is trying to be set on a copy of a slice from a DataFrame\n",
      "\n",
      "See the caveats in the documentation: https://pandas.pydata.org/pandas-docs/stable/user_guide/indexing.html#returning-a-view-versus-a-copy\n",
      "  city_df.drop(columns=['location','country','latitude','longitude','generationtime_ms','elevation','Date'],inplace=True)\n"
     ]
    },
    {
     "name": "stdout",
     "output_type": "stream",
     "text": [
      "\u001b[1m10/10\u001b[0m \u001b[32m━━━━━━━━━━━━━━━━━━━━\u001b[0m\u001b[37m\u001b[0m \u001b[1m0s\u001b[0m 4ms/step \n",
      "['Ireland', 'Limerick', 1.7212988936996025, 2.290540181814245, 0.8710820374033342, 7.494457299984295, 'fold_1', 'StandardScaler', 'NN']\n",
      "\u001b[1m10/10\u001b[0m \u001b[32m━━━━━━━━━━━━━━━━━━━━\u001b[0m\u001b[37m\u001b[0m \u001b[1m0s\u001b[0m 5ms/step \n",
      "['Ireland', 'Limerick', 1.3190644886940035, 1.827960443608066, 0.9197542864781005, 5.931864194006496, 'fold_2', 'StandardScaler', 'NN']\n",
      "\u001b[1m10/10\u001b[0m \u001b[32m━━━━━━━━━━━━━━━━━━━━\u001b[0m\u001b[37m\u001b[0m \u001b[1m0s\u001b[0m 5ms/step \n",
      "['Ireland', 'Limerick', 2.0315659002626316, 2.5672675320089966, 0.6667857807582076, 8.99933011303806, 'fold_3', 'StandardScaler', 'NN']\n",
      "\u001b[1m10/10\u001b[0m \u001b[32m━━━━━━━━━━━━━━━━━━━━\u001b[0m\u001b[37m\u001b[0m \u001b[1m0s\u001b[0m 5ms/step \n",
      "['Ireland', 'Limerick', 2.0887038740393225, 2.5067184715735644, 0.7802171662349571, 9.253209171473914, 'fold_4', 'StandardScaler', 'NN']\n",
      "\u001b[1m10/10\u001b[0m \u001b[32m━━━━━━━━━━━━━━━━━━━━\u001b[0m\u001b[37m\u001b[0m \u001b[1m0s\u001b[0m 4ms/step \n",
      "['Ireland', 'Limerick', 3.277899631082196, 3.7309004356451307, 0.31919339243464384, 13.851572566063853, 'fold_5', 'StandardScaler', 'NN']\n",
      "London\n"
     ]
    },
    {
     "name": "stderr",
     "output_type": "stream",
     "text": [
      "C:\\Users\\HP\\AppData\\Local\\Temp\\ipykernel_20712\\1398935978.py:9: SettingWithCopyWarning: \n",
      "A value is trying to be set on a copy of a slice from a DataFrame\n",
      "\n",
      "See the caveats in the documentation: https://pandas.pydata.org/pandas-docs/stable/user_guide/indexing.html#returning-a-view-versus-a-copy\n",
      "  city_df.drop(columns=['location','country','latitude','longitude','generationtime_ms','elevation','Date'],inplace=True)\n"
     ]
    },
    {
     "name": "stdout",
     "output_type": "stream",
     "text": [
      "\u001b[1m10/10\u001b[0m \u001b[32m━━━━━━━━━━━━━━━━━━━━\u001b[0m\u001b[37m\u001b[0m \u001b[1m0s\u001b[0m 5ms/step \n",
      "['UK', 'London', 1.7778430435302184, 2.249871218082645, 0.9465965059322103, 7.750658989852827, 'fold_1', 'StandardScaler', 'NN']\n",
      "\u001b[1m10/10\u001b[0m \u001b[32m━━━━━━━━━━━━━━━━━━━━\u001b[0m\u001b[37m\u001b[0m \u001b[1m0s\u001b[0m 5ms/step \n",
      "['UK', 'London', 1.6673253529692347, 2.124091747416273, 0.9508659424077921, 7.184469896015454, 'fold_2', 'StandardScaler', 'NN']\n",
      "\u001b[1m10/10\u001b[0m \u001b[32m━━━━━━━━━━━━━━━━━━━━\u001b[0m\u001b[37m\u001b[0m \u001b[1m0s\u001b[0m 5ms/step \n",
      "['UK', 'London', 1.7641533607761606, 3.1514887937023355, 0.8681683261890374, 7.56659023037424, 'fold_3', 'StandardScaler', 'NN']\n",
      "\u001b[1m10/10\u001b[0m \u001b[32m━━━━━━━━━━━━━━━━━━━━\u001b[0m\u001b[37m\u001b[0m \u001b[1m0s\u001b[0m 5ms/step \n",
      "['UK', 'London', 1.8227424893749355, 2.2750950650508153, 0.9201045976954587, 8.19773071015843, 'fold_4', 'StandardScaler', 'NN']\n",
      "\u001b[1m10/10\u001b[0m \u001b[32m━━━━━━━━━━━━━━━━━━━━\u001b[0m\u001b[37m\u001b[0m \u001b[1m0s\u001b[0m 6ms/step \n",
      "['UK', 'London', 2.3220704744939935, 2.725774277502499, 0.9050172841908849, 9.475432138006148, 'fold_5', 'StandardScaler', 'NN']\n",
      "Lyon\n"
     ]
    },
    {
     "name": "stderr",
     "output_type": "stream",
     "text": [
      "C:\\Users\\HP\\AppData\\Local\\Temp\\ipykernel_20712\\1398935978.py:9: SettingWithCopyWarning: \n",
      "A value is trying to be set on a copy of a slice from a DataFrame\n",
      "\n",
      "See the caveats in the documentation: https://pandas.pydata.org/pandas-docs/stable/user_guide/indexing.html#returning-a-view-versus-a-copy\n",
      "  city_df.drop(columns=['location','country','latitude','longitude','generationtime_ms','elevation','Date'],inplace=True)\n"
     ]
    },
    {
     "name": "stdout",
     "output_type": "stream",
     "text": [
      "\u001b[1m10/10\u001b[0m \u001b[32m━━━━━━━━━━━━━━━━━━━━\u001b[0m\u001b[37m\u001b[0m \u001b[1m0s\u001b[0m 5ms/step \n",
      "['France', 'Lyon', 1.828264455610846, 2.355563297502952, 0.9557087440792034, 7.469656561594213, 'fold_1', 'StandardScaler', 'NN']\n",
      "\u001b[1m10/10\u001b[0m \u001b[32m━━━━━━━━━━━━━━━━━━━━\u001b[0m\u001b[37m\u001b[0m \u001b[1m0s\u001b[0m 5ms/step \n",
      "['France', 'Lyon', 1.7922903272114932, 2.9554086458120374, 0.9526367404891154, 6.4455501672786255, 'fold_2', 'StandardScaler', 'NN']\n",
      "\u001b[1m10/10\u001b[0m \u001b[32m━━━━━━━━━━━━━━━━━━━━\u001b[0m\u001b[37m\u001b[0m \u001b[1m0s\u001b[0m 5ms/step \n",
      "['France', 'Lyon', 1.7773269496551924, 2.2351406508584315, 0.9689153004888783, 6.8012804682546255, 'fold_3', 'StandardScaler', 'NN']\n",
      "\u001b[1m10/10\u001b[0m \u001b[32m━━━━━━━━━━━━━━━━━━━━\u001b[0m\u001b[37m\u001b[0m \u001b[1m0s\u001b[0m 5ms/step \n",
      "['France', 'Lyon', 1.9268284704042897, 2.60281059739438, 0.9495976259928455, 7.80622527829591, 'fold_4', 'StandardScaler', 'NN']\n",
      "\u001b[1m10/10\u001b[0m \u001b[32m━━━━━━━━━━━━━━━━━━━━\u001b[0m\u001b[37m\u001b[0m \u001b[1m0s\u001b[0m 5ms/step \n",
      "['France', 'Lyon', 2.439372907490491, 3.1260960883043833, 0.9361180314881323, 8.512597136930944, 'fold_5', 'StandardScaler', 'NN']\n",
      "Madrid\n"
     ]
    },
    {
     "name": "stderr",
     "output_type": "stream",
     "text": [
      "C:\\Users\\HP\\AppData\\Local\\Temp\\ipykernel_20712\\1398935978.py:9: SettingWithCopyWarning: \n",
      "A value is trying to be set on a copy of a slice from a DataFrame\n",
      "\n",
      "See the caveats in the documentation: https://pandas.pydata.org/pandas-docs/stable/user_guide/indexing.html#returning-a-view-versus-a-copy\n",
      "  city_df.drop(columns=['location','country','latitude','longitude','generationtime_ms','elevation','Date'],inplace=True)\n"
     ]
    },
    {
     "name": "stdout",
     "output_type": "stream",
     "text": [
      "\u001b[1m10/10\u001b[0m \u001b[32m━━━━━━━━━━━━━━━━━━━━\u001b[0m\u001b[37m\u001b[0m \u001b[1m0s\u001b[0m 5ms/step \n",
      "['Spain', 'Madrid', 5.112519076524199, 35.60572179256667, -9.253358018230244, 22.60276742480545, 'fold_1', 'StandardScaler', 'NN']\n",
      "\u001b[1m10/10\u001b[0m \u001b[32m━━━━━━━━━━━━━━━━━━━━\u001b[0m\u001b[37m\u001b[0m \u001b[1m0s\u001b[0m 5ms/step \n",
      "['Spain', 'Madrid', 2.029777966677871, 2.528104695593377, 0.93394325043949, 7.5566947818075905, 'fold_2', 'StandardScaler', 'NN']\n",
      "\u001b[1m10/10\u001b[0m \u001b[32m━━━━━━━━━━━━━━━━━━━━\u001b[0m\u001b[37m\u001b[0m \u001b[1m0s\u001b[0m 5ms/step \n",
      "['Spain', 'Madrid', 2.0627510427884306, 2.5501531251316685, 0.8876310319707893, 7.475517350679678, 'fold_3', 'StandardScaler', 'NN']\n",
      "\u001b[1m10/10\u001b[0m \u001b[32m━━━━━━━━━━━━━━━━━━━━\u001b[0m\u001b[37m\u001b[0m \u001b[1m0s\u001b[0m 5ms/step \n",
      "['Spain', 'Madrid', 2.1704915103302698, 2.8935917011556818, 0.9226582302736248, 7.106148466539554, 'fold_4', 'StandardScaler', 'NN']\n",
      "\u001b[1m10/10\u001b[0m \u001b[32m━━━━━━━━━━━━━━━━━━━━\u001b[0m\u001b[37m\u001b[0m \u001b[1m0s\u001b[0m 4ms/step \n",
      "['Spain', 'Madrid', 4.146872670683142, 4.692723565179255, 0.7054095875140739, 15.021284634514004, 'fold_5', 'StandardScaler', 'NN']\n",
      "Marseille\n"
     ]
    },
    {
     "name": "stderr",
     "output_type": "stream",
     "text": [
      "C:\\Users\\HP\\AppData\\Local\\Temp\\ipykernel_20712\\1398935978.py:9: SettingWithCopyWarning: \n",
      "A value is trying to be set on a copy of a slice from a DataFrame\n",
      "\n",
      "See the caveats in the documentation: https://pandas.pydata.org/pandas-docs/stable/user_guide/indexing.html#returning-a-view-versus-a-copy\n",
      "  city_df.drop(columns=['location','country','latitude','longitude','generationtime_ms','elevation','Date'],inplace=True)\n"
     ]
    },
    {
     "name": "stdout",
     "output_type": "stream",
     "text": [
      "\u001b[1m10/10\u001b[0m \u001b[32m━━━━━━━━━━━━━━━━━━━━\u001b[0m\u001b[37m\u001b[0m \u001b[1m0s\u001b[0m 5ms/step \n",
      "['France', 'Marseille', 1.701038471260983, 2.2684829541257745, 0.8947432895558812, 6.041536822775718, 'fold_1', 'StandardScaler', 'NN']\n",
      "\u001b[1m10/10\u001b[0m \u001b[32m━━━━━━━━━━━━━━━━━━━━\u001b[0m\u001b[37m\u001b[0m \u001b[1m0s\u001b[0m 5ms/step \n",
      "['France', 'Marseille', 1.7828295546579582, 2.2428418316559884, 0.9330210642992468, 5.987828844559849, 'fold_2', 'StandardScaler', 'NN']\n",
      "\u001b[1m10/10\u001b[0m \u001b[32m━━━━━━━━━━━━━━━━━━━━\u001b[0m\u001b[37m\u001b[0m \u001b[1m0s\u001b[0m 5ms/step \n",
      "['France', 'Marseille', 1.681842639566012, 2.4640818294205453, 0.9275514024236998, 5.941971964626285, 'fold_3', 'StandardScaler', 'NN']\n",
      "\u001b[1m10/10\u001b[0m \u001b[32m━━━━━━━━━━━━━━━━━━━━\u001b[0m\u001b[37m\u001b[0m \u001b[1m0s\u001b[0m 5ms/step \n",
      "['France', 'Marseille', 2.351951637224519, 2.874856361387375, 0.8504795276693552, 8.851536770157054, 'fold_4', 'StandardScaler', 'NN']\n",
      "\u001b[1m10/10\u001b[0m \u001b[32m━━━━━━━━━━━━━━━━━━━━\u001b[0m\u001b[37m\u001b[0m \u001b[1m0s\u001b[0m 5ms/step \n",
      "['France', 'Marseille', 1.9691871159697232, 2.3420405271251306, 0.8184014014965332, 6.760533891962906, 'fold_5', 'StandardScaler', 'NN']\n",
      "Milan\n"
     ]
    },
    {
     "name": "stderr",
     "output_type": "stream",
     "text": [
      "C:\\Users\\HP\\AppData\\Local\\Temp\\ipykernel_20712\\1398935978.py:9: SettingWithCopyWarning: \n",
      "A value is trying to be set on a copy of a slice from a DataFrame\n",
      "\n",
      "See the caveats in the documentation: https://pandas.pydata.org/pandas-docs/stable/user_guide/indexing.html#returning-a-view-versus-a-copy\n",
      "  city_df.drop(columns=['location','country','latitude','longitude','generationtime_ms','elevation','Date'],inplace=True)\n"
     ]
    },
    {
     "name": "stdout",
     "output_type": "stream",
     "text": [
      "\u001b[1m10/10\u001b[0m \u001b[32m━━━━━━━━━━━━━━━━━━━━\u001b[0m\u001b[37m\u001b[0m \u001b[1m0s\u001b[0m 5ms/step \n",
      "['Italy', 'Milan', 2.9081238539416905, 3.7060571455401536, 0.9654166106499146, 6.959952723350528, 'fold_1', 'StandardScaler', 'NN']\n",
      "\u001b[1m10/10\u001b[0m \u001b[32m━━━━━━━━━━━━━━━━━━━━\u001b[0m\u001b[37m\u001b[0m \u001b[1m0s\u001b[0m 5ms/step \n",
      "['Italy', 'Milan', 2.923123494675171, 3.926029951023255, 0.9612471019079479, 6.2878404333215565, 'fold_2', 'StandardScaler', 'NN']\n",
      "\u001b[1m10/10\u001b[0m \u001b[32m━━━━━━━━━━━━━━━━━━━━\u001b[0m\u001b[37m\u001b[0m \u001b[1m0s\u001b[0m 5ms/step \n",
      "['Italy', 'Milan', 2.5815567730768634, 3.301980563706356, 0.970667878908913, 6.837448406510734, 'fold_3', 'StandardScaler', 'NN']\n",
      "\u001b[1m10/10\u001b[0m \u001b[32m━━━━━━━━━━━━━━━━━━━━\u001b[0m\u001b[37m\u001b[0m \u001b[1m0s\u001b[0m 5ms/step \n",
      "['Italy', 'Milan', 3.3374403611710077, 4.0878176123383385, 0.973022237659287, 8.021623583828136, 'fold_4', 'StandardScaler', 'NN']\n",
      "\u001b[1m10/10\u001b[0m \u001b[32m━━━━━━━━━━━━━━━━━━━━\u001b[0m\u001b[37m\u001b[0m \u001b[1m0s\u001b[0m 5ms/step \n",
      "['Italy', 'Milan', 3.41861263039994, 4.648404957240959, 0.9567772984578385, 8.710901381188998, 'fold_5', 'StandardScaler', 'NN']\n",
      "Moscow\n"
     ]
    },
    {
     "name": "stderr",
     "output_type": "stream",
     "text": [
      "C:\\Users\\HP\\AppData\\Local\\Temp\\ipykernel_20712\\1398935978.py:9: SettingWithCopyWarning: \n",
      "A value is trying to be set on a copy of a slice from a DataFrame\n",
      "\n",
      "See the caveats in the documentation: https://pandas.pydata.org/pandas-docs/stable/user_guide/indexing.html#returning-a-view-versus-a-copy\n",
      "  city_df.drop(columns=['location','country','latitude','longitude','generationtime_ms','elevation','Date'],inplace=True)\n"
     ]
    },
    {
     "name": "stdout",
     "output_type": "stream",
     "text": [
      "\u001b[1m10/10\u001b[0m \u001b[32m━━━━━━━━━━━━━━━━━━━━\u001b[0m\u001b[37m\u001b[0m \u001b[1m0s\u001b[0m 5ms/step \n",
      "['Russia', 'Moscow', 2.4020390798071816, 3.135695576640964, 0.9749329016461709, 5.616553535511755, 'fold_1', 'StandardScaler', 'NN']\n",
      "\u001b[1m10/10\u001b[0m \u001b[32m━━━━━━━━━━━━━━━━━━━━\u001b[0m\u001b[37m\u001b[0m \u001b[1m0s\u001b[0m 5ms/step \n",
      "['Russia', 'Moscow', 2.573578277135004, 3.267099253304464, 0.9651486294687587, 7.722983151333514, 'fold_2', 'StandardScaler', 'NN']\n",
      "\u001b[1m10/10\u001b[0m \u001b[32m━━━━━━━━━━━━━━━━━━━━\u001b[0m\u001b[37m\u001b[0m \u001b[1m0s\u001b[0m 5ms/step \n",
      "['Russia', 'Moscow', 2.988435574318176, 3.697803140205464, 0.9568827987898416, 7.493235491506524, 'fold_3', 'StandardScaler', 'NN']\n",
      "\u001b[1m10/10\u001b[0m \u001b[32m━━━━━━━━━━━━━━━━━━━━\u001b[0m\u001b[37m\u001b[0m \u001b[1m0s\u001b[0m 5ms/step \n",
      "['Russia', 'Moscow', 3.630453980676659, 4.4429018075415385, 0.9412961019304938, 9.293025366403112, 'fold_4', 'StandardScaler', 'NN']\n",
      "\u001b[1m10/10\u001b[0m \u001b[32m━━━━━━━━━━━━━━━━━━━━\u001b[0m\u001b[37m\u001b[0m \u001b[1m0s\u001b[0m 4ms/step \n",
      "['Russia', 'Moscow', 4.330076679247156, 5.142229747482755, 0.9260348388558668, 10.541993309994512, 'fold_5', 'StandardScaler', 'NN']\n",
      "Munich\n"
     ]
    },
    {
     "name": "stderr",
     "output_type": "stream",
     "text": [
      "C:\\Users\\HP\\AppData\\Local\\Temp\\ipykernel_20712\\1398935978.py:9: SettingWithCopyWarning: \n",
      "A value is trying to be set on a copy of a slice from a DataFrame\n",
      "\n",
      "See the caveats in the documentation: https://pandas.pydata.org/pandas-docs/stable/user_guide/indexing.html#returning-a-view-versus-a-copy\n",
      "  city_df.drop(columns=['location','country','latitude','longitude','generationtime_ms','elevation','Date'],inplace=True)\n"
     ]
    },
    {
     "name": "stdout",
     "output_type": "stream",
     "text": [
      "\u001b[1m10/10\u001b[0m \u001b[32m━━━━━━━━━━━━━━━━━━━━\u001b[0m\u001b[37m\u001b[0m \u001b[1m0s\u001b[0m 5ms/step \n",
      "['Germany', 'Munich', 1.5544877263873107, 1.970778861598415, 0.909284028028561, 6.177692328338935, 'fold_1', 'StandardScaler', 'NN']\n",
      "\u001b[1m10/10\u001b[0m \u001b[32m━━━━━━━━━━━━━━━━━━━━\u001b[0m\u001b[37m\u001b[0m \u001b[1m0s\u001b[0m 5ms/step \n",
      "['Germany', 'Munich', 1.5216899516919975, 1.9585662216934812, 0.9351168784069857, 6.687790398542555, 'fold_2', 'StandardScaler', 'NN']\n",
      "\u001b[1m10/10\u001b[0m \u001b[32m━━━━━━━━━━━━━━━━━━━━\u001b[0m\u001b[37m\u001b[0m \u001b[1m0s\u001b[0m 4ms/step \n",
      "['Germany', 'Munich', 1.747401342000046, 2.26219356236988, 0.9165507301940735, 7.334572508814041, 'fold_3', 'StandardScaler', 'NN']\n",
      "\u001b[1m10/10\u001b[0m \u001b[32m━━━━━━━━━━━━━━━━━━━━\u001b[0m\u001b[37m\u001b[0m \u001b[1m0s\u001b[0m 5ms/step \n",
      "['Germany', 'Munich', 1.817676145736485, 2.7214821308702652, 0.8935196308913719, 7.4330167926418085, 'fold_4', 'StandardScaler', 'NN']\n",
      "\u001b[1m10/10\u001b[0m \u001b[32m━━━━━━━━━━━━━━━━━━━━\u001b[0m\u001b[37m\u001b[0m \u001b[1m0s\u001b[0m 4ms/step \n",
      "['Germany', 'Munich', 2.6441694960746602, 2.9871961831813176, 0.884140982416507, 10.033895650522597, 'fold_5', 'StandardScaler', 'NN']\n",
      "Nice\n"
     ]
    },
    {
     "name": "stderr",
     "output_type": "stream",
     "text": [
      "C:\\Users\\HP\\AppData\\Local\\Temp\\ipykernel_20712\\1398935978.py:9: SettingWithCopyWarning: \n",
      "A value is trying to be set on a copy of a slice from a DataFrame\n",
      "\n",
      "See the caveats in the documentation: https://pandas.pydata.org/pandas-docs/stable/user_guide/indexing.html#returning-a-view-versus-a-copy\n",
      "  city_df.drop(columns=['location','country','latitude','longitude','generationtime_ms','elevation','Date'],inplace=True)\n"
     ]
    },
    {
     "name": "stdout",
     "output_type": "stream",
     "text": [
      "\u001b[1m10/10\u001b[0m \u001b[32m━━━━━━━━━━━━━━━━━━━━\u001b[0m\u001b[37m\u001b[0m \u001b[1m0s\u001b[0m 5ms/step \n",
      "['France', 'Nice', 1.9197115220036263, 2.653773910072573, 0.8881864914577088, 6.4529573046677875, 'fold_1', 'StandardScaler', 'NN']\n",
      "\u001b[1m10/10\u001b[0m \u001b[32m━━━━━━━━━━━━━━━━━━━━\u001b[0m\u001b[37m\u001b[0m \u001b[1m0s\u001b[0m 5ms/step \n",
      "['France', 'Nice', 1.7493806168368964, 2.2427298721911515, 0.9205288422467421, 6.225806112939587, 'fold_2', 'StandardScaler', 'NN']\n",
      "\u001b[1m10/10\u001b[0m \u001b[32m━━━━━━━━━━━━━━━━━━━━\u001b[0m\u001b[37m\u001b[0m \u001b[1m0s\u001b[0m 5ms/step \n",
      "['France', 'Nice', 2.800836851607719, 11.886008368828136, -2.586569702394973, 11.736627606971057, 'fold_3', 'StandardScaler', 'NN']\n",
      "\u001b[1m10/10\u001b[0m \u001b[32m━━━━━━━━━━━━━━━━━━━━\u001b[0m\u001b[37m\u001b[0m \u001b[1m0s\u001b[0m 5ms/step \n",
      "['France', 'Nice', 2.836728520589331, 3.3805754765251557, 0.82346548908961, 11.25285142461214, 'fold_4', 'StandardScaler', 'NN']\n",
      "\u001b[1m10/10\u001b[0m \u001b[32m━━━━━━━━━━━━━━━━━━━━\u001b[0m\u001b[37m\u001b[0m \u001b[1m0s\u001b[0m 5ms/step \n",
      "['France', 'Nice', 3.1622119145850616, 3.7356846628014955, 0.6141746292749225, 10.582358971427187, 'fold_5', 'StandardScaler', 'NN']\n",
      "Nicosia\n"
     ]
    },
    {
     "name": "stderr",
     "output_type": "stream",
     "text": [
      "C:\\Users\\HP\\AppData\\Local\\Temp\\ipykernel_20712\\1398935978.py:9: SettingWithCopyWarning: \n",
      "A value is trying to be set on a copy of a slice from a DataFrame\n",
      "\n",
      "See the caveats in the documentation: https://pandas.pydata.org/pandas-docs/stable/user_guide/indexing.html#returning-a-view-versus-a-copy\n",
      "  city_df.drop(columns=['location','country','latitude','longitude','generationtime_ms','elevation','Date'],inplace=True)\n"
     ]
    },
    {
     "name": "stdout",
     "output_type": "stream",
     "text": [
      "\u001b[1m10/10\u001b[0m \u001b[32m━━━━━━━━━━━━━━━━━━━━\u001b[0m\u001b[37m\u001b[0m \u001b[1m0s\u001b[0m 5ms/step \n",
      "['Cyprus', 'Nicosia', 2.2642602692691933, 2.7269731618878414, 0.9206161432597267, 6.069503008518267, 'fold_1', 'StandardScaler', 'NN']\n",
      "\u001b[1m10/10\u001b[0m \u001b[32m━━━━━━━━━━━━━━━━━━━━\u001b[0m\u001b[37m\u001b[0m \u001b[1m0s\u001b[0m 5ms/step \n",
      "['Cyprus', 'Nicosia', 2.6682555098511864, 3.3402333719189765, 0.8720675758855572, 7.813393364195498, 'fold_2', 'StandardScaler', 'NN']\n",
      "\u001b[1m10/10\u001b[0m \u001b[32m━━━━━━━━━━━━━━━━━━━━\u001b[0m\u001b[37m\u001b[0m \u001b[1m0s\u001b[0m 5ms/step \n",
      "['Cyprus', 'Nicosia', 2.2190805025840996, 2.823419519122232, 0.8524607948530023, 6.632080266961868, 'fold_3', 'StandardScaler', 'NN']\n",
      "\u001b[1m10/10\u001b[0m \u001b[32m━━━━━━━━━━━━━━━━━━━━\u001b[0m\u001b[37m\u001b[0m \u001b[1m0s\u001b[0m 5ms/step \n",
      "['Cyprus', 'Nicosia', 3.3889579598762127, 4.135253777959326, 0.7959379906344282, 10.519057799981885, 'fold_4', 'StandardScaler', 'NN']\n",
      "\u001b[1m10/10\u001b[0m \u001b[32m━━━━━━━━━━━━━━━━━━━━\u001b[0m\u001b[37m\u001b[0m \u001b[1m0s\u001b[0m 5ms/step \n",
      "['Cyprus', 'Nicosia', 3.0567723670506597, 3.919163348326207, 0.8018783401128925, 8.69631498920493, 'fold_5', 'StandardScaler', 'NN']\n",
      "Oslo\n"
     ]
    },
    {
     "name": "stderr",
     "output_type": "stream",
     "text": [
      "C:\\Users\\HP\\AppData\\Local\\Temp\\ipykernel_20712\\1398935978.py:9: SettingWithCopyWarning: \n",
      "A value is trying to be set on a copy of a slice from a DataFrame\n",
      "\n",
      "See the caveats in the documentation: https://pandas.pydata.org/pandas-docs/stable/user_guide/indexing.html#returning-a-view-versus-a-copy\n",
      "  city_df.drop(columns=['location','country','latitude','longitude','generationtime_ms','elevation','Date'],inplace=True)\n"
     ]
    },
    {
     "name": "stdout",
     "output_type": "stream",
     "text": [
      "\u001b[1m10/10\u001b[0m \u001b[32m━━━━━━━━━━━━━━━━━━━━\u001b[0m\u001b[37m\u001b[0m \u001b[1m0s\u001b[0m 4ms/step \n",
      "['Norway', 'Oslo', 1.2271111079314736, 1.843006390966043, 0.9328340860326828, 5.603947306507925, 'fold_1', 'StandardScaler', 'NN']\n",
      "\u001b[1m10/10\u001b[0m \u001b[32m━━━━━━━━━━━━━━━━━━━━\u001b[0m\u001b[37m\u001b[0m \u001b[1m0s\u001b[0m 5ms/step \n",
      "['Norway', 'Oslo', 1.2802680834243283, 1.7025273159416066, 0.9456561623042343, 5.174888647496626, 'fold_2', 'StandardScaler', 'NN']\n",
      "\u001b[1m10/10\u001b[0m \u001b[32m━━━━━━━━━━━━━━━━━━━━\u001b[0m\u001b[37m\u001b[0m \u001b[1m0s\u001b[0m 6ms/step \n",
      "['Norway', 'Oslo', 1.411192606573235, 1.8002334895288112, 0.9367899189794331, 6.4512859433825, 'fold_3', 'StandardScaler', 'NN']\n",
      "\u001b[1m10/10\u001b[0m \u001b[32m━━━━━━━━━━━━━━━━━━━━\u001b[0m\u001b[37m\u001b[0m \u001b[1m0s\u001b[0m 4ms/step \n",
      "['Norway', 'Oslo', 2.069915129169481, 2.5998192057507272, 0.8658072073579292, 9.780493572019761, 'fold_4', 'StandardScaler', 'NN']\n",
      "\u001b[1m10/10\u001b[0m \u001b[32m━━━━━━━━━━━━━━━━━━━━\u001b[0m\u001b[37m\u001b[0m \u001b[1m0s\u001b[0m 5ms/step \n",
      "['Norway', 'Oslo', 2.1546116604652585, 2.676396283675653, 0.7498685618975208, 8.937947548708845, 'fold_5', 'StandardScaler', 'NN']\n",
      "Paris\n"
     ]
    },
    {
     "name": "stderr",
     "output_type": "stream",
     "text": [
      "C:\\Users\\HP\\AppData\\Local\\Temp\\ipykernel_20712\\1398935978.py:9: SettingWithCopyWarning: \n",
      "A value is trying to be set on a copy of a slice from a DataFrame\n",
      "\n",
      "See the caveats in the documentation: https://pandas.pydata.org/pandas-docs/stable/user_guide/indexing.html#returning-a-view-versus-a-copy\n",
      "  city_df.drop(columns=['location','country','latitude','longitude','generationtime_ms','elevation','Date'],inplace=True)\n"
     ]
    },
    {
     "name": "stdout",
     "output_type": "stream",
     "text": [
      "\u001b[1m10/10\u001b[0m \u001b[32m━━━━━━━━━━━━━━━━━━━━\u001b[0m\u001b[37m\u001b[0m \u001b[1m0s\u001b[0m 5ms/step \n",
      "['France', 'Paris', 2.025792923668004, 2.7775446382746325, 0.9370875654352595, 7.581259838352632, 'fold_1', 'StandardScaler', 'NN']\n",
      "\u001b[1m10/10\u001b[0m \u001b[32m━━━━━━━━━━━━━━━━━━━━\u001b[0m\u001b[37m\u001b[0m \u001b[1m0s\u001b[0m 5ms/step \n",
      "['France', 'Paris', 1.7640414237976074, 2.212958379773651, 0.9694375322380603, 6.436669481898906, 'fold_2', 'StandardScaler', 'NN']\n",
      "\u001b[1m10/10\u001b[0m \u001b[32m━━━━━━━━━━━━━━━━━━━━\u001b[0m\u001b[37m\u001b[0m \u001b[1m0s\u001b[0m 5ms/step \n",
      "['France', 'Paris', 1.7313801676171006, 2.244141783244433, 0.9638734747770485, 6.795857743860897, 'fold_3', 'StandardScaler', 'NN']\n",
      "\u001b[1m10/10\u001b[0m \u001b[32m━━━━━━━━━━━━━━━━━━━━\u001b[0m\u001b[37m\u001b[0m \u001b[1m0s\u001b[0m 5ms/step \n",
      "['France', 'Paris', 1.8954678332968935, 2.433498769613154, 0.9233690393770562, 7.754381068742385, 'fold_4', 'StandardScaler', 'NN']\n",
      "\u001b[1m10/10\u001b[0m \u001b[32m━━━━━━━━━━━━━━━━━━━━\u001b[0m\u001b[37m\u001b[0m \u001b[1m0s\u001b[0m 5ms/step \n",
      "['France', 'Paris', 2.2598660395025667, 3.3958231842791684, 0.9060380994500395, 8.945001951182254, 'fold_5', 'StandardScaler', 'NN']\n",
      "Poznan\n"
     ]
    },
    {
     "name": "stderr",
     "output_type": "stream",
     "text": [
      "C:\\Users\\HP\\AppData\\Local\\Temp\\ipykernel_20712\\1398935978.py:9: SettingWithCopyWarning: \n",
      "A value is trying to be set on a copy of a slice from a DataFrame\n",
      "\n",
      "See the caveats in the documentation: https://pandas.pydata.org/pandas-docs/stable/user_guide/indexing.html#returning-a-view-versus-a-copy\n",
      "  city_df.drop(columns=['location','country','latitude','longitude','generationtime_ms','elevation','Date'],inplace=True)\n"
     ]
    },
    {
     "name": "stdout",
     "output_type": "stream",
     "text": [
      "\u001b[1m10/10\u001b[0m \u001b[32m━━━━━━━━━━━━━━━━━━━━\u001b[0m\u001b[37m\u001b[0m \u001b[1m0s\u001b[0m 4ms/step \n",
      "['Poland', 'Poznan', 1.9726190729759667, 2.7017834967927272, 0.9777374813088318, 5.9709773479951815, 'fold_1', 'StandardScaler', 'NN']\n",
      "\u001b[1m10/10\u001b[0m \u001b[32m━━━━━━━━━━━━━━━━━━━━\u001b[0m\u001b[37m\u001b[0m \u001b[1m0s\u001b[0m 5ms/step \n",
      "['Poland', 'Poznan', 1.9893105694148094, 2.5454659062165814, 0.9800590982446888, 6.414616297749765, 'fold_2', 'StandardScaler', 'NN']\n",
      "\u001b[1m10/10\u001b[0m \u001b[32m━━━━━━━━━━━━━━━━━━━━\u001b[0m\u001b[37m\u001b[0m \u001b[1m0s\u001b[0m 5ms/step \n",
      "['Poland', 'Poznan', 2.249705465961264, 2.6637849640894875, 0.9747979654376201, 6.604999789634921, 'fold_3', 'StandardScaler', 'NN']\n",
      "\u001b[1m10/10\u001b[0m \u001b[32m━━━━━━━━━━━━━━━━━━━━\u001b[0m\u001b[37m\u001b[0m \u001b[1m0s\u001b[0m 5ms/step \n",
      "['Poland', 'Poznan', 2.8413185920889514, 3.6102336149503174, 0.9492833352083959, 9.389741235930535, 'fold_4', 'StandardScaler', 'NN']\n",
      "\u001b[1m10/10\u001b[0m \u001b[32m━━━━━━━━━━━━━━━━━━━━\u001b[0m\u001b[37m\u001b[0m \u001b[1m0s\u001b[0m 5ms/step \n",
      "['Poland', 'Poznan', 2.580433499323179, 3.183473250796603, 0.9523213752588204, 8.637991962897056, 'fold_5', 'StandardScaler', 'NN']\n",
      "Prague\n"
     ]
    },
    {
     "name": "stderr",
     "output_type": "stream",
     "text": [
      "C:\\Users\\HP\\AppData\\Local\\Temp\\ipykernel_20712\\1398935978.py:9: SettingWithCopyWarning: \n",
      "A value is trying to be set on a copy of a slice from a DataFrame\n",
      "\n",
      "See the caveats in the documentation: https://pandas.pydata.org/pandas-docs/stable/user_guide/indexing.html#returning-a-view-versus-a-copy\n",
      "  city_df.drop(columns=['location','country','latitude','longitude','generationtime_ms','elevation','Date'],inplace=True)\n"
     ]
    },
    {
     "name": "stdout",
     "output_type": "stream",
     "text": [
      "\u001b[1m10/10\u001b[0m \u001b[32m━━━━━━━━━━━━━━━━━━━━\u001b[0m\u001b[37m\u001b[0m \u001b[1m0s\u001b[0m 5ms/step \n",
      "['Czech Republic', 'Prague', 2.0221108424649983, 2.9088653064275483, 0.9491554807020863, 6.933485175094383, 'fold_1', 'StandardScaler', 'NN']\n",
      "\u001b[1m10/10\u001b[0m \u001b[32m━━━━━━━━━━━━━━━━━━━━\u001b[0m\u001b[37m\u001b[0m \u001b[1m0s\u001b[0m 5ms/step \n",
      "['Czech Republic', 'Prague', 1.7333305393724137, 2.234405101441094, 0.9694354647925089, 6.143598797353235, 'fold_2', 'StandardScaler', 'NN']\n",
      "\u001b[1m10/10\u001b[0m \u001b[32m━━━━━━━━━━━━━━━━━━━━\u001b[0m\u001b[37m\u001b[0m \u001b[1m0s\u001b[0m 5ms/step \n",
      "['Czech Republic', 'Prague', 1.8328667427306844, 2.339047649703932, 0.9612894878990875, 6.612012359170416, 'fold_3', 'StandardScaler', 'NN']\n",
      "\u001b[1m10/10\u001b[0m \u001b[32m━━━━━━━━━━━━━━━━━━━━\u001b[0m\u001b[37m\u001b[0m \u001b[1m0s\u001b[0m 5ms/step \n",
      "['Czech Republic', 'Prague', 2.00331804959197, 2.646411943691089, 0.950900431990876, 7.865496440766584, 'fold_4', 'StandardScaler', 'NN']\n",
      "\u001b[1m10/10\u001b[0m \u001b[32m━━━━━━━━━━━━━━━━━━━━\u001b[0m\u001b[37m\u001b[0m \u001b[1m0s\u001b[0m 5ms/step \n",
      "['Czech Republic', 'Prague', 2.7791554818959, 3.1870987248343514, 0.9123801390459305, 9.645510004211868, 'fold_5', 'StandardScaler', 'NN']\n",
      "Reykjavik Airport\n"
     ]
    },
    {
     "name": "stderr",
     "output_type": "stream",
     "text": [
      "C:\\Users\\HP\\AppData\\Local\\Temp\\ipykernel_20712\\1398935978.py:9: SettingWithCopyWarning: \n",
      "A value is trying to be set on a copy of a slice from a DataFrame\n",
      "\n",
      "See the caveats in the documentation: https://pandas.pydata.org/pandas-docs/stable/user_guide/indexing.html#returning-a-view-versus-a-copy\n",
      "  city_df.drop(columns=['location','country','latitude','longitude','generationtime_ms','elevation','Date'],inplace=True)\n"
     ]
    },
    {
     "name": "stdout",
     "output_type": "stream",
     "text": [
      "\u001b[1m10/10\u001b[0m \u001b[32m━━━━━━━━━━━━━━━━━━━━\u001b[0m\u001b[37m\u001b[0m \u001b[1m0s\u001b[0m 4ms/step \n",
      "['Iceland', 'Reykjavik Airport', 1.4610409557615933, 1.8902894367060055, 0.7454317083779969, 5.7211763843169825, 'fold_1', 'StandardScaler', 'NN']\n",
      "\u001b[1m10/10\u001b[0m \u001b[32m━━━━━━━━━━━━━━━━━━━━\u001b[0m\u001b[37m\u001b[0m \u001b[1m0s\u001b[0m 5ms/step \n",
      "['Iceland', 'Reykjavik Airport', 1.4709577342690945, 2.131333400979068, 0.8121554546997367, 6.244102843381197, 'fold_2', 'StandardScaler', 'NN']\n",
      "\u001b[1m10/10\u001b[0m \u001b[32m━━━━━━━━━━━━━━━━━━━━\u001b[0m\u001b[37m\u001b[0m \u001b[1m0s\u001b[0m 4ms/step \n",
      "['Iceland', 'Reykjavik Airport', 2.148561134730299, 2.645410627807647, 0.7909008351978878, 8.872224363104872, 'fold_3', 'StandardScaler', 'NN']\n",
      "\u001b[1m10/10\u001b[0m \u001b[32m━━━━━━━━━━━━━━━━━━━━\u001b[0m\u001b[37m\u001b[0m \u001b[1m0s\u001b[0m 5ms/step \n",
      "['Iceland', 'Reykjavik Airport', 2.8296658306905664, 3.3914579517979697, 0.455860754166695, 12.099355331044192, 'fold_4', 'StandardScaler', 'NN']\n",
      "\u001b[1m10/10\u001b[0m \u001b[32m━━━━━━━━━━━━━━━━━━━━\u001b[0m\u001b[37m\u001b[0m \u001b[1m0s\u001b[0m 5ms/step \n",
      "['Iceland', 'Reykjavik Airport', 2.007088979085286, 2.4383310443647273, 0.7991864428932198, 8.318264448867419, 'fold_5', 'StandardScaler', 'NN']\n",
      "Rome\n"
     ]
    },
    {
     "name": "stderr",
     "output_type": "stream",
     "text": [
      "C:\\Users\\HP\\AppData\\Local\\Temp\\ipykernel_20712\\1398935978.py:9: SettingWithCopyWarning: \n",
      "A value is trying to be set on a copy of a slice from a DataFrame\n",
      "\n",
      "See the caveats in the documentation: https://pandas.pydata.org/pandas-docs/stable/user_guide/indexing.html#returning-a-view-versus-a-copy\n",
      "  city_df.drop(columns=['location','country','latitude','longitude','generationtime_ms','elevation','Date'],inplace=True)\n"
     ]
    },
    {
     "name": "stdout",
     "output_type": "stream",
     "text": [
      "\u001b[1m10/10\u001b[0m \u001b[32m━━━━━━━━━━━━━━━━━━━━\u001b[0m\u001b[37m\u001b[0m \u001b[1m0s\u001b[0m 4ms/step \n",
      "['Italy', 'Rome', 2.0913519289713265, 2.928590094082933, 0.9214509559520886, 6.387027977369769, 'fold_1', 'StandardScaler', 'NN']\n",
      "\u001b[1m10/10\u001b[0m \u001b[32m━━━━━━━━━━━━━━━━━━━━\u001b[0m\u001b[37m\u001b[0m \u001b[1m0s\u001b[0m 5ms/step \n",
      "['Italy', 'Rome', 1.8407039816521076, 2.313911140452045, 0.9113761958660636, 6.442095029660616, 'fold_2', 'StandardScaler', 'NN']\n",
      "\u001b[1m10/10\u001b[0m \u001b[32m━━━━━━━━━━━━━━━━━━━━\u001b[0m\u001b[37m\u001b[0m \u001b[1m0s\u001b[0m 4ms/step \n",
      "['Italy', 'Rome', 1.8268935451768844, 2.242291784942485, 0.951624463815547, 6.805759634150737, 'fold_3', 'StandardScaler', 'NN']\n",
      "\u001b[1m10/10\u001b[0m \u001b[32m━━━━━━━━━━━━━━━━━━━━\u001b[0m\u001b[37m\u001b[0m \u001b[1m0s\u001b[0m 5ms/step \n",
      "['Italy', 'Rome', 2.7076650460561114, 3.3589617011446355, 0.9246184927438121, 9.224588040730072, 'fold_4', 'StandardScaler', 'NN']\n",
      "\u001b[1m10/10\u001b[0m \u001b[32m━━━━━━━━━━━━━━━━━━━━\u001b[0m\u001b[37m\u001b[0m \u001b[1m0s\u001b[0m 5ms/step \n",
      "['Italy', 'Rome', 2.466171493268993, 3.0313123630224603, 0.9016759671650943, 7.940570413966555, 'fold_5', 'StandardScaler', 'NN']\n",
      "Stockholm\n"
     ]
    },
    {
     "name": "stderr",
     "output_type": "stream",
     "text": [
      "C:\\Users\\HP\\AppData\\Local\\Temp\\ipykernel_20712\\1398935978.py:9: SettingWithCopyWarning: \n",
      "A value is trying to be set on a copy of a slice from a DataFrame\n",
      "\n",
      "See the caveats in the documentation: https://pandas.pydata.org/pandas-docs/stable/user_guide/indexing.html#returning-a-view-versus-a-copy\n",
      "  city_df.drop(columns=['location','country','latitude','longitude','generationtime_ms','elevation','Date'],inplace=True)\n"
     ]
    },
    {
     "name": "stdout",
     "output_type": "stream",
     "text": [
      "\u001b[1m10/10\u001b[0m \u001b[32m━━━━━━━━━━━━━━━━━━━━\u001b[0m\u001b[37m\u001b[0m \u001b[1m0s\u001b[0m 4ms/step \n",
      "['Sewden', 'Stockholm', 1.5126545692331015, 1.9153941844873381, 0.88725565980621, 7.234549456830917, 'fold_1', 'StandardScaler', 'NN']\n",
      "\u001b[1m10/10\u001b[0m \u001b[32m━━━━━━━━━━━━━━━━━━━━\u001b[0m\u001b[37m\u001b[0m \u001b[1m0s\u001b[0m 5ms/step \n",
      "['Sewden', 'Stockholm', 1.433734095804223, 1.9990277927762037, 0.8911806562215758, 6.181208850249882, 'fold_2', 'StandardScaler', 'NN']\n",
      "\u001b[1m10/10\u001b[0m \u001b[32m━━━━━━━━━━━━━━━━━━━━\u001b[0m\u001b[37m\u001b[0m \u001b[1m0s\u001b[0m 5ms/step \n",
      "['Sewden', 'Stockholm', 1.8423940340677891, 2.331832902542685, 0.8587811487853584, 8.753734178248722, 'fold_3', 'StandardScaler', 'NN']\n",
      "\u001b[1m10/10\u001b[0m \u001b[32m━━━━━━━━━━━━━━━━━━━━\u001b[0m\u001b[37m\u001b[0m \u001b[1m0s\u001b[0m 5ms/step \n",
      "['Sewden', 'Stockholm', 1.727821968461825, 2.1202291435222764, 0.7780900687441008, 8.403274233241023, 'fold_4', 'StandardScaler', 'NN']\n",
      "\u001b[1m10/10\u001b[0m \u001b[32m━━━━━━━━━━━━━━━━━━━━\u001b[0m\u001b[37m\u001b[0m \u001b[1m0s\u001b[0m 5ms/step \n",
      "['Sewden', 'Stockholm', 1.4468844513914902, 1.8067398418719696, 0.8481047475237663, 6.163657273945805, 'fold_5', 'StandardScaler', 'NN']\n",
      "bern\n"
     ]
    },
    {
     "name": "stderr",
     "output_type": "stream",
     "text": [
      "C:\\Users\\HP\\AppData\\Local\\Temp\\ipykernel_20712\\1398935978.py:9: SettingWithCopyWarning: \n",
      "A value is trying to be set on a copy of a slice from a DataFrame\n",
      "\n",
      "See the caveats in the documentation: https://pandas.pydata.org/pandas-docs/stable/user_guide/indexing.html#returning-a-view-versus-a-copy\n",
      "  city_df.drop(columns=['location','country','latitude','longitude','generationtime_ms','elevation','Date'],inplace=True)\n"
     ]
    },
    {
     "name": "stdout",
     "output_type": "stream",
     "text": [
      "\u001b[1m10/10\u001b[0m \u001b[32m━━━━━━━━━━━━━━━━━━━━\u001b[0m\u001b[37m\u001b[0m \u001b[1m0s\u001b[0m 5ms/step \n",
      "['Switzerland', 'bern', 1.6314947976729708, 2.224496580664149, 0.9014179045989346, 6.281009144880508, 'fold_1', 'StandardScaler', 'NN']\n",
      "\u001b[1m10/10\u001b[0m \u001b[32m━━━━━━━━━━━━━━━━━━━━\u001b[0m\u001b[37m\u001b[0m \u001b[1m0s\u001b[0m 5ms/step \n",
      "['Switzerland', 'bern', 1.526489806501833, 2.0953531982235267, 0.9410232212299288, 6.204218346766527, 'fold_2', 'StandardScaler', 'NN']\n",
      "\u001b[1m10/10\u001b[0m \u001b[32m━━━━━━━━━━━━━━━━━━━━\u001b[0m\u001b[37m\u001b[0m \u001b[1m0s\u001b[0m 5ms/step \n",
      "['Switzerland', 'bern', 1.62875308511464, 2.1704304266592453, 0.9300395667655719, 6.8304925442304185, 'fold_3', 'StandardScaler', 'NN']\n",
      "\u001b[1m10/10\u001b[0m \u001b[32m━━━━━━━━━━━━━━━━━━━━\u001b[0m\u001b[37m\u001b[0m \u001b[1m0s\u001b[0m 5ms/step \n",
      "['Switzerland', 'bern', 1.5055642345724585, 1.9623965694516554, 0.9336989345955753, 6.6547317152348, 'fold_4', 'StandardScaler', 'NN']\n",
      "\u001b[1m10/10\u001b[0m \u001b[32m━━━━━━━━━━━━━━━━━━━━\u001b[0m\u001b[37m\u001b[0m \u001b[1m0s\u001b[0m 5ms/step \n",
      "['Switzerland', 'bern', 3.186982738372943, 3.6037860733648497, 0.6882692737647653, 13.283858799381823, 'fold_5', 'StandardScaler', 'NN']\n",
      "luxembourg findel airport\n"
     ]
    },
    {
     "name": "stderr",
     "output_type": "stream",
     "text": [
      "C:\\Users\\HP\\AppData\\Local\\Temp\\ipykernel_20712\\1398935978.py:9: SettingWithCopyWarning: \n",
      "A value is trying to be set on a copy of a slice from a DataFrame\n",
      "\n",
      "See the caveats in the documentation: https://pandas.pydata.org/pandas-docs/stable/user_guide/indexing.html#returning-a-view-versus-a-copy\n",
      "  city_df.drop(columns=['location','country','latitude','longitude','generationtime_ms','elevation','Date'],inplace=True)\n"
     ]
    },
    {
     "name": "stdout",
     "output_type": "stream",
     "text": [
      "\u001b[1m10/10\u001b[0m \u001b[32m━━━━━━━━━━━━━━━━━━━━\u001b[0m\u001b[37m\u001b[0m \u001b[1m0s\u001b[0m 5ms/step \n",
      "['Luxembourg', 'luxembourg findel airport', 1.8748844470044728, 2.820167856376751, 0.8544323036866841, 7.83756025392216, 'fold_1', 'StandardScaler', 'NN']\n",
      "\u001b[1m10/10\u001b[0m \u001b[32m━━━━━━━━━━━━━━━━━━━━\u001b[0m\u001b[37m\u001b[0m \u001b[1m0s\u001b[0m 5ms/step \n",
      "['Luxembourg', 'luxembourg findel airport', 1.7870364689935834, 2.2309038582562213, 0.9203085476996201, 7.899419393961357, 'fold_2', 'StandardScaler', 'NN']\n",
      "\u001b[1m10/10\u001b[0m \u001b[32m━━━━━━━━━━━━━━━━━━━━\u001b[0m\u001b[37m\u001b[0m \u001b[1m0s\u001b[0m 5ms/step \n",
      "['Luxembourg', 'luxembourg findel airport', 1.7973587458536502, 2.251053744714738, 0.9234867381932024, 7.973766531124965, 'fold_3', 'StandardScaler', 'NN']\n",
      "\u001b[1m10/10\u001b[0m \u001b[32m━━━━━━━━━━━━━━━━━━━━\u001b[0m\u001b[37m\u001b[0m \u001b[1m0s\u001b[0m 5ms/step \n",
      "['Luxembourg', 'luxembourg findel airport', 1.7087787928646558, 2.1276317412996337, 0.9142118055060408, 7.511623493256995, 'fold_4', 'StandardScaler', 'NN']\n",
      "\u001b[1m10/10\u001b[0m \u001b[32m━━━━━━━━━━━━━━━━━━━━\u001b[0m\u001b[37m\u001b[0m \u001b[1m0s\u001b[0m 5ms/step \n",
      "['Luxembourg', 'luxembourg findel airport', 3.6049079459551816, 4.022652279027255, 0.7137623420728383, 14.931533260767369, 'fold_5', 'StandardScaler', 'NN']\n"
     ]
    }
   ],
   "source": [
    "summary_value = []\n",
    "detail_value = []\n",
    "\n",
    "for city_ in df['location'].unique():\n",
    "    city_df = df[df['location'] == city_]\n",
    "    country_ = city_df['country'].unique()[0]\n",
    "    \n",
    "    print(city_)\n",
    "    city_df.drop(columns=['location','country','latitude','longitude','generationtime_ms','elevation','Date'],inplace=True)\n",
    "    \n",
    "    target_col = list(city_df)[-1]\n",
    "#     city_df = get_IQR_Operation_value(city_df,target_col)\n",
    "    \n",
    "    X_train_list, X_test_list, y_train_list, y_test_list, date_train_list, date_test_list = get_k_fold_operation_data(city_df, 5)\n",
    "    \n",
    "    k_fold = 1\n",
    "    \n",
    "    mae_list = []\n",
    "    rmse_list = []\n",
    "    r_2_list = []\n",
    "    mape_list = []\n",
    "    \n",
    "    for X_train, X_test, y_train, y_test, date_train, date_test in zip(X_train_list, X_test_list, y_train_list, y_test_list, date_train_list, date_test_list):\n",
    "        for _preprocessing_name in ['StandardScaler']: #'RobustScaler', 'MinMaxScaler' , 'StandardScaler'\n",
    "            \n",
    "            res = []\n",
    "            \n",
    "            mae, rmse, r_2, mape, y_pred = NN_Regression(X_train, X_test, y_train, y_test, _preprocessing_name)\n",
    "\n",
    "            res.append(country_)\n",
    "            res.append(city_)\n",
    "            res.append(mae)\n",
    "            res.append(rmse)\n",
    "            res.append(r_2)\n",
    "            res.append(mape)\n",
    "            res.append('fold_' + str(k_fold))\n",
    "            res.append(_preprocessing_name)\n",
    "            res.append('NN')\n",
    "            print(res)\n",
    "\n",
    "            full_output = pd.DataFrame({\n",
    "                'actual_value' : y_test,\n",
    "                'predict_value' : y_pred,\n",
    "                'Fold_number' : ['fold_' + str(k_fold)] * len(y_test),\n",
    "                'date' : date_test\n",
    "            })\n",
    "            full_output['city'] = city_\n",
    "            full_output['country'] = country_\n",
    "            full_output['pre-processing name'] = _preprocessing_name\n",
    "            full_output['model_name'] = 'NN'\n",
    "\n",
    "            summary_value.append(res)\n",
    "            detail_value.append(full_output)\n",
    "\n",
    "        k_fold = k_fold + 1\n",
    "        \n",
    "        "
   ]
  },
  {
   "cell_type": "code",
   "execution_count": null,
   "id": "faecba4d",
   "metadata": {},
   "outputs": [],
   "source": []
  },
  {
   "cell_type": "code",
   "execution_count": 58,
   "id": "9069ef13",
   "metadata": {},
   "outputs": [],
   "source": [
    "summary_df = pd.DataFrame(summary_value,columns=['Country','City','MAE','RMSE','R2','MAPE','K_Fold','pre-processing name','model_name'])"
   ]
  },
  {
   "cell_type": "code",
   "execution_count": 59,
   "id": "2dc1708c",
   "metadata": {},
   "outputs": [],
   "source": [
    "detail_df = pd.concat(detail_value)"
   ]
  },
  {
   "cell_type": "code",
   "execution_count": 60,
   "id": "1e110b1e",
   "metadata": {},
   "outputs": [],
   "source": [
    "summary_df.to_csv('../_output/AQI_NN_Summary_result.csv',index=False)"
   ]
  },
  {
   "cell_type": "code",
   "execution_count": 61,
   "id": "23d0414e",
   "metadata": {},
   "outputs": [],
   "source": [
    "detail_df.to_csv('../_output/AQI_NN_Detail_result.csv',index=False)"
   ]
  },
  {
   "cell_type": "code",
   "execution_count": null,
   "id": "2e24505c",
   "metadata": {},
   "outputs": [],
   "source": []
  },
  {
   "cell_type": "code",
   "execution_count": null,
   "id": "1b296917",
   "metadata": {},
   "outputs": [],
   "source": []
  },
  {
   "cell_type": "code",
   "execution_count": null,
   "id": "296c7172",
   "metadata": {},
   "outputs": [],
   "source": []
  }
 ],
 "metadata": {
  "kernelspec": {
   "display_name": "Python 3 (ipykernel)",
   "language": "python",
   "name": "python3"
  },
  "language_info": {
   "codemirror_mode": {
    "name": "ipython",
    "version": 3
   },
   "file_extension": ".py",
   "mimetype": "text/x-python",
   "name": "python",
   "nbconvert_exporter": "python",
   "pygments_lexer": "ipython3",
   "version": "3.10.9"
  }
 },
 "nbformat": 4,
 "nbformat_minor": 5
}
