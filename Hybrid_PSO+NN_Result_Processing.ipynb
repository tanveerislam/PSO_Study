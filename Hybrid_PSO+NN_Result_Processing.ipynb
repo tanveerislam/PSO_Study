{
 "cells": [
  {
   "cell_type": "code",
   "execution_count": 16,
   "id": "ec868005",
   "metadata": {},
   "outputs": [],
   "source": [
    "import pandas as pd\n",
    "import numpy as np\n",
    "\n",
    "import os"
   ]
  },
  {
   "cell_type": "code",
   "execution_count": 17,
   "id": "1ae8b6ad",
   "metadata": {},
   "outputs": [],
   "source": [
    "folder_name ='../_output_PSO+LSTM/result/'"
   ]
  },
  {
   "cell_type": "code",
   "execution_count": 18,
   "id": "9391e76a",
   "metadata": {},
   "outputs": [],
   "source": [
    "file_pattern = ['summary_', 'details_']\n",
    "for file_pattern_ in file_pattern:\n",
    "    all_df_list = []\n",
    "    for file_ in os.listdir(folder_name):\n",
    "        if file_pattern_ in file_:\n",
    "            df = pd.read_csv(folder_name + file_)\n",
    "            all_df_list.append(df)\n",
    "    pd.concat(all_df_list).to_csv('../_output_PSO+LSTM/' + file_pattern_ + 'result.csv',index=False)"
   ]
  },
  {
   "cell_type": "code",
   "execution_count": null,
   "id": "77df5239",
   "metadata": {},
   "outputs": [],
   "source": []
  },
  {
   "cell_type": "code",
   "execution_count": 19,
   "id": "004d5aa6",
   "metadata": {},
   "outputs": [],
   "source": [
    "metadata_name = '../_output_PSO+LSTM/metadata/'"
   ]
  },
  {
   "cell_type": "code",
   "execution_count": 20,
   "id": "2d5e700d",
   "metadata": {},
   "outputs": [],
   "source": [
    "file_pattern = ['summary_', 'details_']\n",
    "for file_pattern_ in file_pattern:\n",
    "    all_df_list = []\n",
    "    for file_ in os.listdir(metadata_name):\n",
    "        if file_pattern_ in file_:\n",
    "            df = pd.read_csv(metadata_name + file_)\n",
    "            all_df_list.append(df)\n",
    "    pd.concat(all_df_list).to_csv('../_output_PSO+LSTM/' + file_pattern_ + 'metadata.csv',index=False)"
   ]
  },
  {
   "cell_type": "code",
   "execution_count": null,
   "id": "ee67094e",
   "metadata": {},
   "outputs": [],
   "source": []
  },
  {
   "cell_type": "code",
   "execution_count": null,
   "id": "2a117d65",
   "metadata": {},
   "outputs": [],
   "source": []
  }
 ],
 "metadata": {
  "kernelspec": {
   "display_name": "Python 3 (ipykernel)",
   "language": "python",
   "name": "python3"
  },
  "language_info": {
   "codemirror_mode": {
    "name": "ipython",
    "version": 3
   },
   "file_extension": ".py",
   "mimetype": "text/x-python",
   "name": "python",
   "nbconvert_exporter": "python",
   "pygments_lexer": "ipython3",
   "version": "3.10.16"
  }
 },
 "nbformat": 4,
 "nbformat_minor": 5
}
